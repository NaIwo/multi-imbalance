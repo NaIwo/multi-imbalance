{
 "cells": [
  {
   "cell_type": "code",
   "execution_count": 17,
   "metadata": {},
   "outputs": [
    {
     "name": "stdout",
     "output_type": "stream",
     "text": [
      "            name     1     2     3    4    5     6     7 class\nRL4A_YEAST  0.56  0.35  0.47  0.41  0.5  0.0  0.50  0.22   CYT\nYBI8_YEAST  0.45  0.50  0.43  0.16  0.5  0.0  0.52  0.28   ME3\nSKN1_YEAST  0.38  0.42  0.31  0.35  0.5  0.0  0.52  0.22   ME3\nRL12_YEAST  0.59  0.51  0.48  0.12  0.5  0.0  0.54  0.31   CYT\nUSO1_YEAST  0.50  0.47  0.45  0.14  0.5  0.0  0.53  0.32   ME3\n...          ...   ...   ...   ...  ...  ...   ...   ...   ...\nNIN1_YEAST  0.47  0.50  0.55  0.19  0.5  0.0  0.62  0.22   CYT\nFU34_YEAST  0.37  0.34  0.32  0.22  0.5  0.0  0.56  0.22   ME3\nPTP1_YEAST  0.53  0.45  0.53  0.18  0.5  0.0  0.42  0.22   CYT\nACP_YEAST   0.52  0.53  0.58  0.69  0.5  0.0  0.50  0.22   MIT\nS160_YEAST  0.46  0.49  0.55  0.18  0.5  0.0  0.56  0.22   NUC\n\n[1484 rows x 9 columns]\n"
     ]
    }
   ],
   "source": [
    "import matplotlib.pyplot as plt\n",
    "import pandas as pd\n",
    "import seaborn as sns\n",
    "from sklearn import tree\n",
    "\n",
    "from multi_imbalance.ensemble.mrbbagging import MRBBagging\n",
    "from multi_imbalance.utils.data import construct_flat_2pc_df\n",
    "\n",
    "%matplotlib inline\n",
    "\n",
    "sns.set_style('darkgrid')\n",
    "\n",
    "\n",
    "# TODO replace it by correct file in repository\n",
    "ecoli_url = 'https://archive.ics.uci.edu/ml/machine-learning-databases/yeast/yeast.data'\n",
    "df = pd.read_csv(ecoli_url, delim_whitespace=True, header=None,\n",
    "                 names=['name', '1', '2', '3', '4', '5', '6', '7', 'class'])\n",
    "\n",
    "df = df.sample(frac=1)\n",
    "\n",
    "X, y = df.iloc[:, 1:8].to_numpy(), df['class'].to_numpy()\n",
    "print(df)"
   ]
  },
  {
   "cell_type": "code",
   "execution_count": 19,
   "metadata": {
    "collapsed": false
   },
   "outputs": [
    {
     "data": {
      "text/plain": [
       "BaggingClassifier(base_estimator=DecisionTreeClassifier(class_weight=None,\n                                                        criterion='gini',\n                                                        max_depth=None,\n                                                        max_features=None,\n                                                        max_leaf_nodes=None,\n                                                        min_impurity_decrease=0.0,\n                                                        min_impurity_split=None,\n                                                        min_samples_leaf=1,\n                                                        min_samples_split=2,\n                                                        min_weight_fraction_leaf=0.0,\n                                                        presort=False,\n                                                        random_state=None,\n                                                        splitter='best'),\n                  bootstrap=True, bootstrap_features=False, max_features=1.0,\n                  max_samples=1.0, n_estimators=30, n_jobs=None,\n                  oob_score=False, random_state=None, verbose=0,\n                  warm_start=False)"
      ]
     },
     "execution_count": 19,
     "metadata": {},
     "output_type": "execute_result"
    }
   ],
   "source": [
    "import sklearn.ensemble\n",
    "\n",
    "mrbbagging = MRBBagging()\n",
    "decision_tree_classifier = tree.DecisionTreeClassifier()\n",
    "tree_classifiers = dict()\n",
    "for i in range(30):\n",
    "    tree_classifiers[i] = tree.DecisionTreeClassifier()\n",
    "bagging = sklearn.ensemble.BaggingClassifier(base_estimator=decision_tree_classifier, n_estimators=30)"
   ]
  },
  {
   "cell_type": "code",
   "execution_count": 24,
   "metadata": {},
   "outputs": [
    {
     "name": "stdout",
     "output_type": "stream",
     "text": [
      "MRBBagging mean of geometric median scores: \n0.43058505648811196\nBagging mean of geometric median scores: \n0.23026223549909342\nTree mean of geometric median scores: \n0.1751724367698185\n"
     ]
    }
   ],
   "source": [
    "import numpy as np\n",
    "from imblearn.metrics import geometric_mean_score\n",
    "from sklearn.model_selection import StratifiedKFold\n",
    "\n",
    "skf = StratifiedKFold(n_splits=4)\n",
    "skf.get_n_splits(X, y)\n",
    "mrbbagging_means = []\n",
    "bagging_means = []\n",
    "tree_means = []\n",
    "\n",
    "for train_index, test_index in skf.split(X, y):\n",
    "    train_X, test_X = X[train_index], X[test_index]\n",
    "    train_y, test_y = y[train_index], y[test_index]\n",
    "\n",
    "    mrbbagging.fit(train_X, train_y, len(train_X), 30, tree_classifiers)\n",
    "    bagging.fit(train_X, train_y)\n",
    "    decision_tree = tree.DecisionTreeClassifier()\n",
    "    decision_tree.fit(train_X, train_y)\n",
    "    \n",
    "    prediction_mrbbagging = mrbbagging.predict(test_X)\n",
    "    prediction_bagging = bagging.predict(test_X)\n",
    "    prediction_tree = decision_tree.predict(test_X)\n",
    "\n",
    "    ypred_mrbbagging = np.array(prediction_mrbbagging)\n",
    "    mrbbagging_means.append(geometric_mean_score(test_y, ypred_mrbbagging, correction=0.01))\n",
    "\n",
    "    ypred_bagging = np.array(prediction_bagging)\n",
    "    bagging_means.append(geometric_mean_score(test_y, ypred_bagging, correction=0.01))\n",
    "\n",
    "    ypred_tree = np.array(prediction_tree)\n",
    "    tree_means.append(geometric_mean_score(test_y, ypred_tree, correction=0.01))\n",
    "\n",
    "print(\"MRBBagging mean of geometric median scores: \")\n",
    "print(np.asarray(mrbbagging_means).mean())\n",
    "print(\"Bagging mean of geometric median scores: \")\n",
    "print(np.asarray(bagging_means).mean())\n",
    "print(\"Tree mean of geometric median scores: \")\n",
    "print(np.asarray(tree_means).mean())\n"
   ]
  },
  {
   "cell_type": "code",
   "execution_count": 91,
   "metadata": {},
   "outputs": [],
   "source": [
    ""
   ]
  },
  {
   "cell_type": "code",
   "execution_count": 91,
   "metadata": {},
   "outputs": [],
   "source": [
    ""
   ]
  },
  {
   "cell_type": "code",
   "execution_count": 91,
   "metadata": {
    "collapsed": true
   },
   "outputs": [],
   "source": [
    ""
   ]
  },
  {
   "cell_type": "code",
   "execution_count": 91,
   "metadata": {},
   "outputs": [],
   "source": [
    ""
   ]
  },
  {
   "cell_type": "code",
   "execution_count": 16,
   "metadata": {},
   "outputs": [],
   "source": []
  },
  {
   "cell_type": "code",
   "execution_count": null,
   "metadata": {},
   "outputs": [],
   "source": []
  }
 ],
 "metadata": {},
 "nbformat": 4,
 "nbformat_minor": 0
}
