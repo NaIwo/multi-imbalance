{
 "cells": [
  {
   "cell_type": "code",
   "execution_count": 9,
   "metadata": {},
   "outputs": [],
   "source": [
    "from sklearn.datasets import load_wine\n",
    "from sklearn.model_selection import train_test_split\n",
    "from multi_imbalance.ensemble.mrbbagging import MRBBagging\n",
    "from sklearn.tree import tree\n",
    "\n",
    "# load sklearn built-in dataset\n",
    "dataset = load_wine()\n",
    "X, y = dataset.data, dataset.target\n",
    "\n",
    "# initialization of MEBBagging object\n",
    "mrbbagging = MRBBagging(30, tree.DecisionTreeClassifier())\n",
    "\n",
    "X_train, X_test, y_train, y_test = train_test_split(X, y, test_size=0.33, random_state=42)\n",
    "\n",
    "# train the MRBBagging classifier\n",
    "mrbbagging.fit(X_train, y_train)\n",
    "\n",
    "# make predictions\n",
    "y_pred = mrbbagging.predict(X_test)"
   ]
  },
  {
   "cell_type": "code",
   "execution_count": 91,
   "metadata": {},
   "outputs": [],
   "source": [
    ""
   ]
  },
  {
   "cell_type": "code",
   "execution_count": 91,
   "metadata": {
    "collapsed": true
   },
   "outputs": [],
   "source": [
    ""
   ]
  },
  {
   "cell_type": "code",
   "execution_count": 91,
   "metadata": {},
   "outputs": [],
   "source": [
    ""
   ]
  },
  {
   "cell_type": "code",
   "execution_count": 16,
   "metadata": {},
   "outputs": [],
   "source": []
  },
  {
   "cell_type": "code",
   "execution_count": null,
   "metadata": {},
   "outputs": [],
   "source": []
  }
 ],
 "metadata": {},
 "nbformat": 4,
 "nbformat_minor": 0
}
