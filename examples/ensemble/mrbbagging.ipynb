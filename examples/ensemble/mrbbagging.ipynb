{
 "cells": [
  {
   "cell_type": "code",
   "execution_count": 1,
   "metadata": {},
   "outputs": [
    {
     "name": "stdout",
     "output_type": "stream",
     "text": [
      "            name     1     2     3    4    5     6     7 class\nPOP2_YEAST  0.50  0.45  0.53  0.21  0.5  0.0  0.28  0.22   NUC\nPAP_YEAST   0.64  0.52  0.50  0.26  0.5  0.0  0.51  0.31   NUC\nCBP3_YEAST  0.47  0.47  0.57  0.48  0.5  0.0  0.48  0.22   MIT\nPT22_YEAST  0.56  0.68  0.52  0.39  0.5  0.0  0.36  0.22   MIT\nPR39_YEAST  0.32  0.48  0.49  0.17  0.5  0.0  0.47  0.22   NUC\n...          ...   ...   ...   ...  ...  ...   ...   ...   ...\nTPS3_YEAST  0.40  0.44  0.50  0.13  0.5  0.0  0.52  0.39   CYT\nIF2G_YEAST  0.51  0.35  0.46  0.15  0.5  0.0  0.51  0.42   CYT\nEST1_YEAST  0.35  0.60  0.47  0.13  0.5  0.0  0.52  0.43   NUC\nST12_YEAST  0.38  0.51  0.56  0.21  0.5  0.0  0.48  0.31   NUC\nPRC6_YEAST  0.53  0.43  0.57  0.24  0.5  0.0  0.39  0.28   CYT\n\n[1484 rows x 9 columns]\n"
     ]
    }
   ],
   "source": [
    "import matplotlib.pyplot as plt\n",
    "import pandas as pd\n",
    "import seaborn as sns\n",
    "from sklearn import tree\n",
    "\n",
    "from multi_imbalance.ensemble.mrbbagging import MRBBagging\n",
    "from multi_imbalance.utils.data import construct_flat_2pc_df\n",
    "\n",
    "%matplotlib inline\n",
    "\n",
    "sns.set_style('darkgrid')\n",
    "\n",
    "\n",
    "data = 'https://archive.ics.uci.edu/ml/machine-learning-databases/yeast/yeast.data'\n",
    "df = pd.read_csv(data, delim_whitespace=True, header=None,\n",
    "                 names=['name', '1', '2', '3', '4', '5', '6', '7', 'class'])\n",
    "\n",
    "df = df.sample(frac=1)\n",
    "\n",
    "X, y = df.iloc[:, 1:8].to_numpy(), df['class'].to_numpy()\n",
    "print(df)"
   ]
  },
  {
   "cell_type": "code",
   "execution_count": 3,
   "metadata": {
    "collapsed": false
   },
   "outputs": [],
   "source": [
    "import sklearn.ensemble\n",
    "\n",
    "mrbbagging = MRBBagging()\n",
    "decision_tree_classifier = tree.DecisionTreeClassifier()\n",
    "tree_classifiers = dict()\n",
    "for i in range(30):\n",
    "    tree_classifiers[i] = tree.DecisionTreeClassifier()\n",
    "bagging = sklearn.ensemble.BaggingClassifier(base_estimator=decision_tree_classifier, n_estimators=30)"
   ]
  },
  {
   "cell_type": "code",
   "execution_count": 5,
   "metadata": {},
   "outputs": [
    {
     "name": "stdout",
     "output_type": "stream",
     "text": [
      "MRBBagging mean of geometric median scores: \n0.42860356419772105\nBagging mean of geometric median scores: \n0.19222089566616907\nTree mean of geometric median scores: \n0.16437837366840433\n"
     ]
    }
   ],
   "source": [
    "import numpy as np\n",
    "from imblearn.metrics import geometric_mean_score\n",
    "from sklearn.model_selection import StratifiedKFold\n",
    "\n",
    "skf = StratifiedKFold(n_splits=4)\n",
    "skf.get_n_splits(X, y)\n",
    "mrbbagging_means = []\n",
    "bagging_means = []\n",
    "tree_means = []\n",
    "\n",
    "for train_index, test_index in skf.split(X, y):\n",
    "    train_X, test_X = X[train_index], X[test_index]\n",
    "    train_y, test_y = y[train_index], y[test_index]\n",
    "\n",
    "    mrbbagging.fit(train_X, train_y, tree_classifiers)\n",
    "    bagging.fit(train_X, train_y)\n",
    "    decision_tree = tree.DecisionTreeClassifier()\n",
    "    decision_tree.fit(train_X, train_y)\n",
    "    \n",
    "    prediction_mrbbagging = mrbbagging.predict(test_X)\n",
    "    prediction_bagging = bagging.predict(test_X)\n",
    "    prediction_tree = decision_tree.predict(test_X)\n",
    "\n",
    "    ypred_mrbbagging = np.array(prediction_mrbbagging)\n",
    "    mrbbagging_means.append(geometric_mean_score(test_y, ypred_mrbbagging, correction=0.01))\n",
    "\n",
    "    ypred_bagging = np.array(prediction_bagging)\n",
    "    bagging_means.append(geometric_mean_score(test_y, ypred_bagging, correction=0.01))\n",
    "\n",
    "    ypred_tree = np.array(prediction_tree)\n",
    "    tree_means.append(geometric_mean_score(test_y, ypred_tree, correction=0.01))\n",
    "\n",
    "print(\"MRBBagging mean of geometric median scores: \")\n",
    "print(np.asarray(mrbbagging_means).mean())\n",
    "print(\"Bagging mean of geometric median scores: \")\n",
    "print(np.asarray(bagging_means).mean())\n",
    "print(\"Tree mean of geometric median scores: \")\n",
    "print(np.asarray(tree_means).mean())\n"
   ]
  },
  {
   "cell_type": "code",
   "execution_count": 91,
   "metadata": {},
   "outputs": [],
   "source": [
    ""
   ]
  },
  {
   "cell_type": "code",
   "execution_count": 91,
   "metadata": {},
   "outputs": [],
   "source": [
    ""
   ]
  },
  {
   "cell_type": "code",
   "execution_count": 91,
   "metadata": {
    "collapsed": true
   },
   "outputs": [],
   "source": [
    ""
   ]
  },
  {
   "cell_type": "code",
   "execution_count": 91,
   "metadata": {},
   "outputs": [],
   "source": [
    ""
   ]
  },
  {
   "cell_type": "code",
   "execution_count": 16,
   "metadata": {},
   "outputs": [],
   "source": []
  },
  {
   "cell_type": "code",
   "execution_count": null,
   "metadata": {},
   "outputs": [],
   "source": []
  }
 ],
 "metadata": {},
 "nbformat": 4,
 "nbformat_minor": 0
}
