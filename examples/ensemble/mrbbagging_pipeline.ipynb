{
 "cells": [
  {
   "cell_type": "code",
   "execution_count": null,
   "metadata": {
    "collapsed": true
   },
   "outputs": [],
   "source": [
    "from multi_imbalance.ensemble.mrbbagging import MRBBagging\n",
    "from sklearn.pipeline import make_pipeline\n",
    "from sklearn.model_selection import cross_val_score, ShuffleSplit\n",
    "from multi_imbalance.utils.data import load_arff_dataset\n",
    "from sklearn.preprocessing import StandardScaler\n",
    "from sklearn.tree import tree\n",
    "import os\n",
    "\n",
    "# an example of how mrbbagging can be used in sklearn pipeline\n",
    "X, y = load_arff_dataset(f'{os.getcwd()}\\\\data\\\\arff\\\\new_ecoli.arff')\n",
    "clf = make_pipeline(StandardScaler(), MRBBagging(30, tree.DecisionTreeClassifier()))\n",
    "cv = ShuffleSplit(n_splits=5, test_size=0.3, random_state=0)\n",
    "print(cross_val_score(clf, X, y, cv=cv))"
   ]
  }
 ],
 "metadata": {
  "kernelspec": {
   "display_name": "Python 2",
   "language": "python",
   "name": "python2"
  },
  "language_info": {
   "codemirror_mode": {
    "name": "ipython",
    "version": 2
   },
   "file_extension": ".py",
   "mimetype": "text/x-python",
   "name": "python",
   "nbconvert_exporter": "python",
   "pygments_lexer": "ipython2",
   "version": "2.7.6"
  }
 },
 "nbformat": 4,
 "nbformat_minor": 0
}
