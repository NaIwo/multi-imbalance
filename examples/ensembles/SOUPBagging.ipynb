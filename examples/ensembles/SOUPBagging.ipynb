{
 "cells": [
  {
   "cell_type": "markdown",
   "source": [
    "Unzip datasets and prepare data:"
   ],
   "metadata": {
    "collapsed": false
   }
  },
  {
   "cell_type": "code",
   "execution_count": 4,
   "outputs": [
    {
     "name": "stdout",
     "text": [
      "[[0.49 0.29 0.48 0.5  0.56 0.24 0.35]\n",
      " [0.07 0.4  0.48 0.5  0.54 0.35 0.44]\n",
      " [0.56 0.4  0.48 0.5  0.49 0.37 0.46]\n",
      " [0.59 0.49 0.48 0.5  0.52 0.45 0.36]\n",
      " [0.23 0.32 0.48 0.5  0.55 0.25 0.35]]\n",
      "[0 0 0 0 0]\n"
     ],
     "output_type": "stream"
    }
   ],
   "source": [
    "import seaborn as sns\n",
    "from imblearn.metrics import geometric_mean_score\n",
    "from sklearn.model_selection import train_test_split\n",
    "from sklearn.neighbors import KNeighborsClassifier\n",
    "from multi_imbalance.datasets import load_datasets\n",
    "from multi_imbalance.ensemble.SOUPBagging import SOUPBagging\n",
    "from multi_imbalance.utils.min_int_maj import maj_int_min\n",
    "\n",
    "%matplotlib inline\n",
    "sns.set_style('darkgrid')\n",
    "\n",
    "dataset = load_datasets()['new_ecoli']\n",
    "\n",
    "X, y = dataset.data, dataset.target\n",
    "print(X[:5])\n",
    "print(y[:5])"
   ],
   "metadata": {
    "collapsed": false,
    "pycharm": {
     "name": "#%%\n",
     "is_executing": false
    }
   }
  },
  {
   "cell_type": "code",
   "execution_count": 5,
   "outputs": [],
   "source": [
    "X_train, X_test, y_train, y_test = train_test_split(X,y, test_size=0.25)"
   ],
   "metadata": {
    "collapsed": false,
    "pycharm": {
     "name": "#%%\n",
     "is_executing": false
    }
   }
  },
  {
   "cell_type": "code",
   "execution_count": 6,
   "outputs": [
    {
     "data": {
      "text/plain": "0.8927635850512778"
     },
     "metadata": {},
     "output_type": "execute_result",
     "execution_count": 6
    }
   ],
   "source": [
    "clf = KNeighborsClassifier()\n",
    "vote_classifier = SOUPBagging(clf, n_classifiers=50, maj_int_min=maj_int_min['new_ecoli'])\n",
    "vote_classifier.fit(X_train, y_train)\n",
    "y_pred = vote_classifier.predict(X_test)\n",
    "geometric_mean_score(y_test, y_pred, correction=0.001)\n"
   ],
   "metadata": {
    "collapsed": false,
    "pycharm": {
     "name": "#%%\n",
     "is_executing": false
    }
   }
  }
 ],
 "metadata": {
  "language_info": {
   "codemirror_mode": {
    "name": "ipython",
    "version": 2
   },
   "file_extension": ".py",
   "mimetype": "text/x-python",
   "name": "python",
   "nbconvert_exporter": "python",
   "pygments_lexer": "ipython2",
   "version": "2.7.6"
  },
  "kernelspec": {
   "name": "python3",
   "language": "python",
   "display_name": "Python 3"
  },
  "pycharm": {
   "stem_cell": {
    "cell_type": "raw",
    "source": [],
    "metadata": {
     "collapsed": false
    }
   }
  }
 },
 "nbformat": 4,
 "nbformat_minor": 0
}