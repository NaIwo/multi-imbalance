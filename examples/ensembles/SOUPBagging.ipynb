{
 "cells": [
  {
   "cell_type": "markdown",
   "source": [
    "Unzip datasets and prepare data:"
   ],
   "metadata": {
    "collapsed": false
   }
  },
  {
   "cell_type": "code",
   "execution_count": 7,
   "outputs": [
    {
     "name": "stdout",
     "text": [
      "[[211.53336007 208.76702627]\n",
      " [189.53670249  77.4191745 ]\n",
      " [181.78462832 148.69785931]\n",
      " [178.07462303  -7.81941006]\n",
      " [222.0679382  254.87629349]]\n",
      "[1 1 1 1 1]\n"
     ],
     "output_type": "stream"
    }
   ],
   "source": [
    "import seaborn as sns\n",
    "from imblearn.metrics import geometric_mean_score\n",
    "from sklearn.model_selection import train_test_split\n",
    "from sklearn.tree import DecisionTreeClassifier\n",
    "from multi_imbalance.datasets import load_datasets\n",
    "from multi_imbalance.ensemble.SOUPBagging import SOUPBagging\n",
    "\n",
    "%matplotlib inline\n",
    "sns.set_style('darkgrid')\n",
    "\n",
    "dataset = load_datasets()['new_ecoli']\n",
    "\n",
    "X, y = dataset.data, dataset.target\n",
    "print(X[:5])\n",
    "print(y[:5])"
   ],
   "metadata": {
    "collapsed": false,
    "pycharm": {
     "name": "#%%\n",
     "is_executing": false
    }
   }
  },
  {
   "cell_type": "code",
   "execution_count": 8,
   "outputs": [],
   "source": [
    "X_train, X_test, y_train, y_test = train_test_split(X,y, test_size=0.25)"
   ],
   "metadata": {
    "collapsed": false,
    "pycharm": {
     "name": "#%%\n",
     "is_executing": false
    }
   }
  },
  {
   "cell_type": "code",
   "execution_count": 13,
   "outputs": [
    {
     "name": "stdout",
     "text": [
      "0.8746083983550557\n",
      "0.9591952218573621\n",
      "0.9045112431080488\n",
      "0.9533035299876427\n",
      "0.9642491210109115\n",
      "0.891335503478489\n",
      "0.9591521642094226\n",
      "0.9231955500397033\n",
      "0.9622852680777089\n",
      "0.9488135388439976\n",
      "0.9800098007124942\n",
      "0.8931657663253231\n",
      "0.9210078746600966\n",
      "0.9694815373158101\n",
      "0.9403119570893788\n",
      "0.9510314623595926\n",
      "0.9075451444015394\n",
      "0.9412110402350508\n",
      "0.9373456536027425\n",
      "0.9146535251339241\n",
      "0.9728561894710444\n",
      "0.969208421708144\n",
      "0.8653236866512944\n",
      "0.9583333333333334\n",
      "0.9450449360814738\n",
      "0.9442381485853593\n",
      "0.9412110402350508\n",
      "0.9264818310832181\n",
      "0.9191768402587075\n",
      "0.9469502737718897\n",
      "0.9731563611005433\n",
      "0.9135982276769313\n",
      "0.9166010709981421\n",
      "0.9500669267461598\n",
      "0.9379920990859953\n",
      "0.9442381485853593\n",
      "0.9500669267461598\n",
      "0.9636411453635906\n",
      "0.9440893793771958\n",
      "0.9183566162265762\n",
      "0.9655957980733277\n",
      "0.9198124245639624\n",
      "0.9529964089837893\n",
      "0.9325042905626996\n",
      "0.9630119730563719\n",
      "0.947382237281198\n",
      "0.9335429925113969\n",
      "0.9408940273985975\n",
      "0.9450449360814738\n",
      "0.955825048698232\n"
     ],
     "output_type": "stream"
    }
   ],
   "source": [
    "clf = DecisionTreeClassifier()\n",
    "vote_classifier = SOUPBagging(clf, n_classifiers=50)\n",
    "clf.fit(X_train, y_train)\n",
    "y_pred = clf.predict(X_test)\n",
    "geometric_mean_score(y_test, y_pred, correction=0.001)\n"
   ],
   "metadata": {
    "collapsed": false,
    "pycharm": {
     "name": "#%%\n",
     "is_executing": false
    }
   }
  }
 ],
 "metadata": {
  "language_info": {
   "codemirror_mode": {
    "name": "ipython",
    "version": 2
   },
   "file_extension": ".py",
   "mimetype": "text/x-python",
   "name": "python",
   "nbconvert_exporter": "python",
   "pygments_lexer": "ipython2",
   "version": "2.7.6"
  },
  "kernelspec": {
   "name": "python3",
   "language": "python",
   "display_name": "Python 3"
  },
  "pycharm": {
   "stem_cell": {
    "cell_type": "raw",
    "source": [],
    "metadata": {
     "collapsed": false
    }
   }
  }
 },
 "nbformat": 4,
 "nbformat_minor": 0
}