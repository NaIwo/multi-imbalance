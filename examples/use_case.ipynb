{
 "cells": [
  {
   "cell_type": "markdown",
   "metadata": {
    "collapsed": true,
    "pycharm": {
     "name": "#%% md\n"
    }
   },
   "source": [
    "# An example of using multi-imbalance\n",
    "In this tutorial we will show how to increase results for multi class imbalanced datasets significantly.\n",
    "The practical classification problem will serve as an example.\n",
    "\n",
    "We will perform the processing of glass dataset.\n",
    "Glass is a real-life dataset contains information about the purpose of the glass, e.g. for windows or headlights in cars.\n",
    ".The purpose of glass occurs in 7 types so our problem is multi class. \n",
    "We will predict the class based on 214 examples with 9 attributes representing the content of individual elements such as Aluminum or Magnesium in the tested sample."
   ]
  },
  {
   "cell_type": "code",
   "execution_count": 503,
   "metadata": {
    "pycharm": {
     "name": "#%%\n"
    }
   },
   "outputs": [],
   "source": [
    "import os\n",
    "import numpy as np\n",
    "\n",
    "seed = 7\n",
    "np.random.seed(seed)\n",
    "\n",
    "%matplotlib inline\n",
    "\n",
    "dataset_name = 'glass'\n",
    "dir=os.getcwd() # te sciezkie potem poprawie, jak bedzie po releasie i w innym miejscu notebook"
   ]
  },
  {
   "cell_type": "markdown",
   "metadata": {},
   "source": [
    "### Data loading\n",
    "\n",
    "We begin with loading the data - it can be performed using the library's util for loading arff type files. The util loads arff files and performs onehotencoding for discrete variables.\n",
    "The features will be ordered with all the continuous features first, followed by the ones modified by one hot encoder."
   ]
  },
  {
   "cell_type": "code",
   "execution_count": 504,
   "metadata": {
    "pycharm": {
     "name": "#%%\n"
    }
   },
   "outputs": [
    {
     "name": "stdout",
     "output_type": "stream",
     "text": [
      "[[ 1.51793 12.79     3.5      1.12    73.03     0.64     8.77     0.\n",
      "   0.     ]\n",
      " [ 1.51643 12.16     3.52     1.35    72.89     0.57     8.53     0.\n",
      "   0.     ]\n",
      " [ 1.51793 13.21     3.48     1.41    72.64     0.59     8.43     0.\n",
      "   0.     ]\n",
      " [ 1.51299 14.4      1.74     1.54    74.55     0.       7.59     0.\n",
      "   0.     ]\n",
      " [ 1.53393 12.3      0.       1.      70.16     0.12    16.19     0.\n",
      "   0.24   ]]\n",
      "[0 5 0 4 1]\n"
     ]
    }
   ],
   "source": [
    "from multi_imbalance.utils.data import preprocess_dataset\n",
    "\n",
    "X,y=preprocess_dataset(f'{dir}/../data/arff/{dataset_name}.arff')\n",
    "\n",
    "print(X[:5])\n",
    "print(y[:5])"
   ]
  },
  {
   "cell_type": "markdown",
   "metadata": {},
   "source": [
    "This dataset is characterized by multi-class imbalance. In order to visualize the imbalance and difficulty of the set,\n",
    "we will use the function located in multi-imbalance, which shows the class sizes and the data in a reduced two-dimensional space."
   ]
  },
  {
   "cell_type": "code",
   "execution_count": 505,
   "metadata": {
    "pycharm": {
     "name": "#%%\n"
    }
   },
   "outputs": [
    {
     "data": {
      "text/plain": "<Figure size 864x432 with 2 Axes>",
      "image/png": "[encoded data removed]"
     },
     "metadata": {
      "needs_background": "light"
     },
     "output_type": "display_data"
    }
   ],
   "source": [
    "from multi_imbalance.utils.plot import plot_number_and_2d_data\n",
    "plot_number_and_2d_data(X,y,'Glass')"
   ]
  },
  {
   "cell_type": "markdown",
   "metadata": {},
   "source": [
    "As shown above, there is multi-class imbalance in the dataset. There are two majority classes and 4 minority classes. \n",
    "\n",
    "### Data preparation\n",
    "\n",
    "In order to prepare data for training, we will split the data for train and test subsets and normalize it. For both operations, we will use tools available in sklearn."
   ]
  },
  {
   "cell_type": "code",
   "execution_count": 506,
   "metadata": {
    "pycharm": {
     "name": "#%%\n"
    }
   },
   "outputs": [],
   "source": [
    "from sklearn.model_selection import train_test_split\n",
    "from sklearn.preprocessing import StandardScaler\n",
    "\n",
    "X_train, X_test, y_train, y_test = train_test_split(X, y, test_size=0.35, stratify=y, random_state=seed)\n",
    "scaler = StandardScaler()\n",
    "scaler.fit(X_train)\n",
    "\n",
    "X_train = scaler.transform(X_train)\n",
    "X_test = scaler.transform(X_test)"
   ]
  },
  {
   "cell_type": "markdown",
   "metadata": {},
   "source": [
    "### Training\n",
    "\n",
    "The training will be performed using a decision tree implementation from sklearn library.\n",
    "Our library integrates seamlessly with other popular libraries, which enables easy use in practice and use of all the benefits of the python ecosystem."
   ]
  },
  {
   "cell_type": "code",
   "execution_count": 507,
   "metadata": {
    "pycharm": {
     "name": "#%%\n"
    }
   },
   "outputs": [],
   "source": [
    "from sklearn.tree import DecisionTreeClassifier\n",
    "clf = DecisionTreeClassifier(random_state=seed)\n",
    "clf.fit(X_train, y_train)\n",
    "y_pred = clf.predict(X_test)"
   ]
  },
  {
   "cell_type": "markdown",
   "metadata": {},
   "source": [
    "Due to the paradox of accuracy, which says that in the case of a large imbalance,\n",
    "we can achieve great accuracy results without predicting correctly any of the minority class, we will use the g\n",
    "eometric mean from the recall of each class to measure the quality of classifiers.\n",
    "Where recall for a class is a percentage of how many times the predictions of the class was correct.\n",
    "\n",
    "$$ gmean = (\\Pi_{i=1}^n recall_i)^{\\frac{1}{n}}$$"
   ]
  },
  {
   "cell_type": "code",
   "execution_count": 508,
   "metadata": {
    "pycharm": {
     "name": "#%%\n"
    }
   },
   "outputs": [
    {
     "data": {
      "text/plain": "'Decision Tree: 0.245'"
     },
     "execution_count": 508,
     "metadata": {},
     "output_type": "execute_result"
    }
   ],
   "source": [
    "from multi_imbalance.utils.metrics import gmean_score\n",
    "\n",
    "gmean = gmean_score(y_test, y_pred, correction=0.001)\n",
    "f'Decision Tree: {round(gmean,3)}'"
   ]
  },
  {
   "cell_type": "markdown",
   "metadata": {},
   "source": [
    "As we can see, the decision tree does not perform well for this type of problem. \n",
    "\n",
    "### Resampling\n",
    "\n",
    "As a solution, we propose SOUP implementation. It is a hybrid data preprocessing method, which calculates the target\n",
    "class cardinality and modifies the dataset in order to match class sizes to the value previously calculated.\n",
    "Additionally, a dictionary with minority classes can be passed to the method as a optional parameter.\n",
    "The dictionary will be used for calculating the target cardinality."
   ]
  },
  {
   "cell_type": "code",
   "execution_count": 509,
   "metadata": {
    "pycharm": {
     "name": "#%%\n"
    }
   },
   "outputs": [],
   "source": [
    "from multi_imbalance.resampling.soup import SOUP\n",
    "\n",
    "soup = SOUP()\n",
    "X_train_res, y_train_res = soup.fit_transform(X_train, y_train, maj_int_min={'maj': [0, 1], 'int': [], 'min': [4, 2, 3]},)"
   ]
  },
  {
   "cell_type": "markdown",
   "metadata": {},
   "source": [
    "We perform the calculations once again with modified data."
   ]
  },
  {
   "cell_type": "code",
   "execution_count": 510,
   "metadata": {
    "pycharm": {
     "name": "#%%\n"
    }
   },
   "outputs": [
    {
     "data": {
      "text/plain": "'Decision Tree + SOUP: 0.513'"
     },
     "execution_count": 510,
     "metadata": {},
     "output_type": "execute_result"
    }
   ],
   "source": [
    "clf = DecisionTreeClassifier(random_state=seed)\n",
    "clf.fit(X_train_res, y_train_res)\n",
    "y_pred = clf.predict(X_test)\n",
    "\n",
    "gmean = gmean_score(y_test, y_pred, correction=0.001)\n",
    "f'Decision Tree + SOUP: {round(gmean,3)}'"
   ]
  },
  {
   "cell_type": "markdown",
   "metadata": {},
   "source": [
    "As we can see, the preprocessing of the data improved the performance significantly. \n",
    "In the library there two types of methods implemented: preprocessing methods and ensemble methods.\n",
    "\n",
    "### Ensemble\n",
    "In this case, OVO implementation will be used. OVO is a data decomposition method, where classes are paired in all possible configurations and the paires are used to train classifiers, which vote for the final decision. OVO implementation in our libray allows the use of any type of classifier with interface compatible with sklearn convention. The same applies for resampling methods. Resampling is applied to pairs decomposed from the original data.\n",
    "In this use case, SOUP will be used for resampling."
   ]
  },
  {
   "cell_type": "code",
   "execution_count": 511,
   "metadata": {
    "pycharm": {
     "name": "#%%\n"
    }
   },
   "outputs": [
    {
     "data": {
      "text/plain": "'OVO with DecisionTree and SOUP: 0.594'"
     },
     "execution_count": 511,
     "metadata": {},
     "output_type": "execute_result"
    }
   ],
   "source": [
    "from multi_imbalance.ensemble.ovo import OVO\n",
    "\n",
    "clf = OVO(\n",
    "    binary_classifier=DecisionTreeClassifier(random_state=seed),\n",
    "    preprocessing=SOUP()\n",
    ")\n",
    "\n",
    "clf.fit(X_train, y_train)\n",
    "y_pred = clf.predict(X_test)\n",
    "gmean = gmean_score(y_test, y_pred, correction=0.001)\n",
    "f'OVO with DecisionTree and SOUP: {round(gmean,3)}'"
   ]
  },
  {
   "cell_type": "markdown",
   "metadata": {
    "pycharm": {
     "name": "#%% md\n"
    }
   },
   "source": [
    "As shown above, the OVO ensemble method along with SOUP resampling further improves the performance of the decision tree.\n",
    "\n",
    "### Conclusions\n",
    "In this guide we have shown that thanks to our library we can easily improve the results of prediction on difficult\n",
    "real life datasets. Using only preprocessing methods we improved the result over two times and by adding the\n",
    "binarization method the result changed from 0.245 up to 0.594! During the entire tutorial, we seamlessly integrated with\n",
    "popular libraries like sklearn and worked using well-known types like numpy arrays.\n",
    "You can find more examples and descriptions of all methods in the documentation: https://multi-imbalance.readthedocs.io/en/latest/"
   ]
  }
 ],
 "metadata": {
  "kernelspec": {
   "display_name": "Python 3",
   "language": "python",
   "name": "python3"
  },
  "language_info": {
   "codemirror_mode": {
    "name": "ipython",
    "version": 3
   },
   "file_extension": ".py",
   "mimetype": "text/x-python",
   "name": "python",
   "nbconvert_exporter": "python",
   "pygments_lexer": "ipython3",
   "version": "3.7.7"
  }
 },
 "nbformat": 4,
 "nbformat_minor": 1
}