{
 "cells": [
  {
   "cell_type": "markdown",
   "metadata": {
    "collapsed": true,
    "pycharm": {
     "name": "#%% md\n"
    }
   },
   "source": [
    "### Datasets\n",
    "\n",
    "We will perform the processing of ecoli dataset, available for download here: http://archive.ics.uci.edu/ml/datasets/ecoli.\n",
    "\n",
    "Ecoli is a real-life dataset containting information about protein localization sites. The dataset contains 336 rows with 8 attributes. This is a multi-class problem."
   ]
  },
  {
   "cell_type": "code",
   "execution_count": 28,
   "metadata": {
    "pycharm": {
     "name": "#%%\n"
    }
   },
   "outputs": [],
   "source": [
    "import os\n",
    "import numpy as np\n",
    "\n",
    "seed = 0\n",
    "np.random.seed(seed)\n",
    "\n",
    "%matplotlib inline\n",
    "\n",
    "dataset_name = 'new_ecoli'\n",
    "dir=os.getcwd() # te sciezkie potem poprawie, jak bedzie po releasie i w innym miejscu notebook"
   ]
  },
  {
   "cell_type": "markdown",
   "metadata": {},
   "source": [
    "### Data loading\n",
    "\n",
    "We begin with loading the data - it can be performed using the library's util for loading arff type files. The util loads arff files and performs onehotencoding for discrete variables.\n",
    "The features will be ordered with all the continuous features first, followed by the ones modified by one hot encoder. It will also say how many continuous features there is for further normalization."
   ]
  },
  {
   "cell_type": "code",
   "execution_count": 29,
   "metadata": {
    "pycharm": {
     "name": "#%%\n"
    }
   },
   "outputs": [
    {
     "name": "stdout",
     "output_type": "stream",
     "text": [
      "[[ 1.51793 12.79     3.5      1.12    73.03     0.64     8.77     0.\n",
      "   0.     ]\n",
      " [ 1.51643 12.16     3.52     1.35    72.89     0.57     8.53     0.\n",
      "   0.     ]\n",
      " [ 1.51793 13.21     3.48     1.41    72.64     0.59     8.43     0.\n",
      "   0.     ]\n",
      " [ 1.51299 14.4      1.74     1.54    74.55     0.       7.59     0.\n",
      "   0.     ]\n",
      " [ 1.53393 12.3      0.       1.      70.16     0.12    16.19     0.\n",
      "   0.24   ]]\n",
      "[0 5 0 4 1]\n"
     ]
    }
   ],
   "source": [
    "from multi_imbalance.utils.data import preprocess_dataset\n",
    "X,y, con_len = preprocess_dataset(f'{dir}/../data/arff/{dataset_name}.arff', return_cat_length=True)\n",
    "print(X[:5])\n",
    "print(y[:5])"
   ]
  },
  {
   "cell_type": "markdown",
   "metadata": {},
   "source": [
    "This dataset is characterized by multi-class imbalance. To visualize, a dimension reduction technique needs to be applied, as this dataset has multiple dimensions. Here, for dimension recution, we use PCA."
   ]
  },
  {
   "cell_type": "code",
   "execution_count": 30,
   "metadata": {
    "pycharm": {
     "name": "#%%\n"
    }
   },
   "outputs": [
    {
     "data": {
      "text/plain": "<matplotlib.axes._subplots.AxesSubplot at 0x7f1d5e6f7110>"
     },
     "execution_count": 30,
     "metadata": {},
     "output_type": "execute_result"
    },
    {
     "data": {
      "text/plain": "<Figure size 864x432 with 2 Axes>",
      "image/png": "[encoded data removed]"
     },
     "metadata": {},
     "output_type": "display_data"
    }
   ],
   "source": [
    "# To sie raczej ukryje w jakieś funkcji, nie jest istotne\n",
    "from collections import Counter\n",
    "import seaborn as sns\n",
    "import matplotlib.pyplot as plt\n",
    "from sklearn.decomposition import PCA\n",
    "from multi_imbalance.utils.data import construct_flat_2pc_df\n",
    "\n",
    "sns.set_style('darkgrid')\n",
    "\n",
    "n = len(Counter(y).keys())\n",
    "p = sns.color_palette(\"husl\", n)\n",
    "\n",
    "pca = PCA(n_components=2)\n",
    "pca.fit(X)\n",
    "\n",
    "fig, axs = plt.subplots(ncols=2)\n",
    "fig.set_size_inches( 12, 6)\n",
    "axs = axs.flatten()\n",
    "\n",
    "axs[0].set_xlabel(\"class\")\n",
    "fig.suptitle('Ecoli', fontsize=16)\n",
    "\n",
    "sns.countplot(y, ax=axs[0], palette=p)\n",
    "X = pca.transform(X)\n",
    "df = construct_flat_2pc_df(X, y)\n",
    "sns.scatterplot(x='x1', y='x2', hue='y', style='y', data=df, alpha=0.7, ax=axs[1], legend='full', palette=p)"
   ]
  },
  {
   "cell_type": "markdown",
   "metadata": {},
   "source": [
    "As shown above, there is multi-class imbalance in the dataset. There are two majority classes and 4 minority classes. \n",
    "\n",
    "### Data preparation\n",
    "\n",
    "In order to prepare data for training, we will split the data for train and test subsets and normalize it. For both operations, we will use tools available in sklearn."
   ]
  },
  {
   "cell_type": "code",
   "execution_count": 31,
   "metadata": {
    "pycharm": {
     "name": "#%%\n"
    }
   },
   "outputs": [],
   "source": [
    "from sklearn.model_selection import train_test_split\n",
    "from sklearn.preprocessing import StandardScaler\n",
    "\n",
    "X_train, X_test, y_train, y_test = train_test_split(X, y, test_size=0.33, stratify=y, random_state=42)\n",
    "scaler = StandardScaler()\n",
    "scaler.fit(X_train[:,:con_len])\n",
    "\n",
    "X_train[:,:con_len] = scaler.transform(X_train[:,:con_len])\n",
    "X_test[:,:con_len] = scaler.transform(X_test[:,:con_len])"
   ]
  },
  {
   "cell_type": "markdown",
   "metadata": {},
   "source": [
    "### Training\n",
    "\n",
    "The training will be performed using a decision tree implementation from sklearn library."
   ]
  },
  {
   "cell_type": "code",
   "execution_count": 32,
   "metadata": {
    "pycharm": {
     "name": "#%%\n"
    }
   },
   "outputs": [],
   "source": [
    "from sklearn.tree import DecisionTreeClassifier\n",
    "clf = DecisionTreeClassifier(random_state=seed)\n",
    "clf.fit(X_train, y_train)\n",
    "y_pred = clf.predict(X_test)"
   ]
  },
  {
   "cell_type": "markdown",
   "metadata": {},
   "source": [
    "For evaluation, gmean metric will be used, as due to it's definition, it is a better fit for imbalanced data that accuracy."
   ]
  },
  {
   "cell_type": "code",
   "execution_count": 33,
   "metadata": {
    "pycharm": {
     "name": "#%%\n"
    }
   },
   "outputs": [
    {
     "data": {
      "text/plain": "'Decision Tree: 0.09'"
     },
     "execution_count": 33,
     "metadata": {},
     "output_type": "execute_result"
    }
   ],
   "source": [
    "from imblearn.metrics import geometric_mean_score\n",
    "gmean = geometric_mean_score(y_test, y_pred, correction=0.001)\n",
    "f'Decision Tree: {round(gmean,3)}'"
   ]
  },
  {
   "cell_type": "markdown",
   "metadata": {},
   "source": [
    "As we can see, the decision tree does not perform well for this type of problem. \n",
    "\n",
    "### Resampling\n",
    "\n",
    "As a solution, we propose SOUP implementation. It is a hybrid data preprocessing method, which calculates the target class cardinality and modifies the dataset in order to match class sizes to the value previously calculated.\n",
    "Additionally, a dictionary with minority classes can be passed to the method as a optional parameter. The dictionary will be used for calculating the target cardinality."
   ]
  },
  {
   "cell_type": "code",
   "execution_count": 34,
   "metadata": {
    "pycharm": {
     "name": "#%%\n"
    }
   },
   "outputs": [],
   "source": [
    "from multi_imbalance.resampling.soup import SOUP\n",
    "\n",
    "soup = SOUP()\n",
    "# X_train_res, y_train_res = soup.fit_transform(X_train, y_train, maj_int_min=maj_int_min[dataset_name])\n",
    "X_train_res, y_train_res = soup.fit_transform(X_train, y_train, maj_int_min={'maj': [0, 1], 'int': [], 'min': [4, 2, 3]},)"
   ]
  },
  {
   "cell_type": "markdown",
   "metadata": {},
   "source": [
    "We perform the calculations once again with modified data."
   ]
  },
  {
   "cell_type": "code",
   "execution_count": 35,
   "metadata": {
    "pycharm": {
     "name": "#%%\n"
    }
   },
   "outputs": [
    {
     "data": {
      "text/plain": "'Decision Tree + SOUP: 0.074'"
     },
     "execution_count": 35,
     "metadata": {},
     "output_type": "execute_result"
    }
   ],
   "source": [
    "clf = DecisionTreeClassifier(random_state=seed)\n",
    "clf.fit(X_train_res, y_train_res)\n",
    "y_pred = clf.predict(X_test)\n",
    "\n",
    "gmean = geometric_mean_score(y_test, y_pred, correction=0.001)\n",
    "f'Decision Tree + SOUP: {round(gmean,3)}'"
   ]
  },
  {
   "cell_type": "markdown",
   "metadata": {},
   "source": [
    "As we can see, the preprocessing of the data improved the performance significantly. \n",
    "In the library there two types of methods implemented: preprocessing methods and ensemble methods.\n",
    "\n",
    "### Ensemble\n",
    "In this case, OVO implementation will be used. OVO is a data decomposition method, where classes are paired in all possible configurations and the paires are used to train classifiers, which vote for the final decision. OVO implementation in our libray allows the use of any type of classifier with interface compatible with sklearn convention. The same applies for resampling methods. Resampling is applied to pairs decomposed from the original data.\n",
    "In this use case, SOUP will be used for resampling."
   ]
  },
  {
   "cell_type": "code",
   "execution_count": 36,
   "metadata": {
    "pycharm": {
     "name": "#%%\n"
    }
   },
   "outputs": [
    {
     "data": {
      "text/plain": "'OVO with DecisionTree and SOUP: 0.211'"
     },
     "execution_count": 36,
     "metadata": {},
     "output_type": "execute_result"
    }
   ],
   "source": [
    "from multi_imbalance.ensemble.ovo import OVO\n",
    "\n",
    "clf = OVO(\n",
    "    binary_classifier=DecisionTreeClassifier(random_state=seed),\n",
    "    preprocessing=SOUP()\n",
    ")\n",
    "\n",
    "clf.fit(X_train, y_train)\n",
    "y_pred = clf.predict(X_test)\n",
    "gmean = geometric_mean_score(y_test, y_pred, correction=0.001)\n",
    "f'OVO with DecisionTree and SOUP: {round(gmean,3)}'"
   ]
  },
  {
   "cell_type": "markdown",
   "metadata": {
    "pycharm": {
     "name": "#%% md\n"
    }
   },
   "source": [
    "As shown above, the OVO ensemble method along with SOUP resampling further improves the performance of the decision tree."
   ]
  }
 ],
 "metadata": {
  "kernelspec": {
   "display_name": "Python 3",
   "language": "python",
   "name": "python3"
  },
  "language_info": {
   "codemirror_mode": {
    "name": "ipython",
    "version": 3
   },
   "file_extension": ".py",
   "mimetype": "text/x-python",
   "name": "python",
   "nbconvert_exporter": "python",
   "pygments_lexer": "ipython3",
   "version": "3.7.4"
  }
 },
 "nbformat": 4,
 "nbformat_minor": 1
}