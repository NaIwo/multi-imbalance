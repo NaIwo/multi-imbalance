{
 "cells": [
  {
   "cell_type": "code",
   "execution_count": 10,
   "metadata": {
    "collapsed": true
   },
   "outputs": [],
   "source": [
    "from sklearn.model_selection import train_test_split\n",
    "from sklearn.neighbors import KNeighborsClassifier as KNN\n",
    "from sklearn.metrics import classification_report\n",
    "from imblearn.pipeline import Pipeline\n",
    "from sklearn.preprocessing import StandardScaler\n",
    "\n",
    "from multi_imbalance.resampling.mdo import MDO\n",
    "from multi_imbalance.utils.data import load_arff_dataset\n",
    "\n",
    "import os"
   ]
  },
  {
   "cell_type": "code",
   "execution_count": 11,
   "outputs": [
    {
     "name": "stdout",
     "output_type": "stream",
     "text": [
      "              precision    recall  f1-score   support\n",
      "\n",
      "           0       0.92      1.00      0.96        36\n",
      "           1       0.88      0.37      0.52        19\n",
      "           2       0.42      0.80      0.55        10\n",
      "           3       1.00      1.00      1.00         6\n",
      "           4       1.00      0.92      0.96        13\n",
      "\n",
      "    accuracy                           0.82        84\n",
      "   macro avg       0.84      0.82      0.80        84\n",
      "weighted avg       0.87      0.82      0.81        84\n",
      "\n"
     ]
    }
   ],
   "source": [
    "X, y = load_arff_dataset(f'{os.getcwd()}/../../data/arff/new_ecoli.arff')\n",
    "X_train, X_test, y_train, y_test = train_test_split(X, y, stratify=y, random_state=42)\n",
    "\n",
    "pipeline = Pipeline([\n",
    "    ('scaler', StandardScaler()),\n",
    "    ('mdo', MDO()),\n",
    "    ('knn', KNN())\n",
    "])\n",
    "\n",
    "pipeline.fit(X_train, y_train)\n",
    "y_hat = pipeline.predict(X_test)\n",
    "\n",
    "print(classification_report(y_test, y_hat))\n",
    "\n"
   ],
   "metadata": {
    "collapsed": false,
    "pycharm": {
     "name": "#%%\n"
    }
   }
  }
 ],
 "metadata": {
  "kernelspec": {
   "display_name": "Python 3",
   "language": "python",
   "name": "python3"
  },
  "language_info": {
   "codemirror_mode": {
    "name": "ipython",
    "version": 2
   },
   "file_extension": ".py",
   "mimetype": "text/x-python",
   "name": "python",
   "nbconvert_exporter": "python",
   "pygments_lexer": "ipython2",
   "version": "2.7.6"
  }
 },
 "nbformat": 4,
 "nbformat_minor": 0
}