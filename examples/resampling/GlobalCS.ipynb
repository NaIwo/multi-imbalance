{
 "cells": [
  {
   "cell_type": "markdown",
   "metadata": {
    "collapsed": true,
    "pycharm": {
     "name": "#%% md\n"
    }
   },
   "source": [
    "Unzip datasets and prepare data:"
   ]
  },
  {
   "cell_type": "code",
   "execution_count": null,
   "outputs": [],
   "source": [
    "from collections import Counter\n",
    "import matplotlib.pyplot as plt\n",
    "import seaborn as sns\n",
    "from sklearn.decomposition import PCA\n",
    "from multi_imbalance.datasets import load_datasets\n",
    "from multi_imbalance.resampling.global_cs import GlobalCS\n",
    "\n",
    "from multi_imbalance.utils.data import construct_flat_2pc_df\n",
    "\n",
    "%matplotlib inline\n",
    "sns.set_style('darkgrid')\n",
    "\n",
    "df = load_datasets()['new_ecoli']\n",
    "X, y = df['data'], df['target']\n",
    "print(X[:5])\n",
    "print(y[:5])\n",
    "\n",
    "\n",
    "clf = GlobalCS()\n",
    "resampled_X, resampled_y = clf.fit_transform(X, y, shuffle=False)"
   ],
   "metadata": {
    "collapsed": false,
    "pycharm": {
     "name": "#%%\n",
     "is_executing": true
    }
   }
  },
  {
   "cell_type": "markdown",
   "source": [
    "Resample data using Global CS algorithm"
   ],
   "metadata": {
    "collapsed": false,
    "pycharm": {
     "name": "#%% md\n"
    }
   }
  },
  {
   "cell_type": "code",
   "execution_count": null,
   "outputs": [],
   "source": [
    "clf = GlobalCS()\n",
    "resampled_X, resampled_y = clf.fit_transform(X, y, shuffle=False)"
   ],
   "metadata": {
    "collapsed": false,
    "pycharm": {
     "name": "#%%\n",
     "is_executing": true
    }
   }
  },
  {
   "cell_type": "markdown",
   "source": [
    "Compare results by plotting data in 2 dimensions"
   ],
   "metadata": {
    "collapsed": false,
    "pycharm": {
     "name": "#%% md\n"
    }
   }
  },
  {
   "cell_type": "code",
   "execution_count": null,
   "outputs": [],
   "source": [
    "n = len(Counter(y).keys())\n",
    "p = sns.color_palette(\"husl\", n)\n",
    "\n",
    "pca = PCA(n_components=2)\n",
    "pca.fit(X)\n",
    "\n",
    "fig, axs = plt.subplots(ncols=2, nrows=2)\n",
    "fig.set_size_inches( 16, 10)\n",
    "axs = axs.flatten()\n",
    "\n",
    "axs[1].set_title(\"Base\")\n",
    "sns.countplot(y, ax=axs[0], palette=p)\n",
    "X = pca.transform(X)\n",
    "df = construct_flat_2pc_df(X, y)\n",
    "sns.scatterplot(x='x1', y='x2', hue='y', style='y', data=df, alpha=0.7, ax=axs[1], legend='full', palette=p)\n",
    "\n",
    "\n",
    "axs[3].set_title(\"MDO\")\n",
    "sns.countplot(resampled_y, ax=axs[2],palette=p)\n",
    "resampled_X = pca.transform(resampled_X)\n",
    "df = construct_flat_2pc_df(resampled_X, resampled_y)\n",
    "sns.scatterplot(x='x1', y='x2', hue='y', style='y', data=df, alpha=0.7, ax=axs[3], legend='full', palette=p)"
   ],
   "metadata": {
    "collapsed": false,
    "pycharm": {
     "name": "#%%\n",
     "is_executing": true
    }
   }
  }
 ],
 "metadata": {
  "language_info": {
   "codemirror_mode": {
    "name": "ipython",
    "version": 2
   },
   "file_extension": ".py",
   "mimetype": "text/x-python",
   "name": "python",
   "nbconvert_exporter": "python",
   "pygments_lexer": "ipython2",
   "version": "2.7.6"
  },
  "kernelspec": {
   "name": "python3",
   "language": "python",
   "display_name": "Python 3"
  },
  "pycharm": {
   "stem_cell": {
    "cell_type": "raw",
    "source": [],
    "metadata": {
     "collapsed": false
    }
   }
  }
 },
 "nbformat": 4,
 "nbformat_minor": 0
}