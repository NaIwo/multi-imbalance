{
 "cells": [
  {
   "cell_type": "code",
   "execution_count": 5,
   "metadata": {
    "collapsed": true,
    "pycharm": {
     "is_executing": false
    }
   },
   "outputs": [
    {
     "name": "stderr",
     "text": [
      "2019-11-02 21:32:42,141:INFO:MDO: Running sampling via ('MDO', \"{'proportion': 1.0, 'K2': 9, 'K1_frac': 0, 'n_jobs': 1, 'random_state': 0}\")\n",
      "2019-11-02 21:32:42,469:INFO:MDO: Running sampling via ('MDO', \"{'proportion': 1.0, 'K2': 9, 'K1_frac': 0, 'n_jobs': 1, 'random_state': 0}\")\n",
      "2019-11-02 21:32:43,200:INFO:MDO: Running sampling via ('MDO', \"{'proportion': 1.0, 'K2': 9, 'K1_frac': 0, 'n_jobs': 1, 'random_state': 0}\")\n",
      "2019-11-02 21:32:43,777:INFO:MDO: Running sampling via ('MDO', \"{'proportion': 1.0, 'K2': 9, 'K1_frac': 0, 'n_jobs': 1, 'random_state': 0}\")\n",
      "2019-11-02 21:32:44,639:INFO:MDO: Running sampling via ('MDO', \"{'proportion': 1.0, 'K2': 9, 'K1_frac': 0, 'n_jobs': 1, 'random_state': 0}\")\n"
     ],
     "output_type": "stream"
    },
    {
     "name": "stdout",
     "text": [
      "ecoli\nCounter({-1: 226, 1: 26})\nCounter({-1: 75, 1: 9})\n[-1 -1 -1 -1 -1 -1 -1 -1 -1 -1 -1 -1 -1 -1 -1 -1 -1 -1 -1  1 -1  1 -1 -1\n  1 -1 -1 -1 -1 -1 -1 -1 -1 -1 -1 -1 -1 -1  1 -1  1 -1 -1  1 -1 -1 -1 -1\n  1 -1 -1  1 -1 -1 -1 -1  1 -1 -1 -1 -1 -1 -1 -1 -1 -1 -1 -1 -1 -1 -1 -1\n -1 -1 -1 -1 -1 -1 -1 -1 -1 -1 -1 -1]\n[-1 -1 -1 -1 -1 -1 -1 -1 -1 -1 -1 -1 -1 -1 -1 -1 -1 -1 -1  1 -1  1 -1 -1\n  1 -1 -1 -1 -1 -1 -1 -1 -1 -1 -1 -1 -1 -1  1 -1  1 -1 -1  1 -1 -1 -1 -1\n  1 -1 -1  1 -1 -1 -1 -1  1 -1 -1 -1 -1 -1 -1 -1 -1 -1 -1 -1 -1 -1 -1 -1\n -1 -1 -1 -1 -1 -1 -1 -1 -1 -1 -1 -1]\nspectrometer\nCounter({-1: 364, 1: 34})\nCounter({-1: 122, 1: 11})\n",
      "[-1 -1 -1 -1 -1 -1 -1 -1 -1 -1 -1 -1 -1 -1 -1 -1 -1  1 -1 -1 -1 -1 -1 -1\n -1 -1 -1 -1 -1 -1 -1 -1 -1  1  1 -1  1 -1 -1 -1 -1 -1 -1 -1  1 -1 -1 -1\n -1  1  1 -1 -1 -1 -1 -1 -1 -1 -1 -1 -1  1 -1 -1 -1 -1 -1  1  1 -1 -1 -1\n -1 -1 -1 -1 -1 -1 -1 -1 -1 -1 -1 -1 -1 -1 -1 -1 -1 -1 -1 -1 -1 -1 -1 -1\n -1 -1 -1 -1 -1 -1 -1 -1 -1 -1 -1 -1 -1 -1 -1 -1 -1 -1  1 -1 -1 -1 -1 -1\n -1 -1 -1 -1 -1 -1 -1 -1 -1 -1 -1 -1 -1]\n[-1 -1 -1 -1 -1 -1 -1 -1 -1 -1 -1 -1 -1 -1 -1 -1 -1  1 -1 -1 -1 -1 -1 -1\n -1 -1 -1 -1 -1 -1 -1 -1 -1  1  1 -1  1 -1 -1 -1 -1 -1 -1 -1  1 -1 -1 -1\n -1  1  1 -1 -1 -1 -1 -1 -1 -1 -1 -1 -1  1 -1 -1 -1 -1 -1  1  1 -1 -1 -1\n -1 -1 -1 -1 -1 -1 -1 -1 -1 -1 -1 -1 -1 -1 -1 -1 -1 -1 -1 -1 -1 -1 -1 -1\n -1 -1 -1 -1 -1 -1 -1 -1 -1 -1 -1 -1 -1 -1 -1 -1 -1 -1  1 -1 -1 -1 -1 -1\n -1 -1 -1 -1 -1 -1 -1 -1 -1 -1 -1 -1 -1]\nlibras_move\nCounter({-1: 252, 1: 18})\nCounter({-1: 84, 1: 6})\n",
      "[-1 -1 -1 -1 -1 -1 -1  1 -1 -1 -1 -1 -1 -1 -1 -1 -1 -1 -1 -1 -1 -1 -1 -1\n -1 -1 -1  1 -1 -1 -1 -1 -1 -1 -1 -1 -1 -1 -1 -1 -1 -1 -1 -1 -1 -1 -1 -1\n -1  1 -1 -1 -1 -1 -1 -1 -1 -1 -1 -1 -1 -1 -1 -1 -1 -1 -1 -1 -1 -1 -1 -1\n -1 -1 -1 -1 -1 -1  1 -1 -1  1 -1 -1 -1  1 -1 -1 -1 -1]\n[-1 -1 -1 -1 -1 -1 -1  1 -1 -1 -1 -1 -1 -1 -1 -1 -1 -1 -1 -1 -1 -1 -1 -1\n -1 -1 -1  1 -1 -1 -1 -1 -1 -1 -1 -1 -1 -1 -1 -1 -1 -1 -1 -1 -1 -1 -1 -1\n -1  1 -1 -1 -1 -1 -1 -1 -1 -1 -1 -1 -1 -1 -1 -1 -1 -1 -1 -1 -1 -1 -1 -1\n -1 -1 -1 -1 -1 -1  1 -1 -1  1 -1 -1 -1  1 -1 -1 -1 -1]\narrhythmia\nCounter({-1: 320, 1: 19})\nCounter({-1: 107, 1: 6})\n",
      "[-1 -1 -1 -1 -1 -1 -1 -1 -1 -1  1 -1 -1 -1 -1 -1 -1 -1 -1 -1 -1 -1 -1  1\n  1 -1 -1 -1 -1  1 -1 -1 -1 -1 -1 -1 -1 -1 -1  1 -1 -1 -1 -1 -1 -1 -1 -1\n -1 -1 -1 -1 -1 -1 -1 -1 -1 -1 -1 -1 -1 -1 -1 -1 -1 -1 -1 -1 -1 -1 -1 -1\n -1 -1 -1 -1 -1 -1 -1 -1 -1 -1 -1 -1 -1 -1 -1 -1 -1 -1  1 -1 -1 -1 -1 -1\n -1 -1 -1 -1 -1 -1 -1 -1 -1 -1 -1 -1 -1 -1 -1 -1 -1]\n[-1 -1 -1 -1 -1 -1 -1 -1 -1 -1  1 -1 -1 -1 -1 -1 -1 -1 -1 -1 -1 -1 -1  1\n  1 -1 -1 -1 -1  1 -1 -1 -1 -1 -1 -1 -1 -1 -1  1 -1 -1 -1 -1 -1 -1 -1 -1\n -1 -1 -1 -1 -1 -1 -1 -1 -1 -1 -1 -1 -1 -1 -1 -1 -1 -1 -1 -1 -1 -1 -1 -1\n -1 -1 -1 -1 -1 -1 -1 -1 -1 -1 -1 -1 -1 -1 -1 -1 -1 -1  1 -1 -1 -1 -1 -1\n -1 -1 -1 -1 -1 -1 -1 -1 -1 -1 -1 -1 -1 -1 -1 -1 -1]\noil\nCounter({-1: 671, 1: 31})\nCounter({-1: 225, 1: 10})\n",
      "[-1 -1 -1 -1 -1 -1 -1 -1 -1 -1 -1 -1 -1 -1  1 -1 -1 -1  1 -1 -1 -1 -1 -1\n -1 -1 -1 -1 -1 -1 -1 -1 -1 -1 -1 -1 -1 -1 -1 -1 -1 -1 -1 -1 -1 -1 -1 -1\n -1 -1 -1 -1 -1 -1 -1 -1 -1  1 -1 -1 -1 -1 -1 -1 -1 -1 -1 -1 -1 -1 -1 -1\n  1 -1 -1 -1 -1 -1 -1 -1 -1 -1 -1 -1 -1 -1 -1 -1 -1 -1 -1 -1 -1 -1 -1 -1\n -1 -1  1 -1 -1 -1 -1 -1 -1 -1 -1 -1 -1 -1 -1 -1 -1 -1 -1 -1 -1 -1 -1 -1\n -1 -1 -1 -1 -1 -1 -1 -1 -1 -1 -1 -1 -1  1 -1 -1 -1 -1 -1  1 -1 -1 -1 -1\n -1 -1 -1 -1 -1 -1 -1 -1 -1 -1 -1 -1 -1 -1  1 -1 -1 -1 -1 -1 -1 -1 -1 -1\n -1 -1 -1 -1 -1 -1 -1 -1 -1 -1 -1 -1 -1 -1 -1  1 -1 -1 -1 -1 -1 -1 -1 -1\n -1 -1 -1 -1 -1 -1 -1 -1 -1 -1 -1 -1 -1 -1 -1 -1 -1 -1 -1 -1 -1 -1 -1 -1\n -1 -1 -1  1 -1 -1 -1 -1 -1 -1 -1 -1 -1 -1 -1 -1 -1 -1 -1]\n[-1 -1 -1 -1 -1 -1 -1 -1 -1 -1 -1 -1 -1 -1  1 -1 -1 -1  1 -1 -1 -1 -1 -1\n -1 -1 -1 -1 -1 -1 -1 -1 -1 -1 -1 -1 -1 -1 -1 -1 -1 -1 -1 -1 -1 -1 -1 -1\n -1 -1 -1 -1 -1 -1 -1 -1 -1  1 -1 -1 -1 -1 -1 -1 -1 -1 -1 -1 -1 -1 -1 -1\n  1 -1 -1 -1 -1 -1 -1 -1 -1 -1 -1 -1 -1 -1 -1 -1 -1 -1 -1 -1 -1 -1 -1 -1\n -1 -1  1 -1 -1 -1 -1 -1 -1 -1 -1 -1 -1 -1 -1 -1 -1 -1 -1 -1 -1 -1 -1 -1\n -1 -1 -1 -1 -1 -1 -1 -1 -1 -1 -1 -1 -1  1 -1 -1 -1 -1 -1  1 -1 -1 -1 -1\n -1 -1 -1 -1 -1 -1 -1 -1 -1 -1 -1 -1 -1 -1  1 -1 -1 -1 -1 -1 -1 -1 -1 -1\n -1 -1 -1 -1 -1 -1 -1 -1 -1 -1 -1 -1 -1 -1 -1  1 -1 -1 -1 -1 -1 -1 -1 -1\n -1 -1 -1 -1 -1 -1 -1 -1 -1 -1 -1 -1 -1 -1 -1 -1 -1 -1 -1 -1 -1 -1 -1 -1\n -1 -1 -1  1 -1 -1 -1 -1 -1 -1 -1 -1 -1 -1 -1 -1 -1 -1 -1]\n"
     ],
     "output_type": "stream"
    },
    {
     "data": {
      "text/plain": "'G-MEAN'"
     },
     "metadata": {},
     "output_type": "display_data"
    },
    {
     "data": {
      "text/plain": "               base global  smote   soup mdo-sv\necoli         0.649  0.566  0.462  0.846    1.0\nspectrometer  0.671  0.729  0.832   0.81    1.0\nlibras_move   0.699  0.913  0.994  0.907    1.0\narrhythmia    0.909  0.909  0.909  0.904    1.0\noil            0.54  0.542  0.533  0.621    1.0",
      "text/html": "<div>\n<style scoped>\n    .dataframe tbody tr th:only-of-type {\n        vertical-align: middle;\n    }\n\n    .dataframe tbody tr th {\n        vertical-align: top;\n    }\n\n    .dataframe thead th {\n        text-align: right;\n    }\n</style>\n<table border=\"1\" class=\"dataframe\">\n  <thead>\n    <tr style=\"text-align: right;\">\n      <th></th>\n      <th>base</th>\n      <th>global</th>\n      <th>smote</th>\n      <th>soup</th>\n      <th>mdo-sv</th>\n    </tr>\n  </thead>\n  <tbody>\n    <tr>\n      <th>ecoli</th>\n      <td>0.649</td>\n      <td>0.566</td>\n      <td>0.462</td>\n      <td>0.846</td>\n      <td>1.0</td>\n    </tr>\n    <tr>\n      <th>spectrometer</th>\n      <td>0.671</td>\n      <td>0.729</td>\n      <td>0.832</td>\n      <td>0.81</td>\n      <td>1.0</td>\n    </tr>\n    <tr>\n      <th>libras_move</th>\n      <td>0.699</td>\n      <td>0.913</td>\n      <td>0.994</td>\n      <td>0.907</td>\n      <td>1.0</td>\n    </tr>\n    <tr>\n      <th>arrhythmia</th>\n      <td>0.909</td>\n      <td>0.909</td>\n      <td>0.909</td>\n      <td>0.904</td>\n      <td>1.0</td>\n    </tr>\n    <tr>\n      <th>oil</th>\n      <td>0.54</td>\n      <td>0.542</td>\n      <td>0.533</td>\n      <td>0.621</td>\n      <td>1.0</td>\n    </tr>\n  </tbody>\n</table>\n</div>"
     },
     "metadata": {},
     "output_type": "display_data"
    },
    {
     "data": {
      "text/plain": "'ACC'"
     },
     "metadata": {},
     "output_type": "display_data"
    },
    {
     "data": {
      "text/plain": "               base global  smote   soup mdo-sv\necoli         0.893  0.893  0.881  0.905    1.0\nspectrometer  0.947   0.94  0.932  0.887    1.0\nlibras_move   0.944  0.989  0.989  0.978    1.0\narrhythmia    0.982  0.982  0.982  0.973    1.0\noil           0.945  0.949  0.919   0.94    1.0",
      "text/html": "<div>\n<style scoped>\n    .dataframe tbody tr th:only-of-type {\n        vertical-align: middle;\n    }\n\n    .dataframe tbody tr th {\n        vertical-align: top;\n    }\n\n    .dataframe thead th {\n        text-align: right;\n    }\n</style>\n<table border=\"1\" class=\"dataframe\">\n  <thead>\n    <tr style=\"text-align: right;\">\n      <th></th>\n      <th>base</th>\n      <th>global</th>\n      <th>smote</th>\n      <th>soup</th>\n      <th>mdo-sv</th>\n    </tr>\n  </thead>\n  <tbody>\n    <tr>\n      <th>ecoli</th>\n      <td>0.893</td>\n      <td>0.893</td>\n      <td>0.881</td>\n      <td>0.905</td>\n      <td>1.0</td>\n    </tr>\n    <tr>\n      <th>spectrometer</th>\n      <td>0.947</td>\n      <td>0.94</td>\n      <td>0.932</td>\n      <td>0.887</td>\n      <td>1.0</td>\n    </tr>\n    <tr>\n      <th>libras_move</th>\n      <td>0.944</td>\n      <td>0.989</td>\n      <td>0.989</td>\n      <td>0.978</td>\n      <td>1.0</td>\n    </tr>\n    <tr>\n      <th>arrhythmia</th>\n      <td>0.982</td>\n      <td>0.982</td>\n      <td>0.982</td>\n      <td>0.973</td>\n      <td>1.0</td>\n    </tr>\n    <tr>\n      <th>oil</th>\n      <td>0.945</td>\n      <td>0.949</td>\n      <td>0.919</td>\n      <td>0.94</td>\n      <td>1.0</td>\n    </tr>\n  </tbody>\n</table>\n</div>"
     },
     "metadata": {},
     "output_type": "display_data"
    }
   ],
   "source": [
    "import os\n",
    "from collections import Counter\n",
    "\n",
    "import numpy as np\n",
    "import pandas as pd\n",
    "from IPython.core.display import display\n",
    "from imblearn.datasets import fetch_datasets\n",
    "from sklearn.metrics import accuracy_score\n",
    "\n",
    "from sklearn.model_selection import train_test_split\n",
    "from sklearn.tree import DecisionTreeClassifier\n",
    "\n",
    "# from multi_imbalance.datasets import load_datasets\n",
    "from multi_imbalance.resampling.SOUP import SOUP\n",
    "from multi_imbalance.resampling.MDO import MDO as MDOMI\n",
    "from multi_imbalance.resampling.GlobalCS import GlobalCS\n",
    "\n",
    "from imblearn.metrics import geometric_mean_score\n",
    "from imblearn.over_sampling import SMOTE\n",
    "\n",
    "import smote_variants as sv\n",
    "\n",
    "np.random.seed(0)\n",
    "\n",
    "datasets = fetch_datasets()\n",
    "# datasets = load_datasets()\n",
    "results_g_mean = dict()\n",
    "results_acc = dict()\n",
    "\n",
    "for dataset_name, dataset_values in datasets.items():\n",
    "    if len(dataset_values.data) > 1000:\n",
    "        continue\n",
    "    print(dataset_name)\n",
    "    X, y = dataset_values.data, dataset_values.target\n",
    "    X_train, X_test, y_train, y_test = train_test_split(X, y,shuffle=True, stratify=y, test_size=0.25, random_state=0)\n",
    "    print(Counter(y_train))\n",
    "    print(Counter(y_test))\n",
    "    results_g_mean[dataset_name]=dict()\n",
    "    results_acc[dataset_name]=dict()\n",
    "    for resample in ['base','global','smote','soup','mdo-sv','mdo']:\n",
    "        error_flag = False\n",
    "        clf_tree = DecisionTreeClassifier(random_state=0)\n",
    "        \n",
    "        if resample == 'base':\n",
    "            X_train_resampled, y_train_resampled = X_train, y_train\n",
    "        elif resample=='soup':\n",
    "            soup = SOUP()\n",
    "            X_train_resampled, y_train_resampled = soup.fit_transform(np.copy(X_train), np.copy(y_train))\n",
    "        elif resample=='global':\n",
    "            global_cs = GlobalCS()\n",
    "            X_train_resampled, y_train_resampled = global_cs.fit_transform(np.copy(X_train), np.copy(y_train))\n",
    "        elif resample=='smote':\n",
    "            try:\n",
    "                smote = SMOTE()\n",
    "                X_train_resampled, y_train_resampled = smote.fit_sample(np.copy(X_train), np.copy(y_train))\n",
    "            except Exception as e:\n",
    "                error_flag = True\n",
    "                print(resample, dataset_name, e)\n",
    "                X_train_resampled, y_train_resampled = X_train, y_train\n",
    "        elif resample=='mdo':\n",
    "            try:\n",
    "                mdo = MDOMI(k=9)\n",
    "                X_train_resampled, y_train_resampled = mdo.fit_transform(np.copy(dataset_values.data), np.copy(dataset_values.target))\n",
    "            except Exception as e:\n",
    "                error_flag = True\n",
    "                print(resample, dataset_name, e)\n",
    "                X_train_resampled, y_train_resampled = dataset_values.data, dataset_values.target\n",
    "        elif resample=='mdo-sv':\n",
    "            clf=sv.MDO(K2=9, K1_frac= 0, random_state=0)\n",
    "            X_train_resampled, y_train_resampled = clf.sample(np.copy(dataset_values.data), np.copy(dataset_values.target))\n",
    "\n",
    "\n",
    "        clf_tree.fit(X_train_resampled, y_train_resampled)\n",
    "        y_pred = clf_tree.predict(X_test)\n",
    "        g_mean = str(round(geometric_mean_score(y_test, y_pred, correction=0.001),3))\n",
    "        acc = str(round(accuracy_score(y_test, y_pred),3))\n",
    "        result_g_mean = '-' if error_flag else g_mean\n",
    "        result_acc = '-'  if error_flag else acc\n",
    "        \n",
    "        results_g_mean[dataset_name][resample]=result_g_mean\n",
    "        results_acc[dataset_name][resample]=result_acc\n",
    "\n",
    "display(\"G-MEAN\")\n",
    "df = pd.DataFrame(results_g_mean).T\n",
    "display(df)\n",
    "\n",
    "display(\"ACC\")\n",
    "df = pd.DataFrame(results_acc).T\n",
    "display(df)\n",
    "\n"
   ]
  }
 ],
 "metadata": {
  "kernelspec": {
   "display_name": "Python 3",
   "language": "python",
   "name": "python3"
  },
  "language_info": {
   "codemirror_mode": {
    "name": "ipython",
    "version": 2
   },
   "file_extension": ".py",
   "mimetype": "text/x-python",
   "name": "python",
   "nbconvert_exporter": "python",
   "pygments_lexer": "ipython2",
   "version": "2.7.6"
  },
  "pycharm": {
   "stem_cell": {
    "cell_type": "raw",
    "source": [],
    "metadata": {
     "collapsed": false
    }
   }
  }
 },
 "nbformat": 4,
 "nbformat_minor": 0
}