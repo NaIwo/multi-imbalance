{
 "cells": [
  {
   "cell_type": "code",
   "execution_count": 23,
   "metadata": {
    "collapsed": true,
    "pycharm": {
     "is_executing": false,
     "name": "#%%\n"
    }
   },
   "outputs": [
    {
     "name": "stdout",
     "text": [
      "balance_scale\ncleveland\nsmote cleveland Expected n_neighbors <= n_samples,  but n_samples = 4, n_neighbors = 6\ncmc\n",
      "dermatology\necoli\nsmote ecoli Expected n_neighbors <= n_samples,  but n_samples = 1, n_neighbors = 6\nglass\nsmote glass Expected n_neighbors <= n_samples,  but n_samples = 5, n_neighbors = 6\nhayes_roth\n",
      "new_thyroid\nwinequailty_red\nsmote winequailty_red Expected n_neighbors <= n_samples,  but n_samples = 3, n_neighbors = 6\n",
      "yeast\nsmote yeast Expected n_neighbors <= n_samples,  but n_samples = 2, n_neighbors = 6\n"
     ],
     "output_type": "stream"
    },
    {
     "data": {
      "text/plain": "'G-MEAN'"
     },
     "metadata": {},
     "output_type": "display_data"
    },
    {
     "data": {
      "text/plain": "                  base  global  smote   soup    mdo\nbalance_scale    0.424   0.343  0.483  0.519  0.415\ncleveland        0.101   0.090    NaN  0.093  0.076\ncmc              0.427   0.433  0.445  0.479  0.441\ndermatology      0.946   0.977  0.963  0.947  0.977\necoli            0.123   0.133    NaN  0.122  0.144\nglass            0.585   0.599    NaN  0.649  0.713\nhayes_roth       0.548   0.552  0.622  0.585  0.606\nnew_thyroid      0.840   0.840  0.840  0.904  0.932\nwinequailty_red  0.260   0.083    NaN  0.281  0.111\nyeast            0.108   0.197    NaN  0.193  0.283",
      "text/html": "<div>\n<style scoped>\n    .dataframe tbody tr th:only-of-type {\n        vertical-align: middle;\n    }\n\n    .dataframe tbody tr th {\n        vertical-align: top;\n    }\n\n    .dataframe thead th {\n        text-align: right;\n    }\n</style>\n<table border=\"1\" class=\"dataframe\">\n  <thead>\n    <tr style=\"text-align: right;\">\n      <th></th>\n      <th>base</th>\n      <th>global</th>\n      <th>smote</th>\n      <th>soup</th>\n      <th>mdo</th>\n    </tr>\n  </thead>\n  <tbody>\n    <tr>\n      <th>balance_scale</th>\n      <td>0.424</td>\n      <td>0.343</td>\n      <td>0.483</td>\n      <td>0.519</td>\n      <td>0.415</td>\n    </tr>\n    <tr>\n      <th>cleveland</th>\n      <td>0.101</td>\n      <td>0.090</td>\n      <td>NaN</td>\n      <td>0.093</td>\n      <td>0.076</td>\n    </tr>\n    <tr>\n      <th>cmc</th>\n      <td>0.427</td>\n      <td>0.433</td>\n      <td>0.445</td>\n      <td>0.479</td>\n      <td>0.441</td>\n    </tr>\n    <tr>\n      <th>dermatology</th>\n      <td>0.946</td>\n      <td>0.977</td>\n      <td>0.963</td>\n      <td>0.947</td>\n      <td>0.977</td>\n    </tr>\n    <tr>\n      <th>ecoli</th>\n      <td>0.123</td>\n      <td>0.133</td>\n      <td>NaN</td>\n      <td>0.122</td>\n      <td>0.144</td>\n    </tr>\n    <tr>\n      <th>glass</th>\n      <td>0.585</td>\n      <td>0.599</td>\n      <td>NaN</td>\n      <td>0.649</td>\n      <td>0.713</td>\n    </tr>\n    <tr>\n      <th>hayes_roth</th>\n      <td>0.548</td>\n      <td>0.552</td>\n      <td>0.622</td>\n      <td>0.585</td>\n      <td>0.606</td>\n    </tr>\n    <tr>\n      <th>new_thyroid</th>\n      <td>0.840</td>\n      <td>0.840</td>\n      <td>0.840</td>\n      <td>0.904</td>\n      <td>0.932</td>\n    </tr>\n    <tr>\n      <th>winequailty_red</th>\n      <td>0.260</td>\n      <td>0.083</td>\n      <td>NaN</td>\n      <td>0.281</td>\n      <td>0.111</td>\n    </tr>\n    <tr>\n      <th>yeast</th>\n      <td>0.108</td>\n      <td>0.197</td>\n      <td>NaN</td>\n      <td>0.193</td>\n      <td>0.283</td>\n    </tr>\n  </tbody>\n</table>\n</div>"
     },
     "metadata": {},
     "output_type": "display_data"
    },
    {
     "data": {
      "text/plain": "'ACC'"
     },
     "metadata": {},
     "output_type": "display_data"
    },
    {
     "data": {
      "text/plain": "                  base  global  smote   soup    mdo\nbalance_scale    0.751   0.767  0.751  0.660  0.728\ncleveland        0.516   0.479    NaN  0.455  0.493\ncmc              0.467   0.478  0.472  0.483  0.480\ndermatology      0.961   0.977  0.961  0.926  0.977\necoli            0.784   0.788    NaN  0.657  0.767\nglass            0.627   0.687    NaN  0.573  0.627\nhayes_roth       0.548   0.570  0.624  0.591  0.613\nnew_thyroid      0.901   0.901  0.901  0.947  0.934\nwinequailty_red  0.517   0.529    NaN  0.482  0.453\nyeast            0.452   0.472    NaN  0.413  0.483",
      "text/html": "<div>\n<style scoped>\n    .dataframe tbody tr th:only-of-type {\n        vertical-align: middle;\n    }\n\n    .dataframe tbody tr th {\n        vertical-align: top;\n    }\n\n    .dataframe thead th {\n        text-align: right;\n    }\n</style>\n<table border=\"1\" class=\"dataframe\">\n  <thead>\n    <tr style=\"text-align: right;\">\n      <th></th>\n      <th>base</th>\n      <th>global</th>\n      <th>smote</th>\n      <th>soup</th>\n      <th>mdo</th>\n    </tr>\n  </thead>\n  <tbody>\n    <tr>\n      <th>balance_scale</th>\n      <td>0.751</td>\n      <td>0.767</td>\n      <td>0.751</td>\n      <td>0.660</td>\n      <td>0.728</td>\n    </tr>\n    <tr>\n      <th>cleveland</th>\n      <td>0.516</td>\n      <td>0.479</td>\n      <td>NaN</td>\n      <td>0.455</td>\n      <td>0.493</td>\n    </tr>\n    <tr>\n      <th>cmc</th>\n      <td>0.467</td>\n      <td>0.478</td>\n      <td>0.472</td>\n      <td>0.483</td>\n      <td>0.480</td>\n    </tr>\n    <tr>\n      <th>dermatology</th>\n      <td>0.961</td>\n      <td>0.977</td>\n      <td>0.961</td>\n      <td>0.926</td>\n      <td>0.977</td>\n    </tr>\n    <tr>\n      <th>ecoli</th>\n      <td>0.784</td>\n      <td>0.788</td>\n      <td>NaN</td>\n      <td>0.657</td>\n      <td>0.767</td>\n    </tr>\n    <tr>\n      <th>glass</th>\n      <td>0.627</td>\n      <td>0.687</td>\n      <td>NaN</td>\n      <td>0.573</td>\n      <td>0.627</td>\n    </tr>\n    <tr>\n      <th>hayes_roth</th>\n      <td>0.548</td>\n      <td>0.570</td>\n      <td>0.624</td>\n      <td>0.591</td>\n      <td>0.613</td>\n    </tr>\n    <tr>\n      <th>new_thyroid</th>\n      <td>0.901</td>\n      <td>0.901</td>\n      <td>0.901</td>\n      <td>0.947</td>\n      <td>0.934</td>\n    </tr>\n    <tr>\n      <th>winequailty_red</th>\n      <td>0.517</td>\n      <td>0.529</td>\n      <td>NaN</td>\n      <td>0.482</td>\n      <td>0.453</td>\n    </tr>\n    <tr>\n      <th>yeast</th>\n      <td>0.452</td>\n      <td>0.472</td>\n      <td>NaN</td>\n      <td>0.413</td>\n      <td>0.483</td>\n    </tr>\n  </tbody>\n</table>\n</div>"
     },
     "metadata": {},
     "output_type": "display_data"
    },
    {
     "data": {
      "text/plain": "base      0.4362\nglobal    0.4247\nsmote     0.6463\nsoup      0.4772\nmdo       0.4698\ndtype: float64"
     },
     "metadata": {},
     "output_type": "display_data"
    }
   ],
   "source": [
    "import numpy as np\n",
    "import pandas as pd\n",
    "from IPython.core.display import display\n",
    "from sklearn.metrics import accuracy_score\n",
    "\n",
    "from sklearn.model_selection import train_test_split\n",
    "from sklearn.tree import DecisionTreeClassifier\n",
    "\n",
    "from multi_imbalance.datasets import load_datasets\n",
    "from multi_imbalance.resampling.SOUP import SOUP\n",
    "from multi_imbalance.resampling.MDO import MDO\n",
    "from multi_imbalance.resampling.GlobalCS import GlobalCS\n",
    "\n",
    "from imblearn.metrics import geometric_mean_score\n",
    "from imblearn.over_sampling import SMOTE\n",
    "\n",
    "np.random.seed(0)\n",
    "\n",
    "datasets = load_datasets('/home/plutasnyy/git/multi-imbalance/data/')\n",
    "results_g_mean = dict()\n",
    "results_acc = dict()\n",
    "\n",
    "for dataset_name, dataset_values in datasets.items():\n",
    "    print(dataset_name)\n",
    "    X, y = dataset_values.data, dataset_values.target\n",
    "    X_train, X_test, y_train, y_test = train_test_split(X, y,shuffle=True, stratify=y, test_size=0.7, random_state=0)\n",
    "    results_g_mean[dataset_name]=dict()\n",
    "    results_acc[dataset_name]=dict()\n",
    "    for resample in ['base','global','smote','soup','mdo']:\n",
    "        error_flag = False\n",
    "        clf_tree = DecisionTreeClassifier(random_state=0)\n",
    "        \n",
    "        if resample == 'base':\n",
    "            X_train_resampled, y_train_resampled = X_train, y_train\n",
    "        elif resample=='soup':\n",
    "            soup = SOUP()\n",
    "            X_train_resampled, y_train_resampled = soup.fit_transform(np.copy(X_train), np.copy(y_train))\n",
    "        elif resample=='global':\n",
    "            global_cs = GlobalCS()\n",
    "            X_train_resampled, y_train_resampled = global_cs.fit_transform(np.copy(X_train), np.copy(y_train))\n",
    "        elif resample=='smote':\n",
    "            try:\n",
    "                smote = SMOTE()\n",
    "                X_train_resampled, y_train_resampled = smote.fit_sample(np.copy(X_train), np.copy(y_train))\n",
    "            except Exception as e:\n",
    "                error_flag = True\n",
    "                print(resample, dataset_name, e)\n",
    "                X_train_resampled, y_train_resampled = X_train, y_train\n",
    "        elif resample=='mdo':\n",
    "            mdo = MDO(k=9, k1_frac=0, seed=0)\n",
    "            X_train_resampled, y_train_resampled = mdo.fit_transform(np.copy(X_train), np.copy(y_train))\n",
    "            \n",
    "        clf_tree.fit(X_train_resampled, y_train_resampled)\n",
    "        y_pred = clf_tree.predict(X_test)\n",
    "        g_mean = float(str(round(geometric_mean_score(y_test, y_pred, correction=0.001),3)))\n",
    "        acc = float(str(round(accuracy_score(y_test, y_pred),3)))\n",
    "        result_g_mean = None if error_flag else g_mean\n",
    "        result_acc = None if error_flag else acc\n",
    "        \n",
    "        results_g_mean[dataset_name][resample]=result_g_mean\n",
    "        results_acc[dataset_name][resample]=result_acc\n",
    "\n",
    "display(\"G-MEAN\")\n",
    "df = pd.DataFrame(results_g_mean).T\n",
    "display(df)\n",
    "\n",
    "display(\"ACC\")\n",
    "df2 = pd.DataFrame(results_acc).T\n",
    "display(df2)\n",
    "\n",
    "df.fillna(df.median(), inplace=True)\n",
    "display(df.mean())"
   ]
  }
 ],
 "metadata": {
  "kernelspec": {
   "display_name": "Python 3",
   "language": "python",
   "name": "python3"
  },
  "language_info": {
   "codemirror_mode": {
    "name": "ipython",
    "version": 2
   },
   "file_extension": ".py",
   "mimetype": "text/x-python",
   "name": "python",
   "nbconvert_exporter": "python",
   "pygments_lexer": "ipython2",
   "version": "2.7.6"
  },
  "pycharm": {
   "stem_cell": {
    "cell_type": "raw",
    "source": [],
    "metadata": {
     "collapsed": false
    }
   }
  }
 },
 "nbformat": 4,
 "nbformat_minor": 0
}