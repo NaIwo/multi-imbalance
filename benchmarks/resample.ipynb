{
 "cells": [
  {
   "cell_type": "code",
   "execution_count": 21,
   "metadata": {
    "collapsed": true,
    "pycharm": {
     "is_executing": false
    }
   },
   "outputs": [
    {
     "name": "stdout",
     "text": [
      "/home/plutasnyy/git/multi-imbalance/benchmarks\n",
      "mdo cleveland Input must be 1- or 2-d.\n",
      "smote ecoli Expected n_neighbors <= n_samples,  but n_samples = 2, n_neighbors = 6\n",
      "smote yeast Expected n_neighbors <= n_samples,  but n_samples = 5, n_neighbors = 6\n"
     ],
     "output_type": "stream"
    },
    {
     "name": "stderr",
     "text": [
      "/home/plutasnyy/git/multi-imbalance/venv/lib/python3.6/site-packages/sklearn/decomposition/pca.py:445: RuntimeWarning: invalid value encountered in true_divide\n  explained_variance_ = (S ** 2) / (n_samples - 1)\n/home/plutasnyy/git/multi-imbalance/multi_imbalance/resampling/MDO.py:57: RuntimeWarning: Degrees of freedom <= 0 for slice\n  variables_variance = np.diag(np.cov(uncorrelated_samples, rowvar=False))\n/home/plutasnyy/git/multi-imbalance/venv/lib/python3.6/site-packages/numpy/lib/function_base.py:2455: RuntimeWarning: divide by zero encountered in true_divide\n  c *= np.true_divide(1, fact)\n/home/plutasnyy/git/multi-imbalance/venv/lib/python3.6/site-packages/numpy/lib/function_base.py:2455: RuntimeWarning: invalid value encountered in multiply\n  c *= np.true_divide(1, fact)\n",
      "/home/plutasnyy/git/multi-imbalance/venv/lib/python3.6/site-packages/imblearn/metrics/_classification.py:635: UndefinedMetricWarning: Recall is ill-defined and being set to 0.0 in labels with no true samples.\n  \"recall\")\n",
      "/home/plutasnyy/git/multi-imbalance/venv/lib/python3.6/site-packages/imblearn/metrics/_classification.py:635: UndefinedMetricWarning: Recall is ill-defined and being set to 0.0 in labels with no true samples.\n  \"recall\")\n/home/plutasnyy/git/multi-imbalance/venv/lib/python3.6/site-packages/imblearn/metrics/_classification.py:635: UndefinedMetricWarning: Recall is ill-defined and being set to 0.0 in labels with no true samples.\n  \"recall\")\n"
     ],
     "output_type": "stream"
    },
    {
     "data": {
      "text/plain": "                  base global  smote   soup    mdo\nbalance_scale      0.0   0.87  0.823  0.838    0.0\ncleveland          0.0  0.936  0.673  0.744   *0.0\ncmc              0.413  0.659  0.567  0.648  0.524\ndermatology      0.831  0.986  0.985  0.952  0.962\necoli              0.0   0.99   *0.0  0.945    0.0\nglass            0.502  0.909  0.805  0.868    0.0\nhayes_roth       0.935  0.776  0.725  0.874  0.741\nnew_thyroid      0.988  0.964  0.929    1.0  0.923\nwinequailty_red    0.0  0.871  0.759  0.794    0.0\nyeast              0.0  0.861   *0.0   0.86    0.0",
      "text/html": "<div>\n<style scoped>\n    .dataframe tbody tr th:only-of-type {\n        vertical-align: middle;\n    }\n\n    .dataframe tbody tr th {\n        vertical-align: top;\n    }\n\n    .dataframe thead th {\n        text-align: right;\n    }\n</style>\n<table border=\"1\" class=\"dataframe\">\n  <thead>\n    <tr style=\"text-align: right;\">\n      <th></th>\n      <th>base</th>\n      <th>global</th>\n      <th>smote</th>\n      <th>soup</th>\n      <th>mdo</th>\n    </tr>\n  </thead>\n  <tbody>\n    <tr>\n      <td>balance_scale</td>\n      <td>0.0</td>\n      <td>0.87</td>\n      <td>0.823</td>\n      <td>0.838</td>\n      <td>0.0</td>\n    </tr>\n    <tr>\n      <td>cleveland</td>\n      <td>0.0</td>\n      <td>0.936</td>\n      <td>0.673</td>\n      <td>0.744</td>\n      <td>*0.0</td>\n    </tr>\n    <tr>\n      <td>cmc</td>\n      <td>0.413</td>\n      <td>0.659</td>\n      <td>0.567</td>\n      <td>0.648</td>\n      <td>0.524</td>\n    </tr>\n    <tr>\n      <td>dermatology</td>\n      <td>0.831</td>\n      <td>0.986</td>\n      <td>0.985</td>\n      <td>0.952</td>\n      <td>0.962</td>\n    </tr>\n    <tr>\n      <td>ecoli</td>\n      <td>0.0</td>\n      <td>0.99</td>\n      <td>*0.0</td>\n      <td>0.945</td>\n      <td>0.0</td>\n    </tr>\n    <tr>\n      <td>glass</td>\n      <td>0.502</td>\n      <td>0.909</td>\n      <td>0.805</td>\n      <td>0.868</td>\n      <td>0.0</td>\n    </tr>\n    <tr>\n      <td>hayes_roth</td>\n      <td>0.935</td>\n      <td>0.776</td>\n      <td>0.725</td>\n      <td>0.874</td>\n      <td>0.741</td>\n    </tr>\n    <tr>\n      <td>new_thyroid</td>\n      <td>0.988</td>\n      <td>0.964</td>\n      <td>0.929</td>\n      <td>1.0</td>\n      <td>0.923</td>\n    </tr>\n    <tr>\n      <td>winequailty_red</td>\n      <td>0.0</td>\n      <td>0.871</td>\n      <td>0.759</td>\n      <td>0.794</td>\n      <td>0.0</td>\n    </tr>\n    <tr>\n      <td>yeast</td>\n      <td>0.0</td>\n      <td>0.861</td>\n      <td>*0.0</td>\n      <td>0.86</td>\n      <td>0.0</td>\n    </tr>\n  </tbody>\n</table>\n</div>"
     },
     "metadata": {},
     "output_type": "execute_result",
     "execution_count": 21
    }
   ],
   "source": [
    "import numpy as np\n",
    "import pandas as pd\n",
    "from imblearn.over_sampling import SMOTE\n",
    "from sklearn.model_selection import train_test_split\n",
    "from sklearn.tree import DecisionTreeClassifier\n",
    "from multi_imbalance.datasets import load_datasets\n",
    "from multi_imbalance.resampling.GlobalCS import GlobalCS\n",
    "from multi_imbalance.resampling.MDO import MDO\n",
    "from multi_imbalance.resampling.SOUP import SOUP\n",
    "from imblearn.metrics import geometric_mean_score\n",
    "\n",
    "np.random.seed(0)\n",
    "import os\n",
    "print(os.getcwd())\n",
    "\n",
    "datasets = load_datasets('../data')\n",
    "results = dict()\n",
    "\n",
    "for dataset_name, dataset_values in datasets.items():\n",
    "    results[dataset_name]=dict()\n",
    "    for resample in ['base','global','smote','soup','mdo']:\n",
    "        error_flag = False\n",
    "        clf_tree = DecisionTreeClassifier(random_state=0)\n",
    "        \n",
    "        if resample == 'base':\n",
    "            X, y = dataset_values.data, dataset_values.target\n",
    "        elif resample=='soup':\n",
    "            soup = SOUP()\n",
    "            X, y = soup.fit_transform(np.copy(dataset_values.data), np.copy(dataset_values.target))\n",
    "        elif resample=='global':\n",
    "            global_cs = GlobalCS()\n",
    "            X, y = global_cs.fit_transform(np.copy(dataset_values.data), np.copy(dataset_values.target))\n",
    "        elif resample=='smote':\n",
    "            try:\n",
    "                smote = SMOTE()\n",
    "                X, y = smote.fit_sample(np.copy(dataset_values.data), np.copy(dataset_values.target))\n",
    "            except Exception as e:\n",
    "                error_flag = True\n",
    "                print(resample, dataset_name, e)\n",
    "                X, y = dataset_values.data, dataset_values.target\n",
    "        elif resample=='mdo':\n",
    "            try:\n",
    "                mdo = MDO()\n",
    "                X,y = mdo.fit_transform(np.copy(dataset_values.data), np.copy(dataset_values.target))\n",
    "            except Exception as e:\n",
    "                error_flag = True\n",
    "                print(resample, dataset_name, e)\n",
    "                X, y = dataset_values.data, dataset_values.target\n",
    "\n",
    "        X_train, X_test, y_train, y_test = train_test_split(X, y, test_size=0.2, random_state=0)\n",
    "        clf_tree.fit(X_train, y_train)\n",
    "        y_pred = clf_tree.predict(X_test)\n",
    "        score = str(round(geometric_mean_score(y_test, y_pred),3))\n",
    "        result = '*' + score if error_flag else score\n",
    "        results[dataset_name][resample]=result\n",
    "\n",
    "df = pd.DataFrame(results).T\n",
    "df\n",
    "\n"
   ]
  }
 ],
 "metadata": {
  "kernelspec": {
   "display_name": "Python 3",
   "language": "python",
   "name": "python3"
  },
  "language_info": {
   "codemirror_mode": {
    "name": "ipython",
    "version": 2
   },
   "file_extension": ".py",
   "mimetype": "text/x-python",
   "name": "python",
   "nbconvert_exporter": "python",
   "pygments_lexer": "ipython2",
   "version": "2.7.6"
  },
  "pycharm": {
   "stem_cell": {
    "cell_type": "raw",
    "source": [],
    "metadata": {
     "collapsed": false
    }
   }
  }
 },
 "nbformat": 4,
 "nbformat_minor": 0
}