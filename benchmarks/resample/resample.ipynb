{
 "cells": [
  {
   "cell_type": "code",
   "execution_count": 1,
   "metadata": {
    "pycharm": {
     "is_executing": false,
     "name": "#%%\n"
    }
   },
   "outputs": [
    {
     "name": "stderr",
     "text": [
      "Using TensorFlow backend.\n",
      "/home/plutasnyy/git/multi-imbalance/venv/lib/python3.6/site-packages/tensorflow/python/framework/dtypes.py:516: FutureWarning: Passing (type, 1) or '1type' as a synonym of type is deprecated; in a future version of numpy, it will be understood as (type, (1,)) / '(1,)type'.\n",
      "  _np_qint8 = np.dtype([(\"qint8\", np.int8, 1)])\n",
      "/home/plutasnyy/git/multi-imbalance/venv/lib/python3.6/site-packages/tensorflow/python/framework/dtypes.py:517: FutureWarning: Passing (type, 1) or '1type' as a synonym of type is deprecated; in a future version of numpy, it will be understood as (type, (1,)) / '(1,)type'.\n",
      "  _np_quint8 = np.dtype([(\"quint8\", np.uint8, 1)])\n",
      "/home/plutasnyy/git/multi-imbalance/venv/lib/python3.6/site-packages/tensorflow/python/framework/dtypes.py:518: FutureWarning: Passing (type, 1) or '1type' as a synonym of type is deprecated; in a future version of numpy, it will be understood as (type, (1,)) / '(1,)type'.\n",
      "  _np_qint16 = np.dtype([(\"qint16\", np.int16, 1)])\n",
      "/home/plutasnyy/git/multi-imbalance/venv/lib/python3.6/site-packages/tensorflow/python/framework/dtypes.py:519: FutureWarning: Passing (type, 1) or '1type' as a synonym of type is deprecated; in a future version of numpy, it will be understood as (type, (1,)) / '(1,)type'.\n",
      "  _np_quint16 = np.dtype([(\"quint16\", np.uint16, 1)])\n",
      "/home/plutasnyy/git/multi-imbalance/venv/lib/python3.6/site-packages/tensorflow/python/framework/dtypes.py:520: FutureWarning: Passing (type, 1) or '1type' as a synonym of type is deprecated; in a future version of numpy, it will be understood as (type, (1,)) / '(1,)type'.\n",
      "  _np_qint32 = np.dtype([(\"qint32\", np.int32, 1)])\n",
      "/home/plutasnyy/git/multi-imbalance/venv/lib/python3.6/site-packages/tensorflow/python/framework/dtypes.py:525: FutureWarning: Passing (type, 1) or '1type' as a synonym of type is deprecated; in a future version of numpy, it will be understood as (type, (1,)) / '(1,)type'.\n",
      "  np_resource = np.dtype([(\"resource\", np.ubyte, 1)])\n",
      "/home/plutasnyy/git/multi-imbalance/venv/lib/python3.6/site-packages/tensorboard/compat/tensorflow_stub/dtypes.py:541: FutureWarning: Passing (type, 1) or '1type' as a synonym of type is deprecated; in a future version of numpy, it will be understood as (type, (1,)) / '(1,)type'.\n",
      "  _np_qint8 = np.dtype([(\"qint8\", np.int8, 1)])\n",
      "/home/plutasnyy/git/multi-imbalance/venv/lib/python3.6/site-packages/tensorboard/compat/tensorflow_stub/dtypes.py:542: FutureWarning: Passing (type, 1) or '1type' as a synonym of type is deprecated; in a future version of numpy, it will be understood as (type, (1,)) / '(1,)type'.\n",
      "  _np_quint8 = np.dtype([(\"quint8\", np.uint8, 1)])\n",
      "/home/plutasnyy/git/multi-imbalance/venv/lib/python3.6/site-packages/tensorboard/compat/tensorflow_stub/dtypes.py:543: FutureWarning: Passing (type, 1) or '1type' as a synonym of type is deprecated; in a future version of numpy, it will be understood as (type, (1,)) / '(1,)type'.\n",
      "  _np_qint16 = np.dtype([(\"qint16\", np.int16, 1)])\n",
      "/home/plutasnyy/git/multi-imbalance/venv/lib/python3.6/site-packages/tensorboard/compat/tensorflow_stub/dtypes.py:544: FutureWarning: Passing (type, 1) or '1type' as a synonym of type is deprecated; in a future version of numpy, it will be understood as (type, (1,)) / '(1,)type'.\n",
      "  _np_quint16 = np.dtype([(\"quint16\", np.uint16, 1)])\n",
      "/home/plutasnyy/git/multi-imbalance/venv/lib/python3.6/site-packages/tensorboard/compat/tensorflow_stub/dtypes.py:545: FutureWarning: Passing (type, 1) or '1type' as a synonym of type is deprecated; in a future version of numpy, it will be understood as (type, (1,)) / '(1,)type'.\n",
      "  _np_qint32 = np.dtype([(\"qint32\", np.int32, 1)])\n",
      "/home/plutasnyy/git/multi-imbalance/venv/lib/python3.6/site-packages/tensorboard/compat/tensorflow_stub/dtypes.py:550: FutureWarning: Passing (type, 1) or '1type' as a synonym of type is deprecated; in a future version of numpy, it will be understood as (type, (1,)) / '(1,)type'.\n",
      "  np_resource = np.dtype([(\"resource\", np.ubyte, 1)])\n"
     ],
     "output_type": "stream"
    }
   ],
   "source": [
    "from collections import defaultdict, Counter\n",
    "import numpy as np\n",
    "import pandas as pd\n",
    "from distython import HVDM, HEOM\n",
    "from sklearn.metrics import recall_score\n",
    "from sklearn.preprocessing import StandardScaler, OneHotEncoder, LabelBinarizer\n",
    "from IPython.core.display import display\n",
    "from sklearn.model_selection import StratifiedKFold\n",
    "from sklearn.tree import DecisionTreeClassifier\n",
    "from tqdm import tqdm_notebook\n",
    "\n",
    "from multi_imbalance.datasets import load_datasets\n",
    "from multi_imbalance.ensemble.SOUPBagging import SOUPBagging\n",
    "from multi_imbalance.resampling.SOUP import SOUP\n",
    "from multi_imbalance.resampling.MDO import MDO\n",
    "from multi_imbalance.resampling.GlobalCS import GlobalCS\n",
    "\n",
    "from imblearn.metrics import geometric_mean_score\n",
    "from imblearn.over_sampling import SMOTE\n",
    "from multi_imbalance.resampling.spider import SPIDER3\n",
    "\n",
    "from sklearn.neighbors import KNeighborsClassifier\n",
    "import warnings\n",
    "import logging\n",
    "logger = logging.getLogger()\n",
    "logger.setLevel(logging.CRITICAL)\n",
    "warnings.filterwarnings('ignore')\n",
    "maj_int_min = {\n",
    "    'balance_scale' : {\n",
    "        'maj': [2, 1],\n",
    "        'int': [],\n",
    "        'min': [0]\n",
    "    }, \n",
    "    'cleveland': {\n",
    "        'maj': [0],\n",
    "        'int': [1],\n",
    "        'min': [2,3,4]\n",
    "    }, \n",
    "    'cmc': {\n",
    "        'maj': [0],\n",
    "        'int': [2],\n",
    "        'min': [1]\n",
    "    }, \n",
    "    'dermatology': {\n",
    "        'maj': [0],\n",
    "        'int': [2,1,4,3],\n",
    "        'min': [5]\n",
    "    }, \n",
    "    'ecoli': {\n",
    "        'maj': [0,1],\n",
    "        'int': [7,4,5],\n",
    "        'min': [6,3,2]\n",
    "    }, \n",
    "    'glass': {\n",
    "        'maj': [1,0],\n",
    "        'int': [5],\n",
    "        'min': [2,3,4]\n",
    "    }, \n",
    "    'hayes_roth': {\n",
    "        'maj': [0,1],\n",
    "        'int': [],\n",
    "        'min': [2]\n",
    "    }, \n",
    "    'new_thyroid': {\n",
    "        'maj': [0],\n",
    "        'int': [],\n",
    "        'min': [1,2]\n",
    "    }, \n",
    "    'winequailty_red': {\n",
    "        'maj': [2,3],\n",
    "        'int': [4],\n",
    "        'min': [1,5,0]\n",
    "    }, \n",
    "    'yeast': {\n",
    "        'maj': [0,7],\n",
    "        'int': [6, 5],\n",
    "        'min': [4,3,2,9,8,1]\n",
    "    }\n",
    "}\n",
    "from IPython.display import clear_output\n",
    "clear_output(wait=True)"
   ]
  },
  {
   "cell_type": "code",
   "execution_count": 33,
   "metadata": {
    "pycharm": {
     "is_executing": false,
     "name": "#%%\n"
    }
   },
   "outputs": [
    {
     "data": {
      "text/plain": "HBox(children=(IntProgress(value=0, description='1st loop', max=17, style=ProgressStyle(description_width='ini…",
      "application/vnd.jupyter.widget-view+json": {
       "version_major": 2,
       "version_minor": 0,
       "model_id": "258f39b3b7df4a058c5d2c9e2e91cb01"
      }
     },
     "metadata": {},
     "output_type": "display_data"
    },
    {
     "name": "stdout",
     "text": [
      "\n"
     ],
     "output_type": "stream"
    }
   ],
   "source": [
    "def resample_data(resample, seed, X_train, y_train, no_classes, dataset_name):\n",
    "    if resample == 'base':\n",
    "        X_train_resampled, y_train_resampled = X_train, y_train\n",
    "    elif resample=='soup':\n",
    "        soup = SOUP(k=3)\n",
    "        X_train_resampled, y_train_resampled = soup.fit_transform(np.copy(X_train), np.copy(y_train))\n",
    "    elif resample=='global':\n",
    "        global_cs = GlobalCS()\n",
    "        X_train_resampled, y_train_resampled = global_cs.fit_transform(np.copy(X_train), np.copy(y_train), shuffle=False)\n",
    "    elif resample=='smote':\n",
    "        smote = SMOTE(random_state=seed)\n",
    "        X_train_resampled, y_train_resampled = smote.fit_sample(np.copy(X_train), np.copy(y_train))\n",
    "    elif resample=='mdo':\n",
    "        mdo = MDO(k=7, k1_frac=0.5, seed=seed)\n",
    "        X_train_resampled, y_train_resampled = mdo.fit_transform(np.copy(X_train), np.copy(y_train))\n",
    "    elif resample=='spider':\n",
    "        cost = np.ones((no_classes, no_classes))\n",
    "        np.fill_diagonal(cost, 0)\n",
    "        clf = SPIDER3(k=5, cost=cost, majority_classes=maj_int_min[dataset_name]['maj'], intermediate_classes=maj_int_min[dataset_name]['int'], minority_classes=maj_int_min[dataset_name]['min'])\n",
    "        X_train_resampled, y_train_resampled = clf.fit_transform(X_train.astype(np.float64), y_train)\n",
    "    elif 'soupbg' in resample:\n",
    "        # SOUP Bagging does it by itself\n",
    "        X_train_resampled, y_train_resampled = X_train, y_train\n",
    "    else:\n",
    "        raise ValueError(f'Bad type{resample}')\n",
    "    return X_train_resampled, y_train_resampled\n",
    "\n",
    "\n",
    "\n",
    "def test_resampling(res, dataset_values, dataset_name):\n",
    "    X, y = dataset_values.data, dataset_values.target\n",
    "    # if dataset_name.startswith('cleveland'):\n",
    "    #     nominal = [12]\n",
    "    #     for id in nominal:\n",
    "    #         last_column = X[:,id].astype(int)\n",
    "    #         X = np.delete(X,id,1)\n",
    "    #         coded = LabelBinarizer().fit_transform(last_column)\n",
    "    #         X = np.hstack((X,coded))\n",
    "        \n",
    "\n",
    "    # normalizer = StandardScaler().fit(X)\n",
    "    # X = normalizer.transform(X)\n",
    "\n",
    "    # hvdm_metric = HEOM(X,[1,2,5,6,8,10,12], nan_equivalents = [12345])\n",
    "    no_classes = np.unique(y).size\n",
    "    result_data = defaultdict(int)\n",
    "    run_data = defaultdict(lambda: defaultdict(list)) # {metric: {run_number: [scores]}}\n",
    "    for i in range(10):\n",
    "        skf = StratifiedKFold(n_splits=10, shuffle=True,random_state=i)\n",
    "        for train_index, test_index in skf.split(X, y):\n",
    "            X_train, X_test = X[train_index], X[test_index]\n",
    "            y_train, y_test = y[train_index], y[test_index]\n",
    "            normalizer = StandardScaler().fit(X_train)\n",
    "\n",
    "            X_train = normalizer.transform(X_train)\n",
    "            X_test = normalizer.transform(X_test)\n",
    "            X_train_resampled, y_train_resampled = resample_data(res, i, X_train, y_train, no_classes, dataset_name)\n",
    "\n",
    "            # for clf_name in ['knn','tree']:\n",
    "            for clf_name in ['knn']:\n",
    "                if clf_name == 'knn':\n",
    "                    clf = KNeighborsClassifier(n_neighbors=3)\n",
    "                elif clf_name == 'tree':\n",
    "                    clf = DecisionTreeClassifier(random_state=i)\n",
    "                # DONT JUDGE ME\n",
    "                if res == 'soupbg005':\n",
    "                    vote_classifier = SOUPBagging(clf, n_classifiers=5)\n",
    "                    clf = vote_classifier\n",
    "                elif res == 'soupbg015':\n",
    "                    vote_classifier = SOUPBagging(clf, n_classifiers=15)\n",
    "                    clf = vote_classifier\n",
    "                elif res == 'soupbg030':\n",
    "                    vote_classifier = SOUPBagging(clf, n_classifiers=30)\n",
    "                    clf = vote_classifier\n",
    "                elif res == 'soupbg050':\n",
    "                    vote_classifier = SOUPBagging(clf, n_classifiers=50)\n",
    "                    clf = vote_classifier\n",
    "                elif res == 'soupbg100':\n",
    "                    vote_classifier = SOUPBagging(clf, n_classifiers=100)\n",
    "                    clf = vote_classifier\n",
    "                    \n",
    "                clf.fit(X_train_resampled, y_train_resampled)\n",
    "                y_pred = clf.predict(X_test)\n",
    "                gmean = geometric_mean_score(y_test, y_pred, correction=0.001)\n",
    "                avg_acc = np.mean(recall_score(y_test, y_pred, average=None))\n",
    "                run_data['g_mean_{}'.format(clf_name)][str(i)].append(gmean)\n",
    "                run_data['avg_acc_{}'.format(clf_name)][str(i)].append(avg_acc)\n",
    "    \n",
    "    def get_score_from_metric(run_data, metric):\n",
    "        runs = run_data[metric]\n",
    "        runs_scores_list = list(runs.values()) #[[one run k-foledscores],[..]]\n",
    "        result = np.mean(list(map(np.mean, runs_scores_list)))\n",
    "        return result\n",
    "            \n",
    "    result_data['g_mean_knn'] = get_score_from_metric(run_data, 'g_mean_knn')\n",
    "    result_data['avg_acc_knn'] = get_score_from_metric(run_data, 'avg_acc_knn')\n",
    "    result_data['g_mean_tree'] = get_score_from_metric(run_data, 'g_mean_tree')\n",
    "    return result_data\n",
    "\n",
    "\n",
    "def provide_test_and_get_scores(datasets):\n",
    "    scores_knn = defaultdict(dict)\n",
    "    scores_tree = defaultdict(dict)\n",
    "    avg_acc = defaultdict(dict)\n",
    "    # clf_res_names =['base','global','smote','mdo','soup','soupbg005','soupbg015','soupbg030', 'soupbg050', 'soupbg100']\n",
    "    # clf_res_names =['base','global','smote','mdo','soup']\n",
    "    clf_res_names =['base','global','soup']\n",
    "    for dataset_name, dataset_values in tqdm_notebook(datasets.items(),total=len(datasets), desc='1st loop'):\n",
    "        # if dataset_name.startswith('cleveland'):\n",
    "        for resample in clf_res_names:\n",
    "            result_data = test_resampling(resample, dataset_values, dataset_name)\n",
    "            scores_knn[dataset_name][resample] = round(result_data['g_mean_knn'],4)\n",
    "            scores_tree[dataset_name][resample] = round(result_data['g_mean_tree'],4)\n",
    "            avg_acc[dataset_name][resample] = round(result_data['avg_acc_knn'],4)\n",
    "    return scores_knn, scores_tree, avg_acc\n",
    "\n",
    "datasets = load_datasets()\n",
    "scores_knn, scores_tree, avg_acc = provide_test_and_get_scores(datasets)"
   ]
  },
  {
   "cell_type": "code",
   "execution_count": 34,
   "metadata": {
    "pycharm": {
     "is_executing": false,
     "name": "#%%\n"
    }
   },
   "outputs": [
    {
     "data": {
      "text/plain": "'G-MEAN'"
     },
     "metadata": {},
     "output_type": "display_data"
    },
    {
     "data": {
      "text/plain": "<pandas.io.formats.style.Styler at 0x7f933611f550>",
      "text/html": "<style  type=\"text/css\" >\n    #T_5f5e8310_1f3a_11ea_bd95_40e230ef4681row0_col0 {\n            background-color:  green;\n        }    #T_5f5e8310_1f3a_11ea_bd95_40e230ef4681row0_col1 {\n            background-color:  green;\n        }    #T_5f5e8310_1f3a_11ea_bd95_40e230ef4681row0_col2 {\n            background-color:  green;\n        }    #T_5f5e8310_1f3a_11ea_bd95_40e230ef4681row1_col0 {\n            background-color:  green;\n        }    #T_5f5e8310_1f3a_11ea_bd95_40e230ef4681row1_col1 {\n            background-color:  green;\n        }    #T_5f5e8310_1f3a_11ea_bd95_40e230ef4681row1_col2 {\n            background-color:  green;\n        }    #T_5f5e8310_1f3a_11ea_bd95_40e230ef4681row2_col0 {\n            background-color:  green;\n        }    #T_5f5e8310_1f3a_11ea_bd95_40e230ef4681row2_col1 {\n            background-color:  green;\n        }    #T_5f5e8310_1f3a_11ea_bd95_40e230ef4681row2_col2 {\n            background-color:  green;\n        }    #T_5f5e8310_1f3a_11ea_bd95_40e230ef4681row3_col0 {\n            background-color:  green;\n        }    #T_5f5e8310_1f3a_11ea_bd95_40e230ef4681row3_col1 {\n            background-color:  green;\n        }    #T_5f5e8310_1f3a_11ea_bd95_40e230ef4681row3_col2 {\n            background-color:  green;\n        }    #T_5f5e8310_1f3a_11ea_bd95_40e230ef4681row7_col0 {\n            background-color:  green;\n        }    #T_5f5e8310_1f3a_11ea_bd95_40e230ef4681row7_col1 {\n            background-color:  green;\n        }    #T_5f5e8310_1f3a_11ea_bd95_40e230ef4681row7_col2 {\n            background-color:  green;\n        }    #T_5f5e8310_1f3a_11ea_bd95_40e230ef4681row8_col0 {\n            background-color:  green;\n        }    #T_5f5e8310_1f3a_11ea_bd95_40e230ef4681row8_col1 {\n            background-color:  green;\n        }    #T_5f5e8310_1f3a_11ea_bd95_40e230ef4681row8_col2 {\n            background-color:  green;\n        }    #T_5f5e8310_1f3a_11ea_bd95_40e230ef4681row11_col0 {\n            background-color:  green;\n        }    #T_5f5e8310_1f3a_11ea_bd95_40e230ef4681row11_col1 {\n            background-color:  green;\n        }    #T_5f5e8310_1f3a_11ea_bd95_40e230ef4681row11_col2 {\n            background-color:  green;\n        }    #T_5f5e8310_1f3a_11ea_bd95_40e230ef4681row13_col0 {\n            background-color:  green;\n        }    #T_5f5e8310_1f3a_11ea_bd95_40e230ef4681row13_col1 {\n            background-color:  green;\n        }    #T_5f5e8310_1f3a_11ea_bd95_40e230ef4681row13_col2 {\n            background-color:  green;\n        }    #T_5f5e8310_1f3a_11ea_bd95_40e230ef4681row16_col0 {\n            background-color:  green;\n        }    #T_5f5e8310_1f3a_11ea_bd95_40e230ef4681row16_col1 {\n            background-color:  green;\n        }    #T_5f5e8310_1f3a_11ea_bd95_40e230ef4681row16_col2 {\n            background-color:  green;\n        }</style><table id=\"T_5f5e8310_1f3a_11ea_bd95_40e230ef4681\" ><thead>    <tr>        <th class=\"blank level0\" ></th>        <th class=\"col_heading level0 col0\" >base</th>        <th class=\"col_heading level0 col1\" >global</th>        <th class=\"col_heading level0 col2\" >soup</th>    </tr></thead><tbody>\n                <tr>\n                        <th id=\"T_5f5e8310_1f3a_11ea_bd95_40e230ef4681level0_row0\" class=\"row_heading level0 row0\" >1czysty-cut</th>\n                        <td id=\"T_5f5e8310_1f3a_11ea_bd95_40e230ef4681row0_col0\" class=\"data row0 col0\" >0.959</td>\n                        <td id=\"T_5f5e8310_1f3a_11ea_bd95_40e230ef4681row0_col1\" class=\"data row0 col1\" >0.9681</td>\n                        <td id=\"T_5f5e8310_1f3a_11ea_bd95_40e230ef4681row0_col2\" class=\"data row0 col2\" >0.9685</td>\n            </tr>\n            <tr>\n                        <th id=\"T_5f5e8310_1f3a_11ea_bd95_40e230ef4681level0_row1\" class=\"row_heading level0 row1\" >2delikatne-cut</th>\n                        <td id=\"T_5f5e8310_1f3a_11ea_bd95_40e230ef4681row1_col0\" class=\"data row1 col0\" >0.679</td>\n                        <td id=\"T_5f5e8310_1f3a_11ea_bd95_40e230ef4681row1_col1\" class=\"data row1 col1\" >0.7251</td>\n                        <td id=\"T_5f5e8310_1f3a_11ea_bd95_40e230ef4681row1_col2\" class=\"data row1 col2\" >0.7706</td>\n            </tr>\n            <tr>\n                        <th id=\"T_5f5e8310_1f3a_11ea_bd95_40e230ef4681level0_row2\" class=\"row_heading level0 row2\" >3mocniej-cut</th>\n                        <td id=\"T_5f5e8310_1f3a_11ea_bd95_40e230ef4681row2_col0\" class=\"data row2 col0\" >0.4081</td>\n                        <td id=\"T_5f5e8310_1f3a_11ea_bd95_40e230ef4681row2_col1\" class=\"data row2 col1\" >0.4893</td>\n                        <td id=\"T_5f5e8310_1f3a_11ea_bd95_40e230ef4681row2_col2\" class=\"data row2 col2\" >0.5319</td>\n            </tr>\n            <tr>\n                        <th id=\"T_5f5e8310_1f3a_11ea_bd95_40e230ef4681level0_row3\" class=\"row_heading level0 row3\" >4delikatne-bezover-cut</th>\n                        <td id=\"T_5f5e8310_1f3a_11ea_bd95_40e230ef4681row3_col0\" class=\"data row3 col0\" >0.7814</td>\n                        <td id=\"T_5f5e8310_1f3a_11ea_bd95_40e230ef4681row3_col1\" class=\"data row3 col1\" >0.8135</td>\n                        <td id=\"T_5f5e8310_1f3a_11ea_bd95_40e230ef4681row3_col2\" class=\"data row3 col2\" >0.8693</td>\n            </tr>\n            <tr>\n                        <th id=\"T_5f5e8310_1f3a_11ea_bd95_40e230ef4681level0_row4\" class=\"row_heading level0 row4\" >balance-scale</th>\n                        <td id=\"T_5f5e8310_1f3a_11ea_bd95_40e230ef4681row4_col0\" class=\"data row4 col0\" >0.0958</td>\n                        <td id=\"T_5f5e8310_1f3a_11ea_bd95_40e230ef4681row4_col1\" class=\"data row4 col1\" >0.0892</td>\n                        <td id=\"T_5f5e8310_1f3a_11ea_bd95_40e230ef4681row4_col2\" class=\"data row4 col2\" >0.5777</td>\n            </tr>\n            <tr>\n                        <th id=\"T_5f5e8310_1f3a_11ea_bd95_40e230ef4681level0_row5\" class=\"row_heading level0 row5\" >cleveland</th>\n                        <td id=\"T_5f5e8310_1f3a_11ea_bd95_40e230ef4681row5_col0\" class=\"data row5 col0\" >0.0343</td>\n                        <td id=\"T_5f5e8310_1f3a_11ea_bd95_40e230ef4681row5_col1\" class=\"data row5 col1\" >0.0631</td>\n                        <td id=\"T_5f5e8310_1f3a_11ea_bd95_40e230ef4681row5_col2\" class=\"data row5 col2\" >0.0688</td>\n            </tr>\n            <tr>\n                        <th id=\"T_5f5e8310_1f3a_11ea_bd95_40e230ef4681level0_row6\" class=\"row_heading level0 row6\" >cleveland_v2</th>\n                        <td id=\"T_5f5e8310_1f3a_11ea_bd95_40e230ef4681row6_col0\" class=\"data row6 col0\" >0.0266</td>\n                        <td id=\"T_5f5e8310_1f3a_11ea_bd95_40e230ef4681row6_col1\" class=\"data row6 col1\" >0.0858</td>\n                        <td id=\"T_5f5e8310_1f3a_11ea_bd95_40e230ef4681row6_col2\" class=\"data row6 col2\" >0.1065</td>\n            </tr>\n            <tr>\n                        <th id=\"T_5f5e8310_1f3a_11ea_bd95_40e230ef4681level0_row7\" class=\"row_heading level0 row7\" >cmc</th>\n                        <td id=\"T_5f5e8310_1f3a_11ea_bd95_40e230ef4681row7_col0\" class=\"data row7 col0\" >0.4095</td>\n                        <td id=\"T_5f5e8310_1f3a_11ea_bd95_40e230ef4681row7_col1\" class=\"data row7 col1\" >0.4326</td>\n                        <td id=\"T_5f5e8310_1f3a_11ea_bd95_40e230ef4681row7_col2\" class=\"data row7 col2\" >0.4551</td>\n            </tr>\n            <tr>\n                        <th id=\"T_5f5e8310_1f3a_11ea_bd95_40e230ef4681level0_row8\" class=\"row_heading level0 row8\" >dermatology</th>\n                        <td id=\"T_5f5e8310_1f3a_11ea_bd95_40e230ef4681row8_col0\" class=\"data row8 col0\" >0.9522</td>\n                        <td id=\"T_5f5e8310_1f3a_11ea_bd95_40e230ef4681row8_col1\" class=\"data row8 col1\" >0.9416</td>\n                        <td id=\"T_5f5e8310_1f3a_11ea_bd95_40e230ef4681row8_col2\" class=\"data row8 col2\" >0.9431</td>\n            </tr>\n            <tr>\n                        <th id=\"T_5f5e8310_1f3a_11ea_bd95_40e230ef4681level0_row9\" class=\"row_heading level0 row9\" >glass</th>\n                        <td id=\"T_5f5e8310_1f3a_11ea_bd95_40e230ef4681row9_col0\" class=\"data row9 col0\" >0.222</td>\n                        <td id=\"T_5f5e8310_1f3a_11ea_bd95_40e230ef4681row9_col1\" class=\"data row9 col1\" >0.4073</td>\n                        <td id=\"T_5f5e8310_1f3a_11ea_bd95_40e230ef4681row9_col2\" class=\"data row9 col2\" >0.5154</td>\n            </tr>\n            <tr>\n                        <th id=\"T_5f5e8310_1f3a_11ea_bd95_40e230ef4681level0_row10\" class=\"row_heading level0 row10\" >hayes-roth</th>\n                        <td id=\"T_5f5e8310_1f3a_11ea_bd95_40e230ef4681row10_col0\" class=\"data row10 col0\" >0.4898</td>\n                        <td id=\"T_5f5e8310_1f3a_11ea_bd95_40e230ef4681row10_col1\" class=\"data row10 col1\" >0.6732</td>\n                        <td id=\"T_5f5e8310_1f3a_11ea_bd95_40e230ef4681row10_col2\" class=\"data row10 col2\" >0.5563</td>\n            </tr>\n            <tr>\n                        <th id=\"T_5f5e8310_1f3a_11ea_bd95_40e230ef4681level0_row11\" class=\"row_heading level0 row11\" >new_ecoli</th>\n                        <td id=\"T_5f5e8310_1f3a_11ea_bd95_40e230ef4681row11_col0\" class=\"data row11 col0\" >0.7112</td>\n                        <td id=\"T_5f5e8310_1f3a_11ea_bd95_40e230ef4681row11_col1\" class=\"data row11 col1\" >0.7118</td>\n                        <td id=\"T_5f5e8310_1f3a_11ea_bd95_40e230ef4681row11_col2\" class=\"data row11 col2\" >0.7678</td>\n            </tr>\n            <tr>\n                        <th id=\"T_5f5e8310_1f3a_11ea_bd95_40e230ef4681level0_row12\" class=\"row_heading level0 row12\" >new_led7digit</th>\n                        <td id=\"T_5f5e8310_1f3a_11ea_bd95_40e230ef4681row12_col0\" class=\"data row12 col0\" >0.7488</td>\n                        <td id=\"T_5f5e8310_1f3a_11ea_bd95_40e230ef4681row12_col1\" class=\"data row12 col1\" >0.3092</td>\n                        <td id=\"T_5f5e8310_1f3a_11ea_bd95_40e230ef4681row12_col2\" class=\"data row12 col2\" >0.7404</td>\n            </tr>\n            <tr>\n                        <th id=\"T_5f5e8310_1f3a_11ea_bd95_40e230ef4681level0_row13\" class=\"row_heading level0 row13\" >new_vehicle</th>\n                        <td id=\"T_5f5e8310_1f3a_11ea_bd95_40e230ef4681row13_col0\" class=\"data row13 col0\" >0.9236</td>\n                        <td id=\"T_5f5e8310_1f3a_11ea_bd95_40e230ef4681row13_col1\" class=\"data row13 col1\" >0.9234</td>\n                        <td id=\"T_5f5e8310_1f3a_11ea_bd95_40e230ef4681row13_col2\" class=\"data row13 col2\" >0.9011</td>\n            </tr>\n            <tr>\n                        <th id=\"T_5f5e8310_1f3a_11ea_bd95_40e230ef4681level0_row14\" class=\"row_heading level0 row14\" >new_winequality-red</th>\n                        <td id=\"T_5f5e8310_1f3a_11ea_bd95_40e230ef4681row14_col0\" class=\"data row14 col0\" >0.2095</td>\n                        <td id=\"T_5f5e8310_1f3a_11ea_bd95_40e230ef4681row14_col1\" class=\"data row14 col1\" >0.4722</td>\n                        <td id=\"T_5f5e8310_1f3a_11ea_bd95_40e230ef4681row14_col2\" class=\"data row14 col2\" >0.4664</td>\n            </tr>\n            <tr>\n                        <th id=\"T_5f5e8310_1f3a_11ea_bd95_40e230ef4681level0_row15\" class=\"row_heading level0 row15\" >new_yeast</th>\n                        <td id=\"T_5f5e8310_1f3a_11ea_bd95_40e230ef4681row15_col0\" class=\"data row15 col0\" >0.2062</td>\n                        <td id=\"T_5f5e8310_1f3a_11ea_bd95_40e230ef4681row15_col1\" class=\"data row15 col1\" >0.2961</td>\n                        <td id=\"T_5f5e8310_1f3a_11ea_bd95_40e230ef4681row15_col2\" class=\"data row15 col2\" >0.3414</td>\n            </tr>\n            <tr>\n                        <th id=\"T_5f5e8310_1f3a_11ea_bd95_40e230ef4681level0_row16\" class=\"row_heading level0 row16\" >thyroid-newthyroid</th>\n                        <td id=\"T_5f5e8310_1f3a_11ea_bd95_40e230ef4681row16_col0\" class=\"data row16 col0\" >0.9027</td>\n                        <td id=\"T_5f5e8310_1f3a_11ea_bd95_40e230ef4681row16_col1\" class=\"data row16 col1\" >0.9453</td>\n                        <td id=\"T_5f5e8310_1f3a_11ea_bd95_40e230ef4681row16_col2\" class=\"data row16 col2\" >0.9397</td>\n            </tr>\n    </tbody></table>"
     },
     "metadata": {},
     "output_type": "display_data"
    }
   ],
   "source": [
    "def green_valid_backgroud(s):\n",
    "    correct = ['1czysty-cut', '2delikatne-cut', '3mocniej-cut','4delikatne-bezover-cut', 'cmc', 'dermatology', 'new_ecoli','new_vehicle','thyroid-newthyroid']\n",
    "    return ['background-color: green' if v in correct else '' for v in list(s.index)]\n",
    "\n",
    "def print_scores(scores, only_read_dt = False):\n",
    "    display(\"G-MEAN\")\n",
    "    df = pd.DataFrame(scores).T\n",
    "    if only_read_dt:\n",
    "        df = df.iloc[4:]\n",
    "    df = df.style.apply(green_valid_backgroud)\n",
    "    display(df)\n",
    "    \n",
    "    # df.fillna(df.median(), inplace=True)\n",
    "    # display(pd.DataFrame(df.mean().sort_values(ascending=False),columns=['Mean G-mean']))\n",
    "    # display(pd.DataFrame(df.rank(axis=1,ascending=False).mean().sort_values(),columns=['Mean rank']))\n",
    "print_scores(scores_knn)\n"
   ]
  },
  {
   "cell_type": "markdown",
   "metadata": {
    "pycharm": {
     "name": "#%% md\n"
    }
   },
   "source": [
    "### Wszystkie zbiory danych:\n",
    "#### Drzewo"
   ]
  },
  {
   "cell_type": "code",
   "execution_count": 21,
   "metadata": {
    "pycharm": {
     "is_executing": false,
     "name": "#%%\n"
    }
   },
   "outputs": [
    {
     "data": {
      "text/plain": "'G-MEAN'"
     },
     "metadata": {},
     "output_type": "display_data"
    },
    {
     "data": {
      "text/plain": "                        base  global  soup\n1czysty-cut              NaN     NaN   NaN\n2delikatne-cut           NaN     NaN   NaN\n3mocniej-cut             NaN     NaN   NaN\n4delikatne-bezover-cut   NaN     NaN   NaN\nbalance-scale            NaN     NaN   NaN\ncleveland                NaN     NaN   NaN\ncleveland_v2             NaN     NaN   NaN\ncmc                      NaN     NaN   NaN\ndermatology              NaN     NaN   NaN\nglass                    NaN     NaN   NaN\nhayes-roth               NaN     NaN   NaN\nnew_ecoli                NaN     NaN   NaN\nnew_led7digit            NaN     NaN   NaN\nnew_vehicle              NaN     NaN   NaN\nnew_winequality-red      NaN     NaN   NaN\nnew_yeast                NaN     NaN   NaN\nthyroid-newthyroid       NaN     NaN   NaN",
      "text/html": "<div>\n<style scoped>\n    .dataframe tbody tr th:only-of-type {\n        vertical-align: middle;\n    }\n\n    .dataframe tbody tr th {\n        vertical-align: top;\n    }\n\n    .dataframe thead th {\n        text-align: right;\n    }\n</style>\n<table border=\"1\" class=\"dataframe\">\n  <thead>\n    <tr style=\"text-align: right;\">\n      <th></th>\n      <th>base</th>\n      <th>global</th>\n      <th>soup</th>\n    </tr>\n  </thead>\n  <tbody>\n    <tr>\n      <th>1czysty-cut</th>\n      <td>NaN</td>\n      <td>NaN</td>\n      <td>NaN</td>\n    </tr>\n    <tr>\n      <th>2delikatne-cut</th>\n      <td>NaN</td>\n      <td>NaN</td>\n      <td>NaN</td>\n    </tr>\n    <tr>\n      <th>3mocniej-cut</th>\n      <td>NaN</td>\n      <td>NaN</td>\n      <td>NaN</td>\n    </tr>\n    <tr>\n      <th>4delikatne-bezover-cut</th>\n      <td>NaN</td>\n      <td>NaN</td>\n      <td>NaN</td>\n    </tr>\n    <tr>\n      <th>balance-scale</th>\n      <td>NaN</td>\n      <td>NaN</td>\n      <td>NaN</td>\n    </tr>\n    <tr>\n      <th>cleveland</th>\n      <td>NaN</td>\n      <td>NaN</td>\n      <td>NaN</td>\n    </tr>\n    <tr>\n      <th>cleveland_v2</th>\n      <td>NaN</td>\n      <td>NaN</td>\n      <td>NaN</td>\n    </tr>\n    <tr>\n      <th>cmc</th>\n      <td>NaN</td>\n      <td>NaN</td>\n      <td>NaN</td>\n    </tr>\n    <tr>\n      <th>dermatology</th>\n      <td>NaN</td>\n      <td>NaN</td>\n      <td>NaN</td>\n    </tr>\n    <tr>\n      <th>glass</th>\n      <td>NaN</td>\n      <td>NaN</td>\n      <td>NaN</td>\n    </tr>\n    <tr>\n      <th>hayes-roth</th>\n      <td>NaN</td>\n      <td>NaN</td>\n      <td>NaN</td>\n    </tr>\n    <tr>\n      <th>new_ecoli</th>\n      <td>NaN</td>\n      <td>NaN</td>\n      <td>NaN</td>\n    </tr>\n    <tr>\n      <th>new_led7digit</th>\n      <td>NaN</td>\n      <td>NaN</td>\n      <td>NaN</td>\n    </tr>\n    <tr>\n      <th>new_vehicle</th>\n      <td>NaN</td>\n      <td>NaN</td>\n      <td>NaN</td>\n    </tr>\n    <tr>\n      <th>new_winequality-red</th>\n      <td>NaN</td>\n      <td>NaN</td>\n      <td>NaN</td>\n    </tr>\n    <tr>\n      <th>new_yeast</th>\n      <td>NaN</td>\n      <td>NaN</td>\n      <td>NaN</td>\n    </tr>\n    <tr>\n      <th>thyroid-newthyroid</th>\n      <td>NaN</td>\n      <td>NaN</td>\n      <td>NaN</td>\n    </tr>\n  </tbody>\n</table>\n</div>"
     },
     "metadata": {},
     "output_type": "display_data"
    },
    {
     "data": {
      "text/plain": "        Mean G-mean\nbase            NaN\nglobal          NaN\nsoup            NaN",
      "text/html": "<div>\n<style scoped>\n    .dataframe tbody tr th:only-of-type {\n        vertical-align: middle;\n    }\n\n    .dataframe tbody tr th {\n        vertical-align: top;\n    }\n\n    .dataframe thead th {\n        text-align: right;\n    }\n</style>\n<table border=\"1\" class=\"dataframe\">\n  <thead>\n    <tr style=\"text-align: right;\">\n      <th></th>\n      <th>Mean G-mean</th>\n    </tr>\n  </thead>\n  <tbody>\n    <tr>\n      <th>base</th>\n      <td>NaN</td>\n    </tr>\n    <tr>\n      <th>global</th>\n      <td>NaN</td>\n    </tr>\n    <tr>\n      <th>soup</th>\n      <td>NaN</td>\n    </tr>\n  </tbody>\n</table>\n</div>"
     },
     "metadata": {},
     "output_type": "display_data"
    },
    {
     "data": {
      "text/plain": "        Mean rank\nbase          NaN\nglobal        NaN\nsoup          NaN",
      "text/html": "<div>\n<style scoped>\n    .dataframe tbody tr th:only-of-type {\n        vertical-align: middle;\n    }\n\n    .dataframe tbody tr th {\n        vertical-align: top;\n    }\n\n    .dataframe thead th {\n        text-align: right;\n    }\n</style>\n<table border=\"1\" class=\"dataframe\">\n  <thead>\n    <tr style=\"text-align: right;\">\n      <th></th>\n      <th>Mean rank</th>\n    </tr>\n  </thead>\n  <tbody>\n    <tr>\n      <th>base</th>\n      <td>NaN</td>\n    </tr>\n    <tr>\n      <th>global</th>\n      <td>NaN</td>\n    </tr>\n    <tr>\n      <th>soup</th>\n      <td>NaN</td>\n    </tr>\n  </tbody>\n</table>\n</div>"
     },
     "metadata": {},
     "output_type": "display_data"
    }
   ],
   "source": [
    "print_scores(scores_tree)\n"
   ]
  },
  {
   "cell_type": "markdown",
   "metadata": {
    "pycharm": {
     "name": "#%% md\n"
    }
   },
   "source": [
    "#### kNN - 5"
   ]
  },
  {
   "cell_type": "code",
   "execution_count": 22,
   "metadata": {
    "pycharm": {
     "is_executing": false,
     "name": "#%%\n"
    }
   },
   "outputs": [
    {
     "data": {
      "text/plain": "'G-MEAN'"
     },
     "metadata": {},
     "output_type": "display_data"
    },
    {
     "data": {
      "text/plain": "                         base  global   soup\n1czysty-cut             0.959   0.968  0.960\n2delikatne-cut          0.679   0.725  0.779\n3mocniej-cut            0.408   0.489  0.533\n4delikatne-bezover-cut  0.781   0.813  0.889\nbalance-scale           0.096   0.089  0.690\ncleveland               0.034   0.063  0.077\ncleveland_v2            0.027   0.086  0.108\ncmc                     0.410   0.433  0.452\ndermatology             0.952   0.942  0.944\nglass                   0.222   0.407  0.482\nhayes-roth              0.490   0.673  0.503\nnew_ecoli               0.711   0.712  0.763\nnew_led7digit           0.749   0.309  0.735\nnew_vehicle             0.924   0.923  0.888\nnew_winequality-red     0.210   0.472  0.466\nnew_yeast               0.206   0.296  0.338\nthyroid-newthyroid      0.903   0.945  0.939",
      "text/html": "<div>\n<style scoped>\n    .dataframe tbody tr th:only-of-type {\n        vertical-align: middle;\n    }\n\n    .dataframe tbody tr th {\n        vertical-align: top;\n    }\n\n    .dataframe thead th {\n        text-align: right;\n    }\n</style>\n<table border=\"1\" class=\"dataframe\">\n  <thead>\n    <tr style=\"text-align: right;\">\n      <th></th>\n      <th>base</th>\n      <th>global</th>\n      <th>soup</th>\n    </tr>\n  </thead>\n  <tbody>\n    <tr>\n      <th>1czysty-cut</th>\n      <td>0.959</td>\n      <td>0.968</td>\n      <td>0.960</td>\n    </tr>\n    <tr>\n      <th>2delikatne-cut</th>\n      <td>0.679</td>\n      <td>0.725</td>\n      <td>0.779</td>\n    </tr>\n    <tr>\n      <th>3mocniej-cut</th>\n      <td>0.408</td>\n      <td>0.489</td>\n      <td>0.533</td>\n    </tr>\n    <tr>\n      <th>4delikatne-bezover-cut</th>\n      <td>0.781</td>\n      <td>0.813</td>\n      <td>0.889</td>\n    </tr>\n    <tr>\n      <th>balance-scale</th>\n      <td>0.096</td>\n      <td>0.089</td>\n      <td>0.690</td>\n    </tr>\n    <tr>\n      <th>cleveland</th>\n      <td>0.034</td>\n      <td>0.063</td>\n      <td>0.077</td>\n    </tr>\n    <tr>\n      <th>cleveland_v2</th>\n      <td>0.027</td>\n      <td>0.086</td>\n      <td>0.108</td>\n    </tr>\n    <tr>\n      <th>cmc</th>\n      <td>0.410</td>\n      <td>0.433</td>\n      <td>0.452</td>\n    </tr>\n    <tr>\n      <th>dermatology</th>\n      <td>0.952</td>\n      <td>0.942</td>\n      <td>0.944</td>\n    </tr>\n    <tr>\n      <th>glass</th>\n      <td>0.222</td>\n      <td>0.407</td>\n      <td>0.482</td>\n    </tr>\n    <tr>\n      <th>hayes-roth</th>\n      <td>0.490</td>\n      <td>0.673</td>\n      <td>0.503</td>\n    </tr>\n    <tr>\n      <th>new_ecoli</th>\n      <td>0.711</td>\n      <td>0.712</td>\n      <td>0.763</td>\n    </tr>\n    <tr>\n      <th>new_led7digit</th>\n      <td>0.749</td>\n      <td>0.309</td>\n      <td>0.735</td>\n    </tr>\n    <tr>\n      <th>new_vehicle</th>\n      <td>0.924</td>\n      <td>0.923</td>\n      <td>0.888</td>\n    </tr>\n    <tr>\n      <th>new_winequality-red</th>\n      <td>0.210</td>\n      <td>0.472</td>\n      <td>0.466</td>\n    </tr>\n    <tr>\n      <th>new_yeast</th>\n      <td>0.206</td>\n      <td>0.296</td>\n      <td>0.338</td>\n    </tr>\n    <tr>\n      <th>thyroid-newthyroid</th>\n      <td>0.903</td>\n      <td>0.945</td>\n      <td>0.939</td>\n    </tr>\n  </tbody>\n</table>\n</div>"
     },
     "metadata": {},
     "output_type": "display_data"
    },
    {
     "data": {
      "text/plain": "        Mean G-mean\nsoup       0.620353\nglobal     0.549706\nbase       0.515353",
      "text/html": "<div>\n<style scoped>\n    .dataframe tbody tr th:only-of-type {\n        vertical-align: middle;\n    }\n\n    .dataframe tbody tr th {\n        vertical-align: top;\n    }\n\n    .dataframe thead th {\n        text-align: right;\n    }\n</style>\n<table border=\"1\" class=\"dataframe\">\n  <thead>\n    <tr style=\"text-align: right;\">\n      <th></th>\n      <th>Mean G-mean</th>\n    </tr>\n  </thead>\n  <tbody>\n    <tr>\n      <th>soup</th>\n      <td>0.620353</td>\n    </tr>\n    <tr>\n      <th>global</th>\n      <td>0.549706</td>\n    </tr>\n    <tr>\n      <th>base</th>\n      <td>0.515353</td>\n    </tr>\n  </tbody>\n</table>\n</div>"
     },
     "metadata": {},
     "output_type": "display_data"
    },
    {
     "data": {
      "text/plain": "        Mean rank\nsoup     1.470588\nglobal   1.941176\nbase     2.588235",
      "text/html": "<div>\n<style scoped>\n    .dataframe tbody tr th:only-of-type {\n        vertical-align: middle;\n    }\n\n    .dataframe tbody tr th {\n        vertical-align: top;\n    }\n\n    .dataframe thead th {\n        text-align: right;\n    }\n</style>\n<table border=\"1\" class=\"dataframe\">\n  <thead>\n    <tr style=\"text-align: right;\">\n      <th></th>\n      <th>Mean rank</th>\n    </tr>\n  </thead>\n  <tbody>\n    <tr>\n      <th>soup</th>\n      <td>1.470588</td>\n    </tr>\n    <tr>\n      <th>global</th>\n      <td>1.941176</td>\n    </tr>\n    <tr>\n      <th>base</th>\n      <td>2.588235</td>\n    </tr>\n  </tbody>\n</table>\n</div>"
     },
     "metadata": {},
     "output_type": "display_data"
    },
    {
     "data": {
      "text/plain": "'G-MEAN'"
     },
     "metadata": {},
     "output_type": "display_data"
    },
    {
     "data": {
      "text/plain": "                         base  global   soup\n1czysty-cut             0.960   0.969  0.961\n2delikatne-cut          0.710   0.739  0.784\n3mocniej-cut            0.506   0.530  0.556\n4delikatne-bezover-cut  0.791   0.819  0.899\nbalance-scale           0.584   0.525  0.706\ncleveland               0.295   0.305  0.318\ncleveland_v2            0.297   0.339  0.361\ncmc                     0.428   0.439  0.458\ndermatology             0.957   0.948  0.949\nglass                   0.623   0.684  0.678\nhayes-roth              0.594   0.706  0.551\nnew_ecoli               0.790   0.771  0.793\nnew_led7digit           0.777   0.677  0.755\nnew_vehicle             0.925   0.925  0.893\nnew_winequality-red     0.445   0.523  0.497\nnew_yeast               0.490   0.501  0.515\nthyroid-newthyroid      0.922   0.953  0.946",
      "text/html": "<div>\n<style scoped>\n    .dataframe tbody tr th:only-of-type {\n        vertical-align: middle;\n    }\n\n    .dataframe tbody tr th {\n        vertical-align: top;\n    }\n\n    .dataframe thead th {\n        text-align: right;\n    }\n</style>\n<table border=\"1\" class=\"dataframe\">\n  <thead>\n    <tr style=\"text-align: right;\">\n      <th></th>\n      <th>base</th>\n      <th>global</th>\n      <th>soup</th>\n    </tr>\n  </thead>\n  <tbody>\n    <tr>\n      <th>1czysty-cut</th>\n      <td>0.960</td>\n      <td>0.969</td>\n      <td>0.961</td>\n    </tr>\n    <tr>\n      <th>2delikatne-cut</th>\n      <td>0.710</td>\n      <td>0.739</td>\n      <td>0.784</td>\n    </tr>\n    <tr>\n      <th>3mocniej-cut</th>\n      <td>0.506</td>\n      <td>0.530</td>\n      <td>0.556</td>\n    </tr>\n    <tr>\n      <th>4delikatne-bezover-cut</th>\n      <td>0.791</td>\n      <td>0.819</td>\n      <td>0.899</td>\n    </tr>\n    <tr>\n      <th>balance-scale</th>\n      <td>0.584</td>\n      <td>0.525</td>\n      <td>0.706</td>\n    </tr>\n    <tr>\n      <th>cleveland</th>\n      <td>0.295</td>\n      <td>0.305</td>\n      <td>0.318</td>\n    </tr>\n    <tr>\n      <th>cleveland_v2</th>\n      <td>0.297</td>\n      <td>0.339</td>\n      <td>0.361</td>\n    </tr>\n    <tr>\n      <th>cmc</th>\n      <td>0.428</td>\n      <td>0.439</td>\n      <td>0.458</td>\n    </tr>\n    <tr>\n      <th>dermatology</th>\n      <td>0.957</td>\n      <td>0.948</td>\n      <td>0.949</td>\n    </tr>\n    <tr>\n      <th>glass</th>\n      <td>0.623</td>\n      <td>0.684</td>\n      <td>0.678</td>\n    </tr>\n    <tr>\n      <th>hayes-roth</th>\n      <td>0.594</td>\n      <td>0.706</td>\n      <td>0.551</td>\n    </tr>\n    <tr>\n      <th>new_ecoli</th>\n      <td>0.790</td>\n      <td>0.771</td>\n      <td>0.793</td>\n    </tr>\n    <tr>\n      <th>new_led7digit</th>\n      <td>0.777</td>\n      <td>0.677</td>\n      <td>0.755</td>\n    </tr>\n    <tr>\n      <th>new_vehicle</th>\n      <td>0.925</td>\n      <td>0.925</td>\n      <td>0.893</td>\n    </tr>\n    <tr>\n      <th>new_winequality-red</th>\n      <td>0.445</td>\n      <td>0.523</td>\n      <td>0.497</td>\n    </tr>\n    <tr>\n      <th>new_yeast</th>\n      <td>0.490</td>\n      <td>0.501</td>\n      <td>0.515</td>\n    </tr>\n    <tr>\n      <th>thyroid-newthyroid</th>\n      <td>0.922</td>\n      <td>0.953</td>\n      <td>0.946</td>\n    </tr>\n  </tbody>\n</table>\n</div>"
     },
     "metadata": {},
     "output_type": "display_data"
    },
    {
     "data": {
      "text/plain": "        Mean G-mean\nsoup       0.683529\nglobal     0.667824\nbase       0.652588",
      "text/html": "<div>\n<style scoped>\n    .dataframe tbody tr th:only-of-type {\n        vertical-align: middle;\n    }\n\n    .dataframe tbody tr th {\n        vertical-align: top;\n    }\n\n    .dataframe thead th {\n        text-align: right;\n    }\n</style>\n<table border=\"1\" class=\"dataframe\">\n  <thead>\n    <tr style=\"text-align: right;\">\n      <th></th>\n      <th>Mean G-mean</th>\n    </tr>\n  </thead>\n  <tbody>\n    <tr>\n      <th>soup</th>\n      <td>0.683529</td>\n    </tr>\n    <tr>\n      <th>global</th>\n      <td>0.667824</td>\n    </tr>\n    <tr>\n      <th>base</th>\n      <td>0.652588</td>\n    </tr>\n  </tbody>\n</table>\n</div>"
     },
     "metadata": {},
     "output_type": "display_data"
    },
    {
     "data": {
      "text/plain": "        Mean rank\nsoup     1.588235\nglobal   1.911765\nbase     2.500000",
      "text/html": "<div>\n<style scoped>\n    .dataframe tbody tr th:only-of-type {\n        vertical-align: middle;\n    }\n\n    .dataframe tbody tr th {\n        vertical-align: top;\n    }\n\n    .dataframe thead th {\n        text-align: right;\n    }\n</style>\n<table border=\"1\" class=\"dataframe\">\n  <thead>\n    <tr style=\"text-align: right;\">\n      <th></th>\n      <th>Mean rank</th>\n    </tr>\n  </thead>\n  <tbody>\n    <tr>\n      <th>soup</th>\n      <td>1.588235</td>\n    </tr>\n    <tr>\n      <th>global</th>\n      <td>1.911765</td>\n    </tr>\n    <tr>\n      <th>base</th>\n      <td>2.500000</td>\n    </tr>\n  </tbody>\n</table>\n</div>"
     },
     "metadata": {},
     "output_type": "display_data"
    }
   ],
   "source": [
    "print_scores(scores_knn)\n",
    "print_scores(avg_acc)\n"
   ]
  },
  {
   "cell_type": "markdown",
   "metadata": {},
   "source": [
    "### Rzeczywiste zbiory danych\n",
    "#### Drzewo"
   ]
  },
  {
   "cell_type": "code",
   "execution_count": 23,
   "metadata": {
    "pycharm": {
     "is_executing": false,
     "name": "#%%\n"
    }
   },
   "outputs": [
    {
     "data": {
      "text/plain": "'G-MEAN'"
     },
     "metadata": {},
     "output_type": "display_data"
    },
    {
     "data": {
      "text/plain": "                     base  global  soup\nbalance-scale         NaN     NaN   NaN\ncleveland             NaN     NaN   NaN\ncleveland_v2          NaN     NaN   NaN\ncmc                   NaN     NaN   NaN\ndermatology           NaN     NaN   NaN\nglass                 NaN     NaN   NaN\nhayes-roth            NaN     NaN   NaN\nnew_ecoli             NaN     NaN   NaN\nnew_led7digit         NaN     NaN   NaN\nnew_vehicle           NaN     NaN   NaN\nnew_winequality-red   NaN     NaN   NaN\nnew_yeast             NaN     NaN   NaN\nthyroid-newthyroid    NaN     NaN   NaN",
      "text/html": "<div>\n<style scoped>\n    .dataframe tbody tr th:only-of-type {\n        vertical-align: middle;\n    }\n\n    .dataframe tbody tr th {\n        vertical-align: top;\n    }\n\n    .dataframe thead th {\n        text-align: right;\n    }\n</style>\n<table border=\"1\" class=\"dataframe\">\n  <thead>\n    <tr style=\"text-align: right;\">\n      <th></th>\n      <th>base</th>\n      <th>global</th>\n      <th>soup</th>\n    </tr>\n  </thead>\n  <tbody>\n    <tr>\n      <th>balance-scale</th>\n      <td>NaN</td>\n      <td>NaN</td>\n      <td>NaN</td>\n    </tr>\n    <tr>\n      <th>cleveland</th>\n      <td>NaN</td>\n      <td>NaN</td>\n      <td>NaN</td>\n    </tr>\n    <tr>\n      <th>cleveland_v2</th>\n      <td>NaN</td>\n      <td>NaN</td>\n      <td>NaN</td>\n    </tr>\n    <tr>\n      <th>cmc</th>\n      <td>NaN</td>\n      <td>NaN</td>\n      <td>NaN</td>\n    </tr>\n    <tr>\n      <th>dermatology</th>\n      <td>NaN</td>\n      <td>NaN</td>\n      <td>NaN</td>\n    </tr>\n    <tr>\n      <th>glass</th>\n      <td>NaN</td>\n      <td>NaN</td>\n      <td>NaN</td>\n    </tr>\n    <tr>\n      <th>hayes-roth</th>\n      <td>NaN</td>\n      <td>NaN</td>\n      <td>NaN</td>\n    </tr>\n    <tr>\n      <th>new_ecoli</th>\n      <td>NaN</td>\n      <td>NaN</td>\n      <td>NaN</td>\n    </tr>\n    <tr>\n      <th>new_led7digit</th>\n      <td>NaN</td>\n      <td>NaN</td>\n      <td>NaN</td>\n    </tr>\n    <tr>\n      <th>new_vehicle</th>\n      <td>NaN</td>\n      <td>NaN</td>\n      <td>NaN</td>\n    </tr>\n    <tr>\n      <th>new_winequality-red</th>\n      <td>NaN</td>\n      <td>NaN</td>\n      <td>NaN</td>\n    </tr>\n    <tr>\n      <th>new_yeast</th>\n      <td>NaN</td>\n      <td>NaN</td>\n      <td>NaN</td>\n    </tr>\n    <tr>\n      <th>thyroid-newthyroid</th>\n      <td>NaN</td>\n      <td>NaN</td>\n      <td>NaN</td>\n    </tr>\n  </tbody>\n</table>\n</div>"
     },
     "metadata": {},
     "output_type": "display_data"
    },
    {
     "data": {
      "text/plain": "        Mean G-mean\nbase            NaN\nglobal          NaN\nsoup            NaN",
      "text/html": "<div>\n<style scoped>\n    .dataframe tbody tr th:only-of-type {\n        vertical-align: middle;\n    }\n\n    .dataframe tbody tr th {\n        vertical-align: top;\n    }\n\n    .dataframe thead th {\n        text-align: right;\n    }\n</style>\n<table border=\"1\" class=\"dataframe\">\n  <thead>\n    <tr style=\"text-align: right;\">\n      <th></th>\n      <th>Mean G-mean</th>\n    </tr>\n  </thead>\n  <tbody>\n    <tr>\n      <th>base</th>\n      <td>NaN</td>\n    </tr>\n    <tr>\n      <th>global</th>\n      <td>NaN</td>\n    </tr>\n    <tr>\n      <th>soup</th>\n      <td>NaN</td>\n    </tr>\n  </tbody>\n</table>\n</div>"
     },
     "metadata": {},
     "output_type": "display_data"
    },
    {
     "data": {
      "text/plain": "        Mean rank\nbase          NaN\nglobal        NaN\nsoup          NaN",
      "text/html": "<div>\n<style scoped>\n    .dataframe tbody tr th:only-of-type {\n        vertical-align: middle;\n    }\n\n    .dataframe tbody tr th {\n        vertical-align: top;\n    }\n\n    .dataframe thead th {\n        text-align: right;\n    }\n</style>\n<table border=\"1\" class=\"dataframe\">\n  <thead>\n    <tr style=\"text-align: right;\">\n      <th></th>\n      <th>Mean rank</th>\n    </tr>\n  </thead>\n  <tbody>\n    <tr>\n      <th>base</th>\n      <td>NaN</td>\n    </tr>\n    <tr>\n      <th>global</th>\n      <td>NaN</td>\n    </tr>\n    <tr>\n      <th>soup</th>\n      <td>NaN</td>\n    </tr>\n  </tbody>\n</table>\n</div>"
     },
     "metadata": {},
     "output_type": "display_data"
    }
   ],
   "source": [
    "print_scores(scores_tree,only_read_dt=True)\n"
   ]
  },
  {
   "cell_type": "markdown",
   "metadata": {
    "pycharm": {
     "name": "#%% md\n"
    }
   },
   "source": [
    "#### kNN"
   ]
  },
  {
   "cell_type": "code",
   "execution_count": 24,
   "metadata": {
    "pycharm": {
     "is_executing": false,
     "name": "#%%\n"
    }
   },
   "outputs": [
    {
     "data": {
      "text/plain": "'G-MEAN'"
     },
     "metadata": {},
     "output_type": "display_data"
    },
    {
     "data": {
      "text/plain": "                      base  global   soup\nbalance-scale        0.096   0.089  0.690\ncleveland            0.034   0.063  0.077\ncleveland_v2         0.027   0.086  0.108\ncmc                  0.410   0.433  0.452\ndermatology          0.952   0.942  0.944\nglass                0.222   0.407  0.482\nhayes-roth           0.490   0.673  0.503\nnew_ecoli            0.711   0.712  0.763\nnew_led7digit        0.749   0.309  0.735\nnew_vehicle          0.924   0.923  0.888\nnew_winequality-red  0.210   0.472  0.466\nnew_yeast            0.206   0.296  0.338\nthyroid-newthyroid   0.903   0.945  0.939",
      "text/html": "<div>\n<style scoped>\n    .dataframe tbody tr th:only-of-type {\n        vertical-align: middle;\n    }\n\n    .dataframe tbody tr th {\n        vertical-align: top;\n    }\n\n    .dataframe thead th {\n        text-align: right;\n    }\n</style>\n<table border=\"1\" class=\"dataframe\">\n  <thead>\n    <tr style=\"text-align: right;\">\n      <th></th>\n      <th>base</th>\n      <th>global</th>\n      <th>soup</th>\n    </tr>\n  </thead>\n  <tbody>\n    <tr>\n      <th>balance-scale</th>\n      <td>0.096</td>\n      <td>0.089</td>\n      <td>0.690</td>\n    </tr>\n    <tr>\n      <th>cleveland</th>\n      <td>0.034</td>\n      <td>0.063</td>\n      <td>0.077</td>\n    </tr>\n    <tr>\n      <th>cleveland_v2</th>\n      <td>0.027</td>\n      <td>0.086</td>\n      <td>0.108</td>\n    </tr>\n    <tr>\n      <th>cmc</th>\n      <td>0.410</td>\n      <td>0.433</td>\n      <td>0.452</td>\n    </tr>\n    <tr>\n      <th>dermatology</th>\n      <td>0.952</td>\n      <td>0.942</td>\n      <td>0.944</td>\n    </tr>\n    <tr>\n      <th>glass</th>\n      <td>0.222</td>\n      <td>0.407</td>\n      <td>0.482</td>\n    </tr>\n    <tr>\n      <th>hayes-roth</th>\n      <td>0.490</td>\n      <td>0.673</td>\n      <td>0.503</td>\n    </tr>\n    <tr>\n      <th>new_ecoli</th>\n      <td>0.711</td>\n      <td>0.712</td>\n      <td>0.763</td>\n    </tr>\n    <tr>\n      <th>new_led7digit</th>\n      <td>0.749</td>\n      <td>0.309</td>\n      <td>0.735</td>\n    </tr>\n    <tr>\n      <th>new_vehicle</th>\n      <td>0.924</td>\n      <td>0.923</td>\n      <td>0.888</td>\n    </tr>\n    <tr>\n      <th>new_winequality-red</th>\n      <td>0.210</td>\n      <td>0.472</td>\n      <td>0.466</td>\n    </tr>\n    <tr>\n      <th>new_yeast</th>\n      <td>0.206</td>\n      <td>0.296</td>\n      <td>0.338</td>\n    </tr>\n    <tr>\n      <th>thyroid-newthyroid</th>\n      <td>0.903</td>\n      <td>0.945</td>\n      <td>0.939</td>\n    </tr>\n  </tbody>\n</table>\n</div>"
     },
     "metadata": {},
     "output_type": "display_data"
    },
    {
     "data": {
      "text/plain": "        Mean G-mean\nsoup       0.568077\nglobal     0.488462\nbase       0.456462",
      "text/html": "<div>\n<style scoped>\n    .dataframe tbody tr th:only-of-type {\n        vertical-align: middle;\n    }\n\n    .dataframe tbody tr th {\n        vertical-align: top;\n    }\n\n    .dataframe thead th {\n        text-align: right;\n    }\n</style>\n<table border=\"1\" class=\"dataframe\">\n  <thead>\n    <tr style=\"text-align: right;\">\n      <th></th>\n      <th>Mean G-mean</th>\n    </tr>\n  </thead>\n  <tbody>\n    <tr>\n      <th>soup</th>\n      <td>0.568077</td>\n    </tr>\n    <tr>\n      <th>global</th>\n      <td>0.488462</td>\n    </tr>\n    <tr>\n      <th>base</th>\n      <td>0.456462</td>\n    </tr>\n  </tbody>\n</table>\n</div>"
     },
     "metadata": {},
     "output_type": "display_data"
    },
    {
     "data": {
      "text/plain": "        Mean rank\nsoup     1.538462\nglobal   2.000000\nbase     2.461538",
      "text/html": "<div>\n<style scoped>\n    .dataframe tbody tr th:only-of-type {\n        vertical-align: middle;\n    }\n\n    .dataframe tbody tr th {\n        vertical-align: top;\n    }\n\n    .dataframe thead th {\n        text-align: right;\n    }\n</style>\n<table border=\"1\" class=\"dataframe\">\n  <thead>\n    <tr style=\"text-align: right;\">\n      <th></th>\n      <th>Mean rank</th>\n    </tr>\n  </thead>\n  <tbody>\n    <tr>\n      <th>soup</th>\n      <td>1.538462</td>\n    </tr>\n    <tr>\n      <th>global</th>\n      <td>2.000000</td>\n    </tr>\n    <tr>\n      <th>base</th>\n      <td>2.461538</td>\n    </tr>\n  </tbody>\n</table>\n</div>"
     },
     "metadata": {},
     "output_type": "display_data"
    }
   ],
   "source": [
    "print_scores(scores_knn,only_read_dt=True)"
   ]
  }
 ],
 "metadata": {
  "kernelspec": {
   "display_name": "Python 3",
   "language": "python",
   "name": "python3"
  },
  "language_info": {
   "codemirror_mode": {
    "name": "ipython",
    "version": 3
   },
   "file_extension": ".py",
   "mimetype": "text/x-python",
   "name": "python",
   "nbconvert_exporter": "python",
   "pygments_lexer": "ipython3",
   "version": "3.6.8"
  },
  "pycharm": {
   "stem_cell": {
    "cell_type": "raw",
    "source": [],
    "metadata": {
     "collapsed": false
    }
   }
  }
 },
 "nbformat": 4,
 "nbformat_minor": 1
}