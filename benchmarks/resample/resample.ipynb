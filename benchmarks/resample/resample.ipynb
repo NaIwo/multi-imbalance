{
 "cells": [
  {
   "cell_type": "code",
   "execution_count": 1,
   "metadata": {},
   "outputs": [],
   "source": [
    "from collections import Counter\n",
    "import numpy as np\n",
    "import pandas as pd\n",
    "from IPython.core.display import display\n",
    "from sklearn.metrics import accuracy_score\n",
    "\n",
    "from sklearn.model_selection import StratifiedKFold\n",
    "from sklearn.tree import DecisionTreeClassifier\n",
    "\n",
    "from multi_imbalance.datasets import load_datasets\n",
    "from multi_imbalance.resampling.SOUP import SOUP\n",
    "from multi_imbalance.resampling.MDO import MDO\n",
    "from multi_imbalance.resampling.GlobalCS import GlobalCS\n",
    "\n",
    "from imblearn.metrics import geometric_mean_score\n",
    "from imblearn.over_sampling import SMOTE\n",
    "from multi_imbalance.resampling.spider import SPIDER3\n",
    "\n",
    "import seaborn as sns\n",
    "from sklearn.decomposition import PCA\n",
    "import matplotlib.pyplot as plt"
   ]
  },
  {
   "cell_type": "code",
   "execution_count": 2,
   "metadata": {},
   "outputs": [],
   "source": [
    "datasets = load_datasets()"
   ]
  },
  {
   "cell_type": "code",
   "execution_count": 3,
   "metadata": {},
   "outputs": [
    {
     "name": "stdout",
     "output_type": "stream",
     "text": [
      "1czysty-cut Counter({0: 840, 2: 240, 1: 120})\n",
      "2delikatne-cut Counter({0: 840, 2: 240, 1: 120})\n",
      "3mocniej-cut Counter({0: 840, 2: 240, 1: 120})\n",
      "4delikatne-bezover-cut Counter({0: 840, 2: 240, 1: 120})\n",
      "balance-scale Counter({2: 288, 1: 288, 0: 49})\n",
      "cleveland Counter({0: 164, 1: 55, 2: 36, 3: 35, 4: 13})\n",
      "cleveland_v2 Counter({0: 219, 1: 36, 2: 35, 3: 13})\n",
      "cmc Counter({0: 629, 2: 511, 1: 333})\n",
      "dermatology Counter({0: 112, 2: 72, 1: 61, 4: 52, 3: 49, 5: 20})\n",
      "glass Counter({1: 76, 0: 70, 3: 29, 5: 17, 2: 13, 4: 9})\n",
      "hayes-roth Counter({0: 65, 1: 64, 2: 31})\n",
      "new_ecoli Counter({0: 145, 1: 77, 4: 52, 2: 37, 3: 25})\n",
      "new_led7digit Counter({3: 108, 5: 99, 0: 98, 2: 94, 4: 52, 1: 49})\n",
      "new_vehicle Counter({1: 429, 0: 218, 2: 199})\n",
      "new_winequality-red Counter({0: 681, 1: 638, 2: 199, 3: 81})\n",
      "new_yeast Counter({0: 463, 1: 429, 8: 244, 7: 168, 6: 51, 5: 44, 4: 35, 3: 30, 2: 20})\n",
      "thyroid-newthyroid Counter({0: 150, 1: 35, 2: 30})\n"
     ]
    }
   ],
   "source": [
    "for dataset_name, dataset in datasets.items():\n",
    "    print(dataset_name, Counter(dataset.target))"
   ]
  },
  {
   "cell_type": "code",
   "execution_count": 4,
   "metadata": {
    "pycharm": {
     "is_executing": false
    }
   },
   "outputs": [],
   "source": [
    "maj_int_min = {\n",
    "    \"1czysty-cut\": {'maj': [0],'int': [2],'min': [1]}, \n",
    "    \"2delikatne-cut\": {'maj': [0],'int': [2],'min': [1]},\n",
    "    \"3mocniej-cut\": {'maj': [0],'int': [2],'min': [1]},\n",
    "    \"4delikatne-bezover-cut\": {'maj': [0],'int': [2],'min': [1]},\n",
    "    \"balance-scale\": {'maj': [2, 1],'int': [],'min': [0]},\n",
    "    \"cleveland\": {'maj': [0],'int': [1],'min': [2, 3, 4]},\n",
    "    \"cleveland_v2\": {'maj': [0],'int': [],'min': [1,2,3]},\n",
    "    \"cmc\": {'maj': [0, 2],'int': [],'min': [1]},\n",
    "    \"dermatology\": {'maj': [0,],'int': [2, 1, 4, 3],'min': [5]},\n",
    "    \"glass\": {'maj': [1, 0],'int': [3],'min': [5, 2, 4]},\n",
    "    \"hayes-roth\": {'maj': [],'int': [],'min': [0,1, 2]},\n",
    "    \"new_ecoli\": {'maj': [0],'int': [1,4],'min': [2, 3]},\n",
    "    \"new_led7digit\": {'maj': [3, 5, 0, 2,4,1],'int': [],'min': []},\n",
    "    \"new_vehicle\": {'maj': [1],'int': [],'min': [0, 2]},\n",
    "    \"new_winequality-red\": {'maj': [0, 1],'int': [2],'min': [3]},\n",
    "    \"new_yeast\": {'maj': [0, 1],'int': [8, 7],'min': [6,5,4,3,2]},\n",
    "    \"thyroid-newthyroid\": {'maj': [0],'int': [],'min': [1,2]}\n",
    "}"
   ]
  },
  {
   "cell_type": "code",
   "execution_count": 5,
   "metadata": {},
   "outputs": [],
   "source": [
    "def calc_cost_matrix1(dataset_name):\n",
    "    #imbalance ratio\n",
    "    cost = np.ones((no_classes, no_classes))\n",
    "    element_count = Counter(datasets[dataset_name].target)\n",
    "    cardinality_pairs = list(element_count.items())\n",
    "    cost = np.zeros((len(cardinality_pairs), len(cardinality_pairs)))\n",
    "\n",
    "    for idx1, card1 in cardinality_pairs:\n",
    "        for idx2, card2 in cardinality_pairs:\n",
    "            cost[idx1, idx2] = card1/card2\n",
    "\n",
    "    np.fill_diagonal(cost, 0)\n",
    "    return cost\n",
    "\n",
    "def calc_cost_matrix(dataset_name):\n",
    "    #default\n",
    "    no_classes = np.unique(datasets[dataset_name].target).size\n",
    "    cost = np.ones((no_classes, no_classes))\n",
    "    np.fill_diagonal(cost, 0)\n",
    "    return cost\n",
    "\n",
    "def calc_cost_matrix2(dataset_name):\n",
    "    #default\n",
    "    cost = np.ones((no_classes, no_classes))\n",
    "    np.fill_diagonal(cost, 0)\n",
    "    #print(cost)\n",
    "    #Counter({1: 76, 0: 70, 3: 29, 5: 17, 2: 13, 4: 9})\n",
    "    #                 0   1   2   3   4   5\n",
    "    return np.array([[0., 1., 1., 1., 5., 1.],\n",
    "                     [1., 0., 1., 1., 5., 1.],\n",
    "                     [1., 1., 0., 1., 5., 1.],\n",
    "                     [1., 1., 1., 0., 5., 1.],\n",
    "                     [5., 5., 5., 5., 0., 5.],\n",
    "                     [1., 1., 1., 1., 5., 0.]])"
   ]
  },
  {
   "cell_type": "code",
   "execution_count": 7,
   "metadata": {
    "pycharm": {
     "is_executing": false,
     "name": "#%%\n"
    }
   },
   "outputs": [
    {
     "name": "stdout",
     "output_type": "stream",
     "text": [
      "glass\n"
     ]
    },
    {
     "data": {
      "text/plain": [
       "'G-MEAN'"
      ]
     },
     "metadata": {},
     "output_type": "display_data"
    },
    {
     "data": {
      "text/html": [
       "<div>\n",
       "<style scoped>\n",
       "    .dataframe tbody tr th:only-of-type {\n",
       "        vertical-align: middle;\n",
       "    }\n",
       "\n",
       "    .dataframe tbody tr th {\n",
       "        vertical-align: top;\n",
       "    }\n",
       "\n",
       "    .dataframe thead th {\n",
       "        text-align: right;\n",
       "    }\n",
       "</style>\n",
       "<table border=\"1\" class=\"dataframe\">\n",
       "  <thead>\n",
       "    <tr style=\"text-align: right;\">\n",
       "      <th></th>\n",
       "      <th>base</th>\n",
       "      <th>global</th>\n",
       "      <th>mdo</th>\n",
       "      <th>soup</th>\n",
       "      <th>spider</th>\n",
       "    </tr>\n",
       "  </thead>\n",
       "  <tbody>\n",
       "    <tr>\n",
       "      <td>glass</td>\n",
       "      <td>0.506</td>\n",
       "      <td>0.634</td>\n",
       "      <td>0.615</td>\n",
       "      <td>0.649</td>\n",
       "      <td>0.583</td>\n",
       "    </tr>\n",
       "  </tbody>\n",
       "</table>\n",
       "</div>"
      ],
      "text/plain": [
       "        base  global    mdo   soup  spider\n",
       "glass  0.506   0.634  0.615  0.649   0.583"
      ]
     },
     "metadata": {},
     "output_type": "display_data"
    },
    {
     "data": {
      "text/plain": [
       "'ACC'"
      ]
     },
     "metadata": {},
     "output_type": "display_data"
    },
    {
     "data": {
      "text/html": [
       "<div>\n",
       "<style scoped>\n",
       "    .dataframe tbody tr th:only-of-type {\n",
       "        vertical-align: middle;\n",
       "    }\n",
       "\n",
       "    .dataframe tbody tr th {\n",
       "        vertical-align: top;\n",
       "    }\n",
       "\n",
       "    .dataframe thead th {\n",
       "        text-align: right;\n",
       "    }\n",
       "</style>\n",
       "<table border=\"1\" class=\"dataframe\">\n",
       "  <thead>\n",
       "    <tr style=\"text-align: right;\">\n",
       "      <th></th>\n",
       "      <th>base</th>\n",
       "      <th>global</th>\n",
       "      <th>mdo</th>\n",
       "      <th>soup</th>\n",
       "      <th>spider</th>\n",
       "    </tr>\n",
       "  </thead>\n",
       "  <tbody>\n",
       "    <tr>\n",
       "      <td>glass</td>\n",
       "      <td>0.673</td>\n",
       "      <td>0.662</td>\n",
       "      <td>0.636</td>\n",
       "      <td>0.583</td>\n",
       "      <td>0.55</td>\n",
       "    </tr>\n",
       "  </tbody>\n",
       "</table>\n",
       "</div>"
      ],
      "text/plain": [
       "        base  global    mdo   soup  spider\n",
       "glass  0.673   0.662  0.636  0.583    0.55"
      ]
     },
     "metadata": {},
     "output_type": "display_data"
    },
    {
     "data": {
      "text/plain": [
       "'MEAN G-MEAN'"
      ]
     },
     "metadata": {},
     "output_type": "display_data"
    },
    {
     "data": {
      "text/plain": [
       "base      0.506\n",
       "global    0.634\n",
       "mdo       0.615\n",
       "soup      0.649\n",
       "spider    0.583\n",
       "dtype: float64"
      ]
     },
     "metadata": {},
     "output_type": "display_data"
    },
    {
     "data": {
      "text/plain": [
       "'MEAN ACC'"
      ]
     },
     "metadata": {},
     "output_type": "display_data"
    },
    {
     "data": {
      "text/plain": [
       "base      0.673\n",
       "global    0.662\n",
       "mdo       0.636\n",
       "soup      0.583\n",
       "spider    0.550\n",
       "dtype: float64"
      ]
     },
     "metadata": {},
     "output_type": "display_data"
    }
   ],
   "source": [
    "test()"
   ]
  },
  {
   "cell_type": "code",
   "execution_count": 6,
   "metadata": {},
   "outputs": [],
   "source": [
    "def test():\n",
    "    np.random.seed(0)\n",
    "\n",
    "    datasets = load_datasets()\n",
    "    results_g_mean = dict()\n",
    "    results_acc = dict()\n",
    "\n",
    "    for dataset_name, dataset_values in datasets.items():\n",
    "        if dataset_name != 'glass':\n",
    "            continue\n",
    "        print(dataset_name)\n",
    "\n",
    "        X, y = dataset_values.data, dataset_values.target\n",
    "\n",
    "        if len(X)>1000:\n",
    "            continue\n",
    "\n",
    "        results_g_mean[dataset_name]=dict()\n",
    "        results_acc[dataset_name]=dict()\n",
    "\n",
    "        for resample in ['base','global', 'soup', 'mdo', 'spider']:\n",
    "\n",
    "            skf = StratifiedKFold(n_splits=4, random_state=0)\n",
    "            acc, g_mean = list(),list()\n",
    "            for train_index, test_index in skf.split(X, y):\n",
    "                X_train, X_test = X[train_index], X[test_index]\n",
    "                y_train, y_test = y[train_index], y[test_index]\n",
    "                error_flag = False\n",
    "                clf_tree = DecisionTreeClassifier(random_state=0)\n",
    "\n",
    "                if resample == 'base':\n",
    "                    X_train_resampled, y_train_resampled = X_train, y_train\n",
    "                elif resample=='soup':\n",
    "                    soup = SOUP()\n",
    "                    X_train_resampled, y_train_resampled = soup.fit_transform(np.copy(X_train), np.copy(y_train))\n",
    "                elif resample=='global':\n",
    "                    global_cs = GlobalCS()\n",
    "                    X_train_resampled, y_train_resampled = global_cs.fit_transform(np.copy(X_train), np.copy(y_train))\n",
    "                elif resample=='smote':\n",
    "                    try:\n",
    "                        smote = SMOTE()\n",
    "                        X_train_resampled, y_train_resampled = smote.fit_sample(np.copy(X_train), np.copy(y_train))\n",
    "                    except Exception as e:\n",
    "                        error_flag = True\n",
    "                        print(resample, dataset_name, e)\n",
    "                        X_train_resampled, y_train_resampled = X_train, y_train\n",
    "                elif resample=='mdo':\n",
    "                    mdo = MDO(k=9, k1_frac=0, seed=0)\n",
    "                    X_train_resampled, y_train_resampled = mdo.fit_transform(np.copy(X_train), np.copy(y_train))\n",
    "                elif resample=='spider':\n",
    "                    cost = calc_cost_matrix(dataset_name)\n",
    "                    clf = SPIDER3(k=5, cost=cost, majority_classes=maj_int_min[dataset_name]['maj'], intermediate_classes=maj_int_min[dataset_name]['int'], minority_classes=maj_int_min[dataset_name]['min'])\n",
    "                    X_train_resampled, y_train_resampled = clf.fit_transform(X_train.astype(np.float64), y_train)\n",
    "\n",
    "                clf_tree.fit(X_train_resampled, y_train_resampled)\n",
    "                y_pred = clf_tree.predict(X_test)\n",
    "                g_mean.append(geometric_mean_score(y_test, y_pred, correction=0.001))\n",
    "                acc.append(accuracy_score(y_test, y_pred))\n",
    "\n",
    "            result_g_mean = None if error_flag else round(np.mean(g_mean),3)\n",
    "            result_acc = None if error_flag else round(np.mean(acc),3)\n",
    "\n",
    "            results_g_mean[dataset_name][resample]=result_g_mean\n",
    "            results_acc[dataset_name][resample]=result_acc\n",
    "\n",
    "    display(\"G-MEAN\")\n",
    "    df = pd.DataFrame(results_g_mean).T\n",
    "    display(df)\n",
    "\n",
    "    display(\"ACC\")\n",
    "    df2 = pd.DataFrame(results_acc).T\n",
    "    display(df2)\n",
    "\n",
    "    display(\"MEAN G-MEAN\")\n",
    "    df.fillna(df.median(), inplace=True)\n",
    "    display(df.mean())\n",
    "\n",
    "    display(\"MEAN ACC\")\n",
    "    display(df2.mean())"
   ]
  },
  {
   "cell_type": "code",
   "execution_count": 8,
   "metadata": {},
   "outputs": [
    {
     "data": {
      "text/plain": [
       "<matplotlib.axes._subplots.AxesSubplot at 0x228a3fa6148>"
      ]
     },
     "execution_count": 8,
     "metadata": {},
     "output_type": "execute_result"
    },
    {
     "data": {
      "image/png": "[encoded data removed]",
      "text/plain": [
       "<Figure size 1152x720 with 4 Axes>"
      ]
     },
     "metadata": {
      "needs_background": "light"
     },
     "output_type": "display_data"
    }
   ],
   "source": [
    "\n",
    "\n",
    "def construct_flat_2pc_df(X, y) -> pd.DataFrame:\n",
    "    y = pd.DataFrame({'y': y})\n",
    "    X_df = pd.DataFrame(data=X, columns=['x1', 'x2'])\n",
    "\n",
    "    df = pd.concat([X_df, y], axis=1)\n",
    "    return df\n",
    "\n",
    "dataset = load_datasets()['glass']\n",
    "\n",
    "X, y = dataset.data, dataset.target\n",
    "\n",
    "cost = calc_cost_matrix('glass')\n",
    "clf = SPIDER3(k=5, cost=cost, majority_classes=maj_int_min[dataset_name]['maj'], intermediate_classes=maj_int_min[dataset_name]['int'], minority_classes=maj_int_min[dataset_name]['min'])\n",
    "resampled_X, resampled_y = clf.fit_transform(X, y)\n",
    "\n",
    "n = len(Counter(y).keys())\n",
    "p = sns.color_palette(\"husl\", n)\n",
    "\n",
    "pca = PCA(n_components=2)\n",
    "pca.fit(X)\n",
    "\n",
    "fig, axs = plt.subplots(ncols=2, nrows=2)\n",
    "fig.set_size_inches( 16, 10)\n",
    "axs = axs.flatten()\n",
    "\n",
    "axs[1].set_title(\"Base\")\n",
    "sns.countplot(y, ax=axs[0], palette=p)\n",
    "X = pca.transform(X)\n",
    "df = construct_flat_2pc_df(X, y)\n",
    "sns.scatterplot(x='x1', y='x2', hue='y', style='y', data=df, alpha=0.7, ax=axs[1], legend='full', palette=p)\n",
    "\n",
    "\n",
    "axs[3].set_title(\"Spider\")\n",
    "sns.countplot(resampled_y, ax=axs[2],palette=p)\n",
    "resampled_X = pca.transform(resampled_X)\n",
    "df = construct_flat_2pc_df(resampled_X, resampled_y)\n",
    "sns.scatterplot(x='x1', y='x2', hue='y', style='y', data=df, alpha=0.7, ax=axs[3], legend='full', palette=p)"
   ]
  }
 ],
 "metadata": {
  "kernelspec": {
   "display_name": "Python 3",
   "language": "python",
   "name": "python3"
  },
  "language_info": {
   "codemirror_mode": {
    "name": "ipython",
    "version": 3
   },
   "file_extension": ".py",
   "mimetype": "text/x-python",
   "name": "python",
   "nbconvert_exporter": "python",
   "pygments_lexer": "ipython3",
   "version": "3.7.4"
  },
  "pycharm": {
   "stem_cell": {
    "cell_type": "raw",
    "metadata": {
     "collapsed": false
    },
    "source": []
   }
  }
 },
 "nbformat": 4,
 "nbformat_minor": 1
}
