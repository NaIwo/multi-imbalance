{
 "cells": [
  {
   "cell_type": "code",
   "execution_count": 10,
   "outputs": [],
   "source": [
    "from collections import Counter, defaultdict\n",
    "import numpy as np\n",
    "import pandas as pd\n",
    "from IPython.core.display import display\n",
    "from numpy.core.defchararray import isdigit\n",
    "from sklearn.metrics import accuracy_score\n",
    "\n",
    "from sklearn.model_selection import StratifiedKFold\n",
    "from sklearn.tree import DecisionTreeClassifier\n",
    "\n",
    "from multi_imbalance.datasets import load_datasets\n",
    "from multi_imbalance.resampling.SOUP import SOUP\n",
    "from multi_imbalance.resampling.MDO import MDO\n",
    "from multi_imbalance.resampling.GlobalCS import GlobalCS\n",
    "\n",
    "from imblearn.metrics import geometric_mean_score\n",
    "from imblearn.over_sampling import SMOTE\n",
    "from multi_imbalance.resampling.spider import SPIDER3\n",
    "\n",
    "from sklearn.neighbors import KNeighborsClassifier\n",
    "maj_int_min = {\n",
    "    'balance_scale' : {\n",
    "        'maj': [2, 1],\n",
    "        'int': [],\n",
    "        'min': [0]\n",
    "    }, \n",
    "    'cleveland': {\n",
    "        'maj': [0],\n",
    "        'int': [1],\n",
    "        'min': [2,3,4]\n",
    "    }, \n",
    "    'cmc': {\n",
    "        'maj': [0],\n",
    "        'int': [2],\n",
    "        'min': [1]\n",
    "    }, \n",
    "    'dermatology': {\n",
    "        'maj': [0],\n",
    "        'int': [2,1,4,3],\n",
    "        'min': [5]\n",
    "    }, \n",
    "    'ecoli': {\n",
    "        'maj': [0,1],\n",
    "        'int': [7,4,5],\n",
    "        'min': [6,3,2]\n",
    "    }, \n",
    "    'glass': {\n",
    "        'maj': [1,0],\n",
    "        'int': [5],\n",
    "        'min': [2,3,4]\n",
    "    }, \n",
    "    'hayes_roth': {\n",
    "        'maj': [0,1],\n",
    "        'int': [],\n",
    "        'min': [2]\n",
    "    }, \n",
    "    'new_thyroid': {\n",
    "        'maj': [0],\n",
    "        'int': [],\n",
    "        'min': [1,2]\n",
    "    }, \n",
    "    'winequailty_red': {\n",
    "        'maj': [2,3],\n",
    "        'int': [4],\n",
    "        'min': [1,5,0]\n",
    "    }, \n",
    "    'yeast': {\n",
    "        'maj': [0,7],\n",
    "        'int': [6, 5],\n",
    "        'min': [4,3,2,9,8,1]\n",
    "    }\n",
    "}\n",
    "from IPython.display import clear_output\n",
    "clear_output(wait=True)"
   ],
   "metadata": {
    "collapsed": false,
    "pycharm": {
     "name": "#%%\n",
     "is_executing": false
    }
   }
  },
  {
   "cell_type": "code",
   "execution_count": 2,
   "outputs": [],
   "source": [
    "def resample_data(resample, seed, X_train, y_train, no_classes, dataset_name):\n",
    "    if resample == 'base':\n",
    "        X_train_resampled, y_train_resampled = X_train, y_train\n",
    "    elif resample=='soup':\n",
    "        soup = SOUP()\n",
    "        X_train_resampled, y_train_resampled = soup.fit_transform(np.copy(X_train), np.copy(y_train))\n",
    "    elif resample=='global':\n",
    "        global_cs = GlobalCS()\n",
    "        X_train_resampled, y_train_resampled = global_cs.fit_transform(np.copy(X_train), np.copy(y_train), shuffle=False)\n",
    "    elif resample=='smote':\n",
    "        smote = SMOTE(random_state=seed)\n",
    "        X_train_resampled, y_train_resampled = smote.fit_sample(np.copy(X_train), np.copy(y_train))\n",
    "    elif resample=='mdo':\n",
    "        mdo = MDO(k=9, k1_frac=0.1, seed=seed)\n",
    "        X_train_resampled, y_train_resampled = mdo.fit_transform(np.copy(X_train), np.copy(y_train))\n",
    "    elif resample=='spider':\n",
    "        cost = np.ones((no_classes, no_classes))\n",
    "        np.fill_diagonal(cost, 0)\n",
    "        clf = SPIDER3(k=5, cost=cost, majority_classes=maj_int_min[dataset_name]['maj'], intermediate_classes=maj_int_min[dataset_name]['int'], minority_classes=maj_int_min[dataset_name]['min'])\n",
    "        X_train_resampled, y_train_resampled = clf.fit_transform(X_train.astype(np.float64), y_train)\n",
    "    return X_train_resampled, y_train_resampled\n",
    "\n",
    "\n",
    "def test_resampling(classifier, res, dataset_values, dataset_name):\n",
    "    X, y = dataset_values.data, dataset_values.target\n",
    "    no_classes = np.unique(y).size\n",
    "    result_data = defaultdict(int)\n",
    "    run_data = defaultdict(lambda: defaultdict(list)) # {metric: {run_number: [scores]}}\n",
    "    for i in range(10):\n",
    "        skf = StratifiedKFold(n_splits=5, shuffle=True,random_state=i)\n",
    "        for train_index, test_index in skf.split(X, y):\n",
    "            X_train, X_test = X[train_index], X[test_index]\n",
    "            y_train, y_test = y[train_index], y[test_index]\n",
    "            \n",
    "            X_train_resampled, y_train_resampled = resample_data(res, i, X_train, y_train, no_classes, dataset_name)\n",
    "            \n",
    "            if classifier == 'knn':\n",
    "                clf = KNeighborsClassifier(n_neighbors=5)\n",
    "            elif classifier == 'tree':\n",
    "                clf = DecisionTreeClassifier(random_state=i)\n",
    "            \n",
    "            clf.fit(X_train_resampled, y_train_resampled)\n",
    "            y_pred = clf.predict(X_test)\n",
    "            gmean = geometric_mean_score(y_test, y_pred, correction=0.001)\n",
    "            run_data['g_mean'][str(i)].append(gmean)\n",
    "    \n",
    "    def get_score_from_metric(run_data, metric):\n",
    "        runs = run_data[metric]\n",
    "        runs_scores_list = list(runs.values()) #[[one run k-foledscores],[..]]\n",
    "        result = np.mean(list(map(np.mean, runs_scores_list)))\n",
    "        return result\n",
    "            \n",
    "    result_data['g_mean'] = get_score_from_metric(run_data, 'g_mean')\n",
    "    return result_data\n"
   ],
   "metadata": {
    "collapsed": false,
    "pycharm": {
     "name": "#%%\n",
     "is_executing": false
    }
   }
  },
  {
   "cell_type": "code",
   "execution_count": 3,
   "metadata": {
    "collapsed": true,
    "pycharm": {
     "is_executing": false,
     "name": "#%%\n"
    }
   },
   "outputs": [],
   "source": [
    "def provide_test_and_get_scores(datasets, clf):\n",
    "    scores = defaultdict(dict)\n",
    "    for dataset_name, dataset_values in datasets.items():\n",
    "        clf_res_names =['base','global','smote','soup','mdo']\n",
    "        # print(dataset_name)\n",
    "        for resample in clf_res_names:\n",
    "            result_data = test_resampling(clf, resample, dataset_values, dataset_name)\n",
    "            scores[dataset_name][resample] = round(result_data['g_mean'],3)\n",
    "    return scores\n"
   ]
  },
  {
   "cell_type": "code",
   "execution_count": 4,
   "outputs": [],
   "source": [
    "def print_scores(scores, only_read_dt = False):\n",
    "    display(\"G-MEAN\")\n",
    "    df = pd.DataFrame(scores).T\n",
    "    if only_read_dt:\n",
    "        df = df.iloc[4:]\n",
    "    display(df)\n",
    "    \n",
    "    # df.fillna(df.median(), inplace=True)\n",
    "    display(pd.DataFrame(df.mean().sort_values(ascending=False),columns=['Mean G-mean']))\n",
    "    display(pd.DataFrame(df.rank(axis=1,ascending=False).mean().sort_values(),columns=['Mean rank']))"
   ],
   "metadata": {
    "collapsed": false,
    "pycharm": {
     "name": "#%%\n",
     "is_executing": false
    }
   }
  },
  {
   "cell_type": "code",
   "execution_count": 5,
   "outputs": [],
   "source": [
    "datasets = load_datasets()\n"
   ],
   "metadata": {
    "collapsed": false,
    "pycharm": {
     "name": "#%%\n",
     "is_executing": false
    }
   }
  },
  {
   "cell_type": "markdown",
   "source": [
    "Testy dla drzewa,\n",
    "Wszystkie zbiory danych:"
   ],
   "metadata": {
    "collapsed": false,
    "pycharm": {
     "name": "#%% md\n"
    }
   }
  },
  {
   "cell_type": "code",
   "execution_count": 6,
   "outputs": [
    {
     "data": {
      "text/plain": "'G-MEAN'"
     },
     "metadata": {},
     "output_type": "display_data"
    },
    {
     "data": {
      "text/plain": "                         base  global  smote   soup    mdo\n1czysty-cut             0.939   0.946  0.955  0.957  0.965\n2delikatne-cut          0.698   0.699  0.744  0.795  0.772\n3mocniej-cut            0.492   0.482  0.496  0.578  0.585\n4delikatne-bezover-cut  0.771   0.768  0.815  0.894  0.830\nbalance-scale           0.154   0.123  0.168  0.621  0.162\ncleveland               0.127   0.096  0.142  0.139  0.098\ncleveland_v2            0.113   0.110  0.129  0.162  0.090\ncmc                     0.440   0.451  0.444  0.466  0.439\ndermatology             0.925   0.940  0.946  0.933  0.948\nglass                   0.463   0.486  0.554  0.606  0.598\nhayes-roth              0.837   0.843  0.841  0.835  0.842\nnew_ecoli               0.708   0.707  0.723  0.714  0.758\nnew_led7digit           0.754   0.757  0.762  0.760  0.753\nnew_vehicle             0.900   0.894  0.890  0.886  0.899\nnew_winequality-red     0.429   0.407  0.466  0.437  0.465\nnew_yeast               0.250   0.240  0.323  0.290  0.293\nthyroid-newthyroid      0.900   0.901  0.918  0.915  0.936",
      "text/html": "<div>\n<style scoped>\n    .dataframe tbody tr th:only-of-type {\n        vertical-align: middle;\n    }\n\n    .dataframe tbody tr th {\n        vertical-align: top;\n    }\n\n    .dataframe thead th {\n        text-align: right;\n    }\n</style>\n<table border=\"1\" class=\"dataframe\">\n  <thead>\n    <tr style=\"text-align: right;\">\n      <th></th>\n      <th>base</th>\n      <th>global</th>\n      <th>smote</th>\n      <th>soup</th>\n      <th>mdo</th>\n    </tr>\n  </thead>\n  <tbody>\n    <tr>\n      <th>1czysty-cut</th>\n      <td>0.939</td>\n      <td>0.946</td>\n      <td>0.955</td>\n      <td>0.957</td>\n      <td>0.965</td>\n    </tr>\n    <tr>\n      <th>2delikatne-cut</th>\n      <td>0.698</td>\n      <td>0.699</td>\n      <td>0.744</td>\n      <td>0.795</td>\n      <td>0.772</td>\n    </tr>\n    <tr>\n      <th>3mocniej-cut</th>\n      <td>0.492</td>\n      <td>0.482</td>\n      <td>0.496</td>\n      <td>0.578</td>\n      <td>0.585</td>\n    </tr>\n    <tr>\n      <th>4delikatne-bezover-cut</th>\n      <td>0.771</td>\n      <td>0.768</td>\n      <td>0.815</td>\n      <td>0.894</td>\n      <td>0.830</td>\n    </tr>\n    <tr>\n      <th>balance-scale</th>\n      <td>0.154</td>\n      <td>0.123</td>\n      <td>0.168</td>\n      <td>0.621</td>\n      <td>0.162</td>\n    </tr>\n    <tr>\n      <th>cleveland</th>\n      <td>0.127</td>\n      <td>0.096</td>\n      <td>0.142</td>\n      <td>0.139</td>\n      <td>0.098</td>\n    </tr>\n    <tr>\n      <th>cleveland_v2</th>\n      <td>0.113</td>\n      <td>0.110</td>\n      <td>0.129</td>\n      <td>0.162</td>\n      <td>0.090</td>\n    </tr>\n    <tr>\n      <th>cmc</th>\n      <td>0.440</td>\n      <td>0.451</td>\n      <td>0.444</td>\n      <td>0.466</td>\n      <td>0.439</td>\n    </tr>\n    <tr>\n      <th>dermatology</th>\n      <td>0.925</td>\n      <td>0.940</td>\n      <td>0.946</td>\n      <td>0.933</td>\n      <td>0.948</td>\n    </tr>\n    <tr>\n      <th>glass</th>\n      <td>0.463</td>\n      <td>0.486</td>\n      <td>0.554</td>\n      <td>0.606</td>\n      <td>0.598</td>\n    </tr>\n    <tr>\n      <th>hayes-roth</th>\n      <td>0.837</td>\n      <td>0.843</td>\n      <td>0.841</td>\n      <td>0.835</td>\n      <td>0.842</td>\n    </tr>\n    <tr>\n      <th>new_ecoli</th>\n      <td>0.708</td>\n      <td>0.707</td>\n      <td>0.723</td>\n      <td>0.714</td>\n      <td>0.758</td>\n    </tr>\n    <tr>\n      <th>new_led7digit</th>\n      <td>0.754</td>\n      <td>0.757</td>\n      <td>0.762</td>\n      <td>0.760</td>\n      <td>0.753</td>\n    </tr>\n    <tr>\n      <th>new_vehicle</th>\n      <td>0.900</td>\n      <td>0.894</td>\n      <td>0.890</td>\n      <td>0.886</td>\n      <td>0.899</td>\n    </tr>\n    <tr>\n      <th>new_winequality-red</th>\n      <td>0.429</td>\n      <td>0.407</td>\n      <td>0.466</td>\n      <td>0.437</td>\n      <td>0.465</td>\n    </tr>\n    <tr>\n      <th>new_yeast</th>\n      <td>0.250</td>\n      <td>0.240</td>\n      <td>0.323</td>\n      <td>0.290</td>\n      <td>0.293</td>\n    </tr>\n    <tr>\n      <th>thyroid-newthyroid</th>\n      <td>0.900</td>\n      <td>0.901</td>\n      <td>0.918</td>\n      <td>0.915</td>\n      <td>0.936</td>\n    </tr>\n  </tbody>\n</table>\n</div>"
     },
     "metadata": {},
     "output_type": "display_data"
    },
    {
     "data": {
      "text/plain": "        Mean G-mean\nsoup       0.646353\nmdo        0.613706\nsmote      0.606824\nbase       0.582353\nglobal     0.579412",
      "text/html": "<div>\n<style scoped>\n    .dataframe tbody tr th:only-of-type {\n        vertical-align: middle;\n    }\n\n    .dataframe tbody tr th {\n        vertical-align: top;\n    }\n\n    .dataframe thead th {\n        text-align: right;\n    }\n</style>\n<table border=\"1\" class=\"dataframe\">\n  <thead>\n    <tr style=\"text-align: right;\">\n      <th></th>\n      <th>Mean G-mean</th>\n    </tr>\n  </thead>\n  <tbody>\n    <tr>\n      <th>soup</th>\n      <td>0.646353</td>\n    </tr>\n    <tr>\n      <th>mdo</th>\n      <td>0.613706</td>\n    </tr>\n    <tr>\n      <th>smote</th>\n      <td>0.606824</td>\n    </tr>\n    <tr>\n      <th>base</th>\n      <td>0.582353</td>\n    </tr>\n    <tr>\n      <th>global</th>\n      <td>0.579412</td>\n    </tr>\n  </tbody>\n</table>\n</div>"
     },
     "metadata": {},
     "output_type": "display_data"
    },
    {
     "data": {
      "text/plain": "        Mean rank\nsmote    2.294118\nsoup     2.352941\nmdo      2.411765\nglobal   3.941176\nbase     4.000000",
      "text/html": "<div>\n<style scoped>\n    .dataframe tbody tr th:only-of-type {\n        vertical-align: middle;\n    }\n\n    .dataframe tbody tr th {\n        vertical-align: top;\n    }\n\n    .dataframe thead th {\n        text-align: right;\n    }\n</style>\n<table border=\"1\" class=\"dataframe\">\n  <thead>\n    <tr style=\"text-align: right;\">\n      <th></th>\n      <th>Mean rank</th>\n    </tr>\n  </thead>\n  <tbody>\n    <tr>\n      <th>smote</th>\n      <td>2.294118</td>\n    </tr>\n    <tr>\n      <th>soup</th>\n      <td>2.352941</td>\n    </tr>\n    <tr>\n      <th>mdo</th>\n      <td>2.411765</td>\n    </tr>\n    <tr>\n      <th>global</th>\n      <td>3.941176</td>\n    </tr>\n    <tr>\n      <th>base</th>\n      <td>4.000000</td>\n    </tr>\n  </tbody>\n</table>\n</div>"
     },
     "metadata": {},
     "output_type": "display_data"
    }
   ],
   "source": [
    "score = provide_test_and_get_scores(datasets, 'tree')\n",
    "print_scores(score)\n"
   ],
   "metadata": {
    "collapsed": false,
    "pycharm": {
     "name": "#%%\n",
     "is_executing": false
    }
   }
  },
  {
   "cell_type": "markdown",
   "source": [
    "Drzewo, tylko rzeczywiste zbiory danych:"
   ],
   "metadata": {
    "collapsed": false,
    "pycharm": {
     "name": "#%% md\n"
    }
   }
  },
  {
   "cell_type": "code",
   "execution_count": 7,
   "outputs": [
    {
     "data": {
      "text/plain": "'G-MEAN'"
     },
     "metadata": {},
     "output_type": "display_data"
    },
    {
     "data": {
      "text/plain": "                      base  global  smote   soup    mdo\nbalance-scale        0.154   0.123  0.168  0.621  0.162\ncleveland            0.127   0.096  0.142  0.139  0.098\ncleveland_v2         0.113   0.110  0.129  0.162  0.090\ncmc                  0.440   0.451  0.444  0.466  0.439\ndermatology          0.925   0.940  0.946  0.933  0.948\nglass                0.463   0.486  0.554  0.606  0.598\nhayes-roth           0.837   0.843  0.841  0.835  0.842\nnew_ecoli            0.708   0.707  0.723  0.714  0.758\nnew_led7digit        0.754   0.757  0.762  0.760  0.753\nnew_vehicle          0.900   0.894  0.890  0.886  0.899\nnew_winequality-red  0.429   0.407  0.466  0.437  0.465\nnew_yeast            0.250   0.240  0.323  0.290  0.293\nthyroid-newthyroid   0.900   0.901  0.918  0.915  0.936",
      "text/html": "<div>\n<style scoped>\n    .dataframe tbody tr th:only-of-type {\n        vertical-align: middle;\n    }\n\n    .dataframe tbody tr th {\n        vertical-align: top;\n    }\n\n    .dataframe thead th {\n        text-align: right;\n    }\n</style>\n<table border=\"1\" class=\"dataframe\">\n  <thead>\n    <tr style=\"text-align: right;\">\n      <th></th>\n      <th>base</th>\n      <th>global</th>\n      <th>smote</th>\n      <th>soup</th>\n      <th>mdo</th>\n    </tr>\n  </thead>\n  <tbody>\n    <tr>\n      <th>balance-scale</th>\n      <td>0.154</td>\n      <td>0.123</td>\n      <td>0.168</td>\n      <td>0.621</td>\n      <td>0.162</td>\n    </tr>\n    <tr>\n      <th>cleveland</th>\n      <td>0.127</td>\n      <td>0.096</td>\n      <td>0.142</td>\n      <td>0.139</td>\n      <td>0.098</td>\n    </tr>\n    <tr>\n      <th>cleveland_v2</th>\n      <td>0.113</td>\n      <td>0.110</td>\n      <td>0.129</td>\n      <td>0.162</td>\n      <td>0.090</td>\n    </tr>\n    <tr>\n      <th>cmc</th>\n      <td>0.440</td>\n      <td>0.451</td>\n      <td>0.444</td>\n      <td>0.466</td>\n      <td>0.439</td>\n    </tr>\n    <tr>\n      <th>dermatology</th>\n      <td>0.925</td>\n      <td>0.940</td>\n      <td>0.946</td>\n      <td>0.933</td>\n      <td>0.948</td>\n    </tr>\n    <tr>\n      <th>glass</th>\n      <td>0.463</td>\n      <td>0.486</td>\n      <td>0.554</td>\n      <td>0.606</td>\n      <td>0.598</td>\n    </tr>\n    <tr>\n      <th>hayes-roth</th>\n      <td>0.837</td>\n      <td>0.843</td>\n      <td>0.841</td>\n      <td>0.835</td>\n      <td>0.842</td>\n    </tr>\n    <tr>\n      <th>new_ecoli</th>\n      <td>0.708</td>\n      <td>0.707</td>\n      <td>0.723</td>\n      <td>0.714</td>\n      <td>0.758</td>\n    </tr>\n    <tr>\n      <th>new_led7digit</th>\n      <td>0.754</td>\n      <td>0.757</td>\n      <td>0.762</td>\n      <td>0.760</td>\n      <td>0.753</td>\n    </tr>\n    <tr>\n      <th>new_vehicle</th>\n      <td>0.900</td>\n      <td>0.894</td>\n      <td>0.890</td>\n      <td>0.886</td>\n      <td>0.899</td>\n    </tr>\n    <tr>\n      <th>new_winequality-red</th>\n      <td>0.429</td>\n      <td>0.407</td>\n      <td>0.466</td>\n      <td>0.437</td>\n      <td>0.465</td>\n    </tr>\n    <tr>\n      <th>new_yeast</th>\n      <td>0.250</td>\n      <td>0.240</td>\n      <td>0.323</td>\n      <td>0.290</td>\n      <td>0.293</td>\n    </tr>\n    <tr>\n      <th>thyroid-newthyroid</th>\n      <td>0.900</td>\n      <td>0.901</td>\n      <td>0.918</td>\n      <td>0.915</td>\n      <td>0.936</td>\n    </tr>\n  </tbody>\n</table>\n</div>"
     },
     "metadata": {},
     "output_type": "display_data"
    },
    {
     "data": {
      "text/plain": "        Mean G-mean\nsoup       0.597231\nsmote      0.562000\nmdo        0.560077\nbase       0.538462\nglobal     0.535000",
      "text/html": "<div>\n<style scoped>\n    .dataframe tbody tr th:only-of-type {\n        vertical-align: middle;\n    }\n\n    .dataframe tbody tr th {\n        vertical-align: top;\n    }\n\n    .dataframe thead th {\n        text-align: right;\n    }\n</style>\n<table border=\"1\" class=\"dataframe\">\n  <thead>\n    <tr style=\"text-align: right;\">\n      <th></th>\n      <th>Mean G-mean</th>\n    </tr>\n  </thead>\n  <tbody>\n    <tr>\n      <th>soup</th>\n      <td>0.597231</td>\n    </tr>\n    <tr>\n      <th>smote</th>\n      <td>0.562000</td>\n    </tr>\n    <tr>\n      <th>mdo</th>\n      <td>0.560077</td>\n    </tr>\n    <tr>\n      <th>base</th>\n      <td>0.538462</td>\n    </tr>\n    <tr>\n      <th>global</th>\n      <td>0.535000</td>\n    </tr>\n  </tbody>\n</table>\n</div>"
     },
     "metadata": {},
     "output_type": "display_data"
    },
    {
     "data": {
      "text/plain": "        Mean rank\nsmote    2.076923\nsoup     2.615385\nmdo      2.692308\nglobal   3.769231\nbase     3.846154",
      "text/html": "<div>\n<style scoped>\n    .dataframe tbody tr th:only-of-type {\n        vertical-align: middle;\n    }\n\n    .dataframe tbody tr th {\n        vertical-align: top;\n    }\n\n    .dataframe thead th {\n        text-align: right;\n    }\n</style>\n<table border=\"1\" class=\"dataframe\">\n  <thead>\n    <tr style=\"text-align: right;\">\n      <th></th>\n      <th>Mean rank</th>\n    </tr>\n  </thead>\n  <tbody>\n    <tr>\n      <th>smote</th>\n      <td>2.076923</td>\n    </tr>\n    <tr>\n      <th>soup</th>\n      <td>2.615385</td>\n    </tr>\n    <tr>\n      <th>mdo</th>\n      <td>2.692308</td>\n    </tr>\n    <tr>\n      <th>global</th>\n      <td>3.769231</td>\n    </tr>\n    <tr>\n      <th>base</th>\n      <td>3.846154</td>\n    </tr>\n  </tbody>\n</table>\n</div>"
     },
     "metadata": {},
     "output_type": "display_data"
    }
   ],
   "source": [
    "print_scores(score,only_read_dt=True)\n"
   ],
   "metadata": {
    "collapsed": false,
    "pycharm": {
     "name": "#%%\n",
     "is_executing": false
    }
   }
  },
  {
   "cell_type": "markdown",
   "source": [
    "Testy dla knn,\n",
    "Wszystkie zbiory danych:"
   ],
   "metadata": {
    "collapsed": false
   }
  },
  {
   "cell_type": "code",
   "execution_count": 8,
   "outputs": [
    {
     "data": {
      "text/plain": "'G-MEAN'"
     },
     "metadata": {},
     "output_type": "display_data"
    },
    {
     "data": {
      "text/plain": "                         base  global  smote   soup    mdo\n1czysty-cut             0.971   0.975  0.978  0.947  0.977\n2delikatne-cut          0.704   0.760  0.761  0.789  0.801\n3mocniej-cut            0.466   0.523  0.498  0.556  0.599\n4delikatne-bezover-cut  0.812   0.852  0.861  0.889  0.875\nbalance-scale           0.193   0.267  0.420  0.678  0.684\ncleveland               0.020   0.134  0.129  0.107  0.066\ncleveland_v2            0.009   0.183  0.233  0.191  0.056\ncmc                     0.482   0.476  0.481  0.510  0.479\ndermatology             0.843   0.849  0.849  0.815  0.854\nglass                   0.201   0.625  0.621  0.609  0.499\nhayes-roth              0.559   0.614  0.627  0.611  0.611\nnew_ecoli               0.814   0.775  0.807  0.817  0.824\nnew_led7digit           0.757   0.441  0.727  0.746  0.774\nnew_vehicle             0.849   0.863  0.859  0.821  0.852\nnew_winequality-red     0.101   0.382  0.393  0.380  0.175\nnew_yeast               0.262   0.378  0.395  0.406  0.321\nthyroid-newthyroid      0.821   0.936  0.920  0.899  0.902",
      "text/html": "<div>\n<style scoped>\n    .dataframe tbody tr th:only-of-type {\n        vertical-align: middle;\n    }\n\n    .dataframe tbody tr th {\n        vertical-align: top;\n    }\n\n    .dataframe thead th {\n        text-align: right;\n    }\n</style>\n<table border=\"1\" class=\"dataframe\">\n  <thead>\n    <tr style=\"text-align: right;\">\n      <th></th>\n      <th>base</th>\n      <th>global</th>\n      <th>smote</th>\n      <th>soup</th>\n      <th>mdo</th>\n    </tr>\n  </thead>\n  <tbody>\n    <tr>\n      <th>1czysty-cut</th>\n      <td>0.971</td>\n      <td>0.975</td>\n      <td>0.978</td>\n      <td>0.947</td>\n      <td>0.977</td>\n    </tr>\n    <tr>\n      <th>2delikatne-cut</th>\n      <td>0.704</td>\n      <td>0.760</td>\n      <td>0.761</td>\n      <td>0.789</td>\n      <td>0.801</td>\n    </tr>\n    <tr>\n      <th>3mocniej-cut</th>\n      <td>0.466</td>\n      <td>0.523</td>\n      <td>0.498</td>\n      <td>0.556</td>\n      <td>0.599</td>\n    </tr>\n    <tr>\n      <th>4delikatne-bezover-cut</th>\n      <td>0.812</td>\n      <td>0.852</td>\n      <td>0.861</td>\n      <td>0.889</td>\n      <td>0.875</td>\n    </tr>\n    <tr>\n      <th>balance-scale</th>\n      <td>0.193</td>\n      <td>0.267</td>\n      <td>0.420</td>\n      <td>0.678</td>\n      <td>0.684</td>\n    </tr>\n    <tr>\n      <th>cleveland</th>\n      <td>0.020</td>\n      <td>0.134</td>\n      <td>0.129</td>\n      <td>0.107</td>\n      <td>0.066</td>\n    </tr>\n    <tr>\n      <th>cleveland_v2</th>\n      <td>0.009</td>\n      <td>0.183</td>\n      <td>0.233</td>\n      <td>0.191</td>\n      <td>0.056</td>\n    </tr>\n    <tr>\n      <th>cmc</th>\n      <td>0.482</td>\n      <td>0.476</td>\n      <td>0.481</td>\n      <td>0.510</td>\n      <td>0.479</td>\n    </tr>\n    <tr>\n      <th>dermatology</th>\n      <td>0.843</td>\n      <td>0.849</td>\n      <td>0.849</td>\n      <td>0.815</td>\n      <td>0.854</td>\n    </tr>\n    <tr>\n      <th>glass</th>\n      <td>0.201</td>\n      <td>0.625</td>\n      <td>0.621</td>\n      <td>0.609</td>\n      <td>0.499</td>\n    </tr>\n    <tr>\n      <th>hayes-roth</th>\n      <td>0.559</td>\n      <td>0.614</td>\n      <td>0.627</td>\n      <td>0.611</td>\n      <td>0.611</td>\n    </tr>\n    <tr>\n      <th>new_ecoli</th>\n      <td>0.814</td>\n      <td>0.775</td>\n      <td>0.807</td>\n      <td>0.817</td>\n      <td>0.824</td>\n    </tr>\n    <tr>\n      <th>new_led7digit</th>\n      <td>0.757</td>\n      <td>0.441</td>\n      <td>0.727</td>\n      <td>0.746</td>\n      <td>0.774</td>\n    </tr>\n    <tr>\n      <th>new_vehicle</th>\n      <td>0.849</td>\n      <td>0.863</td>\n      <td>0.859</td>\n      <td>0.821</td>\n      <td>0.852</td>\n    </tr>\n    <tr>\n      <th>new_winequality-red</th>\n      <td>0.101</td>\n      <td>0.382</td>\n      <td>0.393</td>\n      <td>0.380</td>\n      <td>0.175</td>\n    </tr>\n    <tr>\n      <th>new_yeast</th>\n      <td>0.262</td>\n      <td>0.378</td>\n      <td>0.395</td>\n      <td>0.406</td>\n      <td>0.321</td>\n    </tr>\n    <tr>\n      <th>thyroid-newthyroid</th>\n      <td>0.821</td>\n      <td>0.936</td>\n      <td>0.920</td>\n      <td>0.899</td>\n      <td>0.902</td>\n    </tr>\n  </tbody>\n</table>\n</div>"
     },
     "metadata": {},
     "output_type": "display_data"
    },
    {
     "data": {
      "text/plain": "        Mean G-mean\nsoup       0.633588\nsmote      0.621118\nmdo        0.608765\nglobal     0.590176\nbase       0.521412",
      "text/html": "<div>\n<style scoped>\n    .dataframe tbody tr th:only-of-type {\n        vertical-align: middle;\n    }\n\n    .dataframe tbody tr th {\n        vertical-align: top;\n    }\n\n    .dataframe thead th {\n        text-align: right;\n    }\n</style>\n<table border=\"1\" class=\"dataframe\">\n  <thead>\n    <tr style=\"text-align: right;\">\n      <th></th>\n      <th>Mean G-mean</th>\n    </tr>\n  </thead>\n  <tbody>\n    <tr>\n      <th>soup</th>\n      <td>0.633588</td>\n    </tr>\n    <tr>\n      <th>smote</th>\n      <td>0.621118</td>\n    </tr>\n    <tr>\n      <th>mdo</th>\n      <td>0.608765</td>\n    </tr>\n    <tr>\n      <th>global</th>\n      <td>0.590176</td>\n    </tr>\n    <tr>\n      <th>base</th>\n      <td>0.521412</td>\n    </tr>\n  </tbody>\n</table>\n</div>"
     },
     "metadata": {},
     "output_type": "display_data"
    },
    {
     "data": {
      "text/plain": "        Mean rank\nsmote    2.382353\nmdo      2.558824\nsoup     2.794118\nglobal   2.911765\nbase     4.352941",
      "text/html": "<div>\n<style scoped>\n    .dataframe tbody tr th:only-of-type {\n        vertical-align: middle;\n    }\n\n    .dataframe tbody tr th {\n        vertical-align: top;\n    }\n\n    .dataframe thead th {\n        text-align: right;\n    }\n</style>\n<table border=\"1\" class=\"dataframe\">\n  <thead>\n    <tr style=\"text-align: right;\">\n      <th></th>\n      <th>Mean rank</th>\n    </tr>\n  </thead>\n  <tbody>\n    <tr>\n      <th>smote</th>\n      <td>2.382353</td>\n    </tr>\n    <tr>\n      <th>mdo</th>\n      <td>2.558824</td>\n    </tr>\n    <tr>\n      <th>soup</th>\n      <td>2.794118</td>\n    </tr>\n    <tr>\n      <th>global</th>\n      <td>2.911765</td>\n    </tr>\n    <tr>\n      <th>base</th>\n      <td>4.352941</td>\n    </tr>\n  </tbody>\n</table>\n</div>"
     },
     "metadata": {},
     "output_type": "display_data"
    }
   ],
   "source": [
    "score = provide_test_and_get_scores(datasets, 'knn')\n",
    "print_scores(score)\n"
   ],
   "metadata": {
    "collapsed": false,
    "pycharm": {
     "name": "#%%\n",
     "is_executing": false
    }
   }
  },
  {
   "cell_type": "markdown",
   "source": [
    "knn (k=5), tylko rzeczywiste zbiory danych:"
   ],
   "metadata": {
    "collapsed": false
   }
  },
  {
   "cell_type": "code",
   "execution_count": 9,
   "outputs": [
    {
     "data": {
      "text/plain": "'G-MEAN'"
     },
     "metadata": {},
     "output_type": "display_data"
    },
    {
     "data": {
      "text/plain": "                      base  global  smote   soup    mdo\nbalance-scale        0.193   0.267  0.420  0.678  0.684\ncleveland            0.020   0.134  0.129  0.107  0.066\ncleveland_v2         0.009   0.183  0.233  0.191  0.056\ncmc                  0.482   0.476  0.481  0.510  0.479\ndermatology          0.843   0.849  0.849  0.815  0.854\nglass                0.201   0.625  0.621  0.609  0.499\nhayes-roth           0.559   0.614  0.627  0.611  0.611\nnew_ecoli            0.814   0.775  0.807  0.817  0.824\nnew_led7digit        0.757   0.441  0.727  0.746  0.774\nnew_vehicle          0.849   0.863  0.859  0.821  0.852\nnew_winequality-red  0.101   0.382  0.393  0.380  0.175\nnew_yeast            0.262   0.378  0.395  0.406  0.321\nthyroid-newthyroid   0.821   0.936  0.920  0.899  0.902",
      "text/html": "<div>\n<style scoped>\n    .dataframe tbody tr th:only-of-type {\n        vertical-align: middle;\n    }\n\n    .dataframe tbody tr th {\n        vertical-align: top;\n    }\n\n    .dataframe thead th {\n        text-align: right;\n    }\n</style>\n<table border=\"1\" class=\"dataframe\">\n  <thead>\n    <tr style=\"text-align: right;\">\n      <th></th>\n      <th>base</th>\n      <th>global</th>\n      <th>smote</th>\n      <th>soup</th>\n      <th>mdo</th>\n    </tr>\n  </thead>\n  <tbody>\n    <tr>\n      <th>balance-scale</th>\n      <td>0.193</td>\n      <td>0.267</td>\n      <td>0.420</td>\n      <td>0.678</td>\n      <td>0.684</td>\n    </tr>\n    <tr>\n      <th>cleveland</th>\n      <td>0.020</td>\n      <td>0.134</td>\n      <td>0.129</td>\n      <td>0.107</td>\n      <td>0.066</td>\n    </tr>\n    <tr>\n      <th>cleveland_v2</th>\n      <td>0.009</td>\n      <td>0.183</td>\n      <td>0.233</td>\n      <td>0.191</td>\n      <td>0.056</td>\n    </tr>\n    <tr>\n      <th>cmc</th>\n      <td>0.482</td>\n      <td>0.476</td>\n      <td>0.481</td>\n      <td>0.510</td>\n      <td>0.479</td>\n    </tr>\n    <tr>\n      <th>dermatology</th>\n      <td>0.843</td>\n      <td>0.849</td>\n      <td>0.849</td>\n      <td>0.815</td>\n      <td>0.854</td>\n    </tr>\n    <tr>\n      <th>glass</th>\n      <td>0.201</td>\n      <td>0.625</td>\n      <td>0.621</td>\n      <td>0.609</td>\n      <td>0.499</td>\n    </tr>\n    <tr>\n      <th>hayes-roth</th>\n      <td>0.559</td>\n      <td>0.614</td>\n      <td>0.627</td>\n      <td>0.611</td>\n      <td>0.611</td>\n    </tr>\n    <tr>\n      <th>new_ecoli</th>\n      <td>0.814</td>\n      <td>0.775</td>\n      <td>0.807</td>\n      <td>0.817</td>\n      <td>0.824</td>\n    </tr>\n    <tr>\n      <th>new_led7digit</th>\n      <td>0.757</td>\n      <td>0.441</td>\n      <td>0.727</td>\n      <td>0.746</td>\n      <td>0.774</td>\n    </tr>\n    <tr>\n      <th>new_vehicle</th>\n      <td>0.849</td>\n      <td>0.863</td>\n      <td>0.859</td>\n      <td>0.821</td>\n      <td>0.852</td>\n    </tr>\n    <tr>\n      <th>new_winequality-red</th>\n      <td>0.101</td>\n      <td>0.382</td>\n      <td>0.393</td>\n      <td>0.380</td>\n      <td>0.175</td>\n    </tr>\n    <tr>\n      <th>new_yeast</th>\n      <td>0.262</td>\n      <td>0.378</td>\n      <td>0.395</td>\n      <td>0.406</td>\n      <td>0.321</td>\n    </tr>\n    <tr>\n      <th>thyroid-newthyroid</th>\n      <td>0.821</td>\n      <td>0.936</td>\n      <td>0.920</td>\n      <td>0.899</td>\n      <td>0.902</td>\n    </tr>\n  </tbody>\n</table>\n</div>"
     },
     "metadata": {},
     "output_type": "display_data"
    },
    {
     "data": {
      "text/plain": "        Mean G-mean\nsoup       0.583846\nsmote      0.573923\nmdo        0.545923\nglobal     0.532538\nbase       0.454692",
      "text/html": "<div>\n<style scoped>\n    .dataframe tbody tr th:only-of-type {\n        vertical-align: middle;\n    }\n\n    .dataframe tbody tr th {\n        vertical-align: top;\n    }\n\n    .dataframe thead th {\n        text-align: right;\n    }\n</style>\n<table border=\"1\" class=\"dataframe\">\n  <thead>\n    <tr style=\"text-align: right;\">\n      <th></th>\n      <th>Mean G-mean</th>\n    </tr>\n  </thead>\n  <tbody>\n    <tr>\n      <th>soup</th>\n      <td>0.583846</td>\n    </tr>\n    <tr>\n      <th>smote</th>\n      <td>0.573923</td>\n    </tr>\n    <tr>\n      <th>mdo</th>\n      <td>0.545923</td>\n    </tr>\n    <tr>\n      <th>global</th>\n      <td>0.532538</td>\n    </tr>\n    <tr>\n      <th>base</th>\n      <td>0.454692</td>\n    </tr>\n  </tbody>\n</table>\n</div>"
     },
     "metadata": {},
     "output_type": "display_data"
    },
    {
     "data": {
      "text/plain": "        Mean rank\nsmote    2.269231\nglobal   2.730769\nsoup     2.884615\nmdo      2.884615\nbase     4.230769",
      "text/html": "<div>\n<style scoped>\n    .dataframe tbody tr th:only-of-type {\n        vertical-align: middle;\n    }\n\n    .dataframe tbody tr th {\n        vertical-align: top;\n    }\n\n    .dataframe thead th {\n        text-align: right;\n    }\n</style>\n<table border=\"1\" class=\"dataframe\">\n  <thead>\n    <tr style=\"text-align: right;\">\n      <th></th>\n      <th>Mean rank</th>\n    </tr>\n  </thead>\n  <tbody>\n    <tr>\n      <th>smote</th>\n      <td>2.269231</td>\n    </tr>\n    <tr>\n      <th>global</th>\n      <td>2.730769</td>\n    </tr>\n    <tr>\n      <th>soup</th>\n      <td>2.884615</td>\n    </tr>\n    <tr>\n      <th>mdo</th>\n      <td>2.884615</td>\n    </tr>\n    <tr>\n      <th>base</th>\n      <td>4.230769</td>\n    </tr>\n  </tbody>\n</table>\n</div>"
     },
     "metadata": {},
     "output_type": "display_data"
    }
   ],
   "source": [
    "print_scores(score,only_read_dt=True)\n"
   ],
   "metadata": {
    "collapsed": false,
    "pycharm": {
     "name": "#%%\n",
     "is_executing": false
    }
   }
  }
 ],
 "metadata": {
  "kernelspec": {
   "display_name": "Python 3",
   "language": "python",
   "name": "python3"
  },
  "language_info": {
   "codemirror_mode": {
    "name": "ipython",
    "version": 2
   },
   "file_extension": ".py",
   "mimetype": "text/x-python",
   "name": "python",
   "nbconvert_exporter": "python",
   "pygments_lexer": "ipython2",
   "version": "2.7.6"
  },
  "pycharm": {
   "stem_cell": {
    "cell_type": "raw",
    "source": [],
    "metadata": {
     "collapsed": false
    }
   }
  }
 },
 "nbformat": 4,
 "nbformat_minor": 0
}