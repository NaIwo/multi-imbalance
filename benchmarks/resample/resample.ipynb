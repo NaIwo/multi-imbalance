{
 "cells": [
  {
   "cell_type": "code",
   "execution_count": 1,
   "metadata": {
    "pycharm": {
     "is_executing": false,
     "name": "#%%\n"
    }
   },
   "outputs": [
    {
     "name": "stderr",
     "text": [
      "Using TensorFlow backend.\n",
      "/home/plutasnyy/git/multi-imbalance/venv/lib/python3.6/site-packages/tensorflow/python/framework/dtypes.py:516: FutureWarning: Passing (type, 1) or '1type' as a synonym of type is deprecated; in a future version of numpy, it will be understood as (type, (1,)) / '(1,)type'.\n",
      "  _np_qint8 = np.dtype([(\"qint8\", np.int8, 1)])\n",
      "/home/plutasnyy/git/multi-imbalance/venv/lib/python3.6/site-packages/tensorflow/python/framework/dtypes.py:517: FutureWarning: Passing (type, 1) or '1type' as a synonym of type is deprecated; in a future version of numpy, it will be understood as (type, (1,)) / '(1,)type'.\n",
      "  _np_quint8 = np.dtype([(\"quint8\", np.uint8, 1)])\n",
      "/home/plutasnyy/git/multi-imbalance/venv/lib/python3.6/site-packages/tensorflow/python/framework/dtypes.py:518: FutureWarning: Passing (type, 1) or '1type' as a synonym of type is deprecated; in a future version of numpy, it will be understood as (type, (1,)) / '(1,)type'.\n",
      "  _np_qint16 = np.dtype([(\"qint16\", np.int16, 1)])\n",
      "/home/plutasnyy/git/multi-imbalance/venv/lib/python3.6/site-packages/tensorflow/python/framework/dtypes.py:519: FutureWarning: Passing (type, 1) or '1type' as a synonym of type is deprecated; in a future version of numpy, it will be understood as (type, (1,)) / '(1,)type'.\n",
      "  _np_quint16 = np.dtype([(\"quint16\", np.uint16, 1)])\n",
      "/home/plutasnyy/git/multi-imbalance/venv/lib/python3.6/site-packages/tensorflow/python/framework/dtypes.py:520: FutureWarning: Passing (type, 1) or '1type' as a synonym of type is deprecated; in a future version of numpy, it will be understood as (type, (1,)) / '(1,)type'.\n",
      "  _np_qint32 = np.dtype([(\"qint32\", np.int32, 1)])\n",
      "/home/plutasnyy/git/multi-imbalance/venv/lib/python3.6/site-packages/tensorflow/python/framework/dtypes.py:525: FutureWarning: Passing (type, 1) or '1type' as a synonym of type is deprecated; in a future version of numpy, it will be understood as (type, (1,)) / '(1,)type'.\n",
      "  np_resource = np.dtype([(\"resource\", np.ubyte, 1)])\n",
      "/home/plutasnyy/git/multi-imbalance/venv/lib/python3.6/site-packages/tensorboard/compat/tensorflow_stub/dtypes.py:541: FutureWarning: Passing (type, 1) or '1type' as a synonym of type is deprecated; in a future version of numpy, it will be understood as (type, (1,)) / '(1,)type'.\n",
      "  _np_qint8 = np.dtype([(\"qint8\", np.int8, 1)])\n",
      "/home/plutasnyy/git/multi-imbalance/venv/lib/python3.6/site-packages/tensorboard/compat/tensorflow_stub/dtypes.py:542: FutureWarning: Passing (type, 1) or '1type' as a synonym of type is deprecated; in a future version of numpy, it will be understood as (type, (1,)) / '(1,)type'.\n",
      "  _np_quint8 = np.dtype([(\"quint8\", np.uint8, 1)])\n",
      "/home/plutasnyy/git/multi-imbalance/venv/lib/python3.6/site-packages/tensorboard/compat/tensorflow_stub/dtypes.py:543: FutureWarning: Passing (type, 1) or '1type' as a synonym of type is deprecated; in a future version of numpy, it will be understood as (type, (1,)) / '(1,)type'.\n",
      "  _np_qint16 = np.dtype([(\"qint16\", np.int16, 1)])\n",
      "/home/plutasnyy/git/multi-imbalance/venv/lib/python3.6/site-packages/tensorboard/compat/tensorflow_stub/dtypes.py:544: FutureWarning: Passing (type, 1) or '1type' as a synonym of type is deprecated; in a future version of numpy, it will be understood as (type, (1,)) / '(1,)type'.\n",
      "  _np_quint16 = np.dtype([(\"quint16\", np.uint16, 1)])\n",
      "/home/plutasnyy/git/multi-imbalance/venv/lib/python3.6/site-packages/tensorboard/compat/tensorflow_stub/dtypes.py:545: FutureWarning: Passing (type, 1) or '1type' as a synonym of type is deprecated; in a future version of numpy, it will be understood as (type, (1,)) / '(1,)type'.\n",
      "  _np_qint32 = np.dtype([(\"qint32\", np.int32, 1)])\n",
      "/home/plutasnyy/git/multi-imbalance/venv/lib/python3.6/site-packages/tensorboard/compat/tensorflow_stub/dtypes.py:550: FutureWarning: Passing (type, 1) or '1type' as a synonym of type is deprecated; in a future version of numpy, it will be understood as (type, (1,)) / '(1,)type'.\n",
      "  np_resource = np.dtype([(\"resource\", np.ubyte, 1)])\n"
     ],
     "output_type": "stream"
    }
   ],
   "source": [
    "from collections import defaultdict\n",
    "import numpy as np\n",
    "import pandas as pd\n",
    "from sklearn.metrics import recall_score\n",
    "from sklearn.preprocessing import StandardScaler, OneHotEncoder, LabelBinarizer\n",
    "from IPython.core.display import display\n",
    "from sklearn.model_selection import StratifiedKFold\n",
    "from sklearn.tree import DecisionTreeClassifier\n",
    "from tqdm import tqdm_notebook\n",
    "\n",
    "from multi_imbalance.ensemble.SOUPBagging import SOUPBagging\n",
    "from multi_imbalance.resampling.SOUP import SOUP\n",
    "from multi_imbalance.resampling.MDO import MDO\n",
    "from multi_imbalance.resampling.GlobalCS import GlobalCS\n",
    "\n",
    "from imblearn.metrics import geometric_mean_score\n",
    "from imblearn.over_sampling import SMOTE\n",
    "from multi_imbalance.resampling.spider import SPIDER3\n",
    "\n",
    "from sklearn.neighbors import KNeighborsClassifier\n",
    "import warnings\n",
    "import logging\n",
    "from multi_imbalance.utils.data import load_arff_datasets\n",
    "logger = logging.getLogger()\n",
    "logger.setLevel(logging.CRITICAL)\n",
    "warnings.filterwarnings('ignore')\n",
    "maj_int_min = {\n",
    "    'balance_scale' : {\n",
    "        'maj': [2, 1],\n",
    "        'int': [],\n",
    "        'min': [0]\n",
    "    }, \n",
    "    'cleveland': {\n",
    "        'maj': [0],\n",
    "        'int': [1],\n",
    "        'min': [2,3,4]\n",
    "    }, \n",
    "    'cmc': {\n",
    "        'maj': [0],\n",
    "        'int': [2],\n",
    "        'min': [1]\n",
    "    }, \n",
    "    'dermatology': {\n",
    "        'maj': [0],\n",
    "        'int': [2,1,4,3],\n",
    "        'min': [5]\n",
    "    }, \n",
    "    'ecoli': {\n",
    "        'maj': [0,1],\n",
    "        'int': [7,4,5],\n",
    "        'min': [6,3,2]\n",
    "    }, \n",
    "    'glass': {\n",
    "        'maj': [1,0],\n",
    "        'int': [5],\n",
    "        'min': [2,3,4]\n",
    "    }, \n",
    "    'hayes_roth': {\n",
    "        'maj': [0,1],\n",
    "        'int': [],\n",
    "        'min': [2]\n",
    "    }, \n",
    "    'new_thyroid': {\n",
    "        'maj': [0],\n",
    "        'int': [],\n",
    "        'min': [1,2]\n",
    "    }, \n",
    "    'winequailty_red': {\n",
    "        'maj': [2,3],\n",
    "        'int': [4],\n",
    "        'min': [1,5,0]\n",
    "    }, \n",
    "    'yeast': {\n",
    "        'maj': [0,7],\n",
    "        'int': [6, 5],\n",
    "        'min': [4,3,2,9,8,1]\n",
    "    }\n",
    "}\n",
    "from IPython.display import clear_output\n",
    "clear_output(wait=True)"
   ]
  },
  {
   "cell_type": "code",
   "execution_count": 2,
   "metadata": {
    "pycharm": {
     "is_executing": false,
     "name": "#%%\n"
    }
   },
   "outputs": [
    {
     "data": {
      "text/plain": "HBox(children=(IntProgress(value=0, description='1st loop', max=19, style=ProgressStyle(description_width='ini…",
      "application/vnd.jupyter.widget-view+json": {
       "version_major": 2,
       "version_minor": 0,
       "model_id": "4c3b6743f3ff4fdab8b46c7ce23811b4"
      }
     },
     "metadata": {},
     "output_type": "display_data"
    },
    {
     "name": "stdout",
     "text": [
      "(303, 25)\n",
      "(303, 25)\n",
      "(303, 25)\n",
      "\n"
     ],
     "output_type": "stream"
    }
   ],
   "source": [
    "def resample_data(resample, seed, X_train, y_train, no_classes, dataset_name):\n",
    "    if resample == 'base':\n",
    "        X_train_resampled, y_train_resampled = X_train, y_train\n",
    "    elif resample=='soup':\n",
    "        soup = SOUP(k=3)\n",
    "        X_train_resampled, y_train_resampled = soup.fit_transform(np.copy(X_train), np.copy(y_train))\n",
    "    elif resample=='global':\n",
    "        global_cs = GlobalCS()\n",
    "        X_train_resampled, y_train_resampled = global_cs.fit_transform(np.copy(X_train), np.copy(y_train), shuffle=False)\n",
    "    elif resample=='smote':\n",
    "        smote = SMOTE(random_state=seed)\n",
    "        X_train_resampled, y_train_resampled = smote.fit_sample(np.copy(X_train), np.copy(y_train))\n",
    "    elif resample=='mdo':\n",
    "        mdo = MDO(k=7, k1_frac=0.5, seed=seed)\n",
    "        X_train_resampled, y_train_resampled = mdo.fit_transform(np.copy(X_train), np.copy(y_train))\n",
    "    elif resample=='spider':\n",
    "        cost = np.ones((no_classes, no_classes))\n",
    "        np.fill_diagonal(cost, 0)\n",
    "        clf = SPIDER3(k=5, cost=cost, majority_classes=maj_int_min[dataset_name]['maj'], intermediate_classes=maj_int_min[dataset_name]['int'], minority_classes=maj_int_min[dataset_name]['min'])\n",
    "        X_train_resampled, y_train_resampled = clf.fit_transform(X_train.astype(np.float64), y_train)\n",
    "    elif 'soupbg' in resample:\n",
    "        # SOUP Bagging does it by itself\n",
    "        X_train_resampled, y_train_resampled = X_train, y_train\n",
    "    else:\n",
    "        raise ValueError(f'Bad type{resample}')\n",
    "    return X_train_resampled, y_train_resampled\n",
    "\n",
    "\n",
    "\n",
    "def test_resampling(res, dataset_values, dataset_name):\n",
    "    X, y = dataset_values.data, dataset_values.target\n",
    "    if 'cleveland' == dataset_name:\n",
    "        print(X.shape)\n",
    "    # if dataset_name.startswith('cleveland'):\n",
    "    #     nominal = [12]\n",
    "    #     for id in nominal:\n",
    "    #         last_column = X[:,id].astype(int)\n",
    "    #         X = np.delete(X,id,1)\n",
    "    #         coded = LabelBinarizer().fit_transform(last_column)\n",
    "    #         X = np.hstack((X,coded))\n",
    "        \n",
    "\n",
    "    # normalizer = StandardScaler().fit(X)\n",
    "    # X = normalizer.transform(X)\n",
    "\n",
    "    # hvdm_metric = HEOM(X,[1,2,5,6,8,10,12], nan_equivalents = [12345])\n",
    "    no_classes = np.unique(y).size\n",
    "    result_data = defaultdict(int)\n",
    "    run_data = defaultdict(lambda: defaultdict(list)) # {metric: {run_number: [scores]}}\n",
    "    for i in range(10):\n",
    "        skf = StratifiedKFold(n_splits=10, shuffle=True,random_state=i)\n",
    "        for train_index, test_index in skf.split(X, y):\n",
    "            X_train, X_test = X[train_index], X[test_index]\n",
    "            y_train, y_test = y[train_index], y[test_index]\n",
    "            normalizer = StandardScaler().fit(X_train)\n",
    "\n",
    "            X_train = normalizer.transform(X_train)\n",
    "            X_test = normalizer.transform(X_test)\n",
    "            X_train_resampled, y_train_resampled = resample_data(res, i, X_train, y_train, no_classes, dataset_name)\n",
    "\n",
    "            # for clf_name in ['knn','tree']:\n",
    "            for clf_name in ['knn']:\n",
    "                if clf_name == 'knn':\n",
    "                    clf = KNeighborsClassifier(n_neighbors=3)\n",
    "                elif clf_name == 'tree':\n",
    "                    clf = DecisionTreeClassifier(random_state=i)\n",
    "                # DONT JUDGE ME\n",
    "                if res == 'soupbg005':\n",
    "                    vote_classifier = SOUPBagging(clf, n_classifiers=5)\n",
    "                    clf = vote_classifier\n",
    "                elif res == 'soupbg015':\n",
    "                    vote_classifier = SOUPBagging(clf, n_classifiers=15)\n",
    "                    clf = vote_classifier\n",
    "                elif res == 'soupbg030':\n",
    "                    vote_classifier = SOUPBagging(clf, n_classifiers=30)\n",
    "                    clf = vote_classifier\n",
    "                elif res == 'soupbg050':\n",
    "                    vote_classifier = SOUPBagging(clf, n_classifiers=50)\n",
    "                    clf = vote_classifier\n",
    "                elif res == 'soupbg100':\n",
    "                    vote_classifier = SOUPBagging(clf, n_classifiers=100)\n",
    "                    clf = vote_classifier\n",
    "                    \n",
    "                clf.fit(X_train_resampled, y_train_resampled)\n",
    "                y_pred = clf.predict(X_test)\n",
    "                gmean = geometric_mean_score(y_test, y_pred, correction=0.001)\n",
    "                avg_acc = np.mean(recall_score(y_test, y_pred, average=None))\n",
    "                run_data['g_mean_{}'.format(clf_name)][str(i)].append(gmean)\n",
    "                run_data['avg_acc_{}'.format(clf_name)][str(i)].append(avg_acc)\n",
    "    \n",
    "    def get_score_from_metric(run_data, metric):\n",
    "        runs = run_data[metric]\n",
    "        runs_scores_list = list(runs.values()) #[[one run k-foledscores],[..]]\n",
    "        result = np.mean(list(map(np.mean, runs_scores_list)))\n",
    "        return result\n",
    "            \n",
    "    result_data['g_mean_knn'] = get_score_from_metric(run_data, 'g_mean_knn')\n",
    "    result_data['avg_acc_knn'] = get_score_from_metric(run_data, 'avg_acc_knn')\n",
    "    result_data['g_mean_tree'] = get_score_from_metric(run_data, 'g_mean_tree')\n",
    "    return result_data\n",
    "\n",
    "\n",
    "def provide_test_and_get_scores(datasets):\n",
    "    scores_knn = defaultdict(dict)\n",
    "    scores_tree = defaultdict(dict)\n",
    "    avg_acc = defaultdict(dict)\n",
    "    # clf_res_names =['base','global','smote','mdo','soup','soupbg005','soupbg015','soupbg030', 'soupbg050', 'soupbg100']\n",
    "    # clf_res_names =['base','global','smote','mdo','soup']\n",
    "    clf_res_names =['base','global','soup']\n",
    "    for dataset_name, dataset_values in tqdm_notebook(datasets.items(),total=len(datasets), desc='1st loop'):\n",
    "        # if dataset_name.startswith('cleveland'):\n",
    "        for resample in clf_res_names:\n",
    "            result_data = test_resampling(resample, dataset_values, dataset_name)\n",
    "            scores_knn[dataset_name][resample] = round(result_data['g_mean_knn'],4)\n",
    "            scores_tree[dataset_name][resample] = round(result_data['g_mean_tree'],4)\n",
    "            avg_acc[dataset_name][resample] = round(result_data['avg_acc_knn'],4)\n",
    "    return scores_knn, scores_tree, avg_acc\n",
    "\n",
    "datasets = load_arff_datasets()\n",
    "scores_knn, scores_tree, avg_acc = provide_test_and_get_scores(datasets)"
   ]
  },
  {
   "cell_type": "code",
   "execution_count": 3,
   "metadata": {
    "pycharm": {
     "is_executing": false,
     "name": "#%%\n"
    }
   },
   "outputs": [
    {
     "data": {
      "text/plain": "'G-MEAN'"
     },
     "metadata": {},
     "output_type": "display_data"
    },
    {
     "data": {
      "text/plain": "<pandas.io.formats.style.Styler at 0x7f83046ede10>",
      "text/html": "<style  type=\"text/css\" >\n    #T_04be262e_1f56_11ea_bd95_40e230ef4681row0_col0 {\n            background-color:  green;\n        }    #T_04be262e_1f56_11ea_bd95_40e230ef4681row0_col1 {\n            background-color:  green;\n        }    #T_04be262e_1f56_11ea_bd95_40e230ef4681row0_col2 {\n            background-color:  green;\n        }    #T_04be262e_1f56_11ea_bd95_40e230ef4681row1_col0 {\n            background-color:  green;\n        }    #T_04be262e_1f56_11ea_bd95_40e230ef4681row1_col1 {\n            background-color:  green;\n        }    #T_04be262e_1f56_11ea_bd95_40e230ef4681row1_col2 {\n            background-color:  green;\n        }    #T_04be262e_1f56_11ea_bd95_40e230ef4681row2_col0 {\n            background-color:  green;\n        }    #T_04be262e_1f56_11ea_bd95_40e230ef4681row2_col1 {\n            background-color:  green;\n        }    #T_04be262e_1f56_11ea_bd95_40e230ef4681row2_col2 {\n            background-color:  green;\n        }    #T_04be262e_1f56_11ea_bd95_40e230ef4681row3_col0 {\n            background-color:  green;\n        }    #T_04be262e_1f56_11ea_bd95_40e230ef4681row3_col1 {\n            background-color:  green;\n        }    #T_04be262e_1f56_11ea_bd95_40e230ef4681row3_col2 {\n            background-color:  green;\n        }    #T_04be262e_1f56_11ea_bd95_40e230ef4681row8_col0 {\n            background-color:  green;\n        }    #T_04be262e_1f56_11ea_bd95_40e230ef4681row8_col1 {\n            background-color:  green;\n        }    #T_04be262e_1f56_11ea_bd95_40e230ef4681row8_col2 {\n            background-color:  green;\n        }    #T_04be262e_1f56_11ea_bd95_40e230ef4681row9_col0 {\n            background-color:  green;\n        }    #T_04be262e_1f56_11ea_bd95_40e230ef4681row9_col1 {\n            background-color:  green;\n        }    #T_04be262e_1f56_11ea_bd95_40e230ef4681row9_col2 {\n            background-color:  green;\n        }    #T_04be262e_1f56_11ea_bd95_40e230ef4681row13_col0 {\n            background-color:  green;\n        }    #T_04be262e_1f56_11ea_bd95_40e230ef4681row13_col1 {\n            background-color:  green;\n        }    #T_04be262e_1f56_11ea_bd95_40e230ef4681row13_col2 {\n            background-color:  green;\n        }    #T_04be262e_1f56_11ea_bd95_40e230ef4681row15_col0 {\n            background-color:  green;\n        }    #T_04be262e_1f56_11ea_bd95_40e230ef4681row15_col1 {\n            background-color:  green;\n        }    #T_04be262e_1f56_11ea_bd95_40e230ef4681row15_col2 {\n            background-color:  green;\n        }    #T_04be262e_1f56_11ea_bd95_40e230ef4681row18_col0 {\n            background-color:  green;\n        }    #T_04be262e_1f56_11ea_bd95_40e230ef4681row18_col1 {\n            background-color:  green;\n        }    #T_04be262e_1f56_11ea_bd95_40e230ef4681row18_col2 {\n            background-color:  green;\n        }</style><table id=\"T_04be262e_1f56_11ea_bd95_40e230ef4681\" ><thead>    <tr>        <th class=\"blank level0\" ></th>        <th class=\"col_heading level0 col0\" >base</th>        <th class=\"col_heading level0 col1\" >global</th>        <th class=\"col_heading level0 col2\" >soup</th>    </tr></thead><tbody>\n                <tr>\n                        <th id=\"T_04be262e_1f56_11ea_bd95_40e230ef4681level0_row0\" class=\"row_heading level0 row0\" >1czysty-cut</th>\n                        <td id=\"T_04be262e_1f56_11ea_bd95_40e230ef4681row0_col0\" class=\"data row0 col0\" >0.959</td>\n                        <td id=\"T_04be262e_1f56_11ea_bd95_40e230ef4681row0_col1\" class=\"data row0 col1\" >0.9681</td>\n                        <td id=\"T_04be262e_1f56_11ea_bd95_40e230ef4681row0_col2\" class=\"data row0 col2\" >0.9685</td>\n            </tr>\n            <tr>\n                        <th id=\"T_04be262e_1f56_11ea_bd95_40e230ef4681level0_row1\" class=\"row_heading level0 row1\" >2delikatne-cut</th>\n                        <td id=\"T_04be262e_1f56_11ea_bd95_40e230ef4681row1_col0\" class=\"data row1 col0\" >0.679</td>\n                        <td id=\"T_04be262e_1f56_11ea_bd95_40e230ef4681row1_col1\" class=\"data row1 col1\" >0.7251</td>\n                        <td id=\"T_04be262e_1f56_11ea_bd95_40e230ef4681row1_col2\" class=\"data row1 col2\" >0.7706</td>\n            </tr>\n            <tr>\n                        <th id=\"T_04be262e_1f56_11ea_bd95_40e230ef4681level0_row2\" class=\"row_heading level0 row2\" >3mocniej-cut</th>\n                        <td id=\"T_04be262e_1f56_11ea_bd95_40e230ef4681row2_col0\" class=\"data row2 col0\" >0.4081</td>\n                        <td id=\"T_04be262e_1f56_11ea_bd95_40e230ef4681row2_col1\" class=\"data row2 col1\" >0.4893</td>\n                        <td id=\"T_04be262e_1f56_11ea_bd95_40e230ef4681row2_col2\" class=\"data row2 col2\" >0.5319</td>\n            </tr>\n            <tr>\n                        <th id=\"T_04be262e_1f56_11ea_bd95_40e230ef4681level0_row3\" class=\"row_heading level0 row3\" >4delikatne-bezover-cut</th>\n                        <td id=\"T_04be262e_1f56_11ea_bd95_40e230ef4681row3_col0\" class=\"data row3 col0\" >0.7814</td>\n                        <td id=\"T_04be262e_1f56_11ea_bd95_40e230ef4681row3_col1\" class=\"data row3 col1\" >0.8135</td>\n                        <td id=\"T_04be262e_1f56_11ea_bd95_40e230ef4681row3_col2\" class=\"data row3 col2\" >0.8693</td>\n            </tr>\n            <tr>\n                        <th id=\"T_04be262e_1f56_11ea_bd95_40e230ef4681level0_row4\" class=\"row_heading level0 row4\" >balance-scale</th>\n                        <td id=\"T_04be262e_1f56_11ea_bd95_40e230ef4681row4_col0\" class=\"data row4 col0\" >0.0958</td>\n                        <td id=\"T_04be262e_1f56_11ea_bd95_40e230ef4681row4_col1\" class=\"data row4 col1\" >0.0892</td>\n                        <td id=\"T_04be262e_1f56_11ea_bd95_40e230ef4681row4_col2\" class=\"data row4 col2\" >0.582</td>\n            </tr>\n            <tr>\n                        <th id=\"T_04be262e_1f56_11ea_bd95_40e230ef4681level0_row5\" class=\"row_heading level0 row5\" >car</th>\n                        <td id=\"T_04be262e_1f56_11ea_bd95_40e230ef4681row5_col0\" class=\"data row5 col0\" >0.2651</td>\n                        <td id=\"T_04be262e_1f56_11ea_bd95_40e230ef4681row5_col1\" class=\"data row5 col1\" >0.4141</td>\n                        <td id=\"T_04be262e_1f56_11ea_bd95_40e230ef4681row5_col2\" class=\"data row5 col2\" >0.4696</td>\n            </tr>\n            <tr>\n                        <th id=\"T_04be262e_1f56_11ea_bd95_40e230ef4681level0_row6\" class=\"row_heading level0 row6\" >cleveland</th>\n                        <td id=\"T_04be262e_1f56_11ea_bd95_40e230ef4681row6_col0\" class=\"data row6 col0\" >0.0356</td>\n                        <td id=\"T_04be262e_1f56_11ea_bd95_40e230ef4681row6_col1\" class=\"data row6 col1\" >0.0599</td>\n                        <td id=\"T_04be262e_1f56_11ea_bd95_40e230ef4681row6_col2\" class=\"data row6 col2\" >0.064</td>\n            </tr>\n            <tr>\n                        <th id=\"T_04be262e_1f56_11ea_bd95_40e230ef4681level0_row7\" class=\"row_heading level0 row7\" >cleveland_v2</th>\n                        <td id=\"T_04be262e_1f56_11ea_bd95_40e230ef4681row7_col0\" class=\"data row7 col0\" >0.031</td>\n                        <td id=\"T_04be262e_1f56_11ea_bd95_40e230ef4681row7_col1\" class=\"data row7 col1\" >0.0717</td>\n                        <td id=\"T_04be262e_1f56_11ea_bd95_40e230ef4681row7_col2\" class=\"data row7 col2\" >0.0812</td>\n            </tr>\n            <tr>\n                        <th id=\"T_04be262e_1f56_11ea_bd95_40e230ef4681level0_row8\" class=\"row_heading level0 row8\" >cmc</th>\n                        <td id=\"T_04be262e_1f56_11ea_bd95_40e230ef4681row8_col0\" class=\"data row8 col0\" >0.4115</td>\n                        <td id=\"T_04be262e_1f56_11ea_bd95_40e230ef4681row8_col1\" class=\"data row8 col1\" >0.4296</td>\n                        <td id=\"T_04be262e_1f56_11ea_bd95_40e230ef4681row8_col2\" class=\"data row8 col2\" >0.4514</td>\n            </tr>\n            <tr>\n                        <th id=\"T_04be262e_1f56_11ea_bd95_40e230ef4681level0_row9\" class=\"row_heading level0 row9\" >dermatology</th>\n                        <td id=\"T_04be262e_1f56_11ea_bd95_40e230ef4681row9_col0\" class=\"data row9 col0\" >0.9405</td>\n                        <td id=\"T_04be262e_1f56_11ea_bd95_40e230ef4681row9_col1\" class=\"data row9 col1\" >0.9346</td>\n                        <td id=\"T_04be262e_1f56_11ea_bd95_40e230ef4681row9_col2\" class=\"data row9 col2\" >0.9244</td>\n            </tr>\n            <tr>\n                        <th id=\"T_04be262e_1f56_11ea_bd95_40e230ef4681level0_row10\" class=\"row_heading level0 row10\" >flare</th>\n                        <td id=\"T_04be262e_1f56_11ea_bd95_40e230ef4681row10_col0\" class=\"data row10 col0\" >0.3341</td>\n                        <td id=\"T_04be262e_1f56_11ea_bd95_40e230ef4681row10_col1\" class=\"data row10 col1\" >0.3741</td>\n                        <td id=\"T_04be262e_1f56_11ea_bd95_40e230ef4681row10_col2\" class=\"data row10 col2\" >0.4823</td>\n            </tr>\n            <tr>\n                        <th id=\"T_04be262e_1f56_11ea_bd95_40e230ef4681level0_row11\" class=\"row_heading level0 row11\" >glass</th>\n                        <td id=\"T_04be262e_1f56_11ea_bd95_40e230ef4681row11_col0\" class=\"data row11 col0\" >0.222</td>\n                        <td id=\"T_04be262e_1f56_11ea_bd95_40e230ef4681row11_col1\" class=\"data row11 col1\" >0.4073</td>\n                        <td id=\"T_04be262e_1f56_11ea_bd95_40e230ef4681row11_col2\" class=\"data row11 col2\" >0.5154</td>\n            </tr>\n            <tr>\n                        <th id=\"T_04be262e_1f56_11ea_bd95_40e230ef4681level0_row12\" class=\"row_heading level0 row12\" >hayes-roth</th>\n                        <td id=\"T_04be262e_1f56_11ea_bd95_40e230ef4681row12_col0\" class=\"data row12 col0\" >0.4898</td>\n                        <td id=\"T_04be262e_1f56_11ea_bd95_40e230ef4681row12_col1\" class=\"data row12 col1\" >0.6732</td>\n                        <td id=\"T_04be262e_1f56_11ea_bd95_40e230ef4681row12_col2\" class=\"data row12 col2\" >0.5515</td>\n            </tr>\n            <tr>\n                        <th id=\"T_04be262e_1f56_11ea_bd95_40e230ef4681level0_row13\" class=\"row_heading level0 row13\" >new_ecoli</th>\n                        <td id=\"T_04be262e_1f56_11ea_bd95_40e230ef4681row13_col0\" class=\"data row13 col0\" >0.7112</td>\n                        <td id=\"T_04be262e_1f56_11ea_bd95_40e230ef4681row13_col1\" class=\"data row13 col1\" >0.7118</td>\n                        <td id=\"T_04be262e_1f56_11ea_bd95_40e230ef4681row13_col2\" class=\"data row13 col2\" >0.7678</td>\n            </tr>\n            <tr>\n                        <th id=\"T_04be262e_1f56_11ea_bd95_40e230ef4681level0_row14\" class=\"row_heading level0 row14\" >new_led7digit</th>\n                        <td id=\"T_04be262e_1f56_11ea_bd95_40e230ef4681row14_col0\" class=\"data row14 col0\" >0.7488</td>\n                        <td id=\"T_04be262e_1f56_11ea_bd95_40e230ef4681row14_col1\" class=\"data row14 col1\" >0.3092</td>\n                        <td id=\"T_04be262e_1f56_11ea_bd95_40e230ef4681row14_col2\" class=\"data row14 col2\" >0.7433</td>\n            </tr>\n            <tr>\n                        <th id=\"T_04be262e_1f56_11ea_bd95_40e230ef4681level0_row15\" class=\"row_heading level0 row15\" >new_vehicle</th>\n                        <td id=\"T_04be262e_1f56_11ea_bd95_40e230ef4681row15_col0\" class=\"data row15 col0\" >0.9236</td>\n                        <td id=\"T_04be262e_1f56_11ea_bd95_40e230ef4681row15_col1\" class=\"data row15 col1\" >0.9234</td>\n                        <td id=\"T_04be262e_1f56_11ea_bd95_40e230ef4681row15_col2\" class=\"data row15 col2\" >0.9011</td>\n            </tr>\n            <tr>\n                        <th id=\"T_04be262e_1f56_11ea_bd95_40e230ef4681level0_row16\" class=\"row_heading level0 row16\" >new_winequality-red</th>\n                        <td id=\"T_04be262e_1f56_11ea_bd95_40e230ef4681row16_col0\" class=\"data row16 col0\" >0.2095</td>\n                        <td id=\"T_04be262e_1f56_11ea_bd95_40e230ef4681row16_col1\" class=\"data row16 col1\" >0.4722</td>\n                        <td id=\"T_04be262e_1f56_11ea_bd95_40e230ef4681row16_col2\" class=\"data row16 col2\" >0.4664</td>\n            </tr>\n            <tr>\n                        <th id=\"T_04be262e_1f56_11ea_bd95_40e230ef4681level0_row17\" class=\"row_heading level0 row17\" >new_yeast</th>\n                        <td id=\"T_04be262e_1f56_11ea_bd95_40e230ef4681row17_col0\" class=\"data row17 col0\" >0.2062</td>\n                        <td id=\"T_04be262e_1f56_11ea_bd95_40e230ef4681row17_col1\" class=\"data row17 col1\" >0.2961</td>\n                        <td id=\"T_04be262e_1f56_11ea_bd95_40e230ef4681row17_col2\" class=\"data row17 col2\" >0.3414</td>\n            </tr>\n            <tr>\n                        <th id=\"T_04be262e_1f56_11ea_bd95_40e230ef4681level0_row18\" class=\"row_heading level0 row18\" >thyroid-newthyroid</th>\n                        <td id=\"T_04be262e_1f56_11ea_bd95_40e230ef4681row18_col0\" class=\"data row18 col0\" >0.9027</td>\n                        <td id=\"T_04be262e_1f56_11ea_bd95_40e230ef4681row18_col1\" class=\"data row18 col1\" >0.9453</td>\n                        <td id=\"T_04be262e_1f56_11ea_bd95_40e230ef4681row18_col2\" class=\"data row18 col2\" >0.9397</td>\n            </tr>\n    </tbody></table>"
     },
     "metadata": {},
     "output_type": "display_data"
    }
   ],
   "source": [
    "def green_valid_backgroud(s):\n",
    "    correct = ['1czysty-cut', '2delikatne-cut', '3mocniej-cut','4delikatne-bezover-cut', 'cmc', 'dermatology', 'new_ecoli','new_vehicle','thyroid-newthyroid']\n",
    "    return ['background-color: green' if v in correct else '' for v in list(s.index)]\n",
    "\n",
    "def print_scores(scores, only_read_dt = False):\n",
    "    display(\"G-MEAN\")\n",
    "    df = pd.DataFrame(scores).T\n",
    "    if only_read_dt:\n",
    "        df = df.iloc[4:]\n",
    "    df = df.style.apply(green_valid_backgroud)\n",
    "    display(df)\n",
    "    \n",
    "    # df.fillna(df.median(), inplace=True)\n",
    "    # display(pd.DataFrame(df.mean().sort_values(ascending=False),columns=['Mean G-mean']))\n",
    "    # display(pd.DataFrame(df.rank(axis=1,ascending=False).mean().sort_values(),columns=['Mean rank']))\n",
    "print_scores(scores_knn)\n"
   ]
  },
  {
   "cell_type": "markdown",
   "metadata": {
    "pycharm": {
     "name": "#%% md\n"
    }
   },
   "source": [
    "### Wszystkie zbiory danych:\n",
    "#### Drzewo"
   ]
  },
  {
   "cell_type": "code",
   "execution_count": 4,
   "metadata": {
    "pycharm": {
     "is_executing": false,
     "name": "#%%\n"
    }
   },
   "outputs": [
    {
     "data": {
      "text/plain": "'G-MEAN'"
     },
     "metadata": {},
     "output_type": "display_data"
    },
    {
     "data": {
      "text/plain": "<pandas.io.formats.style.Styler at 0x7f831d38a2e8>",
      "text/html": "<style  type=\"text/css\" >\n    #T_04be262f_1f56_11ea_bd95_40e230ef4681row0_col0 {\n            background-color:  green;\n        }    #T_04be262f_1f56_11ea_bd95_40e230ef4681row0_col1 {\n            background-color:  green;\n        }    #T_04be262f_1f56_11ea_bd95_40e230ef4681row0_col2 {\n            background-color:  green;\n        }    #T_04be262f_1f56_11ea_bd95_40e230ef4681row1_col0 {\n            background-color:  green;\n        }    #T_04be262f_1f56_11ea_bd95_40e230ef4681row1_col1 {\n            background-color:  green;\n        }    #T_04be262f_1f56_11ea_bd95_40e230ef4681row1_col2 {\n            background-color:  green;\n        }    #T_04be262f_1f56_11ea_bd95_40e230ef4681row2_col0 {\n            background-color:  green;\n        }    #T_04be262f_1f56_11ea_bd95_40e230ef4681row2_col1 {\n            background-color:  green;\n        }    #T_04be262f_1f56_11ea_bd95_40e230ef4681row2_col2 {\n            background-color:  green;\n        }    #T_04be262f_1f56_11ea_bd95_40e230ef4681row3_col0 {\n            background-color:  green;\n        }    #T_04be262f_1f56_11ea_bd95_40e230ef4681row3_col1 {\n            background-color:  green;\n        }    #T_04be262f_1f56_11ea_bd95_40e230ef4681row3_col2 {\n            background-color:  green;\n        }    #T_04be262f_1f56_11ea_bd95_40e230ef4681row8_col0 {\n            background-color:  green;\n        }    #T_04be262f_1f56_11ea_bd95_40e230ef4681row8_col1 {\n            background-color:  green;\n        }    #T_04be262f_1f56_11ea_bd95_40e230ef4681row8_col2 {\n            background-color:  green;\n        }    #T_04be262f_1f56_11ea_bd95_40e230ef4681row9_col0 {\n            background-color:  green;\n        }    #T_04be262f_1f56_11ea_bd95_40e230ef4681row9_col1 {\n            background-color:  green;\n        }    #T_04be262f_1f56_11ea_bd95_40e230ef4681row9_col2 {\n            background-color:  green;\n        }    #T_04be262f_1f56_11ea_bd95_40e230ef4681row13_col0 {\n            background-color:  green;\n        }    #T_04be262f_1f56_11ea_bd95_40e230ef4681row13_col1 {\n            background-color:  green;\n        }    #T_04be262f_1f56_11ea_bd95_40e230ef4681row13_col2 {\n            background-color:  green;\n        }    #T_04be262f_1f56_11ea_bd95_40e230ef4681row15_col0 {\n            background-color:  green;\n        }    #T_04be262f_1f56_11ea_bd95_40e230ef4681row15_col1 {\n            background-color:  green;\n        }    #T_04be262f_1f56_11ea_bd95_40e230ef4681row15_col2 {\n            background-color:  green;\n        }    #T_04be262f_1f56_11ea_bd95_40e230ef4681row18_col0 {\n            background-color:  green;\n        }    #T_04be262f_1f56_11ea_bd95_40e230ef4681row18_col1 {\n            background-color:  green;\n        }    #T_04be262f_1f56_11ea_bd95_40e230ef4681row18_col2 {\n            background-color:  green;\n        }</style><table id=\"T_04be262f_1f56_11ea_bd95_40e230ef4681\" ><thead>    <tr>        <th class=\"blank level0\" ></th>        <th class=\"col_heading level0 col0\" >base</th>        <th class=\"col_heading level0 col1\" >global</th>        <th class=\"col_heading level0 col2\" >soup</th>    </tr></thead><tbody>\n                <tr>\n                        <th id=\"T_04be262f_1f56_11ea_bd95_40e230ef4681level0_row0\" class=\"row_heading level0 row0\" >1czysty-cut</th>\n                        <td id=\"T_04be262f_1f56_11ea_bd95_40e230ef4681row0_col0\" class=\"data row0 col0\" >nan</td>\n                        <td id=\"T_04be262f_1f56_11ea_bd95_40e230ef4681row0_col1\" class=\"data row0 col1\" >nan</td>\n                        <td id=\"T_04be262f_1f56_11ea_bd95_40e230ef4681row0_col2\" class=\"data row0 col2\" >nan</td>\n            </tr>\n            <tr>\n                        <th id=\"T_04be262f_1f56_11ea_bd95_40e230ef4681level0_row1\" class=\"row_heading level0 row1\" >2delikatne-cut</th>\n                        <td id=\"T_04be262f_1f56_11ea_bd95_40e230ef4681row1_col0\" class=\"data row1 col0\" >nan</td>\n                        <td id=\"T_04be262f_1f56_11ea_bd95_40e230ef4681row1_col1\" class=\"data row1 col1\" >nan</td>\n                        <td id=\"T_04be262f_1f56_11ea_bd95_40e230ef4681row1_col2\" class=\"data row1 col2\" >nan</td>\n            </tr>\n            <tr>\n                        <th id=\"T_04be262f_1f56_11ea_bd95_40e230ef4681level0_row2\" class=\"row_heading level0 row2\" >3mocniej-cut</th>\n                        <td id=\"T_04be262f_1f56_11ea_bd95_40e230ef4681row2_col0\" class=\"data row2 col0\" >nan</td>\n                        <td id=\"T_04be262f_1f56_11ea_bd95_40e230ef4681row2_col1\" class=\"data row2 col1\" >nan</td>\n                        <td id=\"T_04be262f_1f56_11ea_bd95_40e230ef4681row2_col2\" class=\"data row2 col2\" >nan</td>\n            </tr>\n            <tr>\n                        <th id=\"T_04be262f_1f56_11ea_bd95_40e230ef4681level0_row3\" class=\"row_heading level0 row3\" >4delikatne-bezover-cut</th>\n                        <td id=\"T_04be262f_1f56_11ea_bd95_40e230ef4681row3_col0\" class=\"data row3 col0\" >nan</td>\n                        <td id=\"T_04be262f_1f56_11ea_bd95_40e230ef4681row3_col1\" class=\"data row3 col1\" >nan</td>\n                        <td id=\"T_04be262f_1f56_11ea_bd95_40e230ef4681row3_col2\" class=\"data row3 col2\" >nan</td>\n            </tr>\n            <tr>\n                        <th id=\"T_04be262f_1f56_11ea_bd95_40e230ef4681level0_row4\" class=\"row_heading level0 row4\" >balance-scale</th>\n                        <td id=\"T_04be262f_1f56_11ea_bd95_40e230ef4681row4_col0\" class=\"data row4 col0\" >nan</td>\n                        <td id=\"T_04be262f_1f56_11ea_bd95_40e230ef4681row4_col1\" class=\"data row4 col1\" >nan</td>\n                        <td id=\"T_04be262f_1f56_11ea_bd95_40e230ef4681row4_col2\" class=\"data row4 col2\" >nan</td>\n            </tr>\n            <tr>\n                        <th id=\"T_04be262f_1f56_11ea_bd95_40e230ef4681level0_row5\" class=\"row_heading level0 row5\" >car</th>\n                        <td id=\"T_04be262f_1f56_11ea_bd95_40e230ef4681row5_col0\" class=\"data row5 col0\" >nan</td>\n                        <td id=\"T_04be262f_1f56_11ea_bd95_40e230ef4681row5_col1\" class=\"data row5 col1\" >nan</td>\n                        <td id=\"T_04be262f_1f56_11ea_bd95_40e230ef4681row5_col2\" class=\"data row5 col2\" >nan</td>\n            </tr>\n            <tr>\n                        <th id=\"T_04be262f_1f56_11ea_bd95_40e230ef4681level0_row6\" class=\"row_heading level0 row6\" >cleveland</th>\n                        <td id=\"T_04be262f_1f56_11ea_bd95_40e230ef4681row6_col0\" class=\"data row6 col0\" >nan</td>\n                        <td id=\"T_04be262f_1f56_11ea_bd95_40e230ef4681row6_col1\" class=\"data row6 col1\" >nan</td>\n                        <td id=\"T_04be262f_1f56_11ea_bd95_40e230ef4681row6_col2\" class=\"data row6 col2\" >nan</td>\n            </tr>\n            <tr>\n                        <th id=\"T_04be262f_1f56_11ea_bd95_40e230ef4681level0_row7\" class=\"row_heading level0 row7\" >cleveland_v2</th>\n                        <td id=\"T_04be262f_1f56_11ea_bd95_40e230ef4681row7_col0\" class=\"data row7 col0\" >nan</td>\n                        <td id=\"T_04be262f_1f56_11ea_bd95_40e230ef4681row7_col1\" class=\"data row7 col1\" >nan</td>\n                        <td id=\"T_04be262f_1f56_11ea_bd95_40e230ef4681row7_col2\" class=\"data row7 col2\" >nan</td>\n            </tr>\n            <tr>\n                        <th id=\"T_04be262f_1f56_11ea_bd95_40e230ef4681level0_row8\" class=\"row_heading level0 row8\" >cmc</th>\n                        <td id=\"T_04be262f_1f56_11ea_bd95_40e230ef4681row8_col0\" class=\"data row8 col0\" >nan</td>\n                        <td id=\"T_04be262f_1f56_11ea_bd95_40e230ef4681row8_col1\" class=\"data row8 col1\" >nan</td>\n                        <td id=\"T_04be262f_1f56_11ea_bd95_40e230ef4681row8_col2\" class=\"data row8 col2\" >nan</td>\n            </tr>\n            <tr>\n                        <th id=\"T_04be262f_1f56_11ea_bd95_40e230ef4681level0_row9\" class=\"row_heading level0 row9\" >dermatology</th>\n                        <td id=\"T_04be262f_1f56_11ea_bd95_40e230ef4681row9_col0\" class=\"data row9 col0\" >nan</td>\n                        <td id=\"T_04be262f_1f56_11ea_bd95_40e230ef4681row9_col1\" class=\"data row9 col1\" >nan</td>\n                        <td id=\"T_04be262f_1f56_11ea_bd95_40e230ef4681row9_col2\" class=\"data row9 col2\" >nan</td>\n            </tr>\n            <tr>\n                        <th id=\"T_04be262f_1f56_11ea_bd95_40e230ef4681level0_row10\" class=\"row_heading level0 row10\" >flare</th>\n                        <td id=\"T_04be262f_1f56_11ea_bd95_40e230ef4681row10_col0\" class=\"data row10 col0\" >nan</td>\n                        <td id=\"T_04be262f_1f56_11ea_bd95_40e230ef4681row10_col1\" class=\"data row10 col1\" >nan</td>\n                        <td id=\"T_04be262f_1f56_11ea_bd95_40e230ef4681row10_col2\" class=\"data row10 col2\" >nan</td>\n            </tr>\n            <tr>\n                        <th id=\"T_04be262f_1f56_11ea_bd95_40e230ef4681level0_row11\" class=\"row_heading level0 row11\" >glass</th>\n                        <td id=\"T_04be262f_1f56_11ea_bd95_40e230ef4681row11_col0\" class=\"data row11 col0\" >nan</td>\n                        <td id=\"T_04be262f_1f56_11ea_bd95_40e230ef4681row11_col1\" class=\"data row11 col1\" >nan</td>\n                        <td id=\"T_04be262f_1f56_11ea_bd95_40e230ef4681row11_col2\" class=\"data row11 col2\" >nan</td>\n            </tr>\n            <tr>\n                        <th id=\"T_04be262f_1f56_11ea_bd95_40e230ef4681level0_row12\" class=\"row_heading level0 row12\" >hayes-roth</th>\n                        <td id=\"T_04be262f_1f56_11ea_bd95_40e230ef4681row12_col0\" class=\"data row12 col0\" >nan</td>\n                        <td id=\"T_04be262f_1f56_11ea_bd95_40e230ef4681row12_col1\" class=\"data row12 col1\" >nan</td>\n                        <td id=\"T_04be262f_1f56_11ea_bd95_40e230ef4681row12_col2\" class=\"data row12 col2\" >nan</td>\n            </tr>\n            <tr>\n                        <th id=\"T_04be262f_1f56_11ea_bd95_40e230ef4681level0_row13\" class=\"row_heading level0 row13\" >new_ecoli</th>\n                        <td id=\"T_04be262f_1f56_11ea_bd95_40e230ef4681row13_col0\" class=\"data row13 col0\" >nan</td>\n                        <td id=\"T_04be262f_1f56_11ea_bd95_40e230ef4681row13_col1\" class=\"data row13 col1\" >nan</td>\n                        <td id=\"T_04be262f_1f56_11ea_bd95_40e230ef4681row13_col2\" class=\"data row13 col2\" >nan</td>\n            </tr>\n            <tr>\n                        <th id=\"T_04be262f_1f56_11ea_bd95_40e230ef4681level0_row14\" class=\"row_heading level0 row14\" >new_led7digit</th>\n                        <td id=\"T_04be262f_1f56_11ea_bd95_40e230ef4681row14_col0\" class=\"data row14 col0\" >nan</td>\n                        <td id=\"T_04be262f_1f56_11ea_bd95_40e230ef4681row14_col1\" class=\"data row14 col1\" >nan</td>\n                        <td id=\"T_04be262f_1f56_11ea_bd95_40e230ef4681row14_col2\" class=\"data row14 col2\" >nan</td>\n            </tr>\n            <tr>\n                        <th id=\"T_04be262f_1f56_11ea_bd95_40e230ef4681level0_row15\" class=\"row_heading level0 row15\" >new_vehicle</th>\n                        <td id=\"T_04be262f_1f56_11ea_bd95_40e230ef4681row15_col0\" class=\"data row15 col0\" >nan</td>\n                        <td id=\"T_04be262f_1f56_11ea_bd95_40e230ef4681row15_col1\" class=\"data row15 col1\" >nan</td>\n                        <td id=\"T_04be262f_1f56_11ea_bd95_40e230ef4681row15_col2\" class=\"data row15 col2\" >nan</td>\n            </tr>\n            <tr>\n                        <th id=\"T_04be262f_1f56_11ea_bd95_40e230ef4681level0_row16\" class=\"row_heading level0 row16\" >new_winequality-red</th>\n                        <td id=\"T_04be262f_1f56_11ea_bd95_40e230ef4681row16_col0\" class=\"data row16 col0\" >nan</td>\n                        <td id=\"T_04be262f_1f56_11ea_bd95_40e230ef4681row16_col1\" class=\"data row16 col1\" >nan</td>\n                        <td id=\"T_04be262f_1f56_11ea_bd95_40e230ef4681row16_col2\" class=\"data row16 col2\" >nan</td>\n            </tr>\n            <tr>\n                        <th id=\"T_04be262f_1f56_11ea_bd95_40e230ef4681level0_row17\" class=\"row_heading level0 row17\" >new_yeast</th>\n                        <td id=\"T_04be262f_1f56_11ea_bd95_40e230ef4681row17_col0\" class=\"data row17 col0\" >nan</td>\n                        <td id=\"T_04be262f_1f56_11ea_bd95_40e230ef4681row17_col1\" class=\"data row17 col1\" >nan</td>\n                        <td id=\"T_04be262f_1f56_11ea_bd95_40e230ef4681row17_col2\" class=\"data row17 col2\" >nan</td>\n            </tr>\n            <tr>\n                        <th id=\"T_04be262f_1f56_11ea_bd95_40e230ef4681level0_row18\" class=\"row_heading level0 row18\" >thyroid-newthyroid</th>\n                        <td id=\"T_04be262f_1f56_11ea_bd95_40e230ef4681row18_col0\" class=\"data row18 col0\" >nan</td>\n                        <td id=\"T_04be262f_1f56_11ea_bd95_40e230ef4681row18_col1\" class=\"data row18 col1\" >nan</td>\n                        <td id=\"T_04be262f_1f56_11ea_bd95_40e230ef4681row18_col2\" class=\"data row18 col2\" >nan</td>\n            </tr>\n    </tbody></table>"
     },
     "metadata": {},
     "output_type": "display_data"
    }
   ],
   "source": [
    "print_scores(scores_tree)\n"
   ]
  },
  {
   "cell_type": "markdown",
   "metadata": {
    "pycharm": {
     "name": "#%% md\n"
    }
   },
   "source": [
    "#### kNN - 5"
   ]
  },
  {
   "cell_type": "code",
   "execution_count": 5,
   "metadata": {
    "pycharm": {
     "is_executing": false,
     "name": "#%%\n"
    }
   },
   "outputs": [
    {
     "data": {
      "text/plain": "'G-MEAN'"
     },
     "metadata": {},
     "output_type": "display_data"
    },
    {
     "data": {
      "text/plain": "<pandas.io.formats.style.Styler at 0x7f82a52f2080>",
      "text/html": "<style  type=\"text/css\" >\n    #T_04be2630_1f56_11ea_bd95_40e230ef4681row0_col0 {\n            background-color:  green;\n        }    #T_04be2630_1f56_11ea_bd95_40e230ef4681row0_col1 {\n            background-color:  green;\n        }    #T_04be2630_1f56_11ea_bd95_40e230ef4681row0_col2 {\n            background-color:  green;\n        }    #T_04be2630_1f56_11ea_bd95_40e230ef4681row1_col0 {\n            background-color:  green;\n        }    #T_04be2630_1f56_11ea_bd95_40e230ef4681row1_col1 {\n            background-color:  green;\n        }    #T_04be2630_1f56_11ea_bd95_40e230ef4681row1_col2 {\n            background-color:  green;\n        }    #T_04be2630_1f56_11ea_bd95_40e230ef4681row2_col0 {\n            background-color:  green;\n        }    #T_04be2630_1f56_11ea_bd95_40e230ef4681row2_col1 {\n            background-color:  green;\n        }    #T_04be2630_1f56_11ea_bd95_40e230ef4681row2_col2 {\n            background-color:  green;\n        }    #T_04be2630_1f56_11ea_bd95_40e230ef4681row3_col0 {\n            background-color:  green;\n        }    #T_04be2630_1f56_11ea_bd95_40e230ef4681row3_col1 {\n            background-color:  green;\n        }    #T_04be2630_1f56_11ea_bd95_40e230ef4681row3_col2 {\n            background-color:  green;\n        }    #T_04be2630_1f56_11ea_bd95_40e230ef4681row8_col0 {\n            background-color:  green;\n        }    #T_04be2630_1f56_11ea_bd95_40e230ef4681row8_col1 {\n            background-color:  green;\n        }    #T_04be2630_1f56_11ea_bd95_40e230ef4681row8_col2 {\n            background-color:  green;\n        }    #T_04be2630_1f56_11ea_bd95_40e230ef4681row9_col0 {\n            background-color:  green;\n        }    #T_04be2630_1f56_11ea_bd95_40e230ef4681row9_col1 {\n            background-color:  green;\n        }    #T_04be2630_1f56_11ea_bd95_40e230ef4681row9_col2 {\n            background-color:  green;\n        }    #T_04be2630_1f56_11ea_bd95_40e230ef4681row13_col0 {\n            background-color:  green;\n        }    #T_04be2630_1f56_11ea_bd95_40e230ef4681row13_col1 {\n            background-color:  green;\n        }    #T_04be2630_1f56_11ea_bd95_40e230ef4681row13_col2 {\n            background-color:  green;\n        }    #T_04be2630_1f56_11ea_bd95_40e230ef4681row15_col0 {\n            background-color:  green;\n        }    #T_04be2630_1f56_11ea_bd95_40e230ef4681row15_col1 {\n            background-color:  green;\n        }    #T_04be2630_1f56_11ea_bd95_40e230ef4681row15_col2 {\n            background-color:  green;\n        }    #T_04be2630_1f56_11ea_bd95_40e230ef4681row18_col0 {\n            background-color:  green;\n        }    #T_04be2630_1f56_11ea_bd95_40e230ef4681row18_col1 {\n            background-color:  green;\n        }    #T_04be2630_1f56_11ea_bd95_40e230ef4681row18_col2 {\n            background-color:  green;\n        }</style><table id=\"T_04be2630_1f56_11ea_bd95_40e230ef4681\" ><thead>    <tr>        <th class=\"blank level0\" ></th>        <th class=\"col_heading level0 col0\" >base</th>        <th class=\"col_heading level0 col1\" >global</th>        <th class=\"col_heading level0 col2\" >soup</th>    </tr></thead><tbody>\n                <tr>\n                        <th id=\"T_04be2630_1f56_11ea_bd95_40e230ef4681level0_row0\" class=\"row_heading level0 row0\" >1czysty-cut</th>\n                        <td id=\"T_04be2630_1f56_11ea_bd95_40e230ef4681row0_col0\" class=\"data row0 col0\" >0.959</td>\n                        <td id=\"T_04be2630_1f56_11ea_bd95_40e230ef4681row0_col1\" class=\"data row0 col1\" >0.9681</td>\n                        <td id=\"T_04be2630_1f56_11ea_bd95_40e230ef4681row0_col2\" class=\"data row0 col2\" >0.9685</td>\n            </tr>\n            <tr>\n                        <th id=\"T_04be2630_1f56_11ea_bd95_40e230ef4681level0_row1\" class=\"row_heading level0 row1\" >2delikatne-cut</th>\n                        <td id=\"T_04be2630_1f56_11ea_bd95_40e230ef4681row1_col0\" class=\"data row1 col0\" >0.679</td>\n                        <td id=\"T_04be2630_1f56_11ea_bd95_40e230ef4681row1_col1\" class=\"data row1 col1\" >0.7251</td>\n                        <td id=\"T_04be2630_1f56_11ea_bd95_40e230ef4681row1_col2\" class=\"data row1 col2\" >0.7706</td>\n            </tr>\n            <tr>\n                        <th id=\"T_04be2630_1f56_11ea_bd95_40e230ef4681level0_row2\" class=\"row_heading level0 row2\" >3mocniej-cut</th>\n                        <td id=\"T_04be2630_1f56_11ea_bd95_40e230ef4681row2_col0\" class=\"data row2 col0\" >0.4081</td>\n                        <td id=\"T_04be2630_1f56_11ea_bd95_40e230ef4681row2_col1\" class=\"data row2 col1\" >0.4893</td>\n                        <td id=\"T_04be2630_1f56_11ea_bd95_40e230ef4681row2_col2\" class=\"data row2 col2\" >0.5319</td>\n            </tr>\n            <tr>\n                        <th id=\"T_04be2630_1f56_11ea_bd95_40e230ef4681level0_row3\" class=\"row_heading level0 row3\" >4delikatne-bezover-cut</th>\n                        <td id=\"T_04be2630_1f56_11ea_bd95_40e230ef4681row3_col0\" class=\"data row3 col0\" >0.7814</td>\n                        <td id=\"T_04be2630_1f56_11ea_bd95_40e230ef4681row3_col1\" class=\"data row3 col1\" >0.8135</td>\n                        <td id=\"T_04be2630_1f56_11ea_bd95_40e230ef4681row3_col2\" class=\"data row3 col2\" >0.8693</td>\n            </tr>\n            <tr>\n                        <th id=\"T_04be2630_1f56_11ea_bd95_40e230ef4681level0_row4\" class=\"row_heading level0 row4\" >balance-scale</th>\n                        <td id=\"T_04be2630_1f56_11ea_bd95_40e230ef4681row4_col0\" class=\"data row4 col0\" >0.0958</td>\n                        <td id=\"T_04be2630_1f56_11ea_bd95_40e230ef4681row4_col1\" class=\"data row4 col1\" >0.0892</td>\n                        <td id=\"T_04be2630_1f56_11ea_bd95_40e230ef4681row4_col2\" class=\"data row4 col2\" >0.582</td>\n            </tr>\n            <tr>\n                        <th id=\"T_04be2630_1f56_11ea_bd95_40e230ef4681level0_row5\" class=\"row_heading level0 row5\" >car</th>\n                        <td id=\"T_04be2630_1f56_11ea_bd95_40e230ef4681row5_col0\" class=\"data row5 col0\" >0.2651</td>\n                        <td id=\"T_04be2630_1f56_11ea_bd95_40e230ef4681row5_col1\" class=\"data row5 col1\" >0.4141</td>\n                        <td id=\"T_04be2630_1f56_11ea_bd95_40e230ef4681row5_col2\" class=\"data row5 col2\" >0.4696</td>\n            </tr>\n            <tr>\n                        <th id=\"T_04be2630_1f56_11ea_bd95_40e230ef4681level0_row6\" class=\"row_heading level0 row6\" >cleveland</th>\n                        <td id=\"T_04be2630_1f56_11ea_bd95_40e230ef4681row6_col0\" class=\"data row6 col0\" >0.0356</td>\n                        <td id=\"T_04be2630_1f56_11ea_bd95_40e230ef4681row6_col1\" class=\"data row6 col1\" >0.0599</td>\n                        <td id=\"T_04be2630_1f56_11ea_bd95_40e230ef4681row6_col2\" class=\"data row6 col2\" >0.064</td>\n            </tr>\n            <tr>\n                        <th id=\"T_04be2630_1f56_11ea_bd95_40e230ef4681level0_row7\" class=\"row_heading level0 row7\" >cleveland_v2</th>\n                        <td id=\"T_04be2630_1f56_11ea_bd95_40e230ef4681row7_col0\" class=\"data row7 col0\" >0.031</td>\n                        <td id=\"T_04be2630_1f56_11ea_bd95_40e230ef4681row7_col1\" class=\"data row7 col1\" >0.0717</td>\n                        <td id=\"T_04be2630_1f56_11ea_bd95_40e230ef4681row7_col2\" class=\"data row7 col2\" >0.0812</td>\n            </tr>\n            <tr>\n                        <th id=\"T_04be2630_1f56_11ea_bd95_40e230ef4681level0_row8\" class=\"row_heading level0 row8\" >cmc</th>\n                        <td id=\"T_04be2630_1f56_11ea_bd95_40e230ef4681row8_col0\" class=\"data row8 col0\" >0.4115</td>\n                        <td id=\"T_04be2630_1f56_11ea_bd95_40e230ef4681row8_col1\" class=\"data row8 col1\" >0.4296</td>\n                        <td id=\"T_04be2630_1f56_11ea_bd95_40e230ef4681row8_col2\" class=\"data row8 col2\" >0.4514</td>\n            </tr>\n            <tr>\n                        <th id=\"T_04be2630_1f56_11ea_bd95_40e230ef4681level0_row9\" class=\"row_heading level0 row9\" >dermatology</th>\n                        <td id=\"T_04be2630_1f56_11ea_bd95_40e230ef4681row9_col0\" class=\"data row9 col0\" >0.9405</td>\n                        <td id=\"T_04be2630_1f56_11ea_bd95_40e230ef4681row9_col1\" class=\"data row9 col1\" >0.9346</td>\n                        <td id=\"T_04be2630_1f56_11ea_bd95_40e230ef4681row9_col2\" class=\"data row9 col2\" >0.9244</td>\n            </tr>\n            <tr>\n                        <th id=\"T_04be2630_1f56_11ea_bd95_40e230ef4681level0_row10\" class=\"row_heading level0 row10\" >flare</th>\n                        <td id=\"T_04be2630_1f56_11ea_bd95_40e230ef4681row10_col0\" class=\"data row10 col0\" >0.3341</td>\n                        <td id=\"T_04be2630_1f56_11ea_bd95_40e230ef4681row10_col1\" class=\"data row10 col1\" >0.3741</td>\n                        <td id=\"T_04be2630_1f56_11ea_bd95_40e230ef4681row10_col2\" class=\"data row10 col2\" >0.4823</td>\n            </tr>\n            <tr>\n                        <th id=\"T_04be2630_1f56_11ea_bd95_40e230ef4681level0_row11\" class=\"row_heading level0 row11\" >glass</th>\n                        <td id=\"T_04be2630_1f56_11ea_bd95_40e230ef4681row11_col0\" class=\"data row11 col0\" >0.222</td>\n                        <td id=\"T_04be2630_1f56_11ea_bd95_40e230ef4681row11_col1\" class=\"data row11 col1\" >0.4073</td>\n                        <td id=\"T_04be2630_1f56_11ea_bd95_40e230ef4681row11_col2\" class=\"data row11 col2\" >0.5154</td>\n            </tr>\n            <tr>\n                        <th id=\"T_04be2630_1f56_11ea_bd95_40e230ef4681level0_row12\" class=\"row_heading level0 row12\" >hayes-roth</th>\n                        <td id=\"T_04be2630_1f56_11ea_bd95_40e230ef4681row12_col0\" class=\"data row12 col0\" >0.4898</td>\n                        <td id=\"T_04be2630_1f56_11ea_bd95_40e230ef4681row12_col1\" class=\"data row12 col1\" >0.6732</td>\n                        <td id=\"T_04be2630_1f56_11ea_bd95_40e230ef4681row12_col2\" class=\"data row12 col2\" >0.5515</td>\n            </tr>\n            <tr>\n                        <th id=\"T_04be2630_1f56_11ea_bd95_40e230ef4681level0_row13\" class=\"row_heading level0 row13\" >new_ecoli</th>\n                        <td id=\"T_04be2630_1f56_11ea_bd95_40e230ef4681row13_col0\" class=\"data row13 col0\" >0.7112</td>\n                        <td id=\"T_04be2630_1f56_11ea_bd95_40e230ef4681row13_col1\" class=\"data row13 col1\" >0.7118</td>\n                        <td id=\"T_04be2630_1f56_11ea_bd95_40e230ef4681row13_col2\" class=\"data row13 col2\" >0.7678</td>\n            </tr>\n            <tr>\n                        <th id=\"T_04be2630_1f56_11ea_bd95_40e230ef4681level0_row14\" class=\"row_heading level0 row14\" >new_led7digit</th>\n                        <td id=\"T_04be2630_1f56_11ea_bd95_40e230ef4681row14_col0\" class=\"data row14 col0\" >0.7488</td>\n                        <td id=\"T_04be2630_1f56_11ea_bd95_40e230ef4681row14_col1\" class=\"data row14 col1\" >0.3092</td>\n                        <td id=\"T_04be2630_1f56_11ea_bd95_40e230ef4681row14_col2\" class=\"data row14 col2\" >0.7433</td>\n            </tr>\n            <tr>\n                        <th id=\"T_04be2630_1f56_11ea_bd95_40e230ef4681level0_row15\" class=\"row_heading level0 row15\" >new_vehicle</th>\n                        <td id=\"T_04be2630_1f56_11ea_bd95_40e230ef4681row15_col0\" class=\"data row15 col0\" >0.9236</td>\n                        <td id=\"T_04be2630_1f56_11ea_bd95_40e230ef4681row15_col1\" class=\"data row15 col1\" >0.9234</td>\n                        <td id=\"T_04be2630_1f56_11ea_bd95_40e230ef4681row15_col2\" class=\"data row15 col2\" >0.9011</td>\n            </tr>\n            <tr>\n                        <th id=\"T_04be2630_1f56_11ea_bd95_40e230ef4681level0_row16\" class=\"row_heading level0 row16\" >new_winequality-red</th>\n                        <td id=\"T_04be2630_1f56_11ea_bd95_40e230ef4681row16_col0\" class=\"data row16 col0\" >0.2095</td>\n                        <td id=\"T_04be2630_1f56_11ea_bd95_40e230ef4681row16_col1\" class=\"data row16 col1\" >0.4722</td>\n                        <td id=\"T_04be2630_1f56_11ea_bd95_40e230ef4681row16_col2\" class=\"data row16 col2\" >0.4664</td>\n            </tr>\n            <tr>\n                        <th id=\"T_04be2630_1f56_11ea_bd95_40e230ef4681level0_row17\" class=\"row_heading level0 row17\" >new_yeast</th>\n                        <td id=\"T_04be2630_1f56_11ea_bd95_40e230ef4681row17_col0\" class=\"data row17 col0\" >0.2062</td>\n                        <td id=\"T_04be2630_1f56_11ea_bd95_40e230ef4681row17_col1\" class=\"data row17 col1\" >0.2961</td>\n                        <td id=\"T_04be2630_1f56_11ea_bd95_40e230ef4681row17_col2\" class=\"data row17 col2\" >0.3414</td>\n            </tr>\n            <tr>\n                        <th id=\"T_04be2630_1f56_11ea_bd95_40e230ef4681level0_row18\" class=\"row_heading level0 row18\" >thyroid-newthyroid</th>\n                        <td id=\"T_04be2630_1f56_11ea_bd95_40e230ef4681row18_col0\" class=\"data row18 col0\" >0.9027</td>\n                        <td id=\"T_04be2630_1f56_11ea_bd95_40e230ef4681row18_col1\" class=\"data row18 col1\" >0.9453</td>\n                        <td id=\"T_04be2630_1f56_11ea_bd95_40e230ef4681row18_col2\" class=\"data row18 col2\" >0.9397</td>\n            </tr>\n    </tbody></table>"
     },
     "metadata": {},
     "output_type": "display_data"
    },
    {
     "data": {
      "text/plain": "'G-MEAN'"
     },
     "metadata": {},
     "output_type": "display_data"
    },
    {
     "data": {
      "text/plain": "<pandas.io.formats.style.Styler at 0x7f82a5159978>",
      "text/html": "<style  type=\"text/css\" >\n    #T_04be2631_1f56_11ea_bd95_40e230ef4681row0_col0 {\n            background-color:  green;\n        }    #T_04be2631_1f56_11ea_bd95_40e230ef4681row0_col1 {\n            background-color:  green;\n        }    #T_04be2631_1f56_11ea_bd95_40e230ef4681row0_col2 {\n            background-color:  green;\n        }    #T_04be2631_1f56_11ea_bd95_40e230ef4681row1_col0 {\n            background-color:  green;\n        }    #T_04be2631_1f56_11ea_bd95_40e230ef4681row1_col1 {\n            background-color:  green;\n        }    #T_04be2631_1f56_11ea_bd95_40e230ef4681row1_col2 {\n            background-color:  green;\n        }    #T_04be2631_1f56_11ea_bd95_40e230ef4681row2_col0 {\n            background-color:  green;\n        }    #T_04be2631_1f56_11ea_bd95_40e230ef4681row2_col1 {\n            background-color:  green;\n        }    #T_04be2631_1f56_11ea_bd95_40e230ef4681row2_col2 {\n            background-color:  green;\n        }    #T_04be2631_1f56_11ea_bd95_40e230ef4681row3_col0 {\n            background-color:  green;\n        }    #T_04be2631_1f56_11ea_bd95_40e230ef4681row3_col1 {\n            background-color:  green;\n        }    #T_04be2631_1f56_11ea_bd95_40e230ef4681row3_col2 {\n            background-color:  green;\n        }    #T_04be2631_1f56_11ea_bd95_40e230ef4681row8_col0 {\n            background-color:  green;\n        }    #T_04be2631_1f56_11ea_bd95_40e230ef4681row8_col1 {\n            background-color:  green;\n        }    #T_04be2631_1f56_11ea_bd95_40e230ef4681row8_col2 {\n            background-color:  green;\n        }    #T_04be2631_1f56_11ea_bd95_40e230ef4681row9_col0 {\n            background-color:  green;\n        }    #T_04be2631_1f56_11ea_bd95_40e230ef4681row9_col1 {\n            background-color:  green;\n        }    #T_04be2631_1f56_11ea_bd95_40e230ef4681row9_col2 {\n            background-color:  green;\n        }    #T_04be2631_1f56_11ea_bd95_40e230ef4681row13_col0 {\n            background-color:  green;\n        }    #T_04be2631_1f56_11ea_bd95_40e230ef4681row13_col1 {\n            background-color:  green;\n        }    #T_04be2631_1f56_11ea_bd95_40e230ef4681row13_col2 {\n            background-color:  green;\n        }    #T_04be2631_1f56_11ea_bd95_40e230ef4681row15_col0 {\n            background-color:  green;\n        }    #T_04be2631_1f56_11ea_bd95_40e230ef4681row15_col1 {\n            background-color:  green;\n        }    #T_04be2631_1f56_11ea_bd95_40e230ef4681row15_col2 {\n            background-color:  green;\n        }    #T_04be2631_1f56_11ea_bd95_40e230ef4681row18_col0 {\n            background-color:  green;\n        }    #T_04be2631_1f56_11ea_bd95_40e230ef4681row18_col1 {\n            background-color:  green;\n        }    #T_04be2631_1f56_11ea_bd95_40e230ef4681row18_col2 {\n            background-color:  green;\n        }</style><table id=\"T_04be2631_1f56_11ea_bd95_40e230ef4681\" ><thead>    <tr>        <th class=\"blank level0\" ></th>        <th class=\"col_heading level0 col0\" >base</th>        <th class=\"col_heading level0 col1\" >global</th>        <th class=\"col_heading level0 col2\" >soup</th>    </tr></thead><tbody>\n                <tr>\n                        <th id=\"T_04be2631_1f56_11ea_bd95_40e230ef4681level0_row0\" class=\"row_heading level0 row0\" >1czysty-cut</th>\n                        <td id=\"T_04be2631_1f56_11ea_bd95_40e230ef4681row0_col0\" class=\"data row0 col0\" >0.9598</td>\n                        <td id=\"T_04be2631_1f56_11ea_bd95_40e230ef4681row0_col1\" class=\"data row0 col1\" >0.9687</td>\n                        <td id=\"T_04be2631_1f56_11ea_bd95_40e230ef4681row0_col2\" class=\"data row0 col2\" >0.9696</td>\n            </tr>\n            <tr>\n                        <th id=\"T_04be2631_1f56_11ea_bd95_40e230ef4681level0_row1\" class=\"row_heading level0 row1\" >2delikatne-cut</th>\n                        <td id=\"T_04be2631_1f56_11ea_bd95_40e230ef4681row1_col0\" class=\"data row1 col0\" >0.7104</td>\n                        <td id=\"T_04be2631_1f56_11ea_bd95_40e230ef4681row1_col1\" class=\"data row1 col1\" >0.7388</td>\n                        <td id=\"T_04be2631_1f56_11ea_bd95_40e230ef4681row1_col2\" class=\"data row1 col2\" >0.7773</td>\n            </tr>\n            <tr>\n                        <th id=\"T_04be2631_1f56_11ea_bd95_40e230ef4681level0_row2\" class=\"row_heading level0 row2\" >3mocniej-cut</th>\n                        <td id=\"T_04be2631_1f56_11ea_bd95_40e230ef4681row2_col0\" class=\"data row2 col0\" >0.5063</td>\n                        <td id=\"T_04be2631_1f56_11ea_bd95_40e230ef4681row2_col1\" class=\"data row2 col1\" >0.5299</td>\n                        <td id=\"T_04be2631_1f56_11ea_bd95_40e230ef4681row2_col2\" class=\"data row2 col2\" >0.5552</td>\n            </tr>\n            <tr>\n                        <th id=\"T_04be2631_1f56_11ea_bd95_40e230ef4681level0_row3\" class=\"row_heading level0 row3\" >4delikatne-bezover-cut</th>\n                        <td id=\"T_04be2631_1f56_11ea_bd95_40e230ef4681row3_col0\" class=\"data row3 col0\" >0.7906</td>\n                        <td id=\"T_04be2631_1f56_11ea_bd95_40e230ef4681row3_col1\" class=\"data row3 col1\" >0.8187</td>\n                        <td id=\"T_04be2631_1f56_11ea_bd95_40e230ef4681row3_col2\" class=\"data row3 col2\" >0.8762</td>\n            </tr>\n            <tr>\n                        <th id=\"T_04be2631_1f56_11ea_bd95_40e230ef4681level0_row4\" class=\"row_heading level0 row4\" >balance-scale</th>\n                        <td id=\"T_04be2631_1f56_11ea_bd95_40e230ef4681row4_col0\" class=\"data row4 col0\" >0.5839</td>\n                        <td id=\"T_04be2631_1f56_11ea_bd95_40e230ef4681row4_col1\" class=\"data row4 col1\" >0.5254</td>\n                        <td id=\"T_04be2631_1f56_11ea_bd95_40e230ef4681row4_col2\" class=\"data row4 col2\" >0.622</td>\n            </tr>\n            <tr>\n                        <th id=\"T_04be2631_1f56_11ea_bd95_40e230ef4681level0_row5\" class=\"row_heading level0 row5\" >car</th>\n                        <td id=\"T_04be2631_1f56_11ea_bd95_40e230ef4681row5_col0\" class=\"data row5 col0\" >0.487</td>\n                        <td id=\"T_04be2631_1f56_11ea_bd95_40e230ef4681row5_col1\" class=\"data row5 col1\" >0.5464</td>\n                        <td id=\"T_04be2631_1f56_11ea_bd95_40e230ef4681row5_col2\" class=\"data row5 col2\" >0.5735</td>\n            </tr>\n            <tr>\n                        <th id=\"T_04be2631_1f56_11ea_bd95_40e230ef4681level0_row6\" class=\"row_heading level0 row6\" >cleveland</th>\n                        <td id=\"T_04be2631_1f56_11ea_bd95_40e230ef4681row6_col0\" class=\"data row6 col0\" >0.2825</td>\n                        <td id=\"T_04be2631_1f56_11ea_bd95_40e230ef4681row6_col1\" class=\"data row6 col1\" >0.2988</td>\n                        <td id=\"T_04be2631_1f56_11ea_bd95_40e230ef4681row6_col2\" class=\"data row6 col2\" >0.2851</td>\n            </tr>\n            <tr>\n                        <th id=\"T_04be2631_1f56_11ea_bd95_40e230ef4681level0_row7\" class=\"row_heading level0 row7\" >cleveland_v2</th>\n                        <td id=\"T_04be2631_1f56_11ea_bd95_40e230ef4681row7_col0\" class=\"data row7 col0\" >0.3027</td>\n                        <td id=\"T_04be2631_1f56_11ea_bd95_40e230ef4681row7_col1\" class=\"data row7 col1\" >0.3465</td>\n                        <td id=\"T_04be2631_1f56_11ea_bd95_40e230ef4681row7_col2\" class=\"data row7 col2\" >0.3474</td>\n            </tr>\n            <tr>\n                        <th id=\"T_04be2631_1f56_11ea_bd95_40e230ef4681level0_row8\" class=\"row_heading level0 row8\" >cmc</th>\n                        <td id=\"T_04be2631_1f56_11ea_bd95_40e230ef4681row8_col0\" class=\"data row8 col0\" >0.4291</td>\n                        <td id=\"T_04be2631_1f56_11ea_bd95_40e230ef4681row8_col1\" class=\"data row8 col1\" >0.4364</td>\n                        <td id=\"T_04be2631_1f56_11ea_bd95_40e230ef4681row8_col2\" class=\"data row8 col2\" >0.4557</td>\n            </tr>\n            <tr>\n                        <th id=\"T_04be2631_1f56_11ea_bd95_40e230ef4681level0_row9\" class=\"row_heading level0 row9\" >dermatology</th>\n                        <td id=\"T_04be2631_1f56_11ea_bd95_40e230ef4681row9_col0\" class=\"data row9 col0\" >0.9467</td>\n                        <td id=\"T_04be2631_1f56_11ea_bd95_40e230ef4681row9_col1\" class=\"data row9 col1\" >0.9411</td>\n                        <td id=\"T_04be2631_1f56_11ea_bd95_40e230ef4681row9_col2\" class=\"data row9 col2\" >0.9312</td>\n            </tr>\n            <tr>\n                        <th id=\"T_04be2631_1f56_11ea_bd95_40e230ef4681level0_row10\" class=\"row_heading level0 row10\" >flare</th>\n                        <td id=\"T_04be2631_1f56_11ea_bd95_40e230ef4681row10_col0\" class=\"data row10 col0\" >0.5746</td>\n                        <td id=\"T_04be2631_1f56_11ea_bd95_40e230ef4681row10_col1\" class=\"data row10 col1\" >0.5932</td>\n                        <td id=\"T_04be2631_1f56_11ea_bd95_40e230ef4681row10_col2\" class=\"data row10 col2\" >0.5798</td>\n            </tr>\n            <tr>\n                        <th id=\"T_04be2631_1f56_11ea_bd95_40e230ef4681level0_row11\" class=\"row_heading level0 row11\" >glass</th>\n                        <td id=\"T_04be2631_1f56_11ea_bd95_40e230ef4681row11_col0\" class=\"data row11 col0\" >0.6232</td>\n                        <td id=\"T_04be2631_1f56_11ea_bd95_40e230ef4681row11_col1\" class=\"data row11 col1\" >0.684</td>\n                        <td id=\"T_04be2631_1f56_11ea_bd95_40e230ef4681row11_col2\" class=\"data row11 col2\" >0.6942</td>\n            </tr>\n            <tr>\n                        <th id=\"T_04be2631_1f56_11ea_bd95_40e230ef4681level0_row12\" class=\"row_heading level0 row12\" >hayes-roth</th>\n                        <td id=\"T_04be2631_1f56_11ea_bd95_40e230ef4681row12_col0\" class=\"data row12 col0\" >0.5943</td>\n                        <td id=\"T_04be2631_1f56_11ea_bd95_40e230ef4681row12_col1\" class=\"data row12 col1\" >0.7063</td>\n                        <td id=\"T_04be2631_1f56_11ea_bd95_40e230ef4681row12_col2\" class=\"data row12 col2\" >0.5923</td>\n            </tr>\n            <tr>\n                        <th id=\"T_04be2631_1f56_11ea_bd95_40e230ef4681level0_row13\" class=\"row_heading level0 row13\" >new_ecoli</th>\n                        <td id=\"T_04be2631_1f56_11ea_bd95_40e230ef4681row13_col0\" class=\"data row13 col0\" >0.7898</td>\n                        <td id=\"T_04be2631_1f56_11ea_bd95_40e230ef4681row13_col1\" class=\"data row13 col1\" >0.7709</td>\n                        <td id=\"T_04be2631_1f56_11ea_bd95_40e230ef4681row13_col2\" class=\"data row13 col2\" >0.7985</td>\n            </tr>\n            <tr>\n                        <th id=\"T_04be2631_1f56_11ea_bd95_40e230ef4681level0_row14\" class=\"row_heading level0 row14\" >new_led7digit</th>\n                        <td id=\"T_04be2631_1f56_11ea_bd95_40e230ef4681row14_col0\" class=\"data row14 col0\" >0.7771</td>\n                        <td id=\"T_04be2631_1f56_11ea_bd95_40e230ef4681row14_col1\" class=\"data row14 col1\" >0.6773</td>\n                        <td id=\"T_04be2631_1f56_11ea_bd95_40e230ef4681row14_col2\" class=\"data row14 col2\" >0.7655</td>\n            </tr>\n            <tr>\n                        <th id=\"T_04be2631_1f56_11ea_bd95_40e230ef4681level0_row15\" class=\"row_heading level0 row15\" >new_vehicle</th>\n                        <td id=\"T_04be2631_1f56_11ea_bd95_40e230ef4681row15_col0\" class=\"data row15 col0\" >0.9255</td>\n                        <td id=\"T_04be2631_1f56_11ea_bd95_40e230ef4681row15_col1\" class=\"data row15 col1\" >0.9251</td>\n                        <td id=\"T_04be2631_1f56_11ea_bd95_40e230ef4681row15_col2\" class=\"data row15 col2\" >0.9042</td>\n            </tr>\n            <tr>\n                        <th id=\"T_04be2631_1f56_11ea_bd95_40e230ef4681level0_row16\" class=\"row_heading level0 row16\" >new_winequality-red</th>\n                        <td id=\"T_04be2631_1f56_11ea_bd95_40e230ef4681row16_col0\" class=\"data row16 col0\" >0.4447</td>\n                        <td id=\"T_04be2631_1f56_11ea_bd95_40e230ef4681row16_col1\" class=\"data row16 col1\" >0.5225</td>\n                        <td id=\"T_04be2631_1f56_11ea_bd95_40e230ef4681row16_col2\" class=\"data row16 col2\" >0.497</td>\n            </tr>\n            <tr>\n                        <th id=\"T_04be2631_1f56_11ea_bd95_40e230ef4681level0_row17\" class=\"row_heading level0 row17\" >new_yeast</th>\n                        <td id=\"T_04be2631_1f56_11ea_bd95_40e230ef4681row17_col0\" class=\"data row17 col0\" >0.4895</td>\n                        <td id=\"T_04be2631_1f56_11ea_bd95_40e230ef4681row17_col1\" class=\"data row17 col1\" >0.5013</td>\n                        <td id=\"T_04be2631_1f56_11ea_bd95_40e230ef4681row17_col2\" class=\"data row17 col2\" >0.5167</td>\n            </tr>\n            <tr>\n                        <th id=\"T_04be2631_1f56_11ea_bd95_40e230ef4681level0_row18\" class=\"row_heading level0 row18\" >thyroid-newthyroid</th>\n                        <td id=\"T_04be2631_1f56_11ea_bd95_40e230ef4681row18_col0\" class=\"data row18 col0\" >0.922</td>\n                        <td id=\"T_04be2631_1f56_11ea_bd95_40e230ef4681row18_col1\" class=\"data row18 col1\" >0.9526</td>\n                        <td id=\"T_04be2631_1f56_11ea_bd95_40e230ef4681row18_col2\" class=\"data row18 col2\" >0.9467</td>\n            </tr>\n    </tbody></table>"
     },
     "metadata": {},
     "output_type": "display_data"
    }
   ],
   "source": [
    "print_scores(scores_knn)\n",
    "print_scores(avg_acc)\n"
   ]
  },
  {
   "cell_type": "markdown",
   "metadata": {},
   "source": [
    "### Rzeczywiste zbiory danych\n",
    "#### Drzewo"
   ]
  },
  {
   "cell_type": "code",
   "execution_count": 6,
   "metadata": {
    "pycharm": {
     "is_executing": false,
     "name": "#%%\n"
    }
   },
   "outputs": [
    {
     "data": {
      "text/plain": "'G-MEAN'"
     },
     "metadata": {},
     "output_type": "display_data"
    },
    {
     "data": {
      "text/plain": "<pandas.io.formats.style.Styler at 0x7f82a52f26d8>",
      "text/html": "<style  type=\"text/css\" >\n    #T_04be2632_1f56_11ea_bd95_40e230ef4681row4_col0 {\n            background-color:  green;\n        }    #T_04be2632_1f56_11ea_bd95_40e230ef4681row4_col1 {\n            background-color:  green;\n        }    #T_04be2632_1f56_11ea_bd95_40e230ef4681row4_col2 {\n            background-color:  green;\n        }    #T_04be2632_1f56_11ea_bd95_40e230ef4681row5_col0 {\n            background-color:  green;\n        }    #T_04be2632_1f56_11ea_bd95_40e230ef4681row5_col1 {\n            background-color:  green;\n        }    #T_04be2632_1f56_11ea_bd95_40e230ef4681row5_col2 {\n            background-color:  green;\n        }    #T_04be2632_1f56_11ea_bd95_40e230ef4681row9_col0 {\n            background-color:  green;\n        }    #T_04be2632_1f56_11ea_bd95_40e230ef4681row9_col1 {\n            background-color:  green;\n        }    #T_04be2632_1f56_11ea_bd95_40e230ef4681row9_col2 {\n            background-color:  green;\n        }    #T_04be2632_1f56_11ea_bd95_40e230ef4681row11_col0 {\n            background-color:  green;\n        }    #T_04be2632_1f56_11ea_bd95_40e230ef4681row11_col1 {\n            background-color:  green;\n        }    #T_04be2632_1f56_11ea_bd95_40e230ef4681row11_col2 {\n            background-color:  green;\n        }    #T_04be2632_1f56_11ea_bd95_40e230ef4681row14_col0 {\n            background-color:  green;\n        }    #T_04be2632_1f56_11ea_bd95_40e230ef4681row14_col1 {\n            background-color:  green;\n        }    #T_04be2632_1f56_11ea_bd95_40e230ef4681row14_col2 {\n            background-color:  green;\n        }</style><table id=\"T_04be2632_1f56_11ea_bd95_40e230ef4681\" ><thead>    <tr>        <th class=\"blank level0\" ></th>        <th class=\"col_heading level0 col0\" >base</th>        <th class=\"col_heading level0 col1\" >global</th>        <th class=\"col_heading level0 col2\" >soup</th>    </tr></thead><tbody>\n                <tr>\n                        <th id=\"T_04be2632_1f56_11ea_bd95_40e230ef4681level0_row0\" class=\"row_heading level0 row0\" >balance-scale</th>\n                        <td id=\"T_04be2632_1f56_11ea_bd95_40e230ef4681row0_col0\" class=\"data row0 col0\" >nan</td>\n                        <td id=\"T_04be2632_1f56_11ea_bd95_40e230ef4681row0_col1\" class=\"data row0 col1\" >nan</td>\n                        <td id=\"T_04be2632_1f56_11ea_bd95_40e230ef4681row0_col2\" class=\"data row0 col2\" >nan</td>\n            </tr>\n            <tr>\n                        <th id=\"T_04be2632_1f56_11ea_bd95_40e230ef4681level0_row1\" class=\"row_heading level0 row1\" >car</th>\n                        <td id=\"T_04be2632_1f56_11ea_bd95_40e230ef4681row1_col0\" class=\"data row1 col0\" >nan</td>\n                        <td id=\"T_04be2632_1f56_11ea_bd95_40e230ef4681row1_col1\" class=\"data row1 col1\" >nan</td>\n                        <td id=\"T_04be2632_1f56_11ea_bd95_40e230ef4681row1_col2\" class=\"data row1 col2\" >nan</td>\n            </tr>\n            <tr>\n                        <th id=\"T_04be2632_1f56_11ea_bd95_40e230ef4681level0_row2\" class=\"row_heading level0 row2\" >cleveland</th>\n                        <td id=\"T_04be2632_1f56_11ea_bd95_40e230ef4681row2_col0\" class=\"data row2 col0\" >nan</td>\n                        <td id=\"T_04be2632_1f56_11ea_bd95_40e230ef4681row2_col1\" class=\"data row2 col1\" >nan</td>\n                        <td id=\"T_04be2632_1f56_11ea_bd95_40e230ef4681row2_col2\" class=\"data row2 col2\" >nan</td>\n            </tr>\n            <tr>\n                        <th id=\"T_04be2632_1f56_11ea_bd95_40e230ef4681level0_row3\" class=\"row_heading level0 row3\" >cleveland_v2</th>\n                        <td id=\"T_04be2632_1f56_11ea_bd95_40e230ef4681row3_col0\" class=\"data row3 col0\" >nan</td>\n                        <td id=\"T_04be2632_1f56_11ea_bd95_40e230ef4681row3_col1\" class=\"data row3 col1\" >nan</td>\n                        <td id=\"T_04be2632_1f56_11ea_bd95_40e230ef4681row3_col2\" class=\"data row3 col2\" >nan</td>\n            </tr>\n            <tr>\n                        <th id=\"T_04be2632_1f56_11ea_bd95_40e230ef4681level0_row4\" class=\"row_heading level0 row4\" >cmc</th>\n                        <td id=\"T_04be2632_1f56_11ea_bd95_40e230ef4681row4_col0\" class=\"data row4 col0\" >nan</td>\n                        <td id=\"T_04be2632_1f56_11ea_bd95_40e230ef4681row4_col1\" class=\"data row4 col1\" >nan</td>\n                        <td id=\"T_04be2632_1f56_11ea_bd95_40e230ef4681row4_col2\" class=\"data row4 col2\" >nan</td>\n            </tr>\n            <tr>\n                        <th id=\"T_04be2632_1f56_11ea_bd95_40e230ef4681level0_row5\" class=\"row_heading level0 row5\" >dermatology</th>\n                        <td id=\"T_04be2632_1f56_11ea_bd95_40e230ef4681row5_col0\" class=\"data row5 col0\" >nan</td>\n                        <td id=\"T_04be2632_1f56_11ea_bd95_40e230ef4681row5_col1\" class=\"data row5 col1\" >nan</td>\n                        <td id=\"T_04be2632_1f56_11ea_bd95_40e230ef4681row5_col2\" class=\"data row5 col2\" >nan</td>\n            </tr>\n            <tr>\n                        <th id=\"T_04be2632_1f56_11ea_bd95_40e230ef4681level0_row6\" class=\"row_heading level0 row6\" >flare</th>\n                        <td id=\"T_04be2632_1f56_11ea_bd95_40e230ef4681row6_col0\" class=\"data row6 col0\" >nan</td>\n                        <td id=\"T_04be2632_1f56_11ea_bd95_40e230ef4681row6_col1\" class=\"data row6 col1\" >nan</td>\n                        <td id=\"T_04be2632_1f56_11ea_bd95_40e230ef4681row6_col2\" class=\"data row6 col2\" >nan</td>\n            </tr>\n            <tr>\n                        <th id=\"T_04be2632_1f56_11ea_bd95_40e230ef4681level0_row7\" class=\"row_heading level0 row7\" >glass</th>\n                        <td id=\"T_04be2632_1f56_11ea_bd95_40e230ef4681row7_col0\" class=\"data row7 col0\" >nan</td>\n                        <td id=\"T_04be2632_1f56_11ea_bd95_40e230ef4681row7_col1\" class=\"data row7 col1\" >nan</td>\n                        <td id=\"T_04be2632_1f56_11ea_bd95_40e230ef4681row7_col2\" class=\"data row7 col2\" >nan</td>\n            </tr>\n            <tr>\n                        <th id=\"T_04be2632_1f56_11ea_bd95_40e230ef4681level0_row8\" class=\"row_heading level0 row8\" >hayes-roth</th>\n                        <td id=\"T_04be2632_1f56_11ea_bd95_40e230ef4681row8_col0\" class=\"data row8 col0\" >nan</td>\n                        <td id=\"T_04be2632_1f56_11ea_bd95_40e230ef4681row8_col1\" class=\"data row8 col1\" >nan</td>\n                        <td id=\"T_04be2632_1f56_11ea_bd95_40e230ef4681row8_col2\" class=\"data row8 col2\" >nan</td>\n            </tr>\n            <tr>\n                        <th id=\"T_04be2632_1f56_11ea_bd95_40e230ef4681level0_row9\" class=\"row_heading level0 row9\" >new_ecoli</th>\n                        <td id=\"T_04be2632_1f56_11ea_bd95_40e230ef4681row9_col0\" class=\"data row9 col0\" >nan</td>\n                        <td id=\"T_04be2632_1f56_11ea_bd95_40e230ef4681row9_col1\" class=\"data row9 col1\" >nan</td>\n                        <td id=\"T_04be2632_1f56_11ea_bd95_40e230ef4681row9_col2\" class=\"data row9 col2\" >nan</td>\n            </tr>\n            <tr>\n                        <th id=\"T_04be2632_1f56_11ea_bd95_40e230ef4681level0_row10\" class=\"row_heading level0 row10\" >new_led7digit</th>\n                        <td id=\"T_04be2632_1f56_11ea_bd95_40e230ef4681row10_col0\" class=\"data row10 col0\" >nan</td>\n                        <td id=\"T_04be2632_1f56_11ea_bd95_40e230ef4681row10_col1\" class=\"data row10 col1\" >nan</td>\n                        <td id=\"T_04be2632_1f56_11ea_bd95_40e230ef4681row10_col2\" class=\"data row10 col2\" >nan</td>\n            </tr>\n            <tr>\n                        <th id=\"T_04be2632_1f56_11ea_bd95_40e230ef4681level0_row11\" class=\"row_heading level0 row11\" >new_vehicle</th>\n                        <td id=\"T_04be2632_1f56_11ea_bd95_40e230ef4681row11_col0\" class=\"data row11 col0\" >nan</td>\n                        <td id=\"T_04be2632_1f56_11ea_bd95_40e230ef4681row11_col1\" class=\"data row11 col1\" >nan</td>\n                        <td id=\"T_04be2632_1f56_11ea_bd95_40e230ef4681row11_col2\" class=\"data row11 col2\" >nan</td>\n            </tr>\n            <tr>\n                        <th id=\"T_04be2632_1f56_11ea_bd95_40e230ef4681level0_row12\" class=\"row_heading level0 row12\" >new_winequality-red</th>\n                        <td id=\"T_04be2632_1f56_11ea_bd95_40e230ef4681row12_col0\" class=\"data row12 col0\" >nan</td>\n                        <td id=\"T_04be2632_1f56_11ea_bd95_40e230ef4681row12_col1\" class=\"data row12 col1\" >nan</td>\n                        <td id=\"T_04be2632_1f56_11ea_bd95_40e230ef4681row12_col2\" class=\"data row12 col2\" >nan</td>\n            </tr>\n            <tr>\n                        <th id=\"T_04be2632_1f56_11ea_bd95_40e230ef4681level0_row13\" class=\"row_heading level0 row13\" >new_yeast</th>\n                        <td id=\"T_04be2632_1f56_11ea_bd95_40e230ef4681row13_col0\" class=\"data row13 col0\" >nan</td>\n                        <td id=\"T_04be2632_1f56_11ea_bd95_40e230ef4681row13_col1\" class=\"data row13 col1\" >nan</td>\n                        <td id=\"T_04be2632_1f56_11ea_bd95_40e230ef4681row13_col2\" class=\"data row13 col2\" >nan</td>\n            </tr>\n            <tr>\n                        <th id=\"T_04be2632_1f56_11ea_bd95_40e230ef4681level0_row14\" class=\"row_heading level0 row14\" >thyroid-newthyroid</th>\n                        <td id=\"T_04be2632_1f56_11ea_bd95_40e230ef4681row14_col0\" class=\"data row14 col0\" >nan</td>\n                        <td id=\"T_04be2632_1f56_11ea_bd95_40e230ef4681row14_col1\" class=\"data row14 col1\" >nan</td>\n                        <td id=\"T_04be2632_1f56_11ea_bd95_40e230ef4681row14_col2\" class=\"data row14 col2\" >nan</td>\n            </tr>\n    </tbody></table>"
     },
     "metadata": {},
     "output_type": "display_data"
    }
   ],
   "source": [
    "print_scores(scores_tree,only_read_dt=True)\n"
   ]
  },
  {
   "cell_type": "markdown",
   "metadata": {
    "pycharm": {
     "name": "#%% md\n"
    }
   },
   "source": [
    "#### kNN"
   ]
  },
  {
   "cell_type": "code",
   "execution_count": 7,
   "metadata": {
    "pycharm": {
     "is_executing": false,
     "name": "#%%\n"
    }
   },
   "outputs": [
    {
     "data": {
      "text/plain": "'G-MEAN'"
     },
     "metadata": {},
     "output_type": "display_data"
    },
    {
     "data": {
      "text/plain": "<pandas.io.formats.style.Styler at 0x7f82a5159358>",
      "text/html": "<style  type=\"text/css\" >\n    #T_04be2633_1f56_11ea_bd95_40e230ef4681row4_col0 {\n            background-color:  green;\n        }    #T_04be2633_1f56_11ea_bd95_40e230ef4681row4_col1 {\n            background-color:  green;\n        }    #T_04be2633_1f56_11ea_bd95_40e230ef4681row4_col2 {\n            background-color:  green;\n        }    #T_04be2633_1f56_11ea_bd95_40e230ef4681row5_col0 {\n            background-color:  green;\n        }    #T_04be2633_1f56_11ea_bd95_40e230ef4681row5_col1 {\n            background-color:  green;\n        }    #T_04be2633_1f56_11ea_bd95_40e230ef4681row5_col2 {\n            background-color:  green;\n        }    #T_04be2633_1f56_11ea_bd95_40e230ef4681row9_col0 {\n            background-color:  green;\n        }    #T_04be2633_1f56_11ea_bd95_40e230ef4681row9_col1 {\n            background-color:  green;\n        }    #T_04be2633_1f56_11ea_bd95_40e230ef4681row9_col2 {\n            background-color:  green;\n        }    #T_04be2633_1f56_11ea_bd95_40e230ef4681row11_col0 {\n            background-color:  green;\n        }    #T_04be2633_1f56_11ea_bd95_40e230ef4681row11_col1 {\n            background-color:  green;\n        }    #T_04be2633_1f56_11ea_bd95_40e230ef4681row11_col2 {\n            background-color:  green;\n        }    #T_04be2633_1f56_11ea_bd95_40e230ef4681row14_col0 {\n            background-color:  green;\n        }    #T_04be2633_1f56_11ea_bd95_40e230ef4681row14_col1 {\n            background-color:  green;\n        }    #T_04be2633_1f56_11ea_bd95_40e230ef4681row14_col2 {\n            background-color:  green;\n        }</style><table id=\"T_04be2633_1f56_11ea_bd95_40e230ef4681\" ><thead>    <tr>        <th class=\"blank level0\" ></th>        <th class=\"col_heading level0 col0\" >base</th>        <th class=\"col_heading level0 col1\" >global</th>        <th class=\"col_heading level0 col2\" >soup</th>    </tr></thead><tbody>\n                <tr>\n                        <th id=\"T_04be2633_1f56_11ea_bd95_40e230ef4681level0_row0\" class=\"row_heading level0 row0\" >balance-scale</th>\n                        <td id=\"T_04be2633_1f56_11ea_bd95_40e230ef4681row0_col0\" class=\"data row0 col0\" >0.0958</td>\n                        <td id=\"T_04be2633_1f56_11ea_bd95_40e230ef4681row0_col1\" class=\"data row0 col1\" >0.0892</td>\n                        <td id=\"T_04be2633_1f56_11ea_bd95_40e230ef4681row0_col2\" class=\"data row0 col2\" >0.582</td>\n            </tr>\n            <tr>\n                        <th id=\"T_04be2633_1f56_11ea_bd95_40e230ef4681level0_row1\" class=\"row_heading level0 row1\" >car</th>\n                        <td id=\"T_04be2633_1f56_11ea_bd95_40e230ef4681row1_col0\" class=\"data row1 col0\" >0.2651</td>\n                        <td id=\"T_04be2633_1f56_11ea_bd95_40e230ef4681row1_col1\" class=\"data row1 col1\" >0.4141</td>\n                        <td id=\"T_04be2633_1f56_11ea_bd95_40e230ef4681row1_col2\" class=\"data row1 col2\" >0.4696</td>\n            </tr>\n            <tr>\n                        <th id=\"T_04be2633_1f56_11ea_bd95_40e230ef4681level0_row2\" class=\"row_heading level0 row2\" >cleveland</th>\n                        <td id=\"T_04be2633_1f56_11ea_bd95_40e230ef4681row2_col0\" class=\"data row2 col0\" >0.0356</td>\n                        <td id=\"T_04be2633_1f56_11ea_bd95_40e230ef4681row2_col1\" class=\"data row2 col1\" >0.0599</td>\n                        <td id=\"T_04be2633_1f56_11ea_bd95_40e230ef4681row2_col2\" class=\"data row2 col2\" >0.064</td>\n            </tr>\n            <tr>\n                        <th id=\"T_04be2633_1f56_11ea_bd95_40e230ef4681level0_row3\" class=\"row_heading level0 row3\" >cleveland_v2</th>\n                        <td id=\"T_04be2633_1f56_11ea_bd95_40e230ef4681row3_col0\" class=\"data row3 col0\" >0.031</td>\n                        <td id=\"T_04be2633_1f56_11ea_bd95_40e230ef4681row3_col1\" class=\"data row3 col1\" >0.0717</td>\n                        <td id=\"T_04be2633_1f56_11ea_bd95_40e230ef4681row3_col2\" class=\"data row3 col2\" >0.0812</td>\n            </tr>\n            <tr>\n                        <th id=\"T_04be2633_1f56_11ea_bd95_40e230ef4681level0_row4\" class=\"row_heading level0 row4\" >cmc</th>\n                        <td id=\"T_04be2633_1f56_11ea_bd95_40e230ef4681row4_col0\" class=\"data row4 col0\" >0.4115</td>\n                        <td id=\"T_04be2633_1f56_11ea_bd95_40e230ef4681row4_col1\" class=\"data row4 col1\" >0.4296</td>\n                        <td id=\"T_04be2633_1f56_11ea_bd95_40e230ef4681row4_col2\" class=\"data row4 col2\" >0.4514</td>\n            </tr>\n            <tr>\n                        <th id=\"T_04be2633_1f56_11ea_bd95_40e230ef4681level0_row5\" class=\"row_heading level0 row5\" >dermatology</th>\n                        <td id=\"T_04be2633_1f56_11ea_bd95_40e230ef4681row5_col0\" class=\"data row5 col0\" >0.9405</td>\n                        <td id=\"T_04be2633_1f56_11ea_bd95_40e230ef4681row5_col1\" class=\"data row5 col1\" >0.9346</td>\n                        <td id=\"T_04be2633_1f56_11ea_bd95_40e230ef4681row5_col2\" class=\"data row5 col2\" >0.9244</td>\n            </tr>\n            <tr>\n                        <th id=\"T_04be2633_1f56_11ea_bd95_40e230ef4681level0_row6\" class=\"row_heading level0 row6\" >flare</th>\n                        <td id=\"T_04be2633_1f56_11ea_bd95_40e230ef4681row6_col0\" class=\"data row6 col0\" >0.3341</td>\n                        <td id=\"T_04be2633_1f56_11ea_bd95_40e230ef4681row6_col1\" class=\"data row6 col1\" >0.3741</td>\n                        <td id=\"T_04be2633_1f56_11ea_bd95_40e230ef4681row6_col2\" class=\"data row6 col2\" >0.4823</td>\n            </tr>\n            <tr>\n                        <th id=\"T_04be2633_1f56_11ea_bd95_40e230ef4681level0_row7\" class=\"row_heading level0 row7\" >glass</th>\n                        <td id=\"T_04be2633_1f56_11ea_bd95_40e230ef4681row7_col0\" class=\"data row7 col0\" >0.222</td>\n                        <td id=\"T_04be2633_1f56_11ea_bd95_40e230ef4681row7_col1\" class=\"data row7 col1\" >0.4073</td>\n                        <td id=\"T_04be2633_1f56_11ea_bd95_40e230ef4681row7_col2\" class=\"data row7 col2\" >0.5154</td>\n            </tr>\n            <tr>\n                        <th id=\"T_04be2633_1f56_11ea_bd95_40e230ef4681level0_row8\" class=\"row_heading level0 row8\" >hayes-roth</th>\n                        <td id=\"T_04be2633_1f56_11ea_bd95_40e230ef4681row8_col0\" class=\"data row8 col0\" >0.4898</td>\n                        <td id=\"T_04be2633_1f56_11ea_bd95_40e230ef4681row8_col1\" class=\"data row8 col1\" >0.6732</td>\n                        <td id=\"T_04be2633_1f56_11ea_bd95_40e230ef4681row8_col2\" class=\"data row8 col2\" >0.5515</td>\n            </tr>\n            <tr>\n                        <th id=\"T_04be2633_1f56_11ea_bd95_40e230ef4681level0_row9\" class=\"row_heading level0 row9\" >new_ecoli</th>\n                        <td id=\"T_04be2633_1f56_11ea_bd95_40e230ef4681row9_col0\" class=\"data row9 col0\" >0.7112</td>\n                        <td id=\"T_04be2633_1f56_11ea_bd95_40e230ef4681row9_col1\" class=\"data row9 col1\" >0.7118</td>\n                        <td id=\"T_04be2633_1f56_11ea_bd95_40e230ef4681row9_col2\" class=\"data row9 col2\" >0.7678</td>\n            </tr>\n            <tr>\n                        <th id=\"T_04be2633_1f56_11ea_bd95_40e230ef4681level0_row10\" class=\"row_heading level0 row10\" >new_led7digit</th>\n                        <td id=\"T_04be2633_1f56_11ea_bd95_40e230ef4681row10_col0\" class=\"data row10 col0\" >0.7488</td>\n                        <td id=\"T_04be2633_1f56_11ea_bd95_40e230ef4681row10_col1\" class=\"data row10 col1\" >0.3092</td>\n                        <td id=\"T_04be2633_1f56_11ea_bd95_40e230ef4681row10_col2\" class=\"data row10 col2\" >0.7433</td>\n            </tr>\n            <tr>\n                        <th id=\"T_04be2633_1f56_11ea_bd95_40e230ef4681level0_row11\" class=\"row_heading level0 row11\" >new_vehicle</th>\n                        <td id=\"T_04be2633_1f56_11ea_bd95_40e230ef4681row11_col0\" class=\"data row11 col0\" >0.9236</td>\n                        <td id=\"T_04be2633_1f56_11ea_bd95_40e230ef4681row11_col1\" class=\"data row11 col1\" >0.9234</td>\n                        <td id=\"T_04be2633_1f56_11ea_bd95_40e230ef4681row11_col2\" class=\"data row11 col2\" >0.9011</td>\n            </tr>\n            <tr>\n                        <th id=\"T_04be2633_1f56_11ea_bd95_40e230ef4681level0_row12\" class=\"row_heading level0 row12\" >new_winequality-red</th>\n                        <td id=\"T_04be2633_1f56_11ea_bd95_40e230ef4681row12_col0\" class=\"data row12 col0\" >0.2095</td>\n                        <td id=\"T_04be2633_1f56_11ea_bd95_40e230ef4681row12_col1\" class=\"data row12 col1\" >0.4722</td>\n                        <td id=\"T_04be2633_1f56_11ea_bd95_40e230ef4681row12_col2\" class=\"data row12 col2\" >0.4664</td>\n            </tr>\n            <tr>\n                        <th id=\"T_04be2633_1f56_11ea_bd95_40e230ef4681level0_row13\" class=\"row_heading level0 row13\" >new_yeast</th>\n                        <td id=\"T_04be2633_1f56_11ea_bd95_40e230ef4681row13_col0\" class=\"data row13 col0\" >0.2062</td>\n                        <td id=\"T_04be2633_1f56_11ea_bd95_40e230ef4681row13_col1\" class=\"data row13 col1\" >0.2961</td>\n                        <td id=\"T_04be2633_1f56_11ea_bd95_40e230ef4681row13_col2\" class=\"data row13 col2\" >0.3414</td>\n            </tr>\n            <tr>\n                        <th id=\"T_04be2633_1f56_11ea_bd95_40e230ef4681level0_row14\" class=\"row_heading level0 row14\" >thyroid-newthyroid</th>\n                        <td id=\"T_04be2633_1f56_11ea_bd95_40e230ef4681row14_col0\" class=\"data row14 col0\" >0.9027</td>\n                        <td id=\"T_04be2633_1f56_11ea_bd95_40e230ef4681row14_col1\" class=\"data row14 col1\" >0.9453</td>\n                        <td id=\"T_04be2633_1f56_11ea_bd95_40e230ef4681row14_col2\" class=\"data row14 col2\" >0.9397</td>\n            </tr>\n    </tbody></table>"
     },
     "metadata": {},
     "output_type": "display_data"
    }
   ],
   "source": [
    "print_scores(scores_knn,only_read_dt=True)"
   ]
  }
 ],
 "metadata": {
  "kernelspec": {
   "display_name": "Python 3",
   "language": "python",
   "name": "python3"
  },
  "language_info": {
   "codemirror_mode": {
    "name": "ipython",
    "version": 3
   },
   "file_extension": ".py",
   "mimetype": "text/x-python",
   "name": "python",
   "nbconvert_exporter": "python",
   "pygments_lexer": "ipython3",
   "version": "3.6.8"
  },
  "pycharm": {
   "stem_cell": {
    "cell_type": "raw",
    "source": [],
    "metadata": {
     "collapsed": false
    }
   }
  }
 },
 "nbformat": 4,
 "nbformat_minor": 1
}