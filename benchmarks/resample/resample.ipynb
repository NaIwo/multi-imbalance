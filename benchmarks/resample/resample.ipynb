{
 "cells": [
  {
   "cell_type": "code",
   "execution_count": 20,
   "outputs": [],
   "source": [
    "from collections import defaultdict\n",
    "import numpy as np\n",
    "import pandas as pd\n",
    "from tqdm import tqdm\n",
    "from IPython.core.display import display\n",
    "from sklearn.model_selection import StratifiedKFold\n",
    "from sklearn.tree import DecisionTreeClassifier\n",
    "\n",
    "from multi_imbalance.datasets import load_datasets\n",
    "from multi_imbalance.resampling.SOUP import SOUP\n",
    "from multi_imbalance.resampling.MDO import MDO\n",
    "from multi_imbalance.resampling.GlobalCS import GlobalCS\n",
    "\n",
    "from imblearn.metrics import geometric_mean_score\n",
    "from imblearn.over_sampling import SMOTE\n",
    "from multi_imbalance.resampling.SOUPBagging import SOUPBagging\n",
    "from multi_imbalance.resampling.spider import SPIDER3\n",
    "\n",
    "from sklearn.neighbors import KNeighborsClassifier\n",
    "\n",
    "maj_int_min = {\n",
    "    'balance_scale' : {\n",
    "        'maj': [2, 1],\n",
    "        'int': [],\n",
    "        'min': [0]\n",
    "    }, \n",
    "    'cleveland': {\n",
    "        'maj': [0],\n",
    "        'int': [1],\n",
    "        'min': [2,3,4]\n",
    "    }, \n",
    "    'cmc': {\n",
    "        'maj': [0],\n",
    "        'int': [2],\n",
    "        'min': [1]\n",
    "    }, \n",
    "    'dermatology': {\n",
    "        'maj': [0],\n",
    "        'int': [2,1,4,3],\n",
    "        'min': [5]\n",
    "    }, \n",
    "    'ecoli': {\n",
    "        'maj': [0,1],\n",
    "        'int': [7,4,5],\n",
    "        'min': [6,3,2]\n",
    "    }, \n",
    "    'glass': {\n",
    "        'maj': [1,0],\n",
    "        'int': [5],\n",
    "        'min': [2,3,4]\n",
    "    }, \n",
    "    'hayes_roth': {\n",
    "        'maj': [0,1],\n",
    "        'int': [],\n",
    "        'min': [2]\n",
    "    }, \n",
    "    'new_thyroid': {\n",
    "        'maj': [0],\n",
    "        'int': [],\n",
    "        'min': [1,2]\n",
    "    }, \n",
    "    'winequailty_red': {\n",
    "        'maj': [2,3],\n",
    "        'int': [4],\n",
    "        'min': [1,5,0]\n",
    "    }, \n",
    "    'yeast': {\n",
    "        'maj': [0,7],\n",
    "        'int': [6, 5],\n",
    "        'min': [4,3,2,9,8,1]\n",
    "    }\n",
    "}\n",
    "from IPython.display import clear_output\n",
    "clear_output(wait=True)"
   ],
   "metadata": {
    "collapsed": false,
    "pycharm": {
     "name": "#%%\n",
     "is_executing": false
    }
   }
  },
  {
   "cell_type": "code",
   "execution_count": 21,
   "outputs": [],
   "source": [
    "def resample_data(resample, seed, X_train, y_train, no_classes, dataset_name):\n",
    "    if resample == 'base':\n",
    "        X_train_resampled, y_train_resampled = X_train, y_train\n",
    "    elif resample=='soup':\n",
    "        soup = SOUP()\n",
    "        X_train_resampled, y_train_resampled = soup.fit_transform(np.copy(X_train), np.copy(y_train))\n",
    "    elif resample=='global':\n",
    "        global_cs = GlobalCS()\n",
    "        X_train_resampled, y_train_resampled = global_cs.fit_transform(np.copy(X_train), np.copy(y_train), shuffle=False)\n",
    "    elif resample=='smote':\n",
    "        smote = SMOTE(random_state=seed)\n",
    "        X_train_resampled, y_train_resampled = smote.fit_sample(np.copy(X_train), np.copy(y_train))\n",
    "    elif resample=='mdo':\n",
    "        mdo = MDO(k=9, k1_frac=0.1, seed=seed)\n",
    "        X_train_resampled, y_train_resampled = mdo.fit_transform(np.copy(X_train), np.copy(y_train))\n",
    "    elif resample=='spider':\n",
    "        cost = np.ones((no_classes, no_classes))\n",
    "        np.fill_diagonal(cost, 0)\n",
    "        clf = SPIDER3(k=5, cost=cost, majority_classes=maj_int_min[dataset_name]['maj'], intermediate_classes=maj_int_min[dataset_name]['int'], minority_classes=maj_int_min[dataset_name]['min'])\n",
    "        X_train_resampled, y_train_resampled = clf.fit_transform(X_train.astype(np.float64), y_train)\n",
    "    elif 'soupbg' in resample:\n",
    "        # SOUP Bagging does it by itself\n",
    "        X_train_resampled, y_train_resampled = X_train, y_train\n",
    "    return X_train_resampled, y_train_resampled\n",
    "\n",
    "\n",
    "def test_resampling(classifier, res, dataset_values, dataset_name):\n",
    "    X, y = dataset_values.data, dataset_values.target\n",
    "    no_classes = np.unique(y).size\n",
    "    result_data = defaultdict(int)\n",
    "    run_data = defaultdict(lambda: defaultdict(list)) # {metric: {run_number: [scores]}}\n",
    "    for i in range(10):\n",
    "        skf = StratifiedKFold(n_splits=5, shuffle=True,random_state=i)\n",
    "        for train_index, test_index in skf.split(X, y):\n",
    "            X_train, X_test = X[train_index], X[test_index]\n",
    "            y_train, y_test = y[train_index], y[test_index]\n",
    "            \n",
    "            X_train_resampled, y_train_resampled = resample_data(res, i, X_train, y_train, no_classes, dataset_name)\n",
    "            \n",
    "            if classifier == 'knn':\n",
    "                clf = KNeighborsClassifier(n_neighbors=5)\n",
    "            elif classifier == 'tree':\n",
    "                clf = DecisionTreeClassifier(random_state=i)\n",
    "                \n",
    "            # DONT JUDGE ME\n",
    "            if res == 'soupbg005':\n",
    "                vote_classifier = SOUPBagging(clf, n_classifiers=5)\n",
    "                clf = vote_classifier\n",
    "            elif res == 'soupbg015':\n",
    "                vote_classifier = SOUPBagging(clf, n_classifiers=15)\n",
    "                clf = vote_classifier\n",
    "            elif res == 'soupbg030':\n",
    "                vote_classifier = SOUPBagging(clf, n_classifiers=30)\n",
    "                clf = vote_classifier\n",
    "            elif res == 'soupbg050':\n",
    "                vote_classifier = SOUPBagging(clf, n_classifiers=50)\n",
    "                clf = vote_classifier\n",
    "            elif res == 'soupbg100':\n",
    "                vote_classifier = SOUPBagging(clf, n_classifiers=100)\n",
    "                clf = vote_classifier\n",
    "            \n",
    "            clf.fit(X_train_resampled, y_train_resampled)\n",
    "            y_pred = clf.predict(X_test)\n",
    "            gmean = geometric_mean_score(y_test, y_pred, correction=0.001)\n",
    "            run_data['g_mean'][str(i)].append(gmean)\n",
    "    \n",
    "    def get_score_from_metric(run_data, metric):\n",
    "        runs = run_data[metric]\n",
    "        runs_scores_list = list(runs.values()) #[[one run k-foledscores],[..]]\n",
    "        result = np.mean(list(map(np.mean, runs_scores_list)))\n",
    "        return result\n",
    "            \n",
    "    result_data['g_mean'] = get_score_from_metric(run_data, 'g_mean')\n",
    "    return result_data\n"
   ],
   "metadata": {
    "collapsed": false,
    "pycharm": {
     "name": "#%%\n",
     "is_executing": false
    }
   }
  },
  {
   "cell_type": "code",
   "execution_count": 22,
   "metadata": {
    "collapsed": true,
    "pycharm": {
     "is_executing": false,
     "name": "#%%\n"
    }
   },
   "outputs": [],
   "source": [
    "def provide_test_and_get_scores(datasets, clf):\n",
    "    scores = defaultdict(dict)\n",
    "    for dataset_name, dataset_values in tqdm(datasets.items(),total=len(d`atasets)):\n",
    "        clf_res_names =['base','global','smote','mdo','soup','soupbg005','soupbg015','soupbg030', 'soupbg050', 'soupbg100']\n",
    "        for resample in clf_res_names:\n",
    "            result_data = test_resampling(clf, resample, dataset_values, dataset_name)\n",
    "            scores[dataset_name][resample] = round(result_data['g_mean'],3)\n",
    "    return scores"
   ]
  },
  {
   "cell_type": "code",
   "execution_count": 23,
   "outputs": [],
   "source": [
    "def print_scores(scores, only_read_dt = False):\n",
    "    display(\"G-MEAN\")\n",
    "    df = pd.DataFrame(scores).T\n",
    "    if only_read_dt:\n",
    "        df = df.iloc[4:]\n",
    "    display(df)\n",
    "    \n",
    "    # df.fillna(df.median(), inplace=True)\n",
    "    display(pd.DataFrame(df.mean().sort_values(ascending=False),columns=['Mean G-mean']))\n",
    "    display(pd.DataFrame(df.rank(axis=1,ascending=False).mean().sort_values(),columns=['Mean rank']))"
   ],
   "metadata": {
    "collapsed": false,
    "pycharm": {
     "name": "#%%\n",
     "is_executing": false
    }
   }
  },
  {
   "cell_type": "code",
   "execution_count": 24,
   "outputs": [],
   "source": [
    "datasets = load_datasets()\n"
   ],
   "metadata": {
    "collapsed": false,
    "pycharm": {
     "name": "#%%\n",
     "is_executing": false
    }
   }
  },
  {
   "cell_type": "markdown",
   "source": [
    "Testy dla drzewa,\n",
    "Wszystkie zbiory danych:"
   ],
   "metadata": {
    "collapsed": false,
    "pycharm": {
     "name": "#%% md\n"
    }
   }
  },
  {
   "cell_type": "code",
   "execution_count": 25,
   "outputs": [
    {
     "name": "stderr",
     "text": [
      "\n\n",
      "\r  0%|          | 0/17 [00:00<?, ?it/s]",
      "\u001b[A\u001b[A",
      "\n\n",
      "\r  6%|▌         | 1/17 [17:00<4:32:02, 1020.14s/it]",
      "\u001b[A\u001b[A",
      "\n\n",
      "\r 12%|█▏        | 2/17 [37:21<4:30:08, 1080.57s/it]",
      "\u001b[A\u001b[A",
      "\n\n",
      "\r 18%|█▊        | 3/17 [54:59<4:10:31, 1073.70s/it]",
      "\u001b[A\u001b[A",
      "\n\n",
      "\r 24%|██▎       | 4/17 [1:12:50<3:52:27, 1072.91s/it]",
      "\u001b[A\u001b[A",
      "\n\n",
      "\r 29%|██▉       | 5/17 [1:22:05<3:03:31, 917.64s/it] ",
      "\u001b[A\u001b[A",
      "\n\n",
      "\r 35%|███▌      | 6/17 [1:26:45<2:13:08, 726.18s/it]",
      "\u001b[A\u001b[A",
      "\n\n",
      "\r 41%|████      | 7/17 [1:31:11<1:38:03, 588.31s/it]",
      "\u001b[A\u001b[A",
      "\n\n",
      "\r 47%|████▋     | 8/17 [1:51:52<1:57:35, 783.93s/it]",
      "\u001b[A\u001b[A",
      "\n\n",
      "\r 53%|█████▎    | 9/17 [1:57:41<1:27:07, 653.41s/it]",
      "\u001b[A\u001b[A",
      "\n\n",
      "\r 59%|█████▉    | 10/17 [2:01:09<1:00:39, 519.92s/it]",
      "\u001b[A\u001b[A",
      "\n\n",
      "\r 65%|██████▍   | 11/17 [2:03:37<40:49, 408.25s/it]  ",
      "\u001b[A\u001b[A",
      "\n\n",
      "\r 71%|███████   | 12/17 [2:08:24<30:59, 371.85s/it]",
      "\u001b[A\u001b[A",
      "\n\n",
      "\r 76%|███████▋  | 13/17 [2:15:10<25:28, 382.21s/it]",
      "\u001b[A\u001b[A",
      "\n\n",
      "\r 82%|████████▏ | 14/17 [2:26:44<23:47, 475.74s/it]",
      "\u001b[A\u001b[A",
      "\n\n",
      "\r 88%|████████▊ | 15/17 [2:48:06<23:55, 717.55s/it]",
      "\u001b[A\u001b[A",
      "\n\n",
      "\r 94%|█████████▍| 16/17 [3:08:30<14:29, 869.59s/it]",
      "\u001b[A\u001b[A",
      "\n\n",
      "\r100%|██████████| 17/17 [3:11:36<00:00, 664.36s/it]",
      "\u001b[A\u001b[A",
      "\r100%|██████████| 17/17 [3:11:36<00:00, 676.24s/it]",
      "\n"
     ],
     "output_type": "stream"
    },
    {
     "data": {
      "text/plain": "'G-MEAN'"
     },
     "metadata": {},
     "output_type": "display_data"
    },
    {
     "data": {
      "text/plain": "                         base  global  smote    mdo   soup  soupbg005  \\\n1czysty-cut             0.939   0.946  0.955  0.965  0.957      0.944   \n2delikatne-cut          0.698   0.699  0.744  0.772  0.795      0.787   \n3mocniej-cut            0.492   0.482  0.496  0.585  0.578      0.590   \n4delikatne-bezover-cut  0.771   0.768  0.815  0.830  0.894      0.883   \nbalance-scale           0.154   0.123  0.168  0.162  0.621      0.559   \ncleveland               0.127   0.096  0.142  0.098  0.139      0.128   \ncleveland_v2            0.113   0.110  0.129  0.090  0.162      0.150   \ncmc                     0.440   0.451  0.444  0.439  0.466      0.477   \ndermatology             0.925   0.940  0.946  0.948  0.933      0.910   \nglass                   0.463   0.486  0.554  0.598  0.606      0.590   \nhayes-roth              0.837   0.843  0.841  0.842  0.835      0.771   \nnew_ecoli               0.708   0.707  0.723  0.758  0.714      0.701   \nnew_led7digit           0.754   0.757  0.762  0.753  0.760      0.750   \nnew_vehicle             0.900   0.894  0.890  0.899  0.886      0.879   \nnew_winequality-red     0.429   0.407  0.466  0.465  0.437      0.403   \nnew_yeast               0.250   0.240  0.323  0.293  0.290      0.282   \nthyroid-newthyroid      0.900   0.901  0.918  0.936  0.915      0.901   \n\n                        soupbg015  soupbg030  soupbg050  soupbg100  \n1czysty-cut                 0.955      0.956      0.958      0.958  \n2delikatne-cut              0.793      0.800      0.798      0.802  \n3mocniej-cut                0.603      0.611      0.609      0.610  \n4delikatne-bezover-cut      0.887      0.889      0.892      0.891  \nbalance-scale               0.598      0.612      0.642      0.648  \ncleveland                   0.113      0.129      0.123      0.133  \ncleveland_v2                0.183      0.191      0.208      0.186  \ncmc                         0.489      0.503      0.504      0.508  \ndermatology                 0.935      0.951      0.959      0.962  \nglass                       0.631      0.646      0.645      0.654  \nhayes-roth                  0.815      0.838      0.838      0.836  \nnew_ecoli                   0.728      0.725      0.734      0.735  \nnew_led7digit               0.767      0.767      0.768      0.768  \nnew_vehicle                 0.897      0.906      0.910      0.912  \nnew_winequality-red         0.435      0.461      0.472      0.490  \nnew_yeast                   0.320      0.316      0.319      0.317  \nthyroid-newthyroid          0.905      0.901      0.910      0.914  ",
      "text/html": "<div>\n<style scoped>\n    .dataframe tbody tr th:only-of-type {\n        vertical-align: middle;\n    }\n\n    .dataframe tbody tr th {\n        vertical-align: top;\n    }\n\n    .dataframe thead th {\n        text-align: right;\n    }\n</style>\n<table border=\"1\" class=\"dataframe\">\n  <thead>\n    <tr style=\"text-align: right;\">\n      <th></th>\n      <th>base</th>\n      <th>global</th>\n      <th>smote</th>\n      <th>mdo</th>\n      <th>soup</th>\n      <th>soupbg005</th>\n      <th>soupbg015</th>\n      <th>soupbg030</th>\n      <th>soupbg050</th>\n      <th>soupbg100</th>\n    </tr>\n  </thead>\n  <tbody>\n    <tr>\n      <th>1czysty-cut</th>\n      <td>0.939</td>\n      <td>0.946</td>\n      <td>0.955</td>\n      <td>0.965</td>\n      <td>0.957</td>\n      <td>0.944</td>\n      <td>0.955</td>\n      <td>0.956</td>\n      <td>0.958</td>\n      <td>0.958</td>\n    </tr>\n    <tr>\n      <th>2delikatne-cut</th>\n      <td>0.698</td>\n      <td>0.699</td>\n      <td>0.744</td>\n      <td>0.772</td>\n      <td>0.795</td>\n      <td>0.787</td>\n      <td>0.793</td>\n      <td>0.800</td>\n      <td>0.798</td>\n      <td>0.802</td>\n    </tr>\n    <tr>\n      <th>3mocniej-cut</th>\n      <td>0.492</td>\n      <td>0.482</td>\n      <td>0.496</td>\n      <td>0.585</td>\n      <td>0.578</td>\n      <td>0.590</td>\n      <td>0.603</td>\n      <td>0.611</td>\n      <td>0.609</td>\n      <td>0.610</td>\n    </tr>\n    <tr>\n      <th>4delikatne-bezover-cut</th>\n      <td>0.771</td>\n      <td>0.768</td>\n      <td>0.815</td>\n      <td>0.830</td>\n      <td>0.894</td>\n      <td>0.883</td>\n      <td>0.887</td>\n      <td>0.889</td>\n      <td>0.892</td>\n      <td>0.891</td>\n    </tr>\n    <tr>\n      <th>balance-scale</th>\n      <td>0.154</td>\n      <td>0.123</td>\n      <td>0.168</td>\n      <td>0.162</td>\n      <td>0.621</td>\n      <td>0.559</td>\n      <td>0.598</td>\n      <td>0.612</td>\n      <td>0.642</td>\n      <td>0.648</td>\n    </tr>\n    <tr>\n      <th>cleveland</th>\n      <td>0.127</td>\n      <td>0.096</td>\n      <td>0.142</td>\n      <td>0.098</td>\n      <td>0.139</td>\n      <td>0.128</td>\n      <td>0.113</td>\n      <td>0.129</td>\n      <td>0.123</td>\n      <td>0.133</td>\n    </tr>\n    <tr>\n      <th>cleveland_v2</th>\n      <td>0.113</td>\n      <td>0.110</td>\n      <td>0.129</td>\n      <td>0.090</td>\n      <td>0.162</td>\n      <td>0.150</td>\n      <td>0.183</td>\n      <td>0.191</td>\n      <td>0.208</td>\n      <td>0.186</td>\n    </tr>\n    <tr>\n      <th>cmc</th>\n      <td>0.440</td>\n      <td>0.451</td>\n      <td>0.444</td>\n      <td>0.439</td>\n      <td>0.466</td>\n      <td>0.477</td>\n      <td>0.489</td>\n      <td>0.503</td>\n      <td>0.504</td>\n      <td>0.508</td>\n    </tr>\n    <tr>\n      <th>dermatology</th>\n      <td>0.925</td>\n      <td>0.940</td>\n      <td>0.946</td>\n      <td>0.948</td>\n      <td>0.933</td>\n      <td>0.910</td>\n      <td>0.935</td>\n      <td>0.951</td>\n      <td>0.959</td>\n      <td>0.962</td>\n    </tr>\n    <tr>\n      <th>glass</th>\n      <td>0.463</td>\n      <td>0.486</td>\n      <td>0.554</td>\n      <td>0.598</td>\n      <td>0.606</td>\n      <td>0.590</td>\n      <td>0.631</td>\n      <td>0.646</td>\n      <td>0.645</td>\n      <td>0.654</td>\n    </tr>\n    <tr>\n      <th>hayes-roth</th>\n      <td>0.837</td>\n      <td>0.843</td>\n      <td>0.841</td>\n      <td>0.842</td>\n      <td>0.835</td>\n      <td>0.771</td>\n      <td>0.815</td>\n      <td>0.838</td>\n      <td>0.838</td>\n      <td>0.836</td>\n    </tr>\n    <tr>\n      <th>new_ecoli</th>\n      <td>0.708</td>\n      <td>0.707</td>\n      <td>0.723</td>\n      <td>0.758</td>\n      <td>0.714</td>\n      <td>0.701</td>\n      <td>0.728</td>\n      <td>0.725</td>\n      <td>0.734</td>\n      <td>0.735</td>\n    </tr>\n    <tr>\n      <th>new_led7digit</th>\n      <td>0.754</td>\n      <td>0.757</td>\n      <td>0.762</td>\n      <td>0.753</td>\n      <td>0.760</td>\n      <td>0.750</td>\n      <td>0.767</td>\n      <td>0.767</td>\n      <td>0.768</td>\n      <td>0.768</td>\n    </tr>\n    <tr>\n      <th>new_vehicle</th>\n      <td>0.900</td>\n      <td>0.894</td>\n      <td>0.890</td>\n      <td>0.899</td>\n      <td>0.886</td>\n      <td>0.879</td>\n      <td>0.897</td>\n      <td>0.906</td>\n      <td>0.910</td>\n      <td>0.912</td>\n    </tr>\n    <tr>\n      <th>new_winequality-red</th>\n      <td>0.429</td>\n      <td>0.407</td>\n      <td>0.466</td>\n      <td>0.465</td>\n      <td>0.437</td>\n      <td>0.403</td>\n      <td>0.435</td>\n      <td>0.461</td>\n      <td>0.472</td>\n      <td>0.490</td>\n    </tr>\n    <tr>\n      <th>new_yeast</th>\n      <td>0.250</td>\n      <td>0.240</td>\n      <td>0.323</td>\n      <td>0.293</td>\n      <td>0.290</td>\n      <td>0.282</td>\n      <td>0.320</td>\n      <td>0.316</td>\n      <td>0.319</td>\n      <td>0.317</td>\n    </tr>\n    <tr>\n      <th>thyroid-newthyroid</th>\n      <td>0.900</td>\n      <td>0.901</td>\n      <td>0.918</td>\n      <td>0.936</td>\n      <td>0.915</td>\n      <td>0.901</td>\n      <td>0.905</td>\n      <td>0.901</td>\n      <td>0.910</td>\n      <td>0.914</td>\n    </tr>\n  </tbody>\n</table>\n</div>"
     },
     "metadata": {},
     "output_type": "display_data"
    },
    {
     "data": {
      "text/plain": "           Mean G-mean\nsoupbg100     0.666118\nsoupbg050     0.664059\nsoupbg030     0.658941\nsoupbg015     0.650235\nsoup          0.646353\nsoupbg005     0.629706\nmdo           0.613706\nsmote         0.606824\nbase          0.582353\nglobal        0.579412",
      "text/html": "<div>\n<style scoped>\n    .dataframe tbody tr th:only-of-type {\n        vertical-align: middle;\n    }\n\n    .dataframe tbody tr th {\n        vertical-align: top;\n    }\n\n    .dataframe thead th {\n        text-align: right;\n    }\n</style>\n<table border=\"1\" class=\"dataframe\">\n  <thead>\n    <tr style=\"text-align: right;\">\n      <th></th>\n      <th>Mean G-mean</th>\n    </tr>\n  </thead>\n  <tbody>\n    <tr>\n      <th>soupbg100</th>\n      <td>0.666118</td>\n    </tr>\n    <tr>\n      <th>soupbg050</th>\n      <td>0.664059</td>\n    </tr>\n    <tr>\n      <th>soupbg030</th>\n      <td>0.658941</td>\n    </tr>\n    <tr>\n      <th>soupbg015</th>\n      <td>0.650235</td>\n    </tr>\n    <tr>\n      <th>soup</th>\n      <td>0.646353</td>\n    </tr>\n    <tr>\n      <th>soupbg005</th>\n      <td>0.629706</td>\n    </tr>\n    <tr>\n      <th>mdo</th>\n      <td>0.613706</td>\n    </tr>\n    <tr>\n      <th>smote</th>\n      <td>0.606824</td>\n    </tr>\n    <tr>\n      <th>base</th>\n      <td>0.582353</td>\n    </tr>\n    <tr>\n      <th>global</th>\n      <td>0.579412</td>\n    </tr>\n  </tbody>\n</table>\n</div>"
     },
     "metadata": {},
     "output_type": "display_data"
    },
    {
     "data": {
      "text/plain": "           Mean rank\nsoupbg100   2.294118\nsoupbg050   2.852941\nsoupbg030   3.764706\nsoupbg015   5.294118\nsoup        5.352941\nsmote       5.558824\nmdo         5.647059\nsoupbg005   7.705882\nglobal      8.176471\nbase        8.352941",
      "text/html": "<div>\n<style scoped>\n    .dataframe tbody tr th:only-of-type {\n        vertical-align: middle;\n    }\n\n    .dataframe tbody tr th {\n        vertical-align: top;\n    }\n\n    .dataframe thead th {\n        text-align: right;\n    }\n</style>\n<table border=\"1\" class=\"dataframe\">\n  <thead>\n    <tr style=\"text-align: right;\">\n      <th></th>\n      <th>Mean rank</th>\n    </tr>\n  </thead>\n  <tbody>\n    <tr>\n      <th>soupbg100</th>\n      <td>2.294118</td>\n    </tr>\n    <tr>\n      <th>soupbg050</th>\n      <td>2.852941</td>\n    </tr>\n    <tr>\n      <th>soupbg030</th>\n      <td>3.764706</td>\n    </tr>\n    <tr>\n      <th>soupbg015</th>\n      <td>5.294118</td>\n    </tr>\n    <tr>\n      <th>soup</th>\n      <td>5.352941</td>\n    </tr>\n    <tr>\n      <th>smote</th>\n      <td>5.558824</td>\n    </tr>\n    <tr>\n      <th>mdo</th>\n      <td>5.647059</td>\n    </tr>\n    <tr>\n      <th>soupbg005</th>\n      <td>7.705882</td>\n    </tr>\n    <tr>\n      <th>global</th>\n      <td>8.176471</td>\n    </tr>\n    <tr>\n      <th>base</th>\n      <td>8.352941</td>\n    </tr>\n  </tbody>\n</table>\n</div>"
     },
     "metadata": {},
     "output_type": "display_data"
    }
   ],
   "source": [
    "score = provide_test_and_get_scores(datasets, 'tree')\n",
    "print_scores(score)\n"
   ],
   "metadata": {
    "collapsed": false,
    "pycharm": {
     "name": "#%%\n",
     "is_executing": false
    }
   }
  },
  {
   "cell_type": "markdown",
   "source": [
    "Drzewo, tylko rzeczywiste zbiory danych:"
   ],
   "metadata": {
    "collapsed": false,
    "pycharm": {
     "name": "#%% md\n"
    }
   }
  },
  {
   "cell_type": "code",
   "execution_count": 26,
   "outputs": [
    {
     "data": {
      "text/plain": "'G-MEAN'"
     },
     "metadata": {},
     "output_type": "display_data"
    },
    {
     "data": {
      "text/plain": "                      base  global  smote    mdo   soup  soupbg005  soupbg015  \\\nbalance-scale        0.154   0.123  0.168  0.162  0.621      0.559      0.598   \ncleveland            0.127   0.096  0.142  0.098  0.139      0.128      0.113   \ncleveland_v2         0.113   0.110  0.129  0.090  0.162      0.150      0.183   \ncmc                  0.440   0.451  0.444  0.439  0.466      0.477      0.489   \ndermatology          0.925   0.940  0.946  0.948  0.933      0.910      0.935   \nglass                0.463   0.486  0.554  0.598  0.606      0.590      0.631   \nhayes-roth           0.837   0.843  0.841  0.842  0.835      0.771      0.815   \nnew_ecoli            0.708   0.707  0.723  0.758  0.714      0.701      0.728   \nnew_led7digit        0.754   0.757  0.762  0.753  0.760      0.750      0.767   \nnew_vehicle          0.900   0.894  0.890  0.899  0.886      0.879      0.897   \nnew_winequality-red  0.429   0.407  0.466  0.465  0.437      0.403      0.435   \nnew_yeast            0.250   0.240  0.323  0.293  0.290      0.282      0.320   \nthyroid-newthyroid   0.900   0.901  0.918  0.936  0.915      0.901      0.905   \n\n                     soupbg030  soupbg050  soupbg100  \nbalance-scale            0.612      0.642      0.648  \ncleveland                0.129      0.123      0.133  \ncleveland_v2             0.191      0.208      0.186  \ncmc                      0.503      0.504      0.508  \ndermatology              0.951      0.959      0.962  \nglass                    0.646      0.645      0.654  \nhayes-roth               0.838      0.838      0.836  \nnew_ecoli                0.725      0.734      0.735  \nnew_led7digit            0.767      0.768      0.768  \nnew_vehicle              0.906      0.910      0.912  \nnew_winequality-red      0.461      0.472      0.490  \nnew_yeast                0.316      0.319      0.317  \nthyroid-newthyroid       0.901      0.910      0.914  ",
      "text/html": "<div>\n<style scoped>\n    .dataframe tbody tr th:only-of-type {\n        vertical-align: middle;\n    }\n\n    .dataframe tbody tr th {\n        vertical-align: top;\n    }\n\n    .dataframe thead th {\n        text-align: right;\n    }\n</style>\n<table border=\"1\" class=\"dataframe\">\n  <thead>\n    <tr style=\"text-align: right;\">\n      <th></th>\n      <th>base</th>\n      <th>global</th>\n      <th>smote</th>\n      <th>mdo</th>\n      <th>soup</th>\n      <th>soupbg005</th>\n      <th>soupbg015</th>\n      <th>soupbg030</th>\n      <th>soupbg050</th>\n      <th>soupbg100</th>\n    </tr>\n  </thead>\n  <tbody>\n    <tr>\n      <th>balance-scale</th>\n      <td>0.154</td>\n      <td>0.123</td>\n      <td>0.168</td>\n      <td>0.162</td>\n      <td>0.621</td>\n      <td>0.559</td>\n      <td>0.598</td>\n      <td>0.612</td>\n      <td>0.642</td>\n      <td>0.648</td>\n    </tr>\n    <tr>\n      <th>cleveland</th>\n      <td>0.127</td>\n      <td>0.096</td>\n      <td>0.142</td>\n      <td>0.098</td>\n      <td>0.139</td>\n      <td>0.128</td>\n      <td>0.113</td>\n      <td>0.129</td>\n      <td>0.123</td>\n      <td>0.133</td>\n    </tr>\n    <tr>\n      <th>cleveland_v2</th>\n      <td>0.113</td>\n      <td>0.110</td>\n      <td>0.129</td>\n      <td>0.090</td>\n      <td>0.162</td>\n      <td>0.150</td>\n      <td>0.183</td>\n      <td>0.191</td>\n      <td>0.208</td>\n      <td>0.186</td>\n    </tr>\n    <tr>\n      <th>cmc</th>\n      <td>0.440</td>\n      <td>0.451</td>\n      <td>0.444</td>\n      <td>0.439</td>\n      <td>0.466</td>\n      <td>0.477</td>\n      <td>0.489</td>\n      <td>0.503</td>\n      <td>0.504</td>\n      <td>0.508</td>\n    </tr>\n    <tr>\n      <th>dermatology</th>\n      <td>0.925</td>\n      <td>0.940</td>\n      <td>0.946</td>\n      <td>0.948</td>\n      <td>0.933</td>\n      <td>0.910</td>\n      <td>0.935</td>\n      <td>0.951</td>\n      <td>0.959</td>\n      <td>0.962</td>\n    </tr>\n    <tr>\n      <th>glass</th>\n      <td>0.463</td>\n      <td>0.486</td>\n      <td>0.554</td>\n      <td>0.598</td>\n      <td>0.606</td>\n      <td>0.590</td>\n      <td>0.631</td>\n      <td>0.646</td>\n      <td>0.645</td>\n      <td>0.654</td>\n    </tr>\n    <tr>\n      <th>hayes-roth</th>\n      <td>0.837</td>\n      <td>0.843</td>\n      <td>0.841</td>\n      <td>0.842</td>\n      <td>0.835</td>\n      <td>0.771</td>\n      <td>0.815</td>\n      <td>0.838</td>\n      <td>0.838</td>\n      <td>0.836</td>\n    </tr>\n    <tr>\n      <th>new_ecoli</th>\n      <td>0.708</td>\n      <td>0.707</td>\n      <td>0.723</td>\n      <td>0.758</td>\n      <td>0.714</td>\n      <td>0.701</td>\n      <td>0.728</td>\n      <td>0.725</td>\n      <td>0.734</td>\n      <td>0.735</td>\n    </tr>\n    <tr>\n      <th>new_led7digit</th>\n      <td>0.754</td>\n      <td>0.757</td>\n      <td>0.762</td>\n      <td>0.753</td>\n      <td>0.760</td>\n      <td>0.750</td>\n      <td>0.767</td>\n      <td>0.767</td>\n      <td>0.768</td>\n      <td>0.768</td>\n    </tr>\n    <tr>\n      <th>new_vehicle</th>\n      <td>0.900</td>\n      <td>0.894</td>\n      <td>0.890</td>\n      <td>0.899</td>\n      <td>0.886</td>\n      <td>0.879</td>\n      <td>0.897</td>\n      <td>0.906</td>\n      <td>0.910</td>\n      <td>0.912</td>\n    </tr>\n    <tr>\n      <th>new_winequality-red</th>\n      <td>0.429</td>\n      <td>0.407</td>\n      <td>0.466</td>\n      <td>0.465</td>\n      <td>0.437</td>\n      <td>0.403</td>\n      <td>0.435</td>\n      <td>0.461</td>\n      <td>0.472</td>\n      <td>0.490</td>\n    </tr>\n    <tr>\n      <th>new_yeast</th>\n      <td>0.250</td>\n      <td>0.240</td>\n      <td>0.323</td>\n      <td>0.293</td>\n      <td>0.290</td>\n      <td>0.282</td>\n      <td>0.320</td>\n      <td>0.316</td>\n      <td>0.319</td>\n      <td>0.317</td>\n    </tr>\n    <tr>\n      <th>thyroid-newthyroid</th>\n      <td>0.900</td>\n      <td>0.901</td>\n      <td>0.918</td>\n      <td>0.936</td>\n      <td>0.915</td>\n      <td>0.901</td>\n      <td>0.905</td>\n      <td>0.901</td>\n      <td>0.910</td>\n      <td>0.914</td>\n    </tr>\n  </tbody>\n</table>\n</div>"
     },
     "metadata": {},
     "output_type": "display_data"
    },
    {
     "data": {
      "text/plain": "           Mean G-mean\nsoupbg100     0.620231\nsoupbg050     0.617846\nsoupbg030     0.611231\nsoupbg015     0.601231\nsoup          0.597231\nsoupbg005     0.577000\nsmote         0.562000\nmdo           0.560077\nbase          0.538462\nglobal        0.535000",
      "text/html": "<div>\n<style scoped>\n    .dataframe tbody tr th:only-of-type {\n        vertical-align: middle;\n    }\n\n    .dataframe tbody tr th {\n        vertical-align: top;\n    }\n\n    .dataframe thead th {\n        text-align: right;\n    }\n</style>\n<table border=\"1\" class=\"dataframe\">\n  <thead>\n    <tr style=\"text-align: right;\">\n      <th></th>\n      <th>Mean G-mean</th>\n    </tr>\n  </thead>\n  <tbody>\n    <tr>\n      <th>soupbg100</th>\n      <td>0.620231</td>\n    </tr>\n    <tr>\n      <th>soupbg050</th>\n      <td>0.617846</td>\n    </tr>\n    <tr>\n      <th>soupbg030</th>\n      <td>0.611231</td>\n    </tr>\n    <tr>\n      <th>soupbg015</th>\n      <td>0.601231</td>\n    </tr>\n    <tr>\n      <th>soup</th>\n      <td>0.597231</td>\n    </tr>\n    <tr>\n      <th>soupbg005</th>\n      <td>0.577000</td>\n    </tr>\n    <tr>\n      <th>smote</th>\n      <td>0.562000</td>\n    </tr>\n    <tr>\n      <th>mdo</th>\n      <td>0.560077</td>\n    </tr>\n    <tr>\n      <th>base</th>\n      <td>0.538462</td>\n    </tr>\n    <tr>\n      <th>global</th>\n      <td>0.535000</td>\n    </tr>\n  </tbody>\n</table>\n</div>"
     },
     "metadata": {},
     "output_type": "display_data"
    },
    {
     "data": {
      "text/plain": "           Mean rank\nsoupbg100   2.346154\nsoupbg050   2.923077\nsoupbg030   4.000000\nsmote       4.923077\nsoupbg015   5.346154\nmdo         5.769231\nsoup        5.769231\nglobal      7.846154\nbase        8.000000\nsoupbg005   8.076923",
      "text/html": "<div>\n<style scoped>\n    .dataframe tbody tr th:only-of-type {\n        vertical-align: middle;\n    }\n\n    .dataframe tbody tr th {\n        vertical-align: top;\n    }\n\n    .dataframe thead th {\n        text-align: right;\n    }\n</style>\n<table border=\"1\" class=\"dataframe\">\n  <thead>\n    <tr style=\"text-align: right;\">\n      <th></th>\n      <th>Mean rank</th>\n    </tr>\n  </thead>\n  <tbody>\n    <tr>\n      <th>soupbg100</th>\n      <td>2.346154</td>\n    </tr>\n    <tr>\n      <th>soupbg050</th>\n      <td>2.923077</td>\n    </tr>\n    <tr>\n      <th>soupbg030</th>\n      <td>4.000000</td>\n    </tr>\n    <tr>\n      <th>smote</th>\n      <td>4.923077</td>\n    </tr>\n    <tr>\n      <th>soupbg015</th>\n      <td>5.346154</td>\n    </tr>\n    <tr>\n      <th>mdo</th>\n      <td>5.769231</td>\n    </tr>\n    <tr>\n      <th>soup</th>\n      <td>5.769231</td>\n    </tr>\n    <tr>\n      <th>global</th>\n      <td>7.846154</td>\n    </tr>\n    <tr>\n      <th>base</th>\n      <td>8.000000</td>\n    </tr>\n    <tr>\n      <th>soupbg005</th>\n      <td>8.076923</td>\n    </tr>\n  </tbody>\n</table>\n</div>"
     },
     "metadata": {},
     "output_type": "display_data"
    }
   ],
   "source": [
    "print_scores(score,only_read_dt=True)\n"
   ],
   "metadata": {
    "collapsed": false,
    "pycharm": {
     "name": "#%%\n",
     "is_executing": false
    }
   }
  },
  {
   "cell_type": "markdown",
   "source": [
    "Testy dla knn,\n",
    "Wszystkie zbiory danych:"
   ],
   "metadata": {
    "collapsed": false
   }
  },
  {
   "cell_type": "code",
   "execution_count": 27,
   "outputs": [
    {
     "name": "stderr",
     "text": [
      "\n\n",
      "\r  0%|          | 0/17 [00:00<?, ?it/s]",
      "\u001b[A\u001b[A",
      "\n\n",
      "\r  6%|▌         | 1/17 [15:39<4:10:27, 939.24s/it]",
      "\u001b[A\u001b[A",
      "\n\n",
      "\r 12%|█▏        | 2/17 [31:15<3:54:33, 938.20s/it]",
      "\u001b[A\u001b[A",
      "\n\n",
      "\r 18%|█▊        | 3/17 [46:53<3:38:57, 938.37s/it]",
      "\u001b[A\u001b[A",
      "\n\n",
      "\r 24%|██▎       | 4/17 [1:02:30<3:23:11, 937.79s/it]",
      "\u001b[A\u001b[A",
      "\n\n",
      "\r 29%|██▉       | 5/17 [1:10:53<2:41:29, 807.49s/it]",
      "\u001b[A\u001b[A",
      "\n\n",
      "\r 35%|███▌      | 6/17 [1:15:20<1:58:17, 645.18s/it]",
      "\u001b[A\u001b[A",
      "\n\n",
      "\r 41%|████      | 7/17 [1:19:45<1:28:32, 531.22s/it]",
      "\u001b[A\u001b[A",
      "\n\n",
      "\r 47%|████▋     | 8/17 [1:39:21<1:48:41, 724.60s/it]",
      "\u001b[A\u001b[A",
      "\n\n",
      "\r 53%|█████▎    | 9/17 [1:44:46<1:20:38, 604.86s/it]",
      "\u001b[A\u001b[A",
      "\n\n",
      "\r 59%|█████▉    | 10/17 [1:48:02<56:14, 482.07s/it] ",
      "\u001b[A\u001b[A",
      "\n\n",
      "\r 65%|██████▍   | 11/17 [1:50:25<38:02, 380.43s/it]",
      "\u001b[A\u001b[A",
      "\n\n",
      "\r 71%|███████   | 12/17 [1:55:11<29:19, 351.99s/it]",
      "\u001b[A\u001b[A",
      "\n\n",
      "\r 76%|███████▋  | 13/17 [2:02:04<24:41, 370.28s/it]",
      "\u001b[A\u001b[A",
      "\n\n",
      "\r 82%|████████▏ | 14/17 [2:13:42<23:25, 468.62s/it]",
      "\u001b[A\u001b[A",
      "\n\n",
      "\r 88%|████████▊ | 15/17 [2:34:58<23:41, 710.94s/it]",
      "\u001b[A\u001b[A",
      "\n\n",
      "\r 94%|█████████▍| 16/17 [2:56:10<14:39, 879.21s/it]",
      "\u001b[A\u001b[A",
      "\n\n",
      "\r100%|██████████| 17/17 [2:59:19<00:00, 672.27s/it]",
      "\u001b[A\u001b[A",
      "\r100%|██████████| 17/17 [2:59:19<00:00, 632.93s/it]",
      "\n"
     ],
     "output_type": "stream"
    },
    {
     "data": {
      "text/plain": "'G-MEAN'"
     },
     "metadata": {},
     "output_type": "display_data"
    },
    {
     "data": {
      "text/plain": "                         base  global  smote    mdo   soup  soupbg005  \\\n1czysty-cut             0.971   0.975  0.978  0.977  0.947      0.953   \n2delikatne-cut          0.704   0.760  0.761  0.801  0.789      0.792   \n3mocniej-cut            0.466   0.523  0.498  0.599  0.556      0.560   \n4delikatne-bezover-cut  0.812   0.852  0.861  0.875  0.889      0.891   \nbalance-scale           0.193   0.267  0.420  0.684  0.687      0.628   \ncleveland               0.020   0.134  0.129  0.066  0.107      0.129   \ncleveland_v2            0.009   0.183  0.233  0.056  0.191      0.166   \ncmc                     0.482   0.476  0.481  0.479  0.506      0.488   \ndermatology             0.843   0.849  0.849  0.854  0.817      0.789   \nglass                   0.201   0.625  0.621  0.499  0.609      0.553   \nhayes-roth              0.559   0.614  0.627  0.611  0.601      0.562   \nnew_ecoli               0.814   0.775  0.807  0.824  0.817      0.801   \nnew_led7digit           0.757   0.441  0.727  0.774  0.746      0.753   \nnew_vehicle             0.849   0.863  0.859  0.852  0.822      0.810   \nnew_winequality-red     0.101   0.382  0.393  0.175  0.380      0.360   \nnew_yeast               0.262   0.378  0.395  0.321  0.406      0.350   \nthyroid-newthyroid      0.821   0.936  0.920  0.902  0.899      0.901   \n\n                        soupbg015  soupbg030  soupbg050  soupbg100  \n1czysty-cut                 0.952      0.953      0.953      0.953  \n2delikatne-cut              0.794      0.792      0.791      0.789  \n3mocniej-cut                0.556      0.554      0.558      0.545  \n4delikatne-bezover-cut      0.891      0.891      0.890      0.890  \nbalance-scale               0.672      0.691      0.706      0.707  \ncleveland                   0.103      0.113      0.104      0.112  \ncleveland_v2                0.172      0.189      0.205      0.186  \ncmc                         0.513      0.515      0.519      0.519  \ndermatology                 0.809      0.821      0.821      0.824  \nglass                       0.603      0.599      0.613      0.616  \nhayes-roth                  0.618      0.627      0.639      0.641  \nnew_ecoli                   0.810      0.820      0.820      0.828  \nnew_led7digit               0.758      0.758      0.756      0.756  \nnew_vehicle                 0.820      0.824      0.824      0.825  \nnew_winequality-red         0.375      0.376      0.379      0.383  \nnew_yeast                   0.403      0.397      0.397      0.396  \nthyroid-newthyroid          0.909      0.915      0.903      0.897  ",
      "text/html": "<div>\n<style scoped>\n    .dataframe tbody tr th:only-of-type {\n        vertical-align: middle;\n    }\n\n    .dataframe tbody tr th {\n        vertical-align: top;\n    }\n\n    .dataframe thead th {\n        text-align: right;\n    }\n</style>\n<table border=\"1\" class=\"dataframe\">\n  <thead>\n    <tr style=\"text-align: right;\">\n      <th></th>\n      <th>base</th>\n      <th>global</th>\n      <th>smote</th>\n      <th>mdo</th>\n      <th>soup</th>\n      <th>soupbg005</th>\n      <th>soupbg015</th>\n      <th>soupbg030</th>\n      <th>soupbg050</th>\n      <th>soupbg100</th>\n    </tr>\n  </thead>\n  <tbody>\n    <tr>\n      <th>1czysty-cut</th>\n      <td>0.971</td>\n      <td>0.975</td>\n      <td>0.978</td>\n      <td>0.977</td>\n      <td>0.947</td>\n      <td>0.953</td>\n      <td>0.952</td>\n      <td>0.953</td>\n      <td>0.953</td>\n      <td>0.953</td>\n    </tr>\n    <tr>\n      <th>2delikatne-cut</th>\n      <td>0.704</td>\n      <td>0.760</td>\n      <td>0.761</td>\n      <td>0.801</td>\n      <td>0.789</td>\n      <td>0.792</td>\n      <td>0.794</td>\n      <td>0.792</td>\n      <td>0.791</td>\n      <td>0.789</td>\n    </tr>\n    <tr>\n      <th>3mocniej-cut</th>\n      <td>0.466</td>\n      <td>0.523</td>\n      <td>0.498</td>\n      <td>0.599</td>\n      <td>0.556</td>\n      <td>0.560</td>\n      <td>0.556</td>\n      <td>0.554</td>\n      <td>0.558</td>\n      <td>0.545</td>\n    </tr>\n    <tr>\n      <th>4delikatne-bezover-cut</th>\n      <td>0.812</td>\n      <td>0.852</td>\n      <td>0.861</td>\n      <td>0.875</td>\n      <td>0.889</td>\n      <td>0.891</td>\n      <td>0.891</td>\n      <td>0.891</td>\n      <td>0.890</td>\n      <td>0.890</td>\n    </tr>\n    <tr>\n      <th>balance-scale</th>\n      <td>0.193</td>\n      <td>0.267</td>\n      <td>0.420</td>\n      <td>0.684</td>\n      <td>0.687</td>\n      <td>0.628</td>\n      <td>0.672</td>\n      <td>0.691</td>\n      <td>0.706</td>\n      <td>0.707</td>\n    </tr>\n    <tr>\n      <th>cleveland</th>\n      <td>0.020</td>\n      <td>0.134</td>\n      <td>0.129</td>\n      <td>0.066</td>\n      <td>0.107</td>\n      <td>0.129</td>\n      <td>0.103</td>\n      <td>0.113</td>\n      <td>0.104</td>\n      <td>0.112</td>\n    </tr>\n    <tr>\n      <th>cleveland_v2</th>\n      <td>0.009</td>\n      <td>0.183</td>\n      <td>0.233</td>\n      <td>0.056</td>\n      <td>0.191</td>\n      <td>0.166</td>\n      <td>0.172</td>\n      <td>0.189</td>\n      <td>0.205</td>\n      <td>0.186</td>\n    </tr>\n    <tr>\n      <th>cmc</th>\n      <td>0.482</td>\n      <td>0.476</td>\n      <td>0.481</td>\n      <td>0.479</td>\n      <td>0.506</td>\n      <td>0.488</td>\n      <td>0.513</td>\n      <td>0.515</td>\n      <td>0.519</td>\n      <td>0.519</td>\n    </tr>\n    <tr>\n      <th>dermatology</th>\n      <td>0.843</td>\n      <td>0.849</td>\n      <td>0.849</td>\n      <td>0.854</td>\n      <td>0.817</td>\n      <td>0.789</td>\n      <td>0.809</td>\n      <td>0.821</td>\n      <td>0.821</td>\n      <td>0.824</td>\n    </tr>\n    <tr>\n      <th>glass</th>\n      <td>0.201</td>\n      <td>0.625</td>\n      <td>0.621</td>\n      <td>0.499</td>\n      <td>0.609</td>\n      <td>0.553</td>\n      <td>0.603</td>\n      <td>0.599</td>\n      <td>0.613</td>\n      <td>0.616</td>\n    </tr>\n    <tr>\n      <th>hayes-roth</th>\n      <td>0.559</td>\n      <td>0.614</td>\n      <td>0.627</td>\n      <td>0.611</td>\n      <td>0.601</td>\n      <td>0.562</td>\n      <td>0.618</td>\n      <td>0.627</td>\n      <td>0.639</td>\n      <td>0.641</td>\n    </tr>\n    <tr>\n      <th>new_ecoli</th>\n      <td>0.814</td>\n      <td>0.775</td>\n      <td>0.807</td>\n      <td>0.824</td>\n      <td>0.817</td>\n      <td>0.801</td>\n      <td>0.810</td>\n      <td>0.820</td>\n      <td>0.820</td>\n      <td>0.828</td>\n    </tr>\n    <tr>\n      <th>new_led7digit</th>\n      <td>0.757</td>\n      <td>0.441</td>\n      <td>0.727</td>\n      <td>0.774</td>\n      <td>0.746</td>\n      <td>0.753</td>\n      <td>0.758</td>\n      <td>0.758</td>\n      <td>0.756</td>\n      <td>0.756</td>\n    </tr>\n    <tr>\n      <th>new_vehicle</th>\n      <td>0.849</td>\n      <td>0.863</td>\n      <td>0.859</td>\n      <td>0.852</td>\n      <td>0.822</td>\n      <td>0.810</td>\n      <td>0.820</td>\n      <td>0.824</td>\n      <td>0.824</td>\n      <td>0.825</td>\n    </tr>\n    <tr>\n      <th>new_winequality-red</th>\n      <td>0.101</td>\n      <td>0.382</td>\n      <td>0.393</td>\n      <td>0.175</td>\n      <td>0.380</td>\n      <td>0.360</td>\n      <td>0.375</td>\n      <td>0.376</td>\n      <td>0.379</td>\n      <td>0.383</td>\n    </tr>\n    <tr>\n      <th>new_yeast</th>\n      <td>0.262</td>\n      <td>0.378</td>\n      <td>0.395</td>\n      <td>0.321</td>\n      <td>0.406</td>\n      <td>0.350</td>\n      <td>0.403</td>\n      <td>0.397</td>\n      <td>0.397</td>\n      <td>0.396</td>\n    </tr>\n    <tr>\n      <th>thyroid-newthyroid</th>\n      <td>0.821</td>\n      <td>0.936</td>\n      <td>0.920</td>\n      <td>0.902</td>\n      <td>0.899</td>\n      <td>0.901</td>\n      <td>0.909</td>\n      <td>0.915</td>\n      <td>0.903</td>\n      <td>0.897</td>\n    </tr>\n  </tbody>\n</table>\n</div>"
     },
     "metadata": {},
     "output_type": "display_data"
    },
    {
     "data": {
      "text/plain": "           Mean G-mean\nsoupbg050     0.639882\nsoupbg100     0.639235\nsoupbg030     0.637353\nsoup          0.633471\nsoupbg015     0.632824\nsmote         0.621118\nsoupbg005     0.616824\nmdo           0.608765\nglobal        0.590176\nbase          0.521412",
      "text/html": "<div>\n<style scoped>\n    .dataframe tbody tr th:only-of-type {\n        vertical-align: middle;\n    }\n\n    .dataframe tbody tr th {\n        vertical-align: top;\n    }\n\n    .dataframe thead th {\n        text-align: right;\n    }\n</style>\n<table border=\"1\" class=\"dataframe\">\n  <thead>\n    <tr style=\"text-align: right;\">\n      <th></th>\n      <th>Mean G-mean</th>\n    </tr>\n  </thead>\n  <tbody>\n    <tr>\n      <th>soupbg050</th>\n      <td>0.639882</td>\n    </tr>\n    <tr>\n      <th>soupbg100</th>\n      <td>0.639235</td>\n    </tr>\n    <tr>\n      <th>soupbg030</th>\n      <td>0.637353</td>\n    </tr>\n    <tr>\n      <th>soup</th>\n      <td>0.633471</td>\n    </tr>\n    <tr>\n      <th>soupbg015</th>\n      <td>0.632824</td>\n    </tr>\n    <tr>\n      <th>smote</th>\n      <td>0.621118</td>\n    </tr>\n    <tr>\n      <th>soupbg005</th>\n      <td>0.616824</td>\n    </tr>\n    <tr>\n      <th>mdo</th>\n      <td>0.608765</td>\n    </tr>\n    <tr>\n      <th>global</th>\n      <td>0.590176</td>\n    </tr>\n    <tr>\n      <th>base</th>\n      <td>0.521412</td>\n    </tr>\n  </tbody>\n</table>\n</div>"
     },
     "metadata": {},
     "output_type": "display_data"
    },
    {
     "data": {
      "text/plain": "           Mean rank\nsoupbg050   4.294118\nsoupbg100   4.323529\nsoupbg030   4.352941\nsmote       4.794118\nmdo         5.294118\nsoupbg015   5.529412\nglobal      5.676471\nsoup        5.882353\nsoupbg005   6.676471\nbase        8.176471",
      "text/html": "<div>\n<style scoped>\n    .dataframe tbody tr th:only-of-type {\n        vertical-align: middle;\n    }\n\n    .dataframe tbody tr th {\n        vertical-align: top;\n    }\n\n    .dataframe thead th {\n        text-align: right;\n    }\n</style>\n<table border=\"1\" class=\"dataframe\">\n  <thead>\n    <tr style=\"text-align: right;\">\n      <th></th>\n      <th>Mean rank</th>\n    </tr>\n  </thead>\n  <tbody>\n    <tr>\n      <th>soupbg050</th>\n      <td>4.294118</td>\n    </tr>\n    <tr>\n      <th>soupbg100</th>\n      <td>4.323529</td>\n    </tr>\n    <tr>\n      <th>soupbg030</th>\n      <td>4.352941</td>\n    </tr>\n    <tr>\n      <th>smote</th>\n      <td>4.794118</td>\n    </tr>\n    <tr>\n      <th>mdo</th>\n      <td>5.294118</td>\n    </tr>\n    <tr>\n      <th>soupbg015</th>\n      <td>5.529412</td>\n    </tr>\n    <tr>\n      <th>global</th>\n      <td>5.676471</td>\n    </tr>\n    <tr>\n      <th>soup</th>\n      <td>5.882353</td>\n    </tr>\n    <tr>\n      <th>soupbg005</th>\n      <td>6.676471</td>\n    </tr>\n    <tr>\n      <th>base</th>\n      <td>8.176471</td>\n    </tr>\n  </tbody>\n</table>\n</div>"
     },
     "metadata": {},
     "output_type": "display_data"
    }
   ],
   "source": [
    "score = provide_test_and_get_scores(datasets, 'knn')\n",
    "print_scores(score)\n"
   ],
   "metadata": {
    "collapsed": false,
    "pycharm": {
     "name": "#%%\n",
     "is_executing": false
    }
   }
  },
  {
   "cell_type": "markdown",
   "source": [
    "knn (k=5), tylko rzeczywiste zbiory danych:"
   ],
   "metadata": {
    "collapsed": false
   }
  },
  {
   "cell_type": "code",
   "execution_count": 28,
   "outputs": [
    {
     "data": {
      "text/plain": "'G-MEAN'"
     },
     "metadata": {},
     "output_type": "display_data"
    },
    {
     "data": {
      "text/plain": "                      base  global  smote    mdo   soup  soupbg005  soupbg015  \\\nbalance-scale        0.193   0.267  0.420  0.684  0.687      0.628      0.672   \ncleveland            0.020   0.134  0.129  0.066  0.107      0.129      0.103   \ncleveland_v2         0.009   0.183  0.233  0.056  0.191      0.166      0.172   \ncmc                  0.482   0.476  0.481  0.479  0.506      0.488      0.513   \ndermatology          0.843   0.849  0.849  0.854  0.817      0.789      0.809   \nglass                0.201   0.625  0.621  0.499  0.609      0.553      0.603   \nhayes-roth           0.559   0.614  0.627  0.611  0.601      0.562      0.618   \nnew_ecoli            0.814   0.775  0.807  0.824  0.817      0.801      0.810   \nnew_led7digit        0.757   0.441  0.727  0.774  0.746      0.753      0.758   \nnew_vehicle          0.849   0.863  0.859  0.852  0.822      0.810      0.820   \nnew_winequality-red  0.101   0.382  0.393  0.175  0.380      0.360      0.375   \nnew_yeast            0.262   0.378  0.395  0.321  0.406      0.350      0.403   \nthyroid-newthyroid   0.821   0.936  0.920  0.902  0.899      0.901      0.909   \n\n                     soupbg030  soupbg050  soupbg100  \nbalance-scale            0.691      0.706      0.707  \ncleveland                0.113      0.104      0.112  \ncleveland_v2             0.189      0.205      0.186  \ncmc                      0.515      0.519      0.519  \ndermatology              0.821      0.821      0.824  \nglass                    0.599      0.613      0.616  \nhayes-roth               0.627      0.639      0.641  \nnew_ecoli                0.820      0.820      0.828  \nnew_led7digit            0.758      0.756      0.756  \nnew_vehicle              0.824      0.824      0.825  \nnew_winequality-red      0.376      0.379      0.383  \nnew_yeast                0.397      0.397      0.396  \nthyroid-newthyroid       0.915      0.903      0.897  ",
      "text/html": "<div>\n<style scoped>\n    .dataframe tbody tr th:only-of-type {\n        vertical-align: middle;\n    }\n\n    .dataframe tbody tr th {\n        vertical-align: top;\n    }\n\n    .dataframe thead th {\n        text-align: right;\n    }\n</style>\n<table border=\"1\" class=\"dataframe\">\n  <thead>\n    <tr style=\"text-align: right;\">\n      <th></th>\n      <th>base</th>\n      <th>global</th>\n      <th>smote</th>\n      <th>mdo</th>\n      <th>soup</th>\n      <th>soupbg005</th>\n      <th>soupbg015</th>\n      <th>soupbg030</th>\n      <th>soupbg050</th>\n      <th>soupbg100</th>\n    </tr>\n  </thead>\n  <tbody>\n    <tr>\n      <th>balance-scale</th>\n      <td>0.193</td>\n      <td>0.267</td>\n      <td>0.420</td>\n      <td>0.684</td>\n      <td>0.687</td>\n      <td>0.628</td>\n      <td>0.672</td>\n      <td>0.691</td>\n      <td>0.706</td>\n      <td>0.707</td>\n    </tr>\n    <tr>\n      <th>cleveland</th>\n      <td>0.020</td>\n      <td>0.134</td>\n      <td>0.129</td>\n      <td>0.066</td>\n      <td>0.107</td>\n      <td>0.129</td>\n      <td>0.103</td>\n      <td>0.113</td>\n      <td>0.104</td>\n      <td>0.112</td>\n    </tr>\n    <tr>\n      <th>cleveland_v2</th>\n      <td>0.009</td>\n      <td>0.183</td>\n      <td>0.233</td>\n      <td>0.056</td>\n      <td>0.191</td>\n      <td>0.166</td>\n      <td>0.172</td>\n      <td>0.189</td>\n      <td>0.205</td>\n      <td>0.186</td>\n    </tr>\n    <tr>\n      <th>cmc</th>\n      <td>0.482</td>\n      <td>0.476</td>\n      <td>0.481</td>\n      <td>0.479</td>\n      <td>0.506</td>\n      <td>0.488</td>\n      <td>0.513</td>\n      <td>0.515</td>\n      <td>0.519</td>\n      <td>0.519</td>\n    </tr>\n    <tr>\n      <th>dermatology</th>\n      <td>0.843</td>\n      <td>0.849</td>\n      <td>0.849</td>\n      <td>0.854</td>\n      <td>0.817</td>\n      <td>0.789</td>\n      <td>0.809</td>\n      <td>0.821</td>\n      <td>0.821</td>\n      <td>0.824</td>\n    </tr>\n    <tr>\n      <th>glass</th>\n      <td>0.201</td>\n      <td>0.625</td>\n      <td>0.621</td>\n      <td>0.499</td>\n      <td>0.609</td>\n      <td>0.553</td>\n      <td>0.603</td>\n      <td>0.599</td>\n      <td>0.613</td>\n      <td>0.616</td>\n    </tr>\n    <tr>\n      <th>hayes-roth</th>\n      <td>0.559</td>\n      <td>0.614</td>\n      <td>0.627</td>\n      <td>0.611</td>\n      <td>0.601</td>\n      <td>0.562</td>\n      <td>0.618</td>\n      <td>0.627</td>\n      <td>0.639</td>\n      <td>0.641</td>\n    </tr>\n    <tr>\n      <th>new_ecoli</th>\n      <td>0.814</td>\n      <td>0.775</td>\n      <td>0.807</td>\n      <td>0.824</td>\n      <td>0.817</td>\n      <td>0.801</td>\n      <td>0.810</td>\n      <td>0.820</td>\n      <td>0.820</td>\n      <td>0.828</td>\n    </tr>\n    <tr>\n      <th>new_led7digit</th>\n      <td>0.757</td>\n      <td>0.441</td>\n      <td>0.727</td>\n      <td>0.774</td>\n      <td>0.746</td>\n      <td>0.753</td>\n      <td>0.758</td>\n      <td>0.758</td>\n      <td>0.756</td>\n      <td>0.756</td>\n    </tr>\n    <tr>\n      <th>new_vehicle</th>\n      <td>0.849</td>\n      <td>0.863</td>\n      <td>0.859</td>\n      <td>0.852</td>\n      <td>0.822</td>\n      <td>0.810</td>\n      <td>0.820</td>\n      <td>0.824</td>\n      <td>0.824</td>\n      <td>0.825</td>\n    </tr>\n    <tr>\n      <th>new_winequality-red</th>\n      <td>0.101</td>\n      <td>0.382</td>\n      <td>0.393</td>\n      <td>0.175</td>\n      <td>0.380</td>\n      <td>0.360</td>\n      <td>0.375</td>\n      <td>0.376</td>\n      <td>0.379</td>\n      <td>0.383</td>\n    </tr>\n    <tr>\n      <th>new_yeast</th>\n      <td>0.262</td>\n      <td>0.378</td>\n      <td>0.395</td>\n      <td>0.321</td>\n      <td>0.406</td>\n      <td>0.350</td>\n      <td>0.403</td>\n      <td>0.397</td>\n      <td>0.397</td>\n      <td>0.396</td>\n    </tr>\n    <tr>\n      <th>thyroid-newthyroid</th>\n      <td>0.821</td>\n      <td>0.936</td>\n      <td>0.920</td>\n      <td>0.902</td>\n      <td>0.899</td>\n      <td>0.901</td>\n      <td>0.909</td>\n      <td>0.915</td>\n      <td>0.903</td>\n      <td>0.897</td>\n    </tr>\n  </tbody>\n</table>\n</div>"
     },
     "metadata": {},
     "output_type": "display_data"
    },
    {
     "data": {
      "text/plain": "           Mean G-mean\nsoupbg100     0.591538\nsoupbg050     0.591231\nsoupbg030     0.588077\nsoup          0.583692\nsoupbg015     0.581923\nsmote         0.573923\nsoupbg005     0.560769\nmdo           0.545923\nglobal        0.532538\nbase          0.454692",
      "text/html": "<div>\n<style scoped>\n    .dataframe tbody tr th:only-of-type {\n        vertical-align: middle;\n    }\n\n    .dataframe tbody tr th {\n        vertical-align: top;\n    }\n\n    .dataframe thead th {\n        text-align: right;\n    }\n</style>\n<table border=\"1\" class=\"dataframe\">\n  <thead>\n    <tr style=\"text-align: right;\">\n      <th></th>\n      <th>Mean G-mean</th>\n    </tr>\n  </thead>\n  <tbody>\n    <tr>\n      <th>soupbg100</th>\n      <td>0.591538</td>\n    </tr>\n    <tr>\n      <th>soupbg050</th>\n      <td>0.591231</td>\n    </tr>\n    <tr>\n      <th>soupbg030</th>\n      <td>0.588077</td>\n    </tr>\n    <tr>\n      <th>soup</th>\n      <td>0.583692</td>\n    </tr>\n    <tr>\n      <th>soupbg015</th>\n      <td>0.581923</td>\n    </tr>\n    <tr>\n      <th>smote</th>\n      <td>0.573923</td>\n    </tr>\n    <tr>\n      <th>soupbg005</th>\n      <td>0.560769</td>\n    </tr>\n    <tr>\n      <th>mdo</th>\n      <td>0.545923</td>\n    </tr>\n    <tr>\n      <th>global</th>\n      <td>0.532538</td>\n    </tr>\n    <tr>\n      <th>base</th>\n      <td>0.454692</td>\n    </tr>\n  </tbody>\n</table>\n</div>"
     },
     "metadata": {},
     "output_type": "display_data"
    },
    {
     "data": {
      "text/plain": "           Mean rank\nsoupbg100   3.769231\nsoupbg050   4.153846\nsmote       4.269231\nsoupbg030   4.307692\nglobal      5.192308\nsoup        5.615385\nsoupbg015   5.884615\nmdo         6.076923\nsoupbg005   7.653846\nbase        8.076923",
      "text/html": "<div>\n<style scoped>\n    .dataframe tbody tr th:only-of-type {\n        vertical-align: middle;\n    }\n\n    .dataframe tbody tr th {\n        vertical-align: top;\n    }\n\n    .dataframe thead th {\n        text-align: right;\n    }\n</style>\n<table border=\"1\" class=\"dataframe\">\n  <thead>\n    <tr style=\"text-align: right;\">\n      <th></th>\n      <th>Mean rank</th>\n    </tr>\n  </thead>\n  <tbody>\n    <tr>\n      <th>soupbg100</th>\n      <td>3.769231</td>\n    </tr>\n    <tr>\n      <th>soupbg050</th>\n      <td>4.153846</td>\n    </tr>\n    <tr>\n      <th>smote</th>\n      <td>4.269231</td>\n    </tr>\n    <tr>\n      <th>soupbg030</th>\n      <td>4.307692</td>\n    </tr>\n    <tr>\n      <th>global</th>\n      <td>5.192308</td>\n    </tr>\n    <tr>\n      <th>soup</th>\n      <td>5.615385</td>\n    </tr>\n    <tr>\n      <th>soupbg015</th>\n      <td>5.884615</td>\n    </tr>\n    <tr>\n      <th>mdo</th>\n      <td>6.076923</td>\n    </tr>\n    <tr>\n      <th>soupbg005</th>\n      <td>7.653846</td>\n    </tr>\n    <tr>\n      <th>base</th>\n      <td>8.076923</td>\n    </tr>\n  </tbody>\n</table>\n</div>"
     },
     "metadata": {},
     "output_type": "display_data"
    }
   ],
   "source": [
    "print_scores(score,only_read_dt=True)"
   ],
   "metadata": {
    "collapsed": false,
    "pycharm": {
     "name": "#%%\n",
     "is_executing": false
    }
   }
  }
 ],
 "metadata": {
  "kernelspec": {
   "display_name": "Python 3",
   "language": "python",
   "name": "python3"
  },
  "language_info": {
   "codemirror_mode": {
    "name": "ipython",
    "version": 2
   },
   "file_extension": ".py",
   "mimetype": "text/x-python",
   "name": "python",
   "nbconvert_exporter": "python",
   "pygments_lexer": "ipython2",
   "version": "2.7.6"
  },
  "pycharm": {
   "stem_cell": {
    "cell_type": "raw",
    "source": [],
    "metadata": {
     "collapsed": false
    }
   }
  }
 },
 "nbformat": 4,
 "nbformat_minor": 0
}