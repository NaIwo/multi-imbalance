{
 "cells": [
  {
   "cell_type": "code",
   "execution_count": 1,
   "outputs": [],
   "source": [
    "from collections import Counter, defaultdict\n",
    "import numpy as np\n",
    "import pandas as pd\n",
    "import tqdm as tqdm\n",
    "from IPython.core.display import display\n",
    "from sklearn.model_selection import StratifiedKFold\n",
    "from sklearn.tree import DecisionTreeClassifier\n",
    "from benchmarks.resample.SOUPBagging import SOUPBagging\n",
    "\n",
    "from multi_imbalance.datasets import load_datasets\n",
    "from multi_imbalance.resampling.SOUP import SOUP\n",
    "from multi_imbalance.resampling.MDO import MDO\n",
    "from multi_imbalance.resampling.GlobalCS import GlobalCS\n",
    "\n",
    "from imblearn.metrics import geometric_mean_score\n",
    "from imblearn.over_sampling import SMOTE\n",
    "from multi_imbalance.resampling.spider import SPIDER3\n",
    "\n",
    "from sklearn.neighbors import KNeighborsClassifier\n",
    "maj_int_min = {\n",
    "    'balance_scale' : {\n",
    "        'maj': [2, 1],\n",
    "        'int': [],\n",
    "        'min': [0]\n",
    "    }, \n",
    "    'cleveland': {\n",
    "        'maj': [0],\n",
    "        'int': [1],\n",
    "        'min': [2,3,4]\n",
    "    }, \n",
    "    'cmc': {\n",
    "        'maj': [0],\n",
    "        'int': [2],\n",
    "        'min': [1]\n",
    "    }, \n",
    "    'dermatology': {\n",
    "        'maj': [0],\n",
    "        'int': [2,1,4,3],\n",
    "        'min': [5]\n",
    "    }, \n",
    "    'ecoli': {\n",
    "        'maj': [0,1],\n",
    "        'int': [7,4,5],\n",
    "        'min': [6,3,2]\n",
    "    }, \n",
    "    'glass': {\n",
    "        'maj': [1,0],\n",
    "        'int': [5],\n",
    "        'min': [2,3,4]\n",
    "    }, \n",
    "    'hayes_roth': {\n",
    "        'maj': [0,1],\n",
    "        'int': [],\n",
    "        'min': [2]\n",
    "    }, \n",
    "    'new_thyroid': {\n",
    "        'maj': [0],\n",
    "        'int': [],\n",
    "        'min': [1,2]\n",
    "    }, \n",
    "    'winequailty_red': {\n",
    "        'maj': [2,3],\n",
    "        'int': [4],\n",
    "        'min': [1,5,0]\n",
    "    }, \n",
    "    'yeast': {\n",
    "        'maj': [0,7],\n",
    "        'int': [6, 5],\n",
    "        'min': [4,3,2,9,8,1]\n",
    "    }\n",
    "}\n",
    "from IPython.display import clear_output\n",
    "clear_output(wait=True)"
   ],
   "metadata": {
    "collapsed": false,
    "pycharm": {
     "name": "#%%\n",
     "is_executing": false
    }
   }
  },
  {
   "cell_type": "code",
   "execution_count": 2,
   "outputs": [],
   "source": [
    "def resample_data(resample, seed, X_train, y_train, no_classes, dataset_name):\n",
    "    if resample == 'base':\n",
    "        X_train_resampled, y_train_resampled = X_train, y_train\n",
    "    elif resample=='soup':\n",
    "        soup = SOUP()\n",
    "        X_train_resampled, y_train_resampled = soup.fit_transform(np.copy(X_train), np.copy(y_train))\n",
    "    elif resample=='global':\n",
    "        global_cs = GlobalCS()\n",
    "        X_train_resampled, y_train_resampled = global_cs.fit_transform(np.copy(X_train), np.copy(y_train), shuffle=False)\n",
    "    elif resample=='smote':\n",
    "        smote = SMOTE(random_state=seed)\n",
    "        X_train_resampled, y_train_resampled = smote.fit_sample(np.copy(X_train), np.copy(y_train))\n",
    "    elif resample=='mdo':\n",
    "        mdo = MDO(k=9, k1_frac=0.1, seed=seed)\n",
    "        X_train_resampled, y_train_resampled = mdo.fit_transform(np.copy(X_train), np.copy(y_train))\n",
    "    elif resample=='spider':\n",
    "        cost = np.ones((no_classes, no_classes))\n",
    "        np.fill_diagonal(cost, 0)\n",
    "        clf = SPIDER3(k=5, cost=cost, majority_classes=maj_int_min[dataset_name]['maj'], intermediate_classes=maj_int_min[dataset_name]['int'], minority_classes=maj_int_min[dataset_name]['min'])\n",
    "        X_train_resampled, y_train_resampled = clf.fit_transform(X_train.astype(np.float64), y_train)\n",
    "    elif resample=='soupbagging':\n",
    "        # SOUP Bagging does it by itself\n",
    "        X_train_resampled, y_train_resampled = X_train, y_train\n",
    "    return X_train_resampled, y_train_resampled\n",
    "\n",
    "\n",
    "def test_resampling(classifier, res, dataset_values, dataset_name):\n",
    "    X, y = dataset_values.data, dataset_values.target\n",
    "    no_classes = np.unique(y).size\n",
    "    result_data = defaultdict(int)\n",
    "    run_data = defaultdict(lambda: defaultdict(list)) # {metric: {run_number: [scores]}}\n",
    "    for i in range(10):\n",
    "        skf = StratifiedKFold(n_splits=5, shuffle=True,random_state=i)\n",
    "        for train_index, test_index in skf.split(X, y):\n",
    "            X_train, X_test = X[train_index], X[test_index]\n",
    "            y_train, y_test = y[train_index], y[test_index]\n",
    "            \n",
    "            X_train_resampled, y_train_resampled = resample_data(res, i, X_train, y_train, no_classes, dataset_name)\n",
    "            \n",
    "            if classifier == 'knn':\n",
    "                clf = KNeighborsClassifier(n_neighbors=5)\n",
    "            elif classifier == 'tree':\n",
    "                clf = DecisionTreeClassifier(random_state=i)\n",
    "                \n",
    "            if res == 'soupbagging':\n",
    "                vote_classifier = SOUPBagging(clf, n_classifiers=5, seed=i)\n",
    "                clf = vote_classifier\n",
    "            \n",
    "            clf.fit(X_train_resampled, y_train_resampled)\n",
    "            y_pred = clf.predict(X_test)\n",
    "            gmean = geometric_mean_score(y_test, y_pred, correction=0.001)\n",
    "            run_data['g_mean'][str(i)].append(gmean)\n",
    "    \n",
    "    def get_score_from_metric(run_data, metric):\n",
    "        runs = run_data[metric]\n",
    "        runs_scores_list = list(runs.values()) #[[one run k-foledscores],[..]]\n",
    "        result = np.mean(list(map(np.mean, runs_scores_list)))\n",
    "        return result\n",
    "            \n",
    "    result_data['g_mean'] = get_score_from_metric(run_data, 'g_mean')\n",
    "    return result_data\n"
   ],
   "metadata": {
    "collapsed": false,
    "pycharm": {
     "name": "#%%\n",
     "is_executing": false
    }
   }
  },
  {
   "cell_type": "code",
   "execution_count": 3,
   "metadata": {
    "collapsed": true,
    "pycharm": {
     "is_executing": false,
     "name": "#%%\n"
    }
   },
   "outputs": [],
   "source": [
    "def provide_test_and_get_scores(datasets, clf):\n",
    "    scores = defaultdict(dict)\n",
    "    for dataset_name, dataset_values in tqdm.tqdm(datasets.items(),total=len(datasets)):\n",
    "        clf_res_names =['base','global','smote','soup','soupbagging','mdo']\n",
    "        # print(dataset_name)\n",
    "        for resample in clf_res_names:\n",
    "            result_data = test_resampling(clf, resample, dataset_values, dataset_name)\n",
    "            scores[dataset_name][resample] = round(result_data['g_mean'],3)\n"
   ]
  },
  {
   "cell_type": "code",
   "execution_count": 4,
   "outputs": [],
   "source": [
    "def print_scores(scores, only_read_dt = False):\n",
    "    display(\"G-MEAN\")\n",
    "    df = pd.DataFrame(scores).T\n",
    "    if only_read_dt:\n",
    "        df = df.iloc[4:]\n",
    "    display(df)\n",
    "    \n",
    "    # df.fillna(df.median(), inplace=True)\n",
    "    display(pd.DataFrame(df.mean().sort_values(ascending=False),columns=['Mean G-mean']))\n",
    "    display(pd.DataFrame(df.rank(axis=1,ascending=False).mean().sort_values(),columns=['Mean rank']))"
   ],
   "metadata": {
    "collapsed": false,
    "pycharm": {
     "name": "#%%\n",
     "is_executing": false
    }
   }
  },
  {
   "cell_type": "code",
   "execution_count": 5,
   "outputs": [],
   "source": [
    "datasets = load_datasets()\n"
   ],
   "metadata": {
    "collapsed": false,
    "pycharm": {
     "name": "#%%\n",
     "is_executing": false
    }
   }
  },
  {
   "cell_type": "markdown",
   "source": [
    "Testy dla drzewa,\n",
    "Wszystkie zbiory danych:"
   ],
   "metadata": {
    "collapsed": false,
    "pycharm": {
     "name": "#%% md\n"
    }
   }
  },
  {
   "cell_type": "code",
   "execution_count": null,
   "outputs": [
    {
     "name": "stderr",
     "text": [
      "\r  0%|          | 0/17 [00:00<?, ?it/s]",
      "\r  6%|▌         | 1/17 [01:37<25:59, 97.46s/it]",
      "\r 12%|█▏        | 2/17 [03:16<24:30, 98.02s/it]",
      "\r 18%|█▊        | 3/17 [04:53<22:45, 97.57s/it]",
      "\r 24%|██▎       | 4/17 [06:29<21:01, 97.02s/it]",
      "\r 29%|██▉       | 5/17 [07:18<16:34, 82.83s/it]",
      "\r 35%|███▌      | 6/17 [07:47<12:11, 66.46s/it]",
      "\r 41%|████      | 7/17 [08:14<09:08, 54.82s/it]",
      "\r 47%|████▋     | 8/17 [10:11<11:01, 73.53s/it]",
      "\r 53%|█████▎    | 9/17 [10:47<08:16, 62.05s/it]",
      "\r 59%|█████▉    | 10/17 [11:06<05:44, 49.21s/it]",
      "\r 65%|██████▍   | 11/17 [11:19<03:49, 38.28s/it]",
      "\r 71%|███████   | 12/17 [11:47<02:56, 35.25s/it]",
      "\r 76%|███████▋  | 13/17 [12:28<02:27, 36.97s/it]"
     ],
     "output_type": "stream"
    }
   ],
   "source": [
    "score = provide_test_and_get_scores(datasets, 'tree')\n",
    "print_scores(score)\n"
   ],
   "metadata": {
    "collapsed": false,
    "pycharm": {
     "name": "#%%\n",
     "is_executing": true
    }
   }
  },
  {
   "cell_type": "markdown",
   "source": [
    "Drzewo, tylko rzeczywiste zbiory danych:"
   ],
   "metadata": {
    "collapsed": false,
    "pycharm": {
     "name": "#%% md\n"
    }
   }
  },
  {
   "cell_type": "code",
   "execution_count": null,
   "outputs": [],
   "source": [
    "print_scores(score,only_read_dt=True)\n"
   ],
   "metadata": {
    "collapsed": false,
    "pycharm": {
     "name": "#%%\n",
     "is_executing": true
    }
   }
  },
  {
   "cell_type": "markdown",
   "source": [
    "Testy dla knn,\n",
    "Wszystkie zbiory danych:"
   ],
   "metadata": {
    "collapsed": false
   }
  },
  {
   "cell_type": "code",
   "execution_count": null,
   "outputs": [],
   "source": [
    "score = provide_test_and_get_scores(datasets, 'knn')\n",
    "print_scores(score)\n"
   ],
   "metadata": {
    "collapsed": false,
    "pycharm": {
     "name": "#%%\n",
     "is_executing": true
    }
   }
  },
  {
   "cell_type": "markdown",
   "source": [
    "knn (k=5), tylko rzeczywiste zbiory danych:"
   ],
   "metadata": {
    "collapsed": false
   }
  },
  {
   "cell_type": "code",
   "execution_count": null,
   "outputs": [],
   "source": [
    "print_scores(score,only_read_dt=True)\n"
   ],
   "metadata": {
    "collapsed": false,
    "pycharm": {
     "name": "#%%\n",
     "is_executing": true
    }
   }
  }
 ],
 "metadata": {
  "kernelspec": {
   "display_name": "Python 3",
   "language": "python",
   "name": "python3"
  },
  "language_info": {
   "codemirror_mode": {
    "name": "ipython",
    "version": 2
   },
   "file_extension": ".py",
   "mimetype": "text/x-python",
   "name": "python",
   "nbconvert_exporter": "python",
   "pygments_lexer": "ipython2",
   "version": "2.7.6"
  },
  "pycharm": {
   "stem_cell": {
    "cell_type": "raw",
    "source": [],
    "metadata": {
     "collapsed": false
    }
   }
  }
 },
 "nbformat": 4,
 "nbformat_minor": 0
}