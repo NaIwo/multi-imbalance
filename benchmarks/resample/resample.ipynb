{
 "cells": [
  {
   "cell_type": "code",
   "execution_count": 5,
   "outputs": [],
   "source": [
    "\n",
    "maj_int_min = {\n",
    "    'balance_scale' : {\n",
    "        'maj': [2, 1],\n",
    "        'int': [],\n",
    "        'min': [0]\n",
    "    }, \n",
    "    'cleveland': {\n",
    "        'maj': [0],\n",
    "        'int': [1],\n",
    "        'min': [2,3,4]\n",
    "    }, \n",
    "    'cmc': {\n",
    "        'maj': [0],\n",
    "        'int': [2],\n",
    "        'min': [1]\n",
    "    }, \n",
    "    'dermatology': {\n",
    "        'maj': [0],\n",
    "        'int': [2,1,4,3],\n",
    "        'min': [5]\n",
    "    }, \n",
    "    'ecoli': {\n",
    "        'maj': [0,1],\n",
    "        'int': [7,4,5],\n",
    "        'min': [6,3,2]\n",
    "    }, \n",
    "    'glass': {\n",
    "        'maj': [1,0],\n",
    "        'int': [5],\n",
    "        'min': [2,3,4]\n",
    "    }, \n",
    "    'hayes_roth': {\n",
    "        'maj': [0,1],\n",
    "        'int': [],\n",
    "        'min': [2]\n",
    "    }, \n",
    "    'new_thyroid': {\n",
    "        'maj': [0],\n",
    "        'int': [],\n",
    "        'min': [1,2]\n",
    "    }, \n",
    "    'winequailty_red': {\n",
    "        'maj': [2,3],\n",
    "        'int': [4],\n",
    "        'min': [1,5,0]\n",
    "    }, \n",
    "    'yeast': {\n",
    "        'maj': [0,7],\n",
    "        'int': [6, 5],\n",
    "        'min': [4,3,2,9,8,1]\n",
    "    }\n",
    "}"
   ],
   "metadata": {
    "collapsed": false,
    "pycharm": {
     "name": "#%%\n",
     "is_executing": false
    }
   }
  },
  {
   "cell_type": "code",
   "execution_count": 7,
   "metadata": {
    "collapsed": true,
    "pycharm": {
     "is_executing": false,
     "name": "#%%\n"
    }
   },
   "outputs": [
    {
     "name": "stdout",
     "text": [
      "balance_scale\n",
      "cleveland\n",
      "cmc\ndermatology\n",
      "ecoli\nsmote ecoli Expected n_neighbors <= n_samples,  but n_samples = 1, n_neighbors = 6\nsmote ecoli Expected n_neighbors <= n_samples,  but n_samples = 1, n_neighbors = 6\nsmote ecoli Expected n_neighbors <= n_samples,  but n_samples = 2, n_neighbors = 6\nsmote ecoli Expected n_neighbors <= n_samples,  but n_samples = 2, n_neighbors = 6\n",
      "glass\n",
      "hayes_roth\n",
      "new_thyroid\n",
      "winequailty_red\nyeast\n"
     ],
     "output_type": "stream"
    },
    {
     "name": "stderr",
     "text": [
      "/home/plutasnyy/git/multi-imbalance/venv/lib/python3.6/site-packages/sklearn/model_selection/_split.py:657: Warning: The least populated class in y has only 2 members, which is too few. The minimum number of members in any class cannot be less than n_splits=4.\n  % (min_groups, self.n_splits)), Warning)\n/home/plutasnyy/git/multi-imbalance/venv/lib/python3.6/site-packages/imblearn/metrics/_classification.py:635: UndefinedMetricWarning: Recall is ill-defined and being set to 0.0 in labels with no true samples.\n  \"recall\")\n/home/plutasnyy/git/multi-imbalance/venv/lib/python3.6/site-packages/sklearn/model_selection/_split.py:657: Warning: The least populated class in y has only 2 members, which is too few. The minimum number of members in any class cannot be less than n_splits=4.\n  % (min_groups, self.n_splits)), Warning)\n/home/plutasnyy/git/multi-imbalance/venv/lib/python3.6/site-packages/imblearn/metrics/_classification.py:635: UndefinedMetricWarning: Recall is ill-defined and being set to 0.0 in labels with no true samples.\n  \"recall\")\n/home/plutasnyy/git/multi-imbalance/venv/lib/python3.6/site-packages/sklearn/model_selection/_split.py:657: Warning: The least populated class in y has only 2 members, which is too few. The minimum number of members in any class cannot be less than n_splits=4.\n  % (min_groups, self.n_splits)), Warning)\n/home/plutasnyy/git/multi-imbalance/venv/lib/python3.6/site-packages/imblearn/metrics/_classification.py:635: UndefinedMetricWarning: Recall is ill-defined and being set to 0.0 in labels with no true samples.\n  \"recall\")\n/home/plutasnyy/git/multi-imbalance/venv/lib/python3.6/site-packages/sklearn/model_selection/_split.py:657: Warning: The least populated class in y has only 2 members, which is too few. The minimum number of members in any class cannot be less than n_splits=4.\n  % (min_groups, self.n_splits)), Warning)\n",
      "/home/plutasnyy/git/multi-imbalance/venv/lib/python3.6/site-packages/imblearn/metrics/_classification.py:635: UndefinedMetricWarning: Recall is ill-defined and being set to 0.0 in labels with no true samples.\n  \"recall\")\n/home/plutasnyy/git/multi-imbalance/venv/lib/python3.6/site-packages/imblearn/metrics/_classification.py:635: UndefinedMetricWarning: Recall is ill-defined and being set to 0.0 in labels with no true samples.\n  \"recall\")\n/home/plutasnyy/git/multi-imbalance/venv/lib/python3.6/site-packages/sklearn/model_selection/_split.py:657: Warning: The least populated class in y has only 2 members, which is too few. The minimum number of members in any class cannot be less than n_splits=4.\n  % (min_groups, self.n_splits)), Warning)\n",
      "/home/plutasnyy/git/multi-imbalance/venv/lib/python3.6/site-packages/imblearn/metrics/_classification.py:635: UndefinedMetricWarning: Recall is ill-defined and being set to 0.0 in labels with no true samples.\n  \"recall\")\n/home/plutasnyy/git/multi-imbalance/venv/lib/python3.6/site-packages/sklearn/model_selection/_split.py:657: Warning: The least populated class in y has only 2 members, which is too few. The minimum number of members in any class cannot be less than n_splits=4.\n  % (min_groups, self.n_splits)), Warning)\n"
     ],
     "output_type": "stream"
    },
    {
     "data": {
      "text/plain": "'G-MEAN'"
     },
     "metadata": {},
     "output_type": "display_data"
    },
    {
     "data": {
      "text/plain": "                base  global  smote   soup    mdo  spider\nbalance_scale  0.101   0.062  0.177  0.292  0.183   0.379\ncleveland      0.204   0.133  0.116  0.069  0.167   0.089\ndermatology    0.928   0.927  0.904  0.924  0.919   0.928\necoli          0.185   0.353    NaN  0.211  0.280   0.284\nglass          0.285   0.259  0.370  0.479  0.337   0.593\nhayes_roth     0.871   0.871  0.864  0.830  0.863   0.376\nnew_thyroid    0.893   0.863  0.894  0.933  0.947   0.927",
      "text/html": "<div>\n<style scoped>\n    .dataframe tbody tr th:only-of-type {\n        vertical-align: middle;\n    }\n\n    .dataframe tbody tr th {\n        vertical-align: top;\n    }\n\n    .dataframe thead th {\n        text-align: right;\n    }\n</style>\n<table border=\"1\" class=\"dataframe\">\n  <thead>\n    <tr style=\"text-align: right;\">\n      <th></th>\n      <th>base</th>\n      <th>global</th>\n      <th>smote</th>\n      <th>soup</th>\n      <th>mdo</th>\n      <th>spider</th>\n    </tr>\n  </thead>\n  <tbody>\n    <tr>\n      <th>balance_scale</th>\n      <td>0.101</td>\n      <td>0.062</td>\n      <td>0.177</td>\n      <td>0.292</td>\n      <td>0.183</td>\n      <td>0.379</td>\n    </tr>\n    <tr>\n      <th>cleveland</th>\n      <td>0.204</td>\n      <td>0.133</td>\n      <td>0.116</td>\n      <td>0.069</td>\n      <td>0.167</td>\n      <td>0.089</td>\n    </tr>\n    <tr>\n      <th>dermatology</th>\n      <td>0.928</td>\n      <td>0.927</td>\n      <td>0.904</td>\n      <td>0.924</td>\n      <td>0.919</td>\n      <td>0.928</td>\n    </tr>\n    <tr>\n      <th>ecoli</th>\n      <td>0.185</td>\n      <td>0.353</td>\n      <td>NaN</td>\n      <td>0.211</td>\n      <td>0.280</td>\n      <td>0.284</td>\n    </tr>\n    <tr>\n      <th>glass</th>\n      <td>0.285</td>\n      <td>0.259</td>\n      <td>0.370</td>\n      <td>0.479</td>\n      <td>0.337</td>\n      <td>0.593</td>\n    </tr>\n    <tr>\n      <th>hayes_roth</th>\n      <td>0.871</td>\n      <td>0.871</td>\n      <td>0.864</td>\n      <td>0.830</td>\n      <td>0.863</td>\n      <td>0.376</td>\n    </tr>\n    <tr>\n      <th>new_thyroid</th>\n      <td>0.893</td>\n      <td>0.863</td>\n      <td>0.894</td>\n      <td>0.933</td>\n      <td>0.947</td>\n      <td>0.927</td>\n    </tr>\n  </tbody>\n</table>\n</div>"
     },
     "metadata": {},
     "output_type": "display_data"
    },
    {
     "data": {
      "text/plain": "'ACC'"
     },
     "metadata": {},
     "output_type": "display_data"
    },
    {
     "data": {
      "text/plain": "                base  global  smote   soup    mdo  spider\nbalance_scale  0.605   0.589  0.619  0.575  0.592   0.581\ncleveland      0.518   0.459  0.446  0.389  0.502   0.379\ndermatology    0.937   0.932  0.918  0.919  0.918   0.932\necoli          0.789   0.779    NaN  0.709  0.759   0.744\nglass          0.579   0.594  0.600  0.536  0.566   0.543\nhayes_roth     0.857   0.857  0.850  0.818  0.849   0.388\nnew_thyroid    0.930   0.926  0.948  0.949  0.925   0.920",
      "text/html": "<div>\n<style scoped>\n    .dataframe tbody tr th:only-of-type {\n        vertical-align: middle;\n    }\n\n    .dataframe tbody tr th {\n        vertical-align: top;\n    }\n\n    .dataframe thead th {\n        text-align: right;\n    }\n</style>\n<table border=\"1\" class=\"dataframe\">\n  <thead>\n    <tr style=\"text-align: right;\">\n      <th></th>\n      <th>base</th>\n      <th>global</th>\n      <th>smote</th>\n      <th>soup</th>\n      <th>mdo</th>\n      <th>spider</th>\n    </tr>\n  </thead>\n  <tbody>\n    <tr>\n      <th>balance_scale</th>\n      <td>0.605</td>\n      <td>0.589</td>\n      <td>0.619</td>\n      <td>0.575</td>\n      <td>0.592</td>\n      <td>0.581</td>\n    </tr>\n    <tr>\n      <th>cleveland</th>\n      <td>0.518</td>\n      <td>0.459</td>\n      <td>0.446</td>\n      <td>0.389</td>\n      <td>0.502</td>\n      <td>0.379</td>\n    </tr>\n    <tr>\n      <th>dermatology</th>\n      <td>0.937</td>\n      <td>0.932</td>\n      <td>0.918</td>\n      <td>0.919</td>\n      <td>0.918</td>\n      <td>0.932</td>\n    </tr>\n    <tr>\n      <th>ecoli</th>\n      <td>0.789</td>\n      <td>0.779</td>\n      <td>NaN</td>\n      <td>0.709</td>\n      <td>0.759</td>\n      <td>0.744</td>\n    </tr>\n    <tr>\n      <th>glass</th>\n      <td>0.579</td>\n      <td>0.594</td>\n      <td>0.600</td>\n      <td>0.536</td>\n      <td>0.566</td>\n      <td>0.543</td>\n    </tr>\n    <tr>\n      <th>hayes_roth</th>\n      <td>0.857</td>\n      <td>0.857</td>\n      <td>0.850</td>\n      <td>0.818</td>\n      <td>0.849</td>\n      <td>0.388</td>\n    </tr>\n    <tr>\n      <th>new_thyroid</th>\n      <td>0.930</td>\n      <td>0.926</td>\n      <td>0.948</td>\n      <td>0.949</td>\n      <td>0.925</td>\n      <td>0.920</td>\n    </tr>\n  </tbody>\n</table>\n</div>"
     },
     "metadata": {},
     "output_type": "display_data"
    },
    {
     "data": {
      "text/plain": "'MEAN G-MEAN'"
     },
     "metadata": {},
     "output_type": "display_data"
    },
    {
     "data": {
      "text/plain": "base      0.495286\nglobal    0.495429\nsmote     0.563143\nsoup      0.534000\nmdo       0.528000\nspider    0.510857\ndtype: float64"
     },
     "metadata": {},
     "output_type": "display_data"
    }
   ],
   "source": [
    "from collections import Counter\n",
    "import numpy as np\n",
    "import pandas as pd\n",
    "from IPython.core.display import display\n",
    "from sklearn.metrics import accuracy_score\n",
    "\n",
    "from sklearn.model_selection import StratifiedKFold\n",
    "from sklearn.tree import DecisionTreeClassifier\n",
    "\n",
    "from multi_imbalance.datasets import load_datasets\n",
    "from multi_imbalance.resampling.SOUP import SOUP\n",
    "from multi_imbalance.resampling.MDO import MDO\n",
    "from multi_imbalance.resampling.GlobalCS import GlobalCS\n",
    "\n",
    "from imblearn.metrics import geometric_mean_score\n",
    "from imblearn.over_sampling import SMOTE\n",
    "from multi_imbalance.resampling.spider import SPIDER3\n",
    "\n",
    "np.random.seed(0)\n",
    "\n",
    "datasets = load_datasets()\n",
    "results_g_mean = dict()\n",
    "results_acc = dict()\n",
    "\n",
    "for dataset_name, dataset_values in datasets.items():\n",
    "    print(dataset_name)\n",
    "    \n",
    "    X, y = dataset_values.data, dataset_values.target\n",
    "    \n",
    "    if len(X)>1000:\n",
    "        continue\n",
    "        \n",
    "    results_g_mean[dataset_name]=dict()\n",
    "    results_acc[dataset_name]=dict()\n",
    "    \n",
    "    for resample in ['base','global','smote','soup','mdo','spider']:\n",
    "        \n",
    "        skf = StratifiedKFold(n_splits=4, random_state=0)\n",
    "        acc, g_mean = list(),list()\n",
    "        for train_index, test_index in skf.split(X, y):\n",
    "            X_train, X_test = X[train_index], X[test_index]\n",
    "            y_train, y_test = y[train_index], y[test_index]\n",
    "            error_flag = False\n",
    "            clf_tree = DecisionTreeClassifier(random_state=0)\n",
    "            \n",
    "            if resample == 'base':\n",
    "                X_train_resampled, y_train_resampled = X_train, y_train\n",
    "            elif resample=='soup':\n",
    "                soup = SOUP()\n",
    "                X_train_resampled, y_train_resampled = soup.fit_transform(np.copy(X_train), np.copy(y_train))\n",
    "            elif resample=='global':\n",
    "                global_cs = GlobalCS()\n",
    "                X_train_resampled, y_train_resampled = global_cs.fit_transform(np.copy(X_train), np.copy(y_train))\n",
    "            elif resample=='smote':\n",
    "                try:\n",
    "                    smote = SMOTE()\n",
    "                    X_train_resampled, y_train_resampled = smote.fit_sample(np.copy(X_train), np.copy(y_train))\n",
    "                except Exception as e:\n",
    "                    error_flag = True\n",
    "                    print(resample, dataset_name, e)\n",
    "                    X_train_resampled, y_train_resampled = X_train, y_train\n",
    "            elif resample=='mdo':\n",
    "                mdo = MDO(k=9, k1_frac=0, seed=0)\n",
    "                X_train_resampled, y_train_resampled = mdo.fit_transform(np.copy(X_train), np.copy(y_train))\n",
    "            elif resample=='spider':\n",
    "                no_classes = np.unique(y).size\n",
    "                cnt = Counter(y)\n",
    "                cost = np.ones((no_classes, no_classes))\n",
    "                np.fill_diagonal(cost, 0)\n",
    "                clf = SPIDER3(k=5, cost=cost, majority_classes=maj_int_min[dataset_name]['maj'], intermediate_classes=maj_int_min[dataset_name]['int'], minority_classes=maj_int_min[dataset_name]['min'])\n",
    "                X_train_resampled, y_train_resampled = clf.fit_transform(X_train.astype(np.float64), y_train)\n",
    "            \n",
    "            clf_tree.fit(X_train_resampled, y_train_resampled)\n",
    "            y_pred = clf_tree.predict(X_test)\n",
    "            g_mean.append(geometric_mean_score(y_test, y_pred, correction=0.001))\n",
    "            acc.append(accuracy_score(y_test, y_pred))\n",
    "        \n",
    "        result_g_mean = None if error_flag else round(np.mean(g_mean),3)\n",
    "        result_acc = None if error_flag else round(np.mean(acc),3)\n",
    "        \n",
    "        results_g_mean[dataset_name][resample]=result_g_mean\n",
    "        results_acc[dataset_name][resample]=result_acc\n",
    "\n",
    "display(\"G-MEAN\")\n",
    "df = pd.DataFrame(results_g_mean).T\n",
    "display(df)\n",
    "\n",
    "display(\"ACC\")\n",
    "df2 = pd.DataFrame(results_acc).T\n",
    "display(df2)\n",
    "\n",
    "display(\"MEAN G-MEAN\")\n",
    "df.fillna(df.median(), inplace=True)\n",
    "display(df.mean())"
   ]
  }
 ],
 "metadata": {
  "kernelspec": {
   "display_name": "Python 3",
   "language": "python",
   "name": "python3"
  },
  "language_info": {
   "codemirror_mode": {
    "name": "ipython",
    "version": 2
   },
   "file_extension": ".py",
   "mimetype": "text/x-python",
   "name": "python",
   "nbconvert_exporter": "python",
   "pygments_lexer": "ipython2",
   "version": "2.7.6"
  },
  "pycharm": {
   "stem_cell": {
    "cell_type": "raw",
    "source": [],
    "metadata": {
     "collapsed": false
    }
   }
  }
 },
 "nbformat": 4,
 "nbformat_minor": 0
}