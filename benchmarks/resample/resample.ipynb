{
 "cells": [
  {
   "cell_type": "code",
   "execution_count": 136,
   "metadata": {
    "pycharm": {
     "is_executing": false,
     "name": "#%%\n"
    }
   },
   "outputs": [],
   "source": [
    "from collections import defaultdict\n",
    "import numpy as np\n",
    "import pandas as pd\n",
    "from sklearn.metrics import recall_score\n",
    "from sklearn.preprocessing import StandardScaler, OneHotEncoder, LabelBinarizer\n",
    "from IPython.core.display import display\n",
    "from sklearn.model_selection import StratifiedKFold\n",
    "from sklearn.tree import DecisionTreeClassifier\n",
    "from tqdm import tqdm_notebook\n",
    "\n",
    "from multi_imbalance.ensemble.SOUPBagging import SOUPBagging\n",
    "from multi_imbalance.resampling.SOUP import SOUP\n",
    "from multi_imbalance.resampling.MDO import MDO\n",
    "from multi_imbalance.resampling.GlobalCS import GlobalCS\n",
    "\n",
    "from imblearn.metrics import geometric_mean_score\n",
    "from imblearn.over_sampling import SMOTE\n",
    "from multi_imbalance.resampling.spider import SPIDER3\n",
    "\n",
    "from sklearn.neighbors import KNeighborsClassifier\n",
    "import warnings\n",
    "import logging\n",
    "from multi_imbalance.utils.data import load_arff_datasets\n",
    "from multi_imbalance.utils.min_int_maj import maj_int_min\n",
    "logger = logging.getLogger()\n",
    "logger.setLevel(logging.CRITICAL)\n",
    "warnings.filterwarnings('ignore')\n",
    "\n",
    "from IPython.display import clear_output\n",
    "clear_output(wait=True)"
   ]
  },
  {
   "cell_type": "code",
   "execution_count": 137,
   "outputs": [],
   "source": [
    "# def green_valid_backgroud(s):\n",
    "#     correct = ['1czysty-cut', '2delikatne-cut', '3mocniej-cut','4delikatne-bezover-cut', 'cmc', 'dermatology', 'new_ecoli','new_vehicle','thyroid-newthyroid']\n",
    "#     return ['background-color: green' if v in correct else '' for v in list(s.index)]\n",
    "# \n",
    "\n",
    "\n",
    "def bold_max(s):\n",
    "    '''\n",
    "    highlight the maximum in a Series yellow.\n",
    "    '''\n",
    "    is_max = s == s.max()\n",
    "    return ['font-weight: bold' if v else '' for v in is_max]\n",
    "    \n",
    "def print_scores(scores, only_read_dt = False):\n",
    "    display(\"G-MEAN\")\n",
    "    df = pd.DataFrame(scores).T\n",
    "    if only_read_dt:\n",
    "        df = df.iloc[4:]\n",
    "    df2 = df.style.apply(bold_max, axis=1)\n",
    "    display(df2)\n",
    "\n",
    "    df.fillna(df.median(), inplace=True)\n",
    "    display(pd.DataFrame(df.mean().sort_values(ascending=False),columns=['Mean G-mean']))\n",
    "    display(pd.DataFrame(df.rank(axis=1,ascending=False).mean().sort_values(),columns=['Mean rank']))\n",
    "# print_scores(scores_knn)"
   ],
   "metadata": {
    "collapsed": false,
    "pycharm": {
     "name": "#%%\n",
     "is_executing": false
    }
   }
  },
  {
   "cell_type": "code",
   "execution_count": 138,
   "metadata": {
    "pycharm": {
     "is_executing": false,
     "name": "#%%\n"
    }
   },
   "outputs": [
    {
     "data": {
      "text/plain": "HBox(children=(IntProgress(value=0, description='1st loop', max=19, style=ProgressStyle(description_width='ini…",
      "application/vnd.jupyter.widget-view+json": {
       "version_major": 2,
       "version_minor": 0,
       "model_id": "36f0ca87334d4c66b953585e57a5ca64"
      }
     },
     "metadata": {},
     "output_type": "display_data"
    },
    {
     "name": "stdout",
     "text": [
      "\n"
     ],
     "output_type": "stream"
    }
   ],
   "source": [
    "def resample_data(resample, seed, X_train, y_train, no_classes, dataset_name):\n",
    "    if resample == 'base':\n",
    "        X_train_resampled, y_train_resampled = X_train, y_train\n",
    "    elif resample=='soup':\n",
    "        soup = SOUP(k=3)\n",
    "        X_train_resampled, y_train_resampled = soup.fit_transform(np.copy(X_train), np.copy(y_train))\n",
    "    elif resample=='global':\n",
    "        global_cs = GlobalCS()\n",
    "        X_train_resampled, y_train_resampled = global_cs.fit_transform(np.copy(X_train), np.copy(y_train), shuffle=False)\n",
    "    elif resample=='smote':\n",
    "        smote = SMOTE(random_state=seed)\n",
    "        X_train_resampled, y_train_resampled = smote.fit_sample(np.copy(X_train), np.copy(y_train))\n",
    "    elif resample=='mdo':\n",
    "        mdo = MDO(k=3, k1_frac=0.5, seed=seed)\n",
    "        X_train_resampled, y_train_resampled = mdo.fit_transform(np.copy(X_train), np.copy(y_train), maj_int_min[dataset_name])\n",
    "    elif resample=='spider':\n",
    "        cost = np.ones((no_classes, no_classes))\n",
    "        np.fill_diagonal(cost, 0)\n",
    "        clf = SPIDER3(k=5, cost=cost, majority_classes=maj_int_min[dataset_name]['maj'], intermediate_classes=maj_int_min[dataset_name]['int'], minority_classes=maj_int_min[dataset_name]['min'])\n",
    "        X_train_resampled, y_train_resampled = clf.fit_transform(X_train.astype(np.float64), y_train)\n",
    "    elif 'soupbg' in resample or 'mrbbag' in resample:\n",
    "        # SOUP Bagging does it by itself\n",
    "        X_train_resampled, y_train_resampled = X_train, y_train\n",
    "    else:\n",
    "        raise ValueError(f'Bad type{resample}')\n",
    "    return X_train_resampled, y_train_resampled\n",
    "\n",
    "\n",
    "\n",
    "def test_resampling(res, dataset_values, dataset_name):\n",
    "    X, y = dataset_values.data, dataset_values.target\n",
    "\n",
    "    no_classes = np.unique(y).size\n",
    "    minority_class = maj_int_min[dataset_name]['min']\n",
    "    result_data = defaultdict(int)\n",
    "    run_data = defaultdict(lambda: defaultdict(list)) # {metric: {run_number: [scores]}}\n",
    "    for i in range(10):\n",
    "        skf = StratifiedKFold(n_splits=5, shuffle=True,random_state=i)\n",
    "        for train_index, test_index in skf.split(X, y):\n",
    "            X_train, X_test = X[train_index], X[test_index]\n",
    "            y_train, y_test = y[train_index], y[test_index]\n",
    "            normalizer = StandardScaler().fit(X_train)\n",
    "\n",
    "            X_train = normalizer.transform(X_train)\n",
    "            X_test = normalizer.transform(X_test)\n",
    "            X_train_resampled, y_train_resampled = resample_data(res, i, X_train, y_train, no_classes, dataset_name)\n",
    "\n",
    "            for clf_name in ['knn']:\n",
    "            # for clf_name in ['knn','tree']:\n",
    "                if clf_name == 'knn':\n",
    "                    clf = KNeighborsClassifier(n_neighbors=3)\n",
    "                elif clf_name == 'tree':\n",
    "                    clf = DecisionTreeClassifier(random_state=i)\n",
    "                # DONT JUDGE ME\n",
    "                if res == 'soupbg005':\n",
    "                    vote_classifier = SOUPBagging(clf, n_classifiers=5)\n",
    "                    clf = vote_classifier\n",
    "                elif res == 'soupbg015':\n",
    "                    vote_classifier = SOUPBagging(clf, n_classifiers=15)\n",
    "                    clf = vote_classifier\n",
    "                elif res == 'soupbg030':\n",
    "                    vote_classifier = SOUPBagging(clf, n_classifiers=30)\n",
    "                    clf = vote_classifier\n",
    "                elif res == 'soupbg050':\n",
    "                    vote_classifier = SOUPBagging(clf, n_classifiers=50)\n",
    "                    clf = vote_classifier\n",
    "                elif res == 'soupbg100':\n",
    "                    vote_classifier = SOUPBagging(clf, n_classifiers=100)\n",
    "                    clf = vote_classifier\n",
    "                # elif res == 'mrbbag005':\n",
    "                    \n",
    "                    \n",
    "                clf.fit(X_train_resampled, y_train_resampled)\n",
    "                y_pred = clf.predict(X_test)\n",
    "                gmean = geometric_mean_score(y_test, y_pred, correction=0.001)\n",
    "                minority_gmean = geometric_mean_score(y_test, y_pred,labels=minority_class, correction=0.001)\n",
    "                avg_acc = np.mean(recall_score(y_test, y_pred, average=None))\n",
    "                run_data['g_mean_{}'.format(clf_name)][str(i)].append(gmean)\n",
    "                run_data['g_mean_{}_minority'.format(clf_name)][str(i)].append(minority_gmean)\n",
    "                # run_data['avg_acc_{}'.format(clf_name)][str(i)].append(avg_acc)\n",
    "    \n",
    "    def get_score_from_metric(run_data, metric):\n",
    "        runs = run_data[metric]\n",
    "        runs_scores_list = list(runs.values()) #[[one run k-foledscores],[..]]\n",
    "        result = np.mean(list(map(np.mean, runs_scores_list)))\n",
    "        return result\n",
    "            \n",
    "    for metric_name, metric_values in run_data.items():\n",
    "        result_data[metric_name] = get_score_from_metric(run_data, metric_name)\n",
    "        \n",
    "    return result_data\n",
    "\n",
    "\n",
    "def provide_test_and_get_scores(dataset, clf_res):\n",
    "    scores = defaultdict(lambda: defaultdict(dict))\n",
    "    for dataset_name, dataset_values in tqdm_notebook(datasets.items(),total=len(datasets), desc='1st loop'):\n",
    "        for resample in clf_res_names:\n",
    "            result_data = test_resampling(resample, dataset_values, dataset_name)\n",
    "            for key in result_data:\n",
    "                scores[key][dataset_name][resample] = round(result_data[key],4)\n",
    "    return scores\n",
    "\n",
    "# clf_res_nameas =['base','global','smote','mdo','soup','soupbg005','soupbg015','soupbg030', 'soupbg050', 'soupbg100']\n",
    "clf_res_names =['base','global','smote','mdo','soup']\n",
    "# clf_res_names =['base', 'global']\n",
    "datasets = load_arff_datasets()\n",
    "scores = provide_test_and_get_scores(datasets, clf_res_names)\n"
   ]
  },
  {
   "cell_type": "markdown",
   "metadata": {
    "pycharm": {
     "name": "#%% md\n"
    }
   },
   "source": [
    "### Wszystkie zbiory danych:\n",
    "#### Drzewo"
   ]
  },
  {
   "cell_type": "code",
   "execution_count": 139,
   "metadata": {
    "pycharm": {
     "is_executing": false,
     "name": "#%%\n"
    }
   },
   "outputs": [
    {
     "data": {
      "text/plain": "'G-MEAN'"
     },
     "metadata": {},
     "output_type": "display_data"
    },
    {
     "data": {
      "text/plain": "<pandas.io.formats.style.Styler at 0x7f5880505278>",
      "text/html": "<style  type=\"text/css\" >\n</style><table id=\"T_0baef046_2814_11ea_8e8e_40e230ef4681\" ><thead></thead><tbody>\n        </tbody></table>"
     },
     "metadata": {},
     "output_type": "display_data"
    },
    {
     "data": {
      "text/plain": "Empty DataFrame\nColumns: [Mean G-mean]\nIndex: []",
      "text/html": "<div>\n<style scoped>\n    .dataframe tbody tr th:only-of-type {\n        vertical-align: middle;\n    }\n\n    .dataframe tbody tr th {\n        vertical-align: top;\n    }\n\n    .dataframe thead th {\n        text-align: right;\n    }\n</style>\n<table border=\"1\" class=\"dataframe\">\n  <thead>\n    <tr style=\"text-align: right;\">\n      <th></th>\n      <th>Mean G-mean</th>\n    </tr>\n  </thead>\n  <tbody>\n  </tbody>\n</table>\n</div>"
     },
     "metadata": {},
     "output_type": "display_data"
    },
    {
     "data": {
      "text/plain": "Empty DataFrame\nColumns: [Mean rank]\nIndex: []",
      "text/html": "<div>\n<style scoped>\n    .dataframe tbody tr th:only-of-type {\n        vertical-align: middle;\n    }\n\n    .dataframe tbody tr th {\n        vertical-align: top;\n    }\n\n    .dataframe thead th {\n        text-align: right;\n    }\n</style>\n<table border=\"1\" class=\"dataframe\">\n  <thead>\n    <tr style=\"text-align: right;\">\n      <th></th>\n      <th>Mean rank</th>\n    </tr>\n  </thead>\n  <tbody>\n  </tbody>\n</table>\n</div>"
     },
     "metadata": {},
     "output_type": "display_data"
    }
   ],
   "source": [
    "print_scores(scores['g_mean_tree'])\n"
   ]
  },
  {
   "cell_type": "markdown",
   "metadata": {
    "pycharm": {
     "name": "#%% md\n"
    }
   },
   "source": [
    "#### kNN - 5"
   ]
  },
  {
   "cell_type": "code",
   "execution_count": 140,
   "metadata": {
    "pycharm": {
     "is_executing": false,
     "name": "#%%\n"
    }
   },
   "outputs": [
    {
     "data": {
      "text/plain": "'G-MEAN'"
     },
     "metadata": {},
     "output_type": "display_data"
    },
    {
     "data": {
      "text/plain": "<pandas.io.formats.style.Styler at 0x7f5880945160>",
      "text/html": "<style  type=\"text/css\" >\n    #T_0baef047_2814_11ea_8e8e_40e230ef4681row0_col3 {\n            font-weight:  bold;\n        }    #T_0baef047_2814_11ea_8e8e_40e230ef4681row1_col4 {\n            font-weight:  bold;\n        }    #T_0baef047_2814_11ea_8e8e_40e230ef4681row2_col4 {\n            font-weight:  bold;\n        }    #T_0baef047_2814_11ea_8e8e_40e230ef4681row3_col4 {\n            font-weight:  bold;\n        }    #T_0baef047_2814_11ea_8e8e_40e230ef4681row4_col4 {\n            font-weight:  bold;\n        }    #T_0baef047_2814_11ea_8e8e_40e230ef4681row5_col2 {\n            font-weight:  bold;\n        }    #T_0baef047_2814_11ea_8e8e_40e230ef4681row6_col4 {\n            font-weight:  bold;\n        }    #T_0baef047_2814_11ea_8e8e_40e230ef4681row7_col4 {\n            font-weight:  bold;\n        }    #T_0baef047_2814_11ea_8e8e_40e230ef4681row8_col4 {\n            font-weight:  bold;\n        }    #T_0baef047_2814_11ea_8e8e_40e230ef4681row9_col2 {\n            font-weight:  bold;\n        }    #T_0baef047_2814_11ea_8e8e_40e230ef4681row10_col4 {\n            font-weight:  bold;\n        }    #T_0baef047_2814_11ea_8e8e_40e230ef4681row11_col4 {\n            font-weight:  bold;\n        }    #T_0baef047_2814_11ea_8e8e_40e230ef4681row12_col1 {\n            font-weight:  bold;\n        }    #T_0baef047_2814_11ea_8e8e_40e230ef4681row13_col3 {\n            font-weight:  bold;\n        }    #T_0baef047_2814_11ea_8e8e_40e230ef4681row14_col4 {\n            font-weight:  bold;\n        }    #T_0baef047_2814_11ea_8e8e_40e230ef4681row15_col2 {\n            font-weight:  bold;\n        }    #T_0baef047_2814_11ea_8e8e_40e230ef4681row16_col2 {\n            font-weight:  bold;\n        }    #T_0baef047_2814_11ea_8e8e_40e230ef4681row17_col4 {\n            font-weight:  bold;\n        }    #T_0baef047_2814_11ea_8e8e_40e230ef4681row18_col1 {\n            font-weight:  bold;\n        }</style><table id=\"T_0baef047_2814_11ea_8e8e_40e230ef4681\" ><thead>    <tr>        <th class=\"blank level0\" ></th>        <th class=\"col_heading level0 col0\" >base</th>        <th class=\"col_heading level0 col1\" >global</th>        <th class=\"col_heading level0 col2\" >smote</th>        <th class=\"col_heading level0 col3\" >mdo</th>        <th class=\"col_heading level0 col4\" >soup</th>    </tr></thead><tbody>\n                <tr>\n                        <th id=\"T_0baef047_2814_11ea_8e8e_40e230ef4681level0_row0\" class=\"row_heading level0 row0\" >1czysty-cut</th>\n                        <td id=\"T_0baef047_2814_11ea_8e8e_40e230ef4681row0_col0\" class=\"data row0 col0\" >0.961</td>\n                        <td id=\"T_0baef047_2814_11ea_8e8e_40e230ef4681row0_col1\" class=\"data row0 col1\" >0.9678</td>\n                        <td id=\"T_0baef047_2814_11ea_8e8e_40e230ef4681row0_col2\" class=\"data row0 col2\" >0.9687</td>\n                        <td id=\"T_0baef047_2814_11ea_8e8e_40e230ef4681row0_col3\" class=\"data row0 col3\" >0.972</td>\n                        <td id=\"T_0baef047_2814_11ea_8e8e_40e230ef4681row0_col4\" class=\"data row0 col4\" >0.9661</td>\n            </tr>\n            <tr>\n                        <th id=\"T_0baef047_2814_11ea_8e8e_40e230ef4681level0_row1\" class=\"row_heading level0 row1\" >2delikatne-cut</th>\n                        <td id=\"T_0baef047_2814_11ea_8e8e_40e230ef4681row1_col0\" class=\"data row1 col0\" >0.6811</td>\n                        <td id=\"T_0baef047_2814_11ea_8e8e_40e230ef4681row1_col1\" class=\"data row1 col1\" >0.733</td>\n                        <td id=\"T_0baef047_2814_11ea_8e8e_40e230ef4681row1_col2\" class=\"data row1 col2\" >0.7403</td>\n                        <td id=\"T_0baef047_2814_11ea_8e8e_40e230ef4681row1_col3\" class=\"data row1 col3\" >0.7528</td>\n                        <td id=\"T_0baef047_2814_11ea_8e8e_40e230ef4681row1_col4\" class=\"data row1 col4\" >0.7759</td>\n            </tr>\n            <tr>\n                        <th id=\"T_0baef047_2814_11ea_8e8e_40e230ef4681level0_row2\" class=\"row_heading level0 row2\" >3mocniej-cut</th>\n                        <td id=\"T_0baef047_2814_11ea_8e8e_40e230ef4681row2_col0\" class=\"data row2 col0\" >0.4345</td>\n                        <td id=\"T_0baef047_2814_11ea_8e8e_40e230ef4681row2_col1\" class=\"data row2 col1\" >0.5054</td>\n                        <td id=\"T_0baef047_2814_11ea_8e8e_40e230ef4681row2_col2\" class=\"data row2 col2\" >0.4941</td>\n                        <td id=\"T_0baef047_2814_11ea_8e8e_40e230ef4681row2_col3\" class=\"data row2 col3\" >0.4704</td>\n                        <td id=\"T_0baef047_2814_11ea_8e8e_40e230ef4681row2_col4\" class=\"data row2 col4\" >0.5387</td>\n            </tr>\n            <tr>\n                        <th id=\"T_0baef047_2814_11ea_8e8e_40e230ef4681level0_row3\" class=\"row_heading level0 row3\" >4delikatne-bezover-cut</th>\n                        <td id=\"T_0baef047_2814_11ea_8e8e_40e230ef4681row3_col0\" class=\"data row3 col0\" >0.7867</td>\n                        <td id=\"T_0baef047_2814_11ea_8e8e_40e230ef4681row3_col1\" class=\"data row3 col1\" >0.8187</td>\n                        <td id=\"T_0baef047_2814_11ea_8e8e_40e230ef4681row3_col2\" class=\"data row3 col2\" >0.8339</td>\n                        <td id=\"T_0baef047_2814_11ea_8e8e_40e230ef4681row3_col3\" class=\"data row3 col3\" >0.8183</td>\n                        <td id=\"T_0baef047_2814_11ea_8e8e_40e230ef4681row3_col4\" class=\"data row3 col4\" >0.8739</td>\n            </tr>\n            <tr>\n                        <th id=\"T_0baef047_2814_11ea_8e8e_40e230ef4681level0_row4\" class=\"row_heading level0 row4\" >balance-scale</th>\n                        <td id=\"T_0baef047_2814_11ea_8e8e_40e230ef4681row4_col0\" class=\"data row4 col0\" >0.1184</td>\n                        <td id=\"T_0baef047_2814_11ea_8e8e_40e230ef4681row4_col1\" class=\"data row4 col1\" >0.1164</td>\n                        <td id=\"T_0baef047_2814_11ea_8e8e_40e230ef4681row4_col2\" class=\"data row4 col2\" >0.4975</td>\n                        <td id=\"T_0baef047_2814_11ea_8e8e_40e230ef4681row4_col3\" class=\"data row4 col3\" >0.1184</td>\n                        <td id=\"T_0baef047_2814_11ea_8e8e_40e230ef4681row4_col4\" class=\"data row4 col4\" >0.6102</td>\n            </tr>\n            <tr>\n                        <th id=\"T_0baef047_2814_11ea_8e8e_40e230ef4681level0_row5\" class=\"row_heading level0 row5\" >car</th>\n                        <td id=\"T_0baef047_2814_11ea_8e8e_40e230ef4681row5_col0\" class=\"data row5 col0\" >0.3173</td>\n                        <td id=\"T_0baef047_2814_11ea_8e8e_40e230ef4681row5_col1\" class=\"data row5 col1\" >0.4405</td>\n                        <td id=\"T_0baef047_2814_11ea_8e8e_40e230ef4681row5_col2\" class=\"data row5 col2\" >0.6599</td>\n                        <td id=\"T_0baef047_2814_11ea_8e8e_40e230ef4681row5_col3\" class=\"data row5 col3\" >0.6424</td>\n                        <td id=\"T_0baef047_2814_11ea_8e8e_40e230ef4681row5_col4\" class=\"data row5 col4\" >0.5016</td>\n            </tr>\n            <tr>\n                        <th id=\"T_0baef047_2814_11ea_8e8e_40e230ef4681level0_row6\" class=\"row_heading level0 row6\" >cleveland</th>\n                        <td id=\"T_0baef047_2814_11ea_8e8e_40e230ef4681row6_col0\" class=\"data row6 col0\" >0.0537</td>\n                        <td id=\"T_0baef047_2814_11ea_8e8e_40e230ef4681row6_col1\" class=\"data row6 col1\" >0.0994</td>\n                        <td id=\"T_0baef047_2814_11ea_8e8e_40e230ef4681row6_col2\" class=\"data row6 col2\" >0.0928</td>\n                        <td id=\"T_0baef047_2814_11ea_8e8e_40e230ef4681row6_col3\" class=\"data row6 col3\" >0.07</td>\n                        <td id=\"T_0baef047_2814_11ea_8e8e_40e230ef4681row6_col4\" class=\"data row6 col4\" >0.1053</td>\n            </tr>\n            <tr>\n                        <th id=\"T_0baef047_2814_11ea_8e8e_40e230ef4681level0_row7\" class=\"row_heading level0 row7\" >cleveland_v2</th>\n                        <td id=\"T_0baef047_2814_11ea_8e8e_40e230ef4681row7_col0\" class=\"data row7 col0\" >0.0437</td>\n                        <td id=\"T_0baef047_2814_11ea_8e8e_40e230ef4681row7_col1\" class=\"data row7 col1\" >0.1067</td>\n                        <td id=\"T_0baef047_2814_11ea_8e8e_40e230ef4681row7_col2\" class=\"data row7 col2\" >0.1067</td>\n                        <td id=\"T_0baef047_2814_11ea_8e8e_40e230ef4681row7_col3\" class=\"data row7 col3\" >0.0618</td>\n                        <td id=\"T_0baef047_2814_11ea_8e8e_40e230ef4681row7_col4\" class=\"data row7 col4\" >0.1125</td>\n            </tr>\n            <tr>\n                        <th id=\"T_0baef047_2814_11ea_8e8e_40e230ef4681level0_row8\" class=\"row_heading level0 row8\" >cmc</th>\n                        <td id=\"T_0baef047_2814_11ea_8e8e_40e230ef4681row8_col0\" class=\"data row8 col0\" >0.4167</td>\n                        <td id=\"T_0baef047_2814_11ea_8e8e_40e230ef4681row8_col1\" class=\"data row8 col1\" >0.4319</td>\n                        <td id=\"T_0baef047_2814_11ea_8e8e_40e230ef4681row8_col2\" class=\"data row8 col2\" >0.43</td>\n                        <td id=\"T_0baef047_2814_11ea_8e8e_40e230ef4681row8_col3\" class=\"data row8 col3\" >0.4195</td>\n                        <td id=\"T_0baef047_2814_11ea_8e8e_40e230ef4681row8_col4\" class=\"data row8 col4\" >0.4526</td>\n            </tr>\n            <tr>\n                        <th id=\"T_0baef047_2814_11ea_8e8e_40e230ef4681level0_row9\" class=\"row_heading level0 row9\" >dermatology</th>\n                        <td id=\"T_0baef047_2814_11ea_8e8e_40e230ef4681row9_col0\" class=\"data row9 col0\" >0.9416</td>\n                        <td id=\"T_0baef047_2814_11ea_8e8e_40e230ef4681row9_col1\" class=\"data row9 col1\" >0.9361</td>\n                        <td id=\"T_0baef047_2814_11ea_8e8e_40e230ef4681row9_col2\" class=\"data row9 col2\" >0.9476</td>\n                        <td id=\"T_0baef047_2814_11ea_8e8e_40e230ef4681row9_col3\" class=\"data row9 col3\" >0.9411</td>\n                        <td id=\"T_0baef047_2814_11ea_8e8e_40e230ef4681row9_col4\" class=\"data row9 col4\" >0.925</td>\n            </tr>\n            <tr>\n                        <th id=\"T_0baef047_2814_11ea_8e8e_40e230ef4681level0_row10\" class=\"row_heading level0 row10\" >flare</th>\n                        <td id=\"T_0baef047_2814_11ea_8e8e_40e230ef4681row10_col0\" class=\"data row10 col0\" >0.3638</td>\n                        <td id=\"T_0baef047_2814_11ea_8e8e_40e230ef4681row10_col1\" class=\"data row10 col1\" >0.4027</td>\n                        <td id=\"T_0baef047_2814_11ea_8e8e_40e230ef4681row10_col2\" class=\"data row10 col2\" >0.4724</td>\n                        <td id=\"T_0baef047_2814_11ea_8e8e_40e230ef4681row10_col3\" class=\"data row10 col3\" >0.3841</td>\n                        <td id=\"T_0baef047_2814_11ea_8e8e_40e230ef4681row10_col4\" class=\"data row10 col4\" >0.5077</td>\n            </tr>\n            <tr>\n                        <th id=\"T_0baef047_2814_11ea_8e8e_40e230ef4681level0_row11\" class=\"row_heading level0 row11\" >glass</th>\n                        <td id=\"T_0baef047_2814_11ea_8e8e_40e230ef4681row11_col0\" class=\"data row11 col0\" >0.2967</td>\n                        <td id=\"T_0baef047_2814_11ea_8e8e_40e230ef4681row11_col1\" class=\"data row11 col1\" >0.5527</td>\n                        <td id=\"T_0baef047_2814_11ea_8e8e_40e230ef4681row11_col2\" class=\"data row11 col2\" >0.5921</td>\n                        <td id=\"T_0baef047_2814_11ea_8e8e_40e230ef4681row11_col3\" class=\"data row11 col3\" >0.3815</td>\n                        <td id=\"T_0baef047_2814_11ea_8e8e_40e230ef4681row11_col4\" class=\"data row11 col4\" >0.6228</td>\n            </tr>\n            <tr>\n                        <th id=\"T_0baef047_2814_11ea_8e8e_40e230ef4681level0_row12\" class=\"row_heading level0 row12\" >hayes-roth</th>\n                        <td id=\"T_0baef047_2814_11ea_8e8e_40e230ef4681row12_col0\" class=\"data row12 col0\" >0.5222</td>\n                        <td id=\"T_0baef047_2814_11ea_8e8e_40e230ef4681row12_col1\" class=\"data row12 col1\" >0.6452</td>\n                        <td id=\"T_0baef047_2814_11ea_8e8e_40e230ef4681row12_col2\" class=\"data row12 col2\" >0.639</td>\n                        <td id=\"T_0baef047_2814_11ea_8e8e_40e230ef4681row12_col3\" class=\"data row12 col3\" >0.6213</td>\n                        <td id=\"T_0baef047_2814_11ea_8e8e_40e230ef4681row12_col4\" class=\"data row12 col4\" >0.5184</td>\n            </tr>\n            <tr>\n                        <th id=\"T_0baef047_2814_11ea_8e8e_40e230ef4681level0_row13\" class=\"row_heading level0 row13\" >new_ecoli</th>\n                        <td id=\"T_0baef047_2814_11ea_8e8e_40e230ef4681row13_col0\" class=\"data row13 col0\" >0.7547</td>\n                        <td id=\"T_0baef047_2814_11ea_8e8e_40e230ef4681row13_col1\" class=\"data row13 col1\" >0.7471</td>\n                        <td id=\"T_0baef047_2814_11ea_8e8e_40e230ef4681row13_col2\" class=\"data row13 col2\" >0.7834</td>\n                        <td id=\"T_0baef047_2814_11ea_8e8e_40e230ef4681row13_col3\" class=\"data row13 col3\" >0.7955</td>\n                        <td id=\"T_0baef047_2814_11ea_8e8e_40e230ef4681row13_col4\" class=\"data row13 col4\" >0.7706</td>\n            </tr>\n            <tr>\n                        <th id=\"T_0baef047_2814_11ea_8e8e_40e230ef4681level0_row14\" class=\"row_heading level0 row14\" >new_led7digit</th>\n                        <td id=\"T_0baef047_2814_11ea_8e8e_40e230ef4681row14_col0\" class=\"data row14 col0\" >0.7277</td>\n                        <td id=\"T_0baef047_2814_11ea_8e8e_40e230ef4681row14_col1\" class=\"data row14 col1\" >0.3378</td>\n                        <td id=\"T_0baef047_2814_11ea_8e8e_40e230ef4681row14_col2\" class=\"data row14 col2\" >0.685</td>\n                        <td id=\"T_0baef047_2814_11ea_8e8e_40e230ef4681row14_col3\" class=\"data row14 col3\" >0.6926</td>\n                        <td id=\"T_0baef047_2814_11ea_8e8e_40e230ef4681row14_col4\" class=\"data row14 col4\" >0.7478</td>\n            </tr>\n            <tr>\n                        <th id=\"T_0baef047_2814_11ea_8e8e_40e230ef4681level0_row15\" class=\"row_heading level0 row15\" >new_vehicle</th>\n                        <td id=\"T_0baef047_2814_11ea_8e8e_40e230ef4681row15_col0\" class=\"data row15 col0\" >0.9196</td>\n                        <td id=\"T_0baef047_2814_11ea_8e8e_40e230ef4681row15_col1\" class=\"data row15 col1\" >0.9201</td>\n                        <td id=\"T_0baef047_2814_11ea_8e8e_40e230ef4681row15_col2\" class=\"data row15 col2\" >0.9204</td>\n                        <td id=\"T_0baef047_2814_11ea_8e8e_40e230ef4681row15_col3\" class=\"data row15 col3\" >0.9188</td>\n                        <td id=\"T_0baef047_2814_11ea_8e8e_40e230ef4681row15_col4\" class=\"data row15 col4\" >0.8955</td>\n            </tr>\n            <tr>\n                        <th id=\"T_0baef047_2814_11ea_8e8e_40e230ef4681level0_row16\" class=\"row_heading level0 row16\" >new_winequality-red</th>\n                        <td id=\"T_0baef047_2814_11ea_8e8e_40e230ef4681row16_col0\" class=\"data row16 col0\" >0.2565</td>\n                        <td id=\"T_0baef047_2814_11ea_8e8e_40e230ef4681row16_col1\" class=\"data row16 col1\" >0.4738</td>\n                        <td id=\"T_0baef047_2814_11ea_8e8e_40e230ef4681row16_col2\" class=\"data row16 col2\" >0.4773</td>\n                        <td id=\"T_0baef047_2814_11ea_8e8e_40e230ef4681row16_col3\" class=\"data row16 col3\" >0.3024</td>\n                        <td id=\"T_0baef047_2814_11ea_8e8e_40e230ef4681row16_col4\" class=\"data row16 col4\" >0.464</td>\n            </tr>\n            <tr>\n                        <th id=\"T_0baef047_2814_11ea_8e8e_40e230ef4681level0_row17\" class=\"row_heading level0 row17\" >new_yeast</th>\n                        <td id=\"T_0baef047_2814_11ea_8e8e_40e230ef4681row17_col0\" class=\"data row17 col0\" >0.2496</td>\n                        <td id=\"T_0baef047_2814_11ea_8e8e_40e230ef4681row17_col1\" class=\"data row17 col1\" >0.3879</td>\n                        <td id=\"T_0baef047_2814_11ea_8e8e_40e230ef4681row17_col2\" class=\"data row17 col2\" >0.4043</td>\n                        <td id=\"T_0baef047_2814_11ea_8e8e_40e230ef4681row17_col3\" class=\"data row17 col3\" >0.2783</td>\n                        <td id=\"T_0baef047_2814_11ea_8e8e_40e230ef4681row17_col4\" class=\"data row17 col4\" >0.4129</td>\n            </tr>\n            <tr>\n                        <th id=\"T_0baef047_2814_11ea_8e8e_40e230ef4681level0_row18\" class=\"row_heading level0 row18\" >thyroid-newthyroid</th>\n                        <td id=\"T_0baef047_2814_11ea_8e8e_40e230ef4681row18_col0\" class=\"data row18 col0\" >0.9019</td>\n                        <td id=\"T_0baef047_2814_11ea_8e8e_40e230ef4681row18_col1\" class=\"data row18 col1\" >0.9483</td>\n                        <td id=\"T_0baef047_2814_11ea_8e8e_40e230ef4681row18_col2\" class=\"data row18 col2\" >0.9477</td>\n                        <td id=\"T_0baef047_2814_11ea_8e8e_40e230ef4681row18_col3\" class=\"data row18 col3\" >0.9195</td>\n                        <td id=\"T_0baef047_2814_11ea_8e8e_40e230ef4681row18_col4\" class=\"data row18 col4\" >0.9427</td>\n            </tr>\n    </tbody></table>"
     },
     "metadata": {},
     "output_type": "display_data"
    },
    {
     "data": {
      "text/plain": "        Mean G-mean\nsoup       0.618116\nsmote      0.615426\nglobal     0.556395\nmdo        0.555826\nbase       0.513021",
      "text/html": "<div>\n<style scoped>\n    .dataframe tbody tr th:only-of-type {\n        vertical-align: middle;\n    }\n\n    .dataframe tbody tr th {\n        vertical-align: top;\n    }\n\n    .dataframe thead th {\n        text-align: right;\n    }\n</style>\n<table border=\"1\" class=\"dataframe\">\n  <thead>\n    <tr style=\"text-align: right;\">\n      <th></th>\n      <th>Mean G-mean</th>\n    </tr>\n  </thead>\n  <tbody>\n    <tr>\n      <th>soup</th>\n      <td>0.618116</td>\n    </tr>\n    <tr>\n      <th>smote</th>\n      <td>0.615426</td>\n    </tr>\n    <tr>\n      <th>global</th>\n      <td>0.556395</td>\n    </tr>\n    <tr>\n      <th>mdo</th>\n      <td>0.555826</td>\n    </tr>\n    <tr>\n      <th>base</th>\n      <td>0.513021</td>\n    </tr>\n  </tbody>\n</table>\n</div>"
     },
     "metadata": {},
     "output_type": "display_data"
    },
    {
     "data": {
      "text/plain": "        Mean rank\nsmote    2.131579\nsoup     2.210526\nglobal   2.973684\nmdo      3.289474\nbase     4.394737",
      "text/html": "<div>\n<style scoped>\n    .dataframe tbody tr th:only-of-type {\n        vertical-align: middle;\n    }\n\n    .dataframe tbody tr th {\n        vertical-align: top;\n    }\n\n    .dataframe thead th {\n        text-align: right;\n    }\n</style>\n<table border=\"1\" class=\"dataframe\">\n  <thead>\n    <tr style=\"text-align: right;\">\n      <th></th>\n      <th>Mean rank</th>\n    </tr>\n  </thead>\n  <tbody>\n    <tr>\n      <th>smote</th>\n      <td>2.131579</td>\n    </tr>\n    <tr>\n      <th>soup</th>\n      <td>2.210526</td>\n    </tr>\n    <tr>\n      <th>global</th>\n      <td>2.973684</td>\n    </tr>\n    <tr>\n      <th>mdo</th>\n      <td>3.289474</td>\n    </tr>\n    <tr>\n      <th>base</th>\n      <td>4.394737</td>\n    </tr>\n  </tbody>\n</table>\n</div>"
     },
     "metadata": {},
     "output_type": "display_data"
    }
   ],
   "source": [
    "print_scores(scores['g_mean_knn'])\n",
    "# print_scores(avg_acc)\n"
   ]
  },
  {
   "cell_type": "markdown",
   "metadata": {},
   "source": [
    "### Rzeczywiste zbiory danych\n",
    "#### Drzewo"
   ]
  },
  {
   "cell_type": "code",
   "execution_count": 141,
   "metadata": {
    "pycharm": {
     "is_executing": false,
     "name": "#%%\n"
    }
   },
   "outputs": [
    {
     "data": {
      "text/plain": "'G-MEAN'"
     },
     "metadata": {},
     "output_type": "display_data"
    },
    {
     "data": {
      "text/plain": "<pandas.io.formats.style.Styler at 0x7f588053f390>",
      "text/html": "<style  type=\"text/css\" >\n</style><table id=\"T_0baef048_2814_11ea_8e8e_40e230ef4681\" ><thead></thead><tbody>\n        </tbody></table>"
     },
     "metadata": {},
     "output_type": "display_data"
    },
    {
     "data": {
      "text/plain": "Empty DataFrame\nColumns: [Mean G-mean]\nIndex: []",
      "text/html": "<div>\n<style scoped>\n    .dataframe tbody tr th:only-of-type {\n        vertical-align: middle;\n    }\n\n    .dataframe tbody tr th {\n        vertical-align: top;\n    }\n\n    .dataframe thead th {\n        text-align: right;\n    }\n</style>\n<table border=\"1\" class=\"dataframe\">\n  <thead>\n    <tr style=\"text-align: right;\">\n      <th></th>\n      <th>Mean G-mean</th>\n    </tr>\n  </thead>\n  <tbody>\n  </tbody>\n</table>\n</div>"
     },
     "metadata": {},
     "output_type": "display_data"
    },
    {
     "data": {
      "text/plain": "Empty DataFrame\nColumns: [Mean rank]\nIndex: []",
      "text/html": "<div>\n<style scoped>\n    .dataframe tbody tr th:only-of-type {\n        vertical-align: middle;\n    }\n\n    .dataframe tbody tr th {\n        vertical-align: top;\n    }\n\n    .dataframe thead th {\n        text-align: right;\n    }\n</style>\n<table border=\"1\" class=\"dataframe\">\n  <thead>\n    <tr style=\"text-align: right;\">\n      <th></th>\n      <th>Mean rank</th>\n    </tr>\n  </thead>\n  <tbody>\n  </tbody>\n</table>\n</div>"
     },
     "metadata": {},
     "output_type": "display_data"
    }
   ],
   "source": [
    "print_scores(scores['g_mean_tree'],only_read_dt=True)\n"
   ]
  },
  {
   "cell_type": "markdown",
   "metadata": {
    "pycharm": {
     "name": "#%% md\n"
    }
   },
   "source": [
    "#### kNN"
   ]
  },
  {
   "cell_type": "code",
   "execution_count": 142,
   "metadata": {
    "pycharm": {
     "is_executing": false,
     "name": "#%%\n"
    }
   },
   "outputs": [
    {
     "data": {
      "text/plain": "'G-MEAN'"
     },
     "metadata": {},
     "output_type": "display_data"
    },
    {
     "data": {
      "text/plain": "<pandas.io.formats.style.Styler at 0x7f588053f8d0>",
      "text/html": "<style  type=\"text/css\" >\n    #T_0baef049_2814_11ea_8e8e_40e230ef4681row0_col4 {\n            font-weight:  bold;\n        }    #T_0baef049_2814_11ea_8e8e_40e230ef4681row1_col2 {\n            font-weight:  bold;\n        }    #T_0baef049_2814_11ea_8e8e_40e230ef4681row2_col4 {\n            font-weight:  bold;\n        }    #T_0baef049_2814_11ea_8e8e_40e230ef4681row3_col4 {\n            font-weight:  bold;\n        }    #T_0baef049_2814_11ea_8e8e_40e230ef4681row4_col4 {\n            font-weight:  bold;\n        }    #T_0baef049_2814_11ea_8e8e_40e230ef4681row5_col2 {\n            font-weight:  bold;\n        }    #T_0baef049_2814_11ea_8e8e_40e230ef4681row6_col4 {\n            font-weight:  bold;\n        }    #T_0baef049_2814_11ea_8e8e_40e230ef4681row7_col4 {\n            font-weight:  bold;\n        }    #T_0baef049_2814_11ea_8e8e_40e230ef4681row8_col1 {\n            font-weight:  bold;\n        }    #T_0baef049_2814_11ea_8e8e_40e230ef4681row9_col3 {\n            font-weight:  bold;\n        }    #T_0baef049_2814_11ea_8e8e_40e230ef4681row10_col4 {\n            font-weight:  bold;\n        }    #T_0baef049_2814_11ea_8e8e_40e230ef4681row11_col2 {\n            font-weight:  bold;\n        }    #T_0baef049_2814_11ea_8e8e_40e230ef4681row12_col2 {\n            font-weight:  bold;\n        }    #T_0baef049_2814_11ea_8e8e_40e230ef4681row13_col4 {\n            font-weight:  bold;\n        }    #T_0baef049_2814_11ea_8e8e_40e230ef4681row14_col1 {\n            font-weight:  bold;\n        }</style><table id=\"T_0baef049_2814_11ea_8e8e_40e230ef4681\" ><thead>    <tr>        <th class=\"blank level0\" ></th>        <th class=\"col_heading level0 col0\" >base</th>        <th class=\"col_heading level0 col1\" >global</th>        <th class=\"col_heading level0 col2\" >smote</th>        <th class=\"col_heading level0 col3\" >mdo</th>        <th class=\"col_heading level0 col4\" >soup</th>    </tr></thead><tbody>\n                <tr>\n                        <th id=\"T_0baef049_2814_11ea_8e8e_40e230ef4681level0_row0\" class=\"row_heading level0 row0\" >balance-scale</th>\n                        <td id=\"T_0baef049_2814_11ea_8e8e_40e230ef4681row0_col0\" class=\"data row0 col0\" >0.1184</td>\n                        <td id=\"T_0baef049_2814_11ea_8e8e_40e230ef4681row0_col1\" class=\"data row0 col1\" >0.1164</td>\n                        <td id=\"T_0baef049_2814_11ea_8e8e_40e230ef4681row0_col2\" class=\"data row0 col2\" >0.4975</td>\n                        <td id=\"T_0baef049_2814_11ea_8e8e_40e230ef4681row0_col3\" class=\"data row0 col3\" >0.1184</td>\n                        <td id=\"T_0baef049_2814_11ea_8e8e_40e230ef4681row0_col4\" class=\"data row0 col4\" >0.6102</td>\n            </tr>\n            <tr>\n                        <th id=\"T_0baef049_2814_11ea_8e8e_40e230ef4681level0_row1\" class=\"row_heading level0 row1\" >car</th>\n                        <td id=\"T_0baef049_2814_11ea_8e8e_40e230ef4681row1_col0\" class=\"data row1 col0\" >0.3173</td>\n                        <td id=\"T_0baef049_2814_11ea_8e8e_40e230ef4681row1_col1\" class=\"data row1 col1\" >0.4405</td>\n                        <td id=\"T_0baef049_2814_11ea_8e8e_40e230ef4681row1_col2\" class=\"data row1 col2\" >0.6599</td>\n                        <td id=\"T_0baef049_2814_11ea_8e8e_40e230ef4681row1_col3\" class=\"data row1 col3\" >0.6424</td>\n                        <td id=\"T_0baef049_2814_11ea_8e8e_40e230ef4681row1_col4\" class=\"data row1 col4\" >0.5016</td>\n            </tr>\n            <tr>\n                        <th id=\"T_0baef049_2814_11ea_8e8e_40e230ef4681level0_row2\" class=\"row_heading level0 row2\" >cleveland</th>\n                        <td id=\"T_0baef049_2814_11ea_8e8e_40e230ef4681row2_col0\" class=\"data row2 col0\" >0.0537</td>\n                        <td id=\"T_0baef049_2814_11ea_8e8e_40e230ef4681row2_col1\" class=\"data row2 col1\" >0.0994</td>\n                        <td id=\"T_0baef049_2814_11ea_8e8e_40e230ef4681row2_col2\" class=\"data row2 col2\" >0.0928</td>\n                        <td id=\"T_0baef049_2814_11ea_8e8e_40e230ef4681row2_col3\" class=\"data row2 col3\" >0.07</td>\n                        <td id=\"T_0baef049_2814_11ea_8e8e_40e230ef4681row2_col4\" class=\"data row2 col4\" >0.1053</td>\n            </tr>\n            <tr>\n                        <th id=\"T_0baef049_2814_11ea_8e8e_40e230ef4681level0_row3\" class=\"row_heading level0 row3\" >cleveland_v2</th>\n                        <td id=\"T_0baef049_2814_11ea_8e8e_40e230ef4681row3_col0\" class=\"data row3 col0\" >0.0437</td>\n                        <td id=\"T_0baef049_2814_11ea_8e8e_40e230ef4681row3_col1\" class=\"data row3 col1\" >0.1067</td>\n                        <td id=\"T_0baef049_2814_11ea_8e8e_40e230ef4681row3_col2\" class=\"data row3 col2\" >0.1067</td>\n                        <td id=\"T_0baef049_2814_11ea_8e8e_40e230ef4681row3_col3\" class=\"data row3 col3\" >0.0618</td>\n                        <td id=\"T_0baef049_2814_11ea_8e8e_40e230ef4681row3_col4\" class=\"data row3 col4\" >0.1125</td>\n            </tr>\n            <tr>\n                        <th id=\"T_0baef049_2814_11ea_8e8e_40e230ef4681level0_row4\" class=\"row_heading level0 row4\" >cmc</th>\n                        <td id=\"T_0baef049_2814_11ea_8e8e_40e230ef4681row4_col0\" class=\"data row4 col0\" >0.4167</td>\n                        <td id=\"T_0baef049_2814_11ea_8e8e_40e230ef4681row4_col1\" class=\"data row4 col1\" >0.4319</td>\n                        <td id=\"T_0baef049_2814_11ea_8e8e_40e230ef4681row4_col2\" class=\"data row4 col2\" >0.43</td>\n                        <td id=\"T_0baef049_2814_11ea_8e8e_40e230ef4681row4_col3\" class=\"data row4 col3\" >0.4195</td>\n                        <td id=\"T_0baef049_2814_11ea_8e8e_40e230ef4681row4_col4\" class=\"data row4 col4\" >0.4526</td>\n            </tr>\n            <tr>\n                        <th id=\"T_0baef049_2814_11ea_8e8e_40e230ef4681level0_row5\" class=\"row_heading level0 row5\" >dermatology</th>\n                        <td id=\"T_0baef049_2814_11ea_8e8e_40e230ef4681row5_col0\" class=\"data row5 col0\" >0.9416</td>\n                        <td id=\"T_0baef049_2814_11ea_8e8e_40e230ef4681row5_col1\" class=\"data row5 col1\" >0.9361</td>\n                        <td id=\"T_0baef049_2814_11ea_8e8e_40e230ef4681row5_col2\" class=\"data row5 col2\" >0.9476</td>\n                        <td id=\"T_0baef049_2814_11ea_8e8e_40e230ef4681row5_col3\" class=\"data row5 col3\" >0.9411</td>\n                        <td id=\"T_0baef049_2814_11ea_8e8e_40e230ef4681row5_col4\" class=\"data row5 col4\" >0.925</td>\n            </tr>\n            <tr>\n                        <th id=\"T_0baef049_2814_11ea_8e8e_40e230ef4681level0_row6\" class=\"row_heading level0 row6\" >flare</th>\n                        <td id=\"T_0baef049_2814_11ea_8e8e_40e230ef4681row6_col0\" class=\"data row6 col0\" >0.3638</td>\n                        <td id=\"T_0baef049_2814_11ea_8e8e_40e230ef4681row6_col1\" class=\"data row6 col1\" >0.4027</td>\n                        <td id=\"T_0baef049_2814_11ea_8e8e_40e230ef4681row6_col2\" class=\"data row6 col2\" >0.4724</td>\n                        <td id=\"T_0baef049_2814_11ea_8e8e_40e230ef4681row6_col3\" class=\"data row6 col3\" >0.3841</td>\n                        <td id=\"T_0baef049_2814_11ea_8e8e_40e230ef4681row6_col4\" class=\"data row6 col4\" >0.5077</td>\n            </tr>\n            <tr>\n                        <th id=\"T_0baef049_2814_11ea_8e8e_40e230ef4681level0_row7\" class=\"row_heading level0 row7\" >glass</th>\n                        <td id=\"T_0baef049_2814_11ea_8e8e_40e230ef4681row7_col0\" class=\"data row7 col0\" >0.2967</td>\n                        <td id=\"T_0baef049_2814_11ea_8e8e_40e230ef4681row7_col1\" class=\"data row7 col1\" >0.5527</td>\n                        <td id=\"T_0baef049_2814_11ea_8e8e_40e230ef4681row7_col2\" class=\"data row7 col2\" >0.5921</td>\n                        <td id=\"T_0baef049_2814_11ea_8e8e_40e230ef4681row7_col3\" class=\"data row7 col3\" >0.3815</td>\n                        <td id=\"T_0baef049_2814_11ea_8e8e_40e230ef4681row7_col4\" class=\"data row7 col4\" >0.6228</td>\n            </tr>\n            <tr>\n                        <th id=\"T_0baef049_2814_11ea_8e8e_40e230ef4681level0_row8\" class=\"row_heading level0 row8\" >hayes-roth</th>\n                        <td id=\"T_0baef049_2814_11ea_8e8e_40e230ef4681row8_col0\" class=\"data row8 col0\" >0.5222</td>\n                        <td id=\"T_0baef049_2814_11ea_8e8e_40e230ef4681row8_col1\" class=\"data row8 col1\" >0.6452</td>\n                        <td id=\"T_0baef049_2814_11ea_8e8e_40e230ef4681row8_col2\" class=\"data row8 col2\" >0.639</td>\n                        <td id=\"T_0baef049_2814_11ea_8e8e_40e230ef4681row8_col3\" class=\"data row8 col3\" >0.6213</td>\n                        <td id=\"T_0baef049_2814_11ea_8e8e_40e230ef4681row8_col4\" class=\"data row8 col4\" >0.5184</td>\n            </tr>\n            <tr>\n                        <th id=\"T_0baef049_2814_11ea_8e8e_40e230ef4681level0_row9\" class=\"row_heading level0 row9\" >new_ecoli</th>\n                        <td id=\"T_0baef049_2814_11ea_8e8e_40e230ef4681row9_col0\" class=\"data row9 col0\" >0.7547</td>\n                        <td id=\"T_0baef049_2814_11ea_8e8e_40e230ef4681row9_col1\" class=\"data row9 col1\" >0.7471</td>\n                        <td id=\"T_0baef049_2814_11ea_8e8e_40e230ef4681row9_col2\" class=\"data row9 col2\" >0.7834</td>\n                        <td id=\"T_0baef049_2814_11ea_8e8e_40e230ef4681row9_col3\" class=\"data row9 col3\" >0.7955</td>\n                        <td id=\"T_0baef049_2814_11ea_8e8e_40e230ef4681row9_col4\" class=\"data row9 col4\" >0.7706</td>\n            </tr>\n            <tr>\n                        <th id=\"T_0baef049_2814_11ea_8e8e_40e230ef4681level0_row10\" class=\"row_heading level0 row10\" >new_led7digit</th>\n                        <td id=\"T_0baef049_2814_11ea_8e8e_40e230ef4681row10_col0\" class=\"data row10 col0\" >0.7277</td>\n                        <td id=\"T_0baef049_2814_11ea_8e8e_40e230ef4681row10_col1\" class=\"data row10 col1\" >0.3378</td>\n                        <td id=\"T_0baef049_2814_11ea_8e8e_40e230ef4681row10_col2\" class=\"data row10 col2\" >0.685</td>\n                        <td id=\"T_0baef049_2814_11ea_8e8e_40e230ef4681row10_col3\" class=\"data row10 col3\" >0.6926</td>\n                        <td id=\"T_0baef049_2814_11ea_8e8e_40e230ef4681row10_col4\" class=\"data row10 col4\" >0.7478</td>\n            </tr>\n            <tr>\n                        <th id=\"T_0baef049_2814_11ea_8e8e_40e230ef4681level0_row11\" class=\"row_heading level0 row11\" >new_vehicle</th>\n                        <td id=\"T_0baef049_2814_11ea_8e8e_40e230ef4681row11_col0\" class=\"data row11 col0\" >0.9196</td>\n                        <td id=\"T_0baef049_2814_11ea_8e8e_40e230ef4681row11_col1\" class=\"data row11 col1\" >0.9201</td>\n                        <td id=\"T_0baef049_2814_11ea_8e8e_40e230ef4681row11_col2\" class=\"data row11 col2\" >0.9204</td>\n                        <td id=\"T_0baef049_2814_11ea_8e8e_40e230ef4681row11_col3\" class=\"data row11 col3\" >0.9188</td>\n                        <td id=\"T_0baef049_2814_11ea_8e8e_40e230ef4681row11_col4\" class=\"data row11 col4\" >0.8955</td>\n            </tr>\n            <tr>\n                        <th id=\"T_0baef049_2814_11ea_8e8e_40e230ef4681level0_row12\" class=\"row_heading level0 row12\" >new_winequality-red</th>\n                        <td id=\"T_0baef049_2814_11ea_8e8e_40e230ef4681row12_col0\" class=\"data row12 col0\" >0.2565</td>\n                        <td id=\"T_0baef049_2814_11ea_8e8e_40e230ef4681row12_col1\" class=\"data row12 col1\" >0.4738</td>\n                        <td id=\"T_0baef049_2814_11ea_8e8e_40e230ef4681row12_col2\" class=\"data row12 col2\" >0.4773</td>\n                        <td id=\"T_0baef049_2814_11ea_8e8e_40e230ef4681row12_col3\" class=\"data row12 col3\" >0.3024</td>\n                        <td id=\"T_0baef049_2814_11ea_8e8e_40e230ef4681row12_col4\" class=\"data row12 col4\" >0.464</td>\n            </tr>\n            <tr>\n                        <th id=\"T_0baef049_2814_11ea_8e8e_40e230ef4681level0_row13\" class=\"row_heading level0 row13\" >new_yeast</th>\n                        <td id=\"T_0baef049_2814_11ea_8e8e_40e230ef4681row13_col0\" class=\"data row13 col0\" >0.2496</td>\n                        <td id=\"T_0baef049_2814_11ea_8e8e_40e230ef4681row13_col1\" class=\"data row13 col1\" >0.3879</td>\n                        <td id=\"T_0baef049_2814_11ea_8e8e_40e230ef4681row13_col2\" class=\"data row13 col2\" >0.4043</td>\n                        <td id=\"T_0baef049_2814_11ea_8e8e_40e230ef4681row13_col3\" class=\"data row13 col3\" >0.2783</td>\n                        <td id=\"T_0baef049_2814_11ea_8e8e_40e230ef4681row13_col4\" class=\"data row13 col4\" >0.4129</td>\n            </tr>\n            <tr>\n                        <th id=\"T_0baef049_2814_11ea_8e8e_40e230ef4681level0_row14\" class=\"row_heading level0 row14\" >thyroid-newthyroid</th>\n                        <td id=\"T_0baef049_2814_11ea_8e8e_40e230ef4681row14_col0\" class=\"data row14 col0\" >0.9019</td>\n                        <td id=\"T_0baef049_2814_11ea_8e8e_40e230ef4681row14_col1\" class=\"data row14 col1\" >0.9483</td>\n                        <td id=\"T_0baef049_2814_11ea_8e8e_40e230ef4681row14_col2\" class=\"data row14 col2\" >0.9477</td>\n                        <td id=\"T_0baef049_2814_11ea_8e8e_40e230ef4681row14_col3\" class=\"data row14 col3\" >0.9195</td>\n                        <td id=\"T_0baef049_2814_11ea_8e8e_40e230ef4681row14_col4\" class=\"data row14 col4\" >0.9427</td>\n            </tr>\n    </tbody></table>"
     },
     "metadata": {},
     "output_type": "display_data"
    },
    {
     "data": {
      "text/plain": "        Mean G-mean\nsmote      0.577073\nsoup       0.572640\nmdo        0.503147\nglobal     0.503107\nbase       0.458940",
      "text/html": "<div>\n<style scoped>\n    .dataframe tbody tr th:only-of-type {\n        vertical-align: middle;\n    }\n\n    .dataframe tbody tr th {\n        vertical-align: top;\n    }\n\n    .dataframe thead th {\n        text-align: right;\n    }\n</style>\n<table border=\"1\" class=\"dataframe\">\n  <thead>\n    <tr style=\"text-align: right;\">\n      <th></th>\n      <th>Mean G-mean</th>\n    </tr>\n  </thead>\n  <tbody>\n    <tr>\n      <th>smote</th>\n      <td>0.577073</td>\n    </tr>\n    <tr>\n      <th>soup</th>\n      <td>0.572640</td>\n    </tr>\n    <tr>\n      <th>mdo</th>\n      <td>0.503147</td>\n    </tr>\n    <tr>\n      <th>global</th>\n      <td>0.503107</td>\n    </tr>\n    <tr>\n      <th>base</th>\n      <td>0.458940</td>\n    </tr>\n  </tbody>\n</table>\n</div>"
     },
     "metadata": {},
     "output_type": "display_data"
    },
    {
     "data": {
      "text/plain": "        Mean rank\nsmote    2.033333\nsoup     2.333333\nglobal   2.966667\nmdo      3.433333\nbase     4.233333",
      "text/html": "<div>\n<style scoped>\n    .dataframe tbody tr th:only-of-type {\n        vertical-align: middle;\n    }\n\n    .dataframe tbody tr th {\n        vertical-align: top;\n    }\n\n    .dataframe thead th {\n        text-align: right;\n    }\n</style>\n<table border=\"1\" class=\"dataframe\">\n  <thead>\n    <tr style=\"text-align: right;\">\n      <th></th>\n      <th>Mean rank</th>\n    </tr>\n  </thead>\n  <tbody>\n    <tr>\n      <th>smote</th>\n      <td>2.033333</td>\n    </tr>\n    <tr>\n      <th>soup</th>\n      <td>2.333333</td>\n    </tr>\n    <tr>\n      <th>global</th>\n      <td>2.966667</td>\n    </tr>\n    <tr>\n      <th>mdo</th>\n      <td>3.433333</td>\n    </tr>\n    <tr>\n      <th>base</th>\n      <td>4.233333</td>\n    </tr>\n  </tbody>\n</table>\n</div>"
     },
     "metadata": {},
     "output_type": "display_data"
    }
   ],
   "source": [
    "print_scores(scores['g_mean_knn'],only_read_dt=True)"
   ]
  },
  {
   "cell_type": "markdown",
   "source": [
    "### Wyniki dla klas mniejszościowych\n",
    "\n",
    "### Wszystkie zbiory danych:\n",
    "#### Drzewo"
   ],
   "metadata": {
    "collapsed": false,
    "pycharm": {
     "name": "#%% md\n"
    }
   }
  },
  {
   "cell_type": "code",
   "execution_count": 143,
   "outputs": [
    {
     "data": {
      "text/plain": "'G-MEAN'"
     },
     "metadata": {},
     "output_type": "display_data"
    },
    {
     "data": {
      "text/plain": "<pandas.io.formats.style.Styler at 0x7f587e190828>",
      "text/html": "<style  type=\"text/css\" >\n</style><table id=\"T_0baef04a_2814_11ea_8e8e_40e230ef4681\" ><thead></thead><tbody>\n        </tbody></table>"
     },
     "metadata": {},
     "output_type": "display_data"
    },
    {
     "data": {
      "text/plain": "Empty DataFrame\nColumns: [Mean G-mean]\nIndex: []",
      "text/html": "<div>\n<style scoped>\n    .dataframe tbody tr th:only-of-type {\n        vertical-align: middle;\n    }\n\n    .dataframe tbody tr th {\n        vertical-align: top;\n    }\n\n    .dataframe thead th {\n        text-align: right;\n    }\n</style>\n<table border=\"1\" class=\"dataframe\">\n  <thead>\n    <tr style=\"text-align: right;\">\n      <th></th>\n      <th>Mean G-mean</th>\n    </tr>\n  </thead>\n  <tbody>\n  </tbody>\n</table>\n</div>"
     },
     "metadata": {},
     "output_type": "display_data"
    },
    {
     "data": {
      "text/plain": "Empty DataFrame\nColumns: [Mean rank]\nIndex: []",
      "text/html": "<div>\n<style scoped>\n    .dataframe tbody tr th:only-of-type {\n        vertical-align: middle;\n    }\n\n    .dataframe tbody tr th {\n        vertical-align: top;\n    }\n\n    .dataframe thead th {\n        text-align: right;\n    }\n</style>\n<table border=\"1\" class=\"dataframe\">\n  <thead>\n    <tr style=\"text-align: right;\">\n      <th></th>\n      <th>Mean rank</th>\n    </tr>\n  </thead>\n  <tbody>\n  </tbody>\n</table>\n</div>"
     },
     "metadata": {},
     "output_type": "display_data"
    }
   ],
   "source": [
    "print_scores(scores['g_mean_tree_minority'])\n"
   ],
   "metadata": {
    "collapsed": false,
    "pycharm": {
     "name": "#%%\n",
     "is_executing": false
    }
   }
  },
  {
   "cell_type": "markdown",
   "source": [
    "#### kNN - 5"
   ],
   "metadata": {
    "collapsed": false
   }
  },
  {
   "cell_type": "code",
   "execution_count": null,
   "outputs": [],
   "source": [
    "print_scores(scores['g_mean_knn_minority'])\n",
    "# print_scores(avg_acc)\n"
   ],
   "metadata": {
    "collapsed": false,
    "pycharm": {
     "name": "#%%\n"
    }
   }
  },
  {
   "cell_type": "markdown",
   "source": [
    "### Porównanie baggingów - głosowanie przez średnią"
   ],
   "metadata": {
    "collapsed": false
   }
  },
  {
   "cell_type": "code",
   "execution_count": null,
   "outputs": [],
   "source": [
    "# clf_res_names =['base','soup','soupbg005','soupbg015','soupbg030', 'soupbg050', 'soupbg100']\n",
    "# # clf_res_names =['base','global','smote','mdo','soup']\n",
    "# # clf_res_names =['base','global','soup']\n",
    "# # datasets = load_arff_datasets()\n",
    "# scores = provide_test_and_get_scores(datasets, clf_res_names)\n",
    "# \n",
    "# "
   ],
   "metadata": {
    "collapsed": false,
    "pycharm": {
     "name": "#%%\n"
    }
   }
  },
  {
   "cell_type": "markdown",
   "source": [
    "### Wszystkie zbiory danych:\n",
    "#### Drzewo"
   ],
   "metadata": {
    "collapsed": false
   }
  },
  {
   "cell_type": "code",
   "execution_count": null,
   "outputs": [],
   "source": [
    "# print_scores(scores['g_mean_tree'])\n",
    "# \n",
    "# "
   ],
   "metadata": {
    "collapsed": false,
    "pycharm": {
     "name": "#%%\n"
    }
   }
  },
  {
   "cell_type": "markdown",
   "source": [
    "#### kNN - 5"
   ],
   "metadata": {
    "collapsed": false
   }
  },
  {
   "cell_type": "code",
   "execution_count": null,
   "outputs": [],
   "source": [
    "# print_scores(scores['g_mean_knn'])\n",
    "# # print_scores(avg_acc)\n",
    "# \n",
    "# "
   ],
   "metadata": {
    "collapsed": false,
    "pycharm": {
     "name": "#%%\n"
    }
   }
  },
  {
   "cell_type": "markdown",
   "source": [
    "# print_scores(scores['g_mean_knn'])\n",
    "# # print_scores(avg_acc)\n",
    "# \n",
    "# "
   ],
   "metadata": {
    "collapsed": false
   }
  },
  {
   "cell_type": "code",
   "execution_count": 144,
   "outputs": [
    {
     "data": {
      "text/plain": "'G-MEAN'"
     },
     "metadata": {},
     "output_type": "display_data"
    },
    {
     "data": {
      "text/plain": "<pandas.io.formats.style.Styler at 0x7f5881f39198>",
      "text/html": "<style  type=\"text/css\" >\n    #T_0baef04b_2814_11ea_8e8e_40e230ef4681row0_col4 {\n            font-weight:  bold;\n        }    #T_0baef04b_2814_11ea_8e8e_40e230ef4681row1_col3 {\n            font-weight:  bold;\n        }    #T_0baef04b_2814_11ea_8e8e_40e230ef4681row2_col3 {\n            font-weight:  bold;\n        }    #T_0baef04b_2814_11ea_8e8e_40e230ef4681row3_col4 {\n            font-weight:  bold;\n        }    #T_0baef04b_2814_11ea_8e8e_40e230ef4681row4_col4 {\n            font-weight:  bold;\n        }    #T_0baef04b_2814_11ea_8e8e_40e230ef4681row5_col2 {\n            font-weight:  bold;\n        }    #T_0baef04b_2814_11ea_8e8e_40e230ef4681row6_col4 {\n            font-weight:  bold;\n        }    #T_0baef04b_2814_11ea_8e8e_40e230ef4681row7_col4 {\n            font-weight:  bold;\n        }    #T_0baef04b_2814_11ea_8e8e_40e230ef4681row8_col1 {\n            font-weight:  bold;\n        }    #T_0baef04b_2814_11ea_8e8e_40e230ef4681row9_col4 {\n            font-weight:  bold;\n        }    #T_0baef04b_2814_11ea_8e8e_40e230ef4681row10_col4 {\n            font-weight:  bold;\n        }    #T_0baef04b_2814_11ea_8e8e_40e230ef4681row11_col4 {\n            font-weight:  bold;\n        }    #T_0baef04b_2814_11ea_8e8e_40e230ef4681row12_col1 {\n            font-weight:  bold;\n        }    #T_0baef04b_2814_11ea_8e8e_40e230ef4681row13_col3 {\n            font-weight:  bold;\n        }    #T_0baef04b_2814_11ea_8e8e_40e230ef4681row14_col4 {\n            font-weight:  bold;\n        }    #T_0baef04b_2814_11ea_8e8e_40e230ef4681row15_col1 {\n            font-weight:  bold;\n        }    #T_0baef04b_2814_11ea_8e8e_40e230ef4681row16_col4 {\n            font-weight:  bold;\n        }    #T_0baef04b_2814_11ea_8e8e_40e230ef4681row17_col4 {\n            font-weight:  bold;\n        }    #T_0baef04b_2814_11ea_8e8e_40e230ef4681row18_col4 {\n            font-weight:  bold;\n        }</style><table id=\"T_0baef04b_2814_11ea_8e8e_40e230ef4681\" ><thead>    <tr>        <th class=\"blank level0\" ></th>        <th class=\"col_heading level0 col0\" >base</th>        <th class=\"col_heading level0 col1\" >global</th>        <th class=\"col_heading level0 col2\" >smote</th>        <th class=\"col_heading level0 col3\" >mdo</th>        <th class=\"col_heading level0 col4\" >soup</th>    </tr></thead><tbody>\n                <tr>\n                        <th id=\"T_0baef04b_2814_11ea_8e8e_40e230ef4681level0_row0\" class=\"row_heading level0 row0\" >1czysty-cut</th>\n                        <td id=\"T_0baef04b_2814_11ea_8e8e_40e230ef4681row0_col0\" class=\"data row0 col0\" >0.9383</td>\n                        <td id=\"T_0baef04b_2814_11ea_8e8e_40e230ef4681row0_col1\" class=\"data row0 col1\" >0.9692</td>\n                        <td id=\"T_0baef04b_2814_11ea_8e8e_40e230ef4681row0_col2\" class=\"data row0 col2\" >0.97</td>\n                        <td id=\"T_0baef04b_2814_11ea_8e8e_40e230ef4681row0_col3\" class=\"data row0 col3\" >0.9858</td>\n                        <td id=\"T_0baef04b_2814_11ea_8e8e_40e230ef4681row0_col4\" class=\"data row0 col4\" >0.9992</td>\n            </tr>\n            <tr>\n                        <th id=\"T_0baef04b_2814_11ea_8e8e_40e230ef4681level0_row1\" class=\"row_heading level0 row1\" >2delikatne-cut</th>\n                        <td id=\"T_0baef04b_2814_11ea_8e8e_40e230ef4681row1_col0\" class=\"data row1 col0\" >0.49</td>\n                        <td id=\"T_0baef04b_2814_11ea_8e8e_40e230ef4681row1_col1\" class=\"data row1 col1\" >0.6108</td>\n                        <td id=\"T_0baef04b_2814_11ea_8e8e_40e230ef4681row1_col2\" class=\"data row1 col2\" >0.6675</td>\n                        <td id=\"T_0baef04b_2814_11ea_8e8e_40e230ef4681row1_col3\" class=\"data row1 col3\" >0.7625</td>\n                        <td id=\"T_0baef04b_2814_11ea_8e8e_40e230ef4681row1_col4\" class=\"data row1 col4\" >0.7008</td>\n            </tr>\n            <tr>\n                        <th id=\"T_0baef04b_2814_11ea_8e8e_40e230ef4681level0_row2\" class=\"row_heading level0 row2\" >3mocniej-cut</th>\n                        <td id=\"T_0baef04b_2814_11ea_8e8e_40e230ef4681row2_col0\" class=\"data row2 col0\" >0.2342</td>\n                        <td id=\"T_0baef04b_2814_11ea_8e8e_40e230ef4681row2_col1\" class=\"data row2 col1\" >0.3458</td>\n                        <td id=\"T_0baef04b_2814_11ea_8e8e_40e230ef4681row2_col2\" class=\"data row2 col2\" >0.4183</td>\n                        <td id=\"T_0baef04b_2814_11ea_8e8e_40e230ef4681row2_col3\" class=\"data row2 col3\" >0.5708</td>\n                        <td id=\"T_0baef04b_2814_11ea_8e8e_40e230ef4681row2_col4\" class=\"data row2 col4\" >0.4442</td>\n            </tr>\n            <tr>\n                        <th id=\"T_0baef04b_2814_11ea_8e8e_40e230ef4681level0_row3\" class=\"row_heading level0 row3\" >4delikatne-bezover-cut</th>\n                        <td id=\"T_0baef04b_2814_11ea_8e8e_40e230ef4681row3_col0\" class=\"data row3 col0\" >0.6858</td>\n                        <td id=\"T_0baef04b_2814_11ea_8e8e_40e230ef4681row3_col1\" class=\"data row3 col1\" >0.7567</td>\n                        <td id=\"T_0baef04b_2814_11ea_8e8e_40e230ef4681row3_col2\" class=\"data row3 col2\" >0.7925</td>\n                        <td id=\"T_0baef04b_2814_11ea_8e8e_40e230ef4681row3_col3\" class=\"data row3 col3\" >0.7925</td>\n                        <td id=\"T_0baef04b_2814_11ea_8e8e_40e230ef4681row3_col4\" class=\"data row3 col4\" >0.9158</td>\n            </tr>\n            <tr>\n                        <th id=\"T_0baef04b_2814_11ea_8e8e_40e230ef4681level0_row4\" class=\"row_heading level0 row4\" >balance-scale</th>\n                        <td id=\"T_0baef04b_2814_11ea_8e8e_40e230ef4681row4_col0\" class=\"data row4 col0\" >0.0091</td>\n                        <td id=\"T_0baef04b_2814_11ea_8e8e_40e230ef4681row4_col1\" class=\"data row4 col1\" >0.0111</td>\n                        <td id=\"T_0baef04b_2814_11ea_8e8e_40e230ef4681row4_col2\" class=\"data row4 col2\" >0.2643</td>\n                        <td id=\"T_0baef04b_2814_11ea_8e8e_40e230ef4681row4_col3\" class=\"data row4 col3\" >0.0091</td>\n                        <td id=\"T_0baef04b_2814_11ea_8e8e_40e230ef4681row4_col4\" class=\"data row4 col4\" >0.4893</td>\n            </tr>\n            <tr>\n                        <th id=\"T_0baef04b_2814_11ea_8e8e_40e230ef4681level0_row5\" class=\"row_heading level0 row5\" >car</th>\n                        <td id=\"T_0baef04b_2814_11ea_8e8e_40e230ef4681row5_col0\" class=\"data row5 col0\" >0.1928</td>\n                        <td id=\"T_0baef04b_2814_11ea_8e8e_40e230ef4681row5_col1\" class=\"data row5 col1\" >0.365</td>\n                        <td id=\"T_0baef04b_2814_11ea_8e8e_40e230ef4681row5_col2\" class=\"data row5 col2\" >0.7039</td>\n                        <td id=\"T_0baef04b_2814_11ea_8e8e_40e230ef4681row5_col3\" class=\"data row5 col3\" >0.6334</td>\n                        <td id=\"T_0baef04b_2814_11ea_8e8e_40e230ef4681row5_col4\" class=\"data row5 col4\" >0.4479</td>\n            </tr>\n            <tr>\n                        <th id=\"T_0baef04b_2814_11ea_8e8e_40e230ef4681level0_row6\" class=\"row_heading level0 row6\" >cleveland</th>\n                        <td id=\"T_0baef04b_2814_11ea_8e8e_40e230ef4681row6_col0\" class=\"data row6 col0\" >0.0284</td>\n                        <td id=\"T_0baef04b_2814_11ea_8e8e_40e230ef4681row6_col1\" class=\"data row6 col1\" >0.0655</td>\n                        <td id=\"T_0baef04b_2814_11ea_8e8e_40e230ef4681row6_col2\" class=\"data row6 col2\" >0.0609</td>\n                        <td id=\"T_0baef04b_2814_11ea_8e8e_40e230ef4681row6_col3\" class=\"data row6 col3\" >0.0389</td>\n                        <td id=\"T_0baef04b_2814_11ea_8e8e_40e230ef4681row6_col4\" class=\"data row6 col4\" >0.072</td>\n            </tr>\n            <tr>\n                        <th id=\"T_0baef04b_2814_11ea_8e8e_40e230ef4681level0_row7\" class=\"row_heading level0 row7\" >cleveland_v2</th>\n                        <td id=\"T_0baef04b_2814_11ea_8e8e_40e230ef4681row7_col0\" class=\"data row7 col0\" >0.0174</td>\n                        <td id=\"T_0baef04b_2814_11ea_8e8e_40e230ef4681row7_col1\" class=\"data row7 col1\" >0.0614</td>\n                        <td id=\"T_0baef04b_2814_11ea_8e8e_40e230ef4681row7_col2\" class=\"data row7 col2\" >0.0627</td>\n                        <td id=\"T_0baef04b_2814_11ea_8e8e_40e230ef4681row7_col3\" class=\"data row7 col3\" >0.0266</td>\n                        <td id=\"T_0baef04b_2814_11ea_8e8e_40e230ef4681row7_col4\" class=\"data row7 col4\" >0.0688</td>\n            </tr>\n            <tr>\n                        <th id=\"T_0baef04b_2814_11ea_8e8e_40e230ef4681level0_row8\" class=\"row_heading level0 row8\" >cmc</th>\n                        <td id=\"T_0baef04b_2814_11ea_8e8e_40e230ef4681row8_col0\" class=\"data row8 col0\" >0.3387</td>\n                        <td id=\"T_0baef04b_2814_11ea_8e8e_40e230ef4681row8_col1\" class=\"data row8 col1\" >0.5141</td>\n                        <td id=\"T_0baef04b_2814_11ea_8e8e_40e230ef4681row8_col2\" class=\"data row8 col2\" >0.4369</td>\n                        <td id=\"T_0baef04b_2814_11ea_8e8e_40e230ef4681row8_col3\" class=\"data row8 col3\" >0.345</td>\n                        <td id=\"T_0baef04b_2814_11ea_8e8e_40e230ef4681row8_col4\" class=\"data row8 col4\" >0.4657</td>\n            </tr>\n            <tr>\n                        <th id=\"T_0baef04b_2814_11ea_8e8e_40e230ef4681level0_row9\" class=\"row_heading level0 row9\" >dermatology</th>\n                        <td id=\"T_0baef04b_2814_11ea_8e8e_40e230ef4681row9_col0\" class=\"data row9 col0\" >0.95</td>\n                        <td id=\"T_0baef04b_2814_11ea_8e8e_40e230ef4681row9_col1\" class=\"data row9 col1\" >0.98</td>\n                        <td id=\"T_0baef04b_2814_11ea_8e8e_40e230ef4681row9_col2\" class=\"data row9 col2\" >0.99</td>\n                        <td id=\"T_0baef04b_2814_11ea_8e8e_40e230ef4681row9_col3\" class=\"data row9 col3\" >0.95</td>\n                        <td id=\"T_0baef04b_2814_11ea_8e8e_40e230ef4681row9_col4\" class=\"data row9 col4\" >1</td>\n            </tr>\n            <tr>\n                        <th id=\"T_0baef04b_2814_11ea_8e8e_40e230ef4681level0_row10\" class=\"row_heading level0 row10\" >flare</th>\n                        <td id=\"T_0baef04b_2814_11ea_8e8e_40e230ef4681row10_col0\" class=\"data row10 col0\" >0.2519</td>\n                        <td id=\"T_0baef04b_2814_11ea_8e8e_40e230ef4681row10_col1\" class=\"data row10 col1\" >0.319</td>\n                        <td id=\"T_0baef04b_2814_11ea_8e8e_40e230ef4681row10_col2\" class=\"data row10 col2\" >0.3909</td>\n                        <td id=\"T_0baef04b_2814_11ea_8e8e_40e230ef4681row10_col3\" class=\"data row10 col3\" >0.3056</td>\n                        <td id=\"T_0baef04b_2814_11ea_8e8e_40e230ef4681row10_col4\" class=\"data row10 col4\" >0.558</td>\n            </tr>\n            <tr>\n                        <th id=\"T_0baef04b_2814_11ea_8e8e_40e230ef4681level0_row11\" class=\"row_heading level0 row11\" >glass</th>\n                        <td id=\"T_0baef04b_2814_11ea_8e8e_40e230ef4681row11_col0\" class=\"data row11 col0\" >0.1627</td>\n                        <td id=\"T_0baef04b_2814_11ea_8e8e_40e230ef4681row11_col1\" class=\"data row11 col1\" >0.4819</td>\n                        <td id=\"T_0baef04b_2814_11ea_8e8e_40e230ef4681row11_col2\" class=\"data row11 col2\" >0.541</td>\n                        <td id=\"T_0baef04b_2814_11ea_8e8e_40e230ef4681row11_col3\" class=\"data row11 col3\" >0.2571</td>\n                        <td id=\"T_0baef04b_2814_11ea_8e8e_40e230ef4681row11_col4\" class=\"data row11 col4\" >0.6696</td>\n            </tr>\n            <tr>\n                        <th id=\"T_0baef04b_2814_11ea_8e8e_40e230ef4681level0_row12\" class=\"row_heading level0 row12\" >hayes-roth</th>\n                        <td id=\"T_0baef04b_2814_11ea_8e8e_40e230ef4681row12_col0\" class=\"data row12 col0\" >0.4063</td>\n                        <td id=\"T_0baef04b_2814_11ea_8e8e_40e230ef4681row12_col1\" class=\"data row12 col1\" >0.709</td>\n                        <td id=\"T_0baef04b_2814_11ea_8e8e_40e230ef4681row12_col2\" class=\"data row12 col2\" >0.6619</td>\n                        <td id=\"T_0baef04b_2814_11ea_8e8e_40e230ef4681row12_col3\" class=\"data row12 col3\" >0.6443</td>\n                        <td id=\"T_0baef04b_2814_11ea_8e8e_40e230ef4681row12_col4\" class=\"data row12 col4\" >0.6171</td>\n            </tr>\n            <tr>\n                        <th id=\"T_0baef04b_2814_11ea_8e8e_40e230ef4681level0_row13\" class=\"row_heading level0 row13\" >new_ecoli</th>\n                        <td id=\"T_0baef04b_2814_11ea_8e8e_40e230ef4681row13_col0\" class=\"data row13 col0\" >0.705</td>\n                        <td id=\"T_0baef04b_2814_11ea_8e8e_40e230ef4681row13_col1\" class=\"data row13 col1\" >0.7202</td>\n                        <td id=\"T_0baef04b_2814_11ea_8e8e_40e230ef4681row13_col2\" class=\"data row13 col2\" >0.7762</td>\n                        <td id=\"T_0baef04b_2814_11ea_8e8e_40e230ef4681row13_col3\" class=\"data row13 col3\" >0.8167</td>\n                        <td id=\"T_0baef04b_2814_11ea_8e8e_40e230ef4681row13_col4\" class=\"data row13 col4\" >0.7899</td>\n            </tr>\n            <tr>\n                        <th id=\"T_0baef04b_2814_11ea_8e8e_40e230ef4681level0_row14\" class=\"row_heading level0 row14\" >new_led7digit</th>\n                        <td id=\"T_0baef04b_2814_11ea_8e8e_40e230ef4681row14_col0\" class=\"data row14 col0\" >0.6512</td>\n                        <td id=\"T_0baef04b_2814_11ea_8e8e_40e230ef4681row14_col1\" class=\"data row14 col1\" >0.1022</td>\n                        <td id=\"T_0baef04b_2814_11ea_8e8e_40e230ef4681row14_col2\" class=\"data row14 col2\" >0.602</td>\n                        <td id=\"T_0baef04b_2814_11ea_8e8e_40e230ef4681row14_col3\" class=\"data row14 col3\" >0.6135</td>\n                        <td id=\"T_0baef04b_2814_11ea_8e8e_40e230ef4681row14_col4\" class=\"data row14 col4\" >0.738</td>\n            </tr>\n            <tr>\n                        <th id=\"T_0baef04b_2814_11ea_8e8e_40e230ef4681level0_row15\" class=\"row_heading level0 row15\" >new_vehicle</th>\n                        <td id=\"T_0baef04b_2814_11ea_8e8e_40e230ef4681row15_col0\" class=\"data row15 col0\" >0.9136</td>\n                        <td id=\"T_0baef04b_2814_11ea_8e8e_40e230ef4681row15_col1\" class=\"data row15 col1\" >0.9428</td>\n                        <td id=\"T_0baef04b_2814_11ea_8e8e_40e230ef4681row15_col2\" class=\"data row15 col2\" >0.9321</td>\n                        <td id=\"T_0baef04b_2814_11ea_8e8e_40e230ef4681row15_col3\" class=\"data row15 col3\" >0.9127</td>\n                        <td id=\"T_0baef04b_2814_11ea_8e8e_40e230ef4681row15_col4\" class=\"data row15 col4\" >0.9397</td>\n            </tr>\n            <tr>\n                        <th id=\"T_0baef04b_2814_11ea_8e8e_40e230ef4681level0_row16\" class=\"row_heading level0 row16\" >new_winequality-red</th>\n                        <td id=\"T_0baef04b_2814_11ea_8e8e_40e230ef4681row16_col0\" class=\"data row16 col0\" >0.124</td>\n                        <td id=\"T_0baef04b_2814_11ea_8e8e_40e230ef4681row16_col1\" class=\"data row16 col1\" >0.4165</td>\n                        <td id=\"T_0baef04b_2814_11ea_8e8e_40e230ef4681row16_col2\" class=\"data row16 col2\" >0.4396</td>\n                        <td id=\"T_0baef04b_2814_11ea_8e8e_40e230ef4681row16_col3\" class=\"data row16 col3\" >0.17</td>\n                        <td id=\"T_0baef04b_2814_11ea_8e8e_40e230ef4681row16_col4\" class=\"data row16 col4\" >0.4626</td>\n            </tr>\n            <tr>\n                        <th id=\"T_0baef04b_2814_11ea_8e8e_40e230ef4681level0_row17\" class=\"row_heading level0 row17\" >new_yeast</th>\n                        <td id=\"T_0baef04b_2814_11ea_8e8e_40e230ef4681row17_col0\" class=\"data row17 col0\" >0.1333</td>\n                        <td id=\"T_0baef04b_2814_11ea_8e8e_40e230ef4681row17_col1\" class=\"data row17 col1\" >0.3151</td>\n                        <td id=\"T_0baef04b_2814_11ea_8e8e_40e230ef4681row17_col2\" class=\"data row17 col2\" >0.3554</td>\n                        <td id=\"T_0baef04b_2814_11ea_8e8e_40e230ef4681row17_col3\" class=\"data row17 col3\" >0.1751</td>\n                        <td id=\"T_0baef04b_2814_11ea_8e8e_40e230ef4681row17_col4\" class=\"data row17 col4\" >0.3558</td>\n            </tr>\n            <tr>\n                        <th id=\"T_0baef04b_2814_11ea_8e8e_40e230ef4681level0_row18\" class=\"row_heading level0 row18\" >thyroid-newthyroid</th>\n                        <td id=\"T_0baef04b_2814_11ea_8e8e_40e230ef4681row18_col0\" class=\"data row18 col0\" >0.8673</td>\n                        <td id=\"T_0baef04b_2814_11ea_8e8e_40e230ef4681row18_col1\" class=\"data row18 col1\" >0.9394</td>\n                        <td id=\"T_0baef04b_2814_11ea_8e8e_40e230ef4681row18_col2\" class=\"data row18 col2\" >0.9425</td>\n                        <td id=\"T_0baef04b_2814_11ea_8e8e_40e230ef4681row18_col3\" class=\"data row18 col3\" >0.8944</td>\n                        <td id=\"T_0baef04b_2814_11ea_8e8e_40e230ef4681row18_col4\" class=\"data row18 col4\" >0.9493</td>\n            </tr>\n    </tbody></table>"
     },
     "metadata": {},
     "output_type": "display_data"
    },
    {
     "data": {
      "text/plain": "        Mean G-mean\nsoup       0.614932\nsmote      0.579400\nmdo        0.521263\nglobal     0.506616\nbase       0.426316",
      "text/html": "<div>\n<style scoped>\n    .dataframe tbody tr th:only-of-type {\n        vertical-align: middle;\n    }\n\n    .dataframe tbody tr th {\n        vertical-align: top;\n    }\n\n    .dataframe thead th {\n        text-align: right;\n    }\n</style>\n<table border=\"1\" class=\"dataframe\">\n  <thead>\n    <tr style=\"text-align: right;\">\n      <th></th>\n      <th>Mean G-mean</th>\n    </tr>\n  </thead>\n  <tbody>\n    <tr>\n      <th>soup</th>\n      <td>0.614932</td>\n    </tr>\n    <tr>\n      <th>smote</th>\n      <td>0.579400</td>\n    </tr>\n    <tr>\n      <th>mdo</th>\n      <td>0.521263</td>\n    </tr>\n    <tr>\n      <th>global</th>\n      <td>0.506616</td>\n    </tr>\n    <tr>\n      <th>base</th>\n      <td>0.426316</td>\n    </tr>\n  </tbody>\n</table>\n</div>"
     },
     "metadata": {},
     "output_type": "display_data"
    },
    {
     "data": {
      "text/plain": "        Mean rank\nsoup     1.526316\nsmote    2.447368\nglobal   3.052632\nmdo      3.236842\nbase     4.736842",
      "text/html": "<div>\n<style scoped>\n    .dataframe tbody tr th:only-of-type {\n        vertical-align: middle;\n    }\n\n    .dataframe tbody tr th {\n        vertical-align: top;\n    }\n\n    .dataframe thead th {\n        text-align: right;\n    }\n</style>\n<table border=\"1\" class=\"dataframe\">\n  <thead>\n    <tr style=\"text-align: right;\">\n      <th></th>\n      <th>Mean rank</th>\n    </tr>\n  </thead>\n  <tbody>\n    <tr>\n      <th>soup</th>\n      <td>1.526316</td>\n    </tr>\n    <tr>\n      <th>smote</th>\n      <td>2.447368</td>\n    </tr>\n    <tr>\n      <th>global</th>\n      <td>3.052632</td>\n    </tr>\n    <tr>\n      <th>mdo</th>\n      <td>3.236842</td>\n    </tr>\n    <tr>\n      <th>base</th>\n      <td>4.736842</td>\n    </tr>\n  </tbody>\n</table>\n</div>"
     },
     "metadata": {},
     "output_type": "display_data"
    }
   ],
   "source": [
    "print_scores(scores['g_mean_knn_minority'])\n",
    "# print_scores(avg_acc)\n"
   ],
   "metadata": {
    "collapsed": false,
    "pycharm": {
     "name": "#%%\n",
     "is_executing": false
    }
   }
  },
  {
   "cell_type": "markdown",
   "source": [
    "### Porównanie baggingów - głosowanie przez średnią"
   ],
   "metadata": {
    "collapsed": false,
    "pycharm": {
     "name": "#%% md\n"
    }
   }
  },
  {
   "cell_type": "code",
   "execution_count": 145,
   "outputs": [],
   "source": [
    "# clf_res_names =['base','soup','soupbg005','soupbg015','soupbg030', 'soupbg050', 'soupbg100']\n",
    "# # clf_res_names =['base','global','smote','mdo','soup']\n",
    "# # clf_res_names =['base','global','soup']\n",
    "# # datasets = load_arff_datasets()\n",
    "# scores = provide_test_and_get_scores(datasets, clf_res_names)\n",
    "# \n",
    "# "
   ],
   "metadata": {
    "collapsed": false,
    "pycharm": {
     "name": "#%%\n",
     "is_executing": false
    }
   }
  },
  {
   "cell_type": "markdown",
   "source": [
    "### Wszystkie zbiory danych:\n",
    "#### Drzewo"
   ],
   "metadata": {
    "collapsed": false
   }
  },
  {
   "cell_type": "code",
   "execution_count": 146,
   "outputs": [],
   "source": [
    "# print_scores(scores['g_mean_tree'])\n",
    "# \n",
    "# "
   ],
   "metadata": {
    "collapsed": false,
    "pycharm": {
     "name": "#%%\n",
     "is_executing": false
    }
   }
  },
  {
   "cell_type": "markdown",
   "source": [
    "#### kNN - 5"
   ],
   "metadata": {
    "collapsed": false
   }
  },
  {
   "cell_type": "code",
   "execution_count": 147,
   "outputs": [],
   "source": [
    "# print_scores(scores['g_mean_knn'])\n",
    "# # print_scores(avg_acc)\n",
    "# \n",
    "# "
   ],
   "metadata": {
    "collapsed": false,
    "pycharm": {
     "name": "#%%\n",
     "is_executing": false
    }
   }
  }
 ],
 "metadata": {
  "kernelspec": {
   "display_name": "Python 3",
   "language": "python",
   "name": "python3"
  },
  "language_info": {
   "codemirror_mode": {
    "name": "ipython",
    "version": 3
   },
   "file_extension": ".py",
   "mimetype": "text/x-python",
   "name": "python",
   "nbconvert_exporter": "python",
   "pygments_lexer": "ipython3",
   "version": "3.6.8"
  },
  "pycharm": {
   "stem_cell": {
    "cell_type": "raw",
    "source": [],
    "metadata": {
     "collapsed": false
    }
   }
  }
 },
 "nbformat": 4,
 "nbformat_minor": 1
}