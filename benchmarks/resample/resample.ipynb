{
 "cells": [
  {
   "cell_type": "code",
   "execution_count": 1,
   "metadata": {
    "pycharm": {
     "is_executing": false
    }
   },
   "outputs": [],
   "source": [
    "from collections import Counter\n",
    "import numpy as np\n",
    "import pandas as pd\n",
    "from IPython.core.display import display\n",
    "from sklearn.metrics import accuracy_score\n",
    "\n",
    "from sklearn.model_selection import StratifiedKFold\n",
    "from sklearn.tree import DecisionTreeClassifier\n",
    "\n",
    "from multi_imbalance.datasets import load_datasets\n",
    "from multi_imbalance.resampling.SOUP import SOUP\n",
    "from multi_imbalance.resampling.MDO import MDO\n",
    "from multi_imbalance.resampling.GlobalCS import GlobalCS\n",
    "\n",
    "from imblearn.metrics import geometric_mean_score\n",
    "from imblearn.over_sampling import SMOTE\n",
    "from multi_imbalance.resampling.spider import SPIDER3\n",
    "\n",
    "import seaborn as sns\n",
    "from sklearn.decomposition import PCA\n",
    "import matplotlib.pyplot as plt"
   ]
  },
  {
   "cell_type": "code",
   "execution_count": 2,
   "metadata": {},
   "outputs": [],
   "source": [
    "datasets = load_datasets()"
   ]
  },
  {
   "cell_type": "code",
   "execution_count": 3,
   "metadata": {},
   "outputs": [
    {
     "name": "stdout",
     "output_type": "stream",
     "text": [
      "1czysty-cut Counter({0: 840, 2: 240, 1: 120})\n",
      "2delikatne-cut Counter({0: 840, 2: 240, 1: 120})\n",
      "3mocniej-cut Counter({0: 840, 2: 240, 1: 120})\n",
      "4delikatne-bezover-cut Counter({0: 840, 2: 240, 1: 120})\n",
      "balance-scale Counter({2: 288, 1: 288, 0: 49})\n",
      "cleveland Counter({0: 164, 1: 55, 2: 36, 3: 35, 4: 13})\n",
      "cleveland_v2 Counter({0: 219, 1: 36, 2: 35, 3: 13})\n",
      "cmc Counter({0: 629, 2: 511, 1: 333})\n",
      "dermatology Counter({0: 112, 2: 72, 1: 61, 4: 52, 3: 49, 5: 20})\n",
      "glass Counter({1: 76, 0: 70, 3: 29, 5: 17, 2: 13, 4: 9})\n",
      "hayes-roth Counter({0: 65, 1: 64, 2: 31})\n",
      "new_ecoli Counter({0: 145, 1: 77, 4: 52, 2: 37, 3: 25})\n",
      "new_led7digit Counter({3: 108, 5: 99, 0: 98, 2: 94, 4: 52, 1: 49})\n",
      "new_vehicle Counter({1: 429, 0: 218, 2: 199})\n",
      "new_winequality-red Counter({0: 681, 1: 638, 2: 199, 3: 81})\n",
      "new_yeast Counter({0: 463, 1: 429, 8: 244, 7: 168, 6: 51, 5: 44, 4: 35, 3: 30, 2: 20})\n",
      "thyroid-newthyroid Counter({0: 150, 1: 35, 2: 30})\n"
     ]
    }
   ],
   "source": [
    "for dataset_name, dataset in datasets.items():\n",
    "    print(dataset_name, Counter(dataset.target))"
   ]
  },
  {
   "cell_type": "code",
   "execution_count": 4,
   "metadata": {
    "pycharm": {
     "is_executing": false
    }
   },
   "outputs": [],
   "source": [
    "maj_int_min = {\n",
    "    \"1czysty-cut\": {'maj': [0],'int': [2],'min': [1]}, \n",
    "    \"2delikatne-cut\": {'maj': [0],'int': [2],'min': [1]},\n",
    "    \"3mocniej-cut\": {'maj': [0],'int': [2],'min': [1]},\n",
    "    \"4delikatne-bezover-cut\": {'maj': [0],'int': [2],'min': [1]},\n",
    "    \"balance-scale\": {'maj': [2, 1],'int': [],'min': [0]},\n",
    "    \"cleveland\": {'maj': [0],'int': [1],'min': [2, 3, 4]},\n",
    "    \"cleveland_v2\": {'maj': [0],'int': [],'min': [1,2,3]},\n",
    "    \"cmc\": {'maj': [0, 2],'int': [],'min': [1]},\n",
    "    \"dermatology\": {'maj': [0,],'int': [2, 1, 4, 3],'min': [5]},\n",
    "    \"glass\": {'maj': [1, 0],'int': [3],'min': [5, 2, 4]},\n",
    "    \"hayes-roth\": {'maj': [],'int': [],'min': [0,1, 2]},\n",
    "    \"new_ecoli\": {'maj': [0],'int': [1,4],'min': [2, 3]},\n",
    "    \"new_led7digit\": {'maj': [3, 5, 0, 2,4,1],'int': [],'min': []},\n",
    "    \"new_vehicle\": {'maj': [1],'int': [],'min': [0, 2]},\n",
    "    \"new_winequality-red\": {'maj': [0, 1],'int': [2],'min': [3]},\n",
    "    \"new_yeast\": {'maj': [0, 1],'int': [8, 7],'min': [6,5,4,3,2]},\n",
    "    \"thyroid-newthyroid\": {'maj': [0],'int': [],'min': [1,2]}\n",
    "}"
   ]
  },
  {
   "cell_type": "code",
   "execution_count": 25,
   "metadata": {},
   "outputs": [],
   "source": [
    "def calc_cost_matrix1(dataset_name):\n",
    "    #imbalance ratio\n",
    "    no_classes = np.unique(datasets[dataset_name].target).size\n",
    "    cost = np.ones((no_classes, no_classes))\n",
    "    element_count = Counter(datasets[dataset_name].target)\n",
    "    cardinality_pairs = list(element_count.items())\n",
    "    cost = np.zeros((len(cardinality_pairs), len(cardinality_pairs)))\n",
    "\n",
    "    for idx1, card1 in cardinality_pairs:\n",
    "        for idx2, card2 in cardinality_pairs:\n",
    "            cost[idx1, idx2] = card1/card2\n",
    "\n",
    "    np.fill_diagonal(cost, 0)\n",
    "    #print(cost)\n",
    "    return cost\n",
    "\n",
    "def calc_cost_matrix3(dataset_name):\n",
    "    #default\n",
    "    no_classes = np.unique(datasets[dataset_name].target).size\n",
    "    cost = np.ones((no_classes, no_classes))\n",
    "    np.fill_diagonal(cost, 0)\n",
    "    return cost\n",
    "\n",
    "def calc_cost_matrix(dataset_name):\n",
    "    #default\n",
    "    no_classes = np.unique(datasets[dataset_name].target).size\n",
    "    cost = np.ones((no_classes, no_classes))\n",
    "\n",
    "    X, y = datasets[dataset_name].data, datasets[dataset_name].target\n",
    "    element_count = Counter(y)\n",
    "    cardinality_pairs = list(element_count.items())\n",
    "    for c1,_ in cardinality_pairs:\n",
    "        for c2,_ in cardinality_pairs:\n",
    "            f2_overlap_volume = 1\n",
    "            for i in range(X.shape[1]):\n",
    "                f2_overlap_volume = f2_overlap_volume * (min(X[y == c1][:,i].max(), X[y == c2][:,i].max()) - max(X[y == c1][:,i].min(), X[y == c2][:,i].min())) / (max(X[y == c1][:,i].max(), X[y == c2][:,i].max()) - min(X[y == c1][:,i].min(), X[y == c2][:,i].min()))\n",
    "            cost[c2, c1] = f2_overlap_volume\n",
    "    np.fill_diagonal(cost, 0)\n",
    "    max_overlap = cost.max()\n",
    "    cost = cost / max_overlap + np.ones((no_classes, no_classes))\n",
    "    np.fill_diagonal(cost,0)\n",
    "    #print(cost)\n",
    "    return cost\n",
    "\n",
    "def calc_cost_matrix3(dataset_name):\n",
    "    #default\n",
    "    no_classes = np.unique(datasets[dataset_name].target).size\n",
    "    cost = np.ones((no_classes, no_classes))\n",
    "\n",
    "    X, y = datasets[dataset_name].data, datasets[dataset_name].target\n",
    "    element_count = Counter(y)\n",
    "    cardinality_pairs = list(element_count.items())\n",
    "    for c1,_ in cardinality_pairs:\n",
    "        for c2,_ in cardinality_pairs:\n",
    "            f2_overlap_volume = 1\n",
    "            for i in range(X.shape[1]):\n",
    "                f2_overlap_volume = f2_overlap_volume * (min(X[y == c1][:,i].max(), X[y == c2][:,i].max()) - max(X[y == c1][:,i].min(), X[y == c2][:,i].min())) / (max(X[y == c1][:,i].max(), X[y == c2][:,i].max()) - min(X[y == c1][:,i].min(), X[y == c2][:,i].min()))\n",
    "            cost[c2, c1] = f2_overlap_volume\n",
    "    np.fill_diagonal(cost, 0)\n",
    "    max_overlap = cost.max()\n",
    "    cost = cost / max_overlap + np.ones((no_classes, no_classes))\n",
    "    np.fill_diagonal(cost,0)\n",
    "    \n",
    "    for idx1, card1 in cardinality_pairs:\n",
    "        for idx2, card2 in cardinality_pairs:\n",
    "            cost[idx1, idx2] *= card1/card2\n",
    "    #print(cost)\n",
    "    return cost\n",
    "\n",
    "def calc_cost_matrix(dataset_name):\n",
    "    #default\n",
    "    no_classes = np.unique(datasets[dataset_name].target).size\n",
    "    cost = np.ones((no_classes, no_classes))\n",
    "\n",
    "    X, y = datasets[dataset_name].data, datasets[dataset_name].target\n",
    "    element_count = Counter(y)\n",
    "    cardinality_pairs = list(element_count.items())\n",
    "    for c1,_ in cardinality_pairs:\n",
    "        for c2,_ in cardinality_pairs:\n",
    "            f2_overlap_volume = 1\n",
    "            for i in range(X.shape[1]):\n",
    "                f2_overlap_volume = f2_overlap_volume * (min(X[y == c1][:,i].max(), X[y == c2][:,i].max()) - max(X[y == c1][:,i].min(), X[y == c2][:,i].min())) / (max(X[y == c1][:,i].max(), X[y == c2][:,i].max()) - min(X[y == c1][:,i].min(), X[y == c2][:,i].min()) + 0.000001)\n",
    "            cost[c2, c1] = f2_overlap_volume\n",
    "    np.fill_diagonal(cost, 0)\n",
    "    max_overlap = cost.max() + 0.000001\n",
    "    cost = cost / max_overlap + np.ones((no_classes, no_classes))\n",
    "    np.fill_diagonal(cost,0)\n",
    "    #print(cost)\n",
    "    return cost"
   ]
  },
  {
   "cell_type": "code",
   "execution_count": null,
   "metadata": {},
   "outputs": [],
   "source": []
  },
  {
   "cell_type": "code",
   "execution_count": 30,
   "metadata": {
    "pycharm": {
     "is_executing": false,
     "name": "#%%\n"
    }
   },
   "outputs": [
    {
     "name": "stdout",
     "output_type": "stream",
     "text": [
      "1czysty-cut\n",
      "2delikatne-cut\n",
      "3mocniej-cut\n",
      "4delikatne-bezover-cut\n",
      "balance-scale\n",
      "cleveland\n",
      "cleveland_v2\n",
      "cmc\n",
      "dermatology\n",
      "glass\n",
      "hayes-roth\n",
      "new_ecoli\n",
      "new_led7digit\n",
      "new_vehicle\n",
      "new_winequality-red\n",
      "new_yeast\n",
      "thyroid-newthyroid\n"
     ]
    },
    {
     "data": {
      "text/plain": [
       "'G-MEAN'"
      ]
     },
     "metadata": {},
     "output_type": "display_data"
    },
    {
     "data": {
      "text/html": [
       "<div>\n",
       "<style scoped>\n",
       "    .dataframe tbody tr th:only-of-type {\n",
       "        vertical-align: middle;\n",
       "    }\n",
       "\n",
       "    .dataframe tbody tr th {\n",
       "        vertical-align: top;\n",
       "    }\n",
       "\n",
       "    .dataframe thead th {\n",
       "        text-align: right;\n",
       "    }\n",
       "</style>\n",
       "<table border=\"1\" class=\"dataframe\">\n",
       "  <thead>\n",
       "    <tr style=\"text-align: right;\">\n",
       "      <th></th>\n",
       "      <th>base</th>\n",
       "      <th>global</th>\n",
       "      <th>soup</th>\n",
       "      <th>mdo</th>\n",
       "      <th>spider</th>\n",
       "    </tr>\n",
       "  </thead>\n",
       "  <tbody>\n",
       "    <tr>\n",
       "      <td>1czysty-cut</td>\n",
       "      <td>0.937</td>\n",
       "      <td>0.946</td>\n",
       "      <td>0.951</td>\n",
       "      <td>0.966</td>\n",
       "      <td>0.954</td>\n",
       "    </tr>\n",
       "    <tr>\n",
       "      <td>2delikatne-cut</td>\n",
       "      <td>0.651</td>\n",
       "      <td>0.676</td>\n",
       "      <td>0.771</td>\n",
       "      <td>0.716</td>\n",
       "      <td>0.739</td>\n",
       "    </tr>\n",
       "    <tr>\n",
       "      <td>3mocniej-cut</td>\n",
       "      <td>0.404</td>\n",
       "      <td>0.445</td>\n",
       "      <td>0.543</td>\n",
       "      <td>0.489</td>\n",
       "      <td>0.509</td>\n",
       "    </tr>\n",
       "    <tr>\n",
       "      <td>4delikatne-bezover-cut</td>\n",
       "      <td>0.723</td>\n",
       "      <td>0.752</td>\n",
       "      <td>0.874</td>\n",
       "      <td>0.796</td>\n",
       "      <td>0.839</td>\n",
       "    </tr>\n",
       "    <tr>\n",
       "      <td>balance-scale</td>\n",
       "      <td>0.247</td>\n",
       "      <td>0.103</td>\n",
       "      <td>0.391</td>\n",
       "      <td>0.192</td>\n",
       "      <td>0.319</td>\n",
       "    </tr>\n",
       "    <tr>\n",
       "      <td>cleveland</td>\n",
       "      <td>0.120</td>\n",
       "      <td>0.086</td>\n",
       "      <td>0.125</td>\n",
       "      <td>0.057</td>\n",
       "      <td>0.221</td>\n",
       "    </tr>\n",
       "    <tr>\n",
       "      <td>cleveland_v2</td>\n",
       "      <td>0.063</td>\n",
       "      <td>0.054</td>\n",
       "      <td>0.217</td>\n",
       "      <td>0.099</td>\n",
       "      <td>0.200</td>\n",
       "    </tr>\n",
       "    <tr>\n",
       "      <td>cmc</td>\n",
       "      <td>0.447</td>\n",
       "      <td>0.450</td>\n",
       "      <td>0.460</td>\n",
       "      <td>0.433</td>\n",
       "      <td>0.410</td>\n",
       "    </tr>\n",
       "    <tr>\n",
       "      <td>dermatology</td>\n",
       "      <td>0.905</td>\n",
       "      <td>0.912</td>\n",
       "      <td>0.920</td>\n",
       "      <td>0.955</td>\n",
       "      <td>0.902</td>\n",
       "    </tr>\n",
       "    <tr>\n",
       "      <td>glass</td>\n",
       "      <td>0.495</td>\n",
       "      <td>0.721</td>\n",
       "      <td>0.646</td>\n",
       "      <td>0.538</td>\n",
       "      <td>0.592</td>\n",
       "    </tr>\n",
       "    <tr>\n",
       "      <td>hayes-roth</td>\n",
       "      <td>0.858</td>\n",
       "      <td>0.864</td>\n",
       "      <td>0.817</td>\n",
       "      <td>0.858</td>\n",
       "      <td>0.869</td>\n",
       "    </tr>\n",
       "    <tr>\n",
       "      <td>new_ecoli</td>\n",
       "      <td>0.622</td>\n",
       "      <td>0.651</td>\n",
       "      <td>0.595</td>\n",
       "      <td>0.682</td>\n",
       "      <td>0.670</td>\n",
       "    </tr>\n",
       "    <tr>\n",
       "      <td>new_led7digit</td>\n",
       "      <td>0.763</td>\n",
       "      <td>0.769</td>\n",
       "      <td>0.770</td>\n",
       "      <td>0.765</td>\n",
       "      <td>0.775</td>\n",
       "    </tr>\n",
       "    <tr>\n",
       "      <td>new_vehicle</td>\n",
       "      <td>0.911</td>\n",
       "      <td>0.903</td>\n",
       "      <td>0.865</td>\n",
       "      <td>0.896</td>\n",
       "      <td>0.888</td>\n",
       "    </tr>\n",
       "    <tr>\n",
       "      <td>new_winequality-red</td>\n",
       "      <td>0.312</td>\n",
       "      <td>0.235</td>\n",
       "      <td>0.365</td>\n",
       "      <td>0.346</td>\n",
       "      <td>0.329</td>\n",
       "    </tr>\n",
       "    <tr>\n",
       "      <td>new_yeast</td>\n",
       "      <td>0.234</td>\n",
       "      <td>0.197</td>\n",
       "      <td>0.317</td>\n",
       "      <td>0.302</td>\n",
       "      <td>0.222</td>\n",
       "    </tr>\n",
       "    <tr>\n",
       "      <td>thyroid-newthyroid</td>\n",
       "      <td>0.898</td>\n",
       "      <td>0.809</td>\n",
       "      <td>0.909</td>\n",
       "      <td>0.957</td>\n",
       "      <td>0.944</td>\n",
       "    </tr>\n",
       "  </tbody>\n",
       "</table>\n",
       "</div>"
      ],
      "text/plain": [
       "                         base  global   soup    mdo  spider\n",
       "1czysty-cut             0.937   0.946  0.951  0.966   0.954\n",
       "2delikatne-cut          0.651   0.676  0.771  0.716   0.739\n",
       "3mocniej-cut            0.404   0.445  0.543  0.489   0.509\n",
       "4delikatne-bezover-cut  0.723   0.752  0.874  0.796   0.839\n",
       "balance-scale           0.247   0.103  0.391  0.192   0.319\n",
       "cleveland               0.120   0.086  0.125  0.057   0.221\n",
       "cleveland_v2            0.063   0.054  0.217  0.099   0.200\n",
       "cmc                     0.447   0.450  0.460  0.433   0.410\n",
       "dermatology             0.905   0.912  0.920  0.955   0.902\n",
       "glass                   0.495   0.721  0.646  0.538   0.592\n",
       "hayes-roth              0.858   0.864  0.817  0.858   0.869\n",
       "new_ecoli               0.622   0.651  0.595  0.682   0.670\n",
       "new_led7digit           0.763   0.769  0.770  0.765   0.775\n",
       "new_vehicle             0.911   0.903  0.865  0.896   0.888\n",
       "new_winequality-red     0.312   0.235  0.365  0.346   0.329\n",
       "new_yeast               0.234   0.197  0.317  0.302   0.222\n",
       "thyroid-newthyroid      0.898   0.809  0.909  0.957   0.944"
      ]
     },
     "metadata": {},
     "output_type": "display_data"
    },
    {
     "data": {
      "text/plain": [
       "'ACC'"
      ]
     },
     "metadata": {},
     "output_type": "display_data"
    },
    {
     "data": {
      "text/html": [
       "<div>\n",
       "<style scoped>\n",
       "    .dataframe tbody tr th:only-of-type {\n",
       "        vertical-align: middle;\n",
       "    }\n",
       "\n",
       "    .dataframe tbody tr th {\n",
       "        vertical-align: top;\n",
       "    }\n",
       "\n",
       "    .dataframe thead th {\n",
       "        text-align: right;\n",
       "    }\n",
       "</style>\n",
       "<table border=\"1\" class=\"dataframe\">\n",
       "  <thead>\n",
       "    <tr style=\"text-align: right;\">\n",
       "      <th></th>\n",
       "      <th>base</th>\n",
       "      <th>global</th>\n",
       "      <th>soup</th>\n",
       "      <th>mdo</th>\n",
       "      <th>spider</th>\n",
       "    </tr>\n",
       "  </thead>\n",
       "  <tbody>\n",
       "    <tr>\n",
       "      <td>1czysty-cut</td>\n",
       "      <td>0.958</td>\n",
       "      <td>0.962</td>\n",
       "      <td>0.938</td>\n",
       "      <td>0.961</td>\n",
       "      <td>0.962</td>\n",
       "    </tr>\n",
       "    <tr>\n",
       "      <td>2delikatne-cut</td>\n",
       "      <td>0.822</td>\n",
       "      <td>0.832</td>\n",
       "      <td>0.804</td>\n",
       "      <td>0.825</td>\n",
       "      <td>0.828</td>\n",
       "    </tr>\n",
       "    <tr>\n",
       "      <td>3mocniej-cut</td>\n",
       "      <td>0.680</td>\n",
       "      <td>0.701</td>\n",
       "      <td>0.632</td>\n",
       "      <td>0.627</td>\n",
       "      <td>0.624</td>\n",
       "    </tr>\n",
       "    <tr>\n",
       "      <td>4delikatne-bezover-cut</td>\n",
       "      <td>0.842</td>\n",
       "      <td>0.852</td>\n",
       "      <td>0.828</td>\n",
       "      <td>0.841</td>\n",
       "      <td>0.845</td>\n",
       "    </tr>\n",
       "    <tr>\n",
       "      <td>balance-scale</td>\n",
       "      <td>0.619</td>\n",
       "      <td>0.552</td>\n",
       "      <td>0.546</td>\n",
       "      <td>0.625</td>\n",
       "      <td>0.557</td>\n",
       "    </tr>\n",
       "    <tr>\n",
       "      <td>cleveland</td>\n",
       "      <td>0.466</td>\n",
       "      <td>0.508</td>\n",
       "      <td>0.386</td>\n",
       "      <td>0.459</td>\n",
       "      <td>0.369</td>\n",
       "    </tr>\n",
       "    <tr>\n",
       "      <td>cleveland_v2</td>\n",
       "      <td>0.644</td>\n",
       "      <td>0.653</td>\n",
       "      <td>0.554</td>\n",
       "      <td>0.627</td>\n",
       "      <td>0.545</td>\n",
       "    </tr>\n",
       "    <tr>\n",
       "      <td>cmc</td>\n",
       "      <td>0.479</td>\n",
       "      <td>0.473</td>\n",
       "      <td>0.470</td>\n",
       "      <td>0.462</td>\n",
       "      <td>0.425</td>\n",
       "    </tr>\n",
       "    <tr>\n",
       "      <td>dermatology</td>\n",
       "      <td>0.915</td>\n",
       "      <td>0.917</td>\n",
       "      <td>0.911</td>\n",
       "      <td>0.951</td>\n",
       "      <td>0.923</td>\n",
       "    </tr>\n",
       "    <tr>\n",
       "      <td>glass</td>\n",
       "      <td>0.707</td>\n",
       "      <td>0.692</td>\n",
       "      <td>0.599</td>\n",
       "      <td>0.655</td>\n",
       "      <td>0.608</td>\n",
       "    </tr>\n",
       "    <tr>\n",
       "      <td>hayes-roth</td>\n",
       "      <td>0.838</td>\n",
       "      <td>0.844</td>\n",
       "      <td>0.794</td>\n",
       "      <td>0.838</td>\n",
       "      <td>0.850</td>\n",
       "    </tr>\n",
       "    <tr>\n",
       "      <td>new_ecoli</td>\n",
       "      <td>0.788</td>\n",
       "      <td>0.764</td>\n",
       "      <td>0.696</td>\n",
       "      <td>0.761</td>\n",
       "      <td>0.728</td>\n",
       "    </tr>\n",
       "    <tr>\n",
       "      <td>new_led7digit</td>\n",
       "      <td>0.782</td>\n",
       "      <td>0.782</td>\n",
       "      <td>0.768</td>\n",
       "      <td>0.784</td>\n",
       "      <td>0.803</td>\n",
       "    </tr>\n",
       "    <tr>\n",
       "      <td>new_vehicle</td>\n",
       "      <td>0.916</td>\n",
       "      <td>0.907</td>\n",
       "      <td>0.845</td>\n",
       "      <td>0.892</td>\n",
       "      <td>0.872</td>\n",
       "    </tr>\n",
       "    <tr>\n",
       "      <td>new_winequality-red</td>\n",
       "      <td>0.469</td>\n",
       "      <td>0.445</td>\n",
       "      <td>0.426</td>\n",
       "      <td>0.453</td>\n",
       "      <td>0.344</td>\n",
       "    </tr>\n",
       "    <tr>\n",
       "      <td>new_yeast</td>\n",
       "      <td>0.494</td>\n",
       "      <td>0.463</td>\n",
       "      <td>0.487</td>\n",
       "      <td>0.484</td>\n",
       "      <td>0.414</td>\n",
       "    </tr>\n",
       "    <tr>\n",
       "      <td>thyroid-newthyroid</td>\n",
       "      <td>0.940</td>\n",
       "      <td>0.912</td>\n",
       "      <td>0.907</td>\n",
       "      <td>0.944</td>\n",
       "      <td>0.935</td>\n",
       "    </tr>\n",
       "  </tbody>\n",
       "</table>\n",
       "</div>"
      ],
      "text/plain": [
       "                         base  global   soup    mdo  spider\n",
       "1czysty-cut             0.958   0.962  0.938  0.961   0.962\n",
       "2delikatne-cut          0.822   0.832  0.804  0.825   0.828\n",
       "3mocniej-cut            0.680   0.701  0.632  0.627   0.624\n",
       "4delikatne-bezover-cut  0.842   0.852  0.828  0.841   0.845\n",
       "balance-scale           0.619   0.552  0.546  0.625   0.557\n",
       "cleveland               0.466   0.508  0.386  0.459   0.369\n",
       "cleveland_v2            0.644   0.653  0.554  0.627   0.545\n",
       "cmc                     0.479   0.473  0.470  0.462   0.425\n",
       "dermatology             0.915   0.917  0.911  0.951   0.923\n",
       "glass                   0.707   0.692  0.599  0.655   0.608\n",
       "hayes-roth              0.838   0.844  0.794  0.838   0.850\n",
       "new_ecoli               0.788   0.764  0.696  0.761   0.728\n",
       "new_led7digit           0.782   0.782  0.768  0.784   0.803\n",
       "new_vehicle             0.916   0.907  0.845  0.892   0.872\n",
       "new_winequality-red     0.469   0.445  0.426  0.453   0.344\n",
       "new_yeast               0.494   0.463  0.487  0.484   0.414\n",
       "thyroid-newthyroid      0.940   0.912  0.907  0.944   0.935"
      ]
     },
     "metadata": {},
     "output_type": "display_data"
    },
    {
     "data": {
      "text/plain": [
       "'MEAN G-MEAN'"
      ]
     },
     "metadata": {},
     "output_type": "display_data"
    },
    {
     "data": {
      "text/plain": [
       "base      0.564118\n",
       "global    0.563118\n",
       "soup      0.619765\n",
       "mdo       0.591000\n",
       "spider    0.610706\n",
       "dtype: float64"
      ]
     },
     "metadata": {},
     "output_type": "display_data"
    },
    {
     "data": {
      "text/plain": [
       "'MEAN ACC'"
      ]
     },
     "metadata": {},
     "output_type": "display_data"
    },
    {
     "data": {
      "text/plain": [
       "base      0.727000\n",
       "global    0.721118\n",
       "soup      0.681824\n",
       "mdo       0.717000\n",
       "spider    0.684235\n",
       "dtype: float64"
      ]
     },
     "metadata": {},
     "output_type": "display_data"
    }
   ],
   "source": [
    "test()"
   ]
  },
  {
   "cell_type": "code",
   "execution_count": 29,
   "metadata": {},
   "outputs": [],
   "source": [
    "def test():\n",
    "    np.random.seed(0)\n",
    "\n",
    "    datasets = load_datasets()\n",
    "    results_g_mean = dict()\n",
    "    results_acc = dict()\n",
    "\n",
    "    for dataset_name, dataset_values in datasets.items():\n",
    "        #if dataset_name == 'dermatology' or dataset_name == 'new_ecoli':\n",
    "        #    continue\n",
    "        print(dataset_name)\n",
    "\n",
    "        X, y = dataset_values.data, dataset_values.target\n",
    "\n",
    "        #if len(X)>1000:\n",
    "        #    continue\n",
    "\n",
    "        results_g_mean[dataset_name]=dict()\n",
    "        results_acc[dataset_name]=dict()\n",
    "\n",
    "        for resample in ['base','global', 'soup', 'mdo', 'spider']:\n",
    "\n",
    "            skf = StratifiedKFold(n_splits=5, random_state=0)\n",
    "            acc, g_mean = list(),list()\n",
    "            for train_index, test_index in skf.split(X, y):\n",
    "                X_train, X_test = X[train_index], X[test_index]\n",
    "                y_train, y_test = y[train_index], y[test_index]\n",
    "                error_flag = False\n",
    "                clf_tree = DecisionTreeClassifier(random_state=0)\n",
    "\n",
    "                if resample == 'base':\n",
    "                    X_train_resampled, y_train_resampled = X_train, y_train\n",
    "                elif resample=='soup':\n",
    "                    soup = SOUP()\n",
    "                    X_train_resampled, y_train_resampled = soup.fit_transform(np.copy(X_train), np.copy(y_train))\n",
    "                elif resample=='global':\n",
    "                    global_cs = GlobalCS()\n",
    "                    X_train_resampled, y_train_resampled = global_cs.fit_transform(np.copy(X_train), np.copy(y_train))\n",
    "                elif resample=='smote':\n",
    "                    try:\n",
    "                        smote = SMOTE()\n",
    "                        X_train_resampled, y_train_resampled = smote.fit_sample(np.copy(X_train), np.copy(y_train))\n",
    "                    except Exception as e:\n",
    "                        error_flag = True\n",
    "                        print(resample, dataset_name, e)\n",
    "                        X_train_resampled, y_train_resampled = X_train, y_train\n",
    "                elif resample=='mdo':\n",
    "                    mdo = MDO(k=9, k1_frac=0, seed=0)\n",
    "                    X_train_resampled, y_train_resampled = mdo.fit_transform(np.copy(X_train), np.copy(y_train))\n",
    "                elif resample=='spider':\n",
    "                    cost = calc_cost_matrix(dataset_name)\n",
    "                    clf = SPIDER3(k=5, cost=cost, majority_classes=maj_int_min[dataset_name]['maj'], intermediate_classes=maj_int_min[dataset_name]['int'], minority_classes=maj_int_min[dataset_name]['min'])\n",
    "                    X_train_resampled, y_train_resampled = clf.fit_transform(X_train.astype(np.float64), y_train)\n",
    "\n",
    "                clf_tree.fit(X_train_resampled, y_train_resampled)\n",
    "                y_pred = clf_tree.predict(X_test)\n",
    "                g_mean.append(geometric_mean_score(y_test, y_pred, correction=0.001))\n",
    "                acc.append(accuracy_score(y_test, y_pred))\n",
    "\n",
    "            result_g_mean = None if error_flag else round(np.mean(g_mean),3)\n",
    "            result_acc = None if error_flag else round(np.mean(acc),3)\n",
    "\n",
    "            results_g_mean[dataset_name][resample]=result_g_mean\n",
    "            results_acc[dataset_name][resample]=result_acc\n",
    "\n",
    "    display(\"G-MEAN\")\n",
    "    df = pd.DataFrame(results_g_mean).T\n",
    "    display(df)\n",
    "\n",
    "    display(\"ACC\")\n",
    "    df2 = pd.DataFrame(results_acc).T\n",
    "    display(df2)\n",
    "\n",
    "    display(\"MEAN G-MEAN\")\n",
    "    df.fillna(df.median(), inplace=True)\n",
    "    display(df.mean())\n",
    "\n",
    "    display(\"MEAN ACC\")\n",
    "    display(df2.mean())"
   ]
  },
  {
   "cell_type": "code",
   "execution_count": 8,
   "metadata": {},
   "outputs": [
    {
     "name": "stderr",
     "output_type": "stream",
     "text": [
      "c:\\users\\damia\\anaconda3\\envs\\multi-imbalance\\lib\\site-packages\\ipykernel_launcher.py:36: RuntimeWarning: invalid value encountered in double_scalars\n"
     ]
    },
    {
     "name": "stdout",
     "output_type": "stream",
     "text": [
      "[[0.         1.20674171 0.99984964 1.00980404 1.         2.        ]\n",
      " [1.20674171 0.         1.41953398 1.34338267 1.         1.00493341]\n",
      " [0.99984964 1.41953398 0.         1.89339801 1.         0.99952084]\n",
      " [1.00980404 1.34338267 1.89339801 0.         1.         1.        ]\n",
      " [1.         1.         1.         1.         0.         1.        ]\n",
      " [2.         1.00493341 0.99952084 1.         1.         0.        ]]\n"
     ]
    },
    {
     "data": {
      "text/plain": [
       "<matplotlib.axes._subplots.AxesSubplot at 0x1dd72d6a0c8>"
      ]
     },
     "execution_count": 8,
     "metadata": {},
     "output_type": "execute_result"
    },
    {
     "data": {
      "image/png": "[encoded data removed]",
      "text/plain": [
       "<Figure size 1152x720 with 4 Axes>"
      ]
     },
     "metadata": {
      "needs_background": "light"
     },
     "output_type": "display_data"
    }
   ],
   "source": [
    "\n",
    "\n",
    "def construct_flat_2pc_df(X, y) -> pd.DataFrame:\n",
    "    y = pd.DataFrame({'y': y})\n",
    "    X_df = pd.DataFrame(data=X, columns=['x1', 'x2'])\n",
    "\n",
    "    df = pd.concat([X_df, y], axis=1)\n",
    "    return df\n",
    "\n",
    "dataset = load_datasets()['glass']\n",
    "\n",
    "X, y = dataset.data, dataset.target\n",
    "\n",
    "cost = calc_cost_matrix('glass')\n",
    "clf = SPIDER3(k=5, cost=cost, majority_classes=maj_int_min[dataset_name]['maj'], intermediate_classes=maj_int_min[dataset_name]['int'], minority_classes=maj_int_min[dataset_name]['min'])\n",
    "resampled_X, resampled_y = clf.fit_transform(X, y)\n",
    "\n",
    "n = len(Counter(y).keys())\n",
    "p = sns.color_palette(\"husl\", n)\n",
    "\n",
    "pca = PCA(n_components=2)\n",
    "pca.fit(X)\n",
    "\n",
    "fig, axs = plt.subplots(ncols=2, nrows=2)\n",
    "fig.set_size_inches( 16, 10)\n",
    "axs = axs.flatten()\n",
    "\n",
    "axs[1].set_title(\"Base\")\n",
    "sns.countplot(y, ax=axs[0], palette=p)\n",
    "X = pca.transform(X)\n",
    "df = construct_flat_2pc_df(X, y)\n",
    "sns.scatterplot(x='x1', y='x2', hue='y', style='y', data=df, alpha=0.7, ax=axs[1], legend='full', palette=p)\n",
    "\n",
    "\n",
    "axs[3].set_title(\"Spider\")\n",
    "sns.countplot(resampled_y, ax=axs[2],palette=p)\n",
    "resampled_X = pca.transform(resampled_X)\n",
    "df = construct_flat_2pc_df(resampled_X, resampled_y)\n",
    "sns.scatterplot(x='x1', y='x2', hue='y', style='y', data=df, alpha=0.7, ax=axs[3], legend='full', palette=p)"
   ]
  },
  {
   "cell_type": "code",
   "execution_count": 9,
   "metadata": {},
   "outputs": [
    {
     "data": {
      "text/plain": [
       "Counter({0: 70, 5: 17, 4: 9, 1: 76, 3: 29, 2: 13})"
      ]
     },
     "execution_count": 9,
     "metadata": {},
     "output_type": "execute_result"
    }
   ],
   "source": [
    "Counter(datasets['glass'].target)"
   ]
  },
  {
   "cell_type": "code",
   "execution_count": 10,
   "metadata": {},
   "outputs": [
    {
     "data": {
      "text/plain": [
       "<matplotlib.axes._subplots.AxesSubplot at 0x1dd7322c648>"
      ]
     },
     "execution_count": 10,
     "metadata": {},
     "output_type": "execute_result"
    },
    {
     "data": {
      "image/png": "[encoded data removed]",
      "text/plain": [
       "<Figure size 432x288 with 1 Axes>"
      ]
     },
     "metadata": {
      "needs_background": "light"
     },
     "output_type": "display_data"
    }
   ],
   "source": [
    "X = pca.transform(datasets['glass'].data)\n",
    "y = datasets['glass'].target\n",
    "df = construct_flat_2pc_df(X, y)\n",
    "sns.scatterplot(x='x1', y='x2', hue='y', style='y', data=df, alpha=0.7, legend='full', palette=p)"
   ]
  },
  {
   "cell_type": "code",
   "execution_count": 11,
   "metadata": {},
   "outputs": [],
   "source": [
    "X = datasets['glass'].data"
   ]
  },
  {
   "cell_type": "code",
   "execution_count": 12,
   "metadata": {},
   "outputs": [],
   "source": [
    "y = datasets['glass'].target"
   ]
  },
  {
   "cell_type": "code",
   "execution_count": 13,
   "metadata": {},
   "outputs": [
    {
     "data": {
      "text/plain": [
       "<matplotlib.axes._subplots.AxesSubplot at 0x1dd72efdb48>"
      ]
     },
     "execution_count": 13,
     "metadata": {},
     "output_type": "execute_result"
    },
    {
     "data": {
      "image/png": "[encoded data removed]",
      "text/plain": [
       "<Figure size 432x288 with 1 Axes>"
      ]
     },
     "metadata": {
      "needs_background": "light"
     },
     "output_type": "display_data"
    }
   ],
   "source": [
    "sns.countplot(y)"
   ]
  },
  {
   "cell_type": "code",
   "execution_count": 14,
   "metadata": {},
   "outputs": [],
   "source": [
    "labels = np.unique(datasets['glass'].target)"
   ]
  },
  {
   "cell_type": "code",
   "execution_count": 15,
   "metadata": {
    "scrolled": false
   },
   "outputs": [
    {
     "data": {
      "image/png": "[encoded data removed]",
      "text/plain": [
       "<Figure size 1008x720 with 9 Axes>"
      ]
     },
     "metadata": {
      "needs_background": "light"
     },
     "output_type": "display_data"
    }
   ],
   "source": [
    "plt.figure(figsize=(14,10))\n",
    "for i in range(X.shape[1]):\n",
    "    plt.subplot(3,3,i+1)\n",
    "    plt.title(i)\n",
    "    for label in labels:\n",
    "        try:\n",
    "            sns.kdeplot(X[y==label][:,i], label=label)\n",
    "        except:\n",
    "            pass\n",
    "plt.show()"
   ]
  },
  {
   "cell_type": "code",
   "execution_count": 16,
   "metadata": {},
   "outputs": [],
   "source": [
    "df = pd.DataFrame(X)"
   ]
  },
  {
   "cell_type": "code",
   "execution_count": 17,
   "metadata": {},
   "outputs": [],
   "source": [
    "df['label'] = y"
   ]
  },
  {
   "cell_type": "code",
   "execution_count": 18,
   "metadata": {},
   "outputs": [],
   "source": [
    "means = df.groupby('label').mean()"
   ]
  },
  {
   "cell_type": "code",
   "execution_count": 19,
   "metadata": {},
   "outputs": [],
   "source": [
    "stds = df.groupby('label').std()"
   ]
  },
  {
   "cell_type": "code",
   "execution_count": 20,
   "metadata": {},
   "outputs": [
    {
     "data": {
      "text/html": [
       "<div>\n",
       "<style scoped>\n",
       "    .dataframe tbody tr th:only-of-type {\n",
       "        vertical-align: middle;\n",
       "    }\n",
       "\n",
       "    .dataframe tbody tr th {\n",
       "        vertical-align: top;\n",
       "    }\n",
       "\n",
       "    .dataframe thead th {\n",
       "        text-align: right;\n",
       "    }\n",
       "</style>\n",
       "<table border=\"1\" class=\"dataframe\">\n",
       "  <thead>\n",
       "    <tr style=\"text-align: right;\">\n",
       "      <th></th>\n",
       "      <th>0</th>\n",
       "      <th>1</th>\n",
       "      <th>2</th>\n",
       "      <th>3</th>\n",
       "      <th>4</th>\n",
       "      <th>5</th>\n",
       "      <th>6</th>\n",
       "      <th>7</th>\n",
       "      <th>8</th>\n",
       "    </tr>\n",
       "    <tr>\n",
       "      <th>label</th>\n",
       "      <th></th>\n",
       "      <th></th>\n",
       "      <th></th>\n",
       "      <th></th>\n",
       "      <th></th>\n",
       "      <th></th>\n",
       "      <th></th>\n",
       "      <th></th>\n",
       "      <th></th>\n",
       "    </tr>\n",
       "  </thead>\n",
       "  <tbody>\n",
       "    <tr>\n",
       "      <td>0</td>\n",
       "      <td>1.518718</td>\n",
       "      <td>13.242286</td>\n",
       "      <td>3.552429</td>\n",
       "      <td>1.163857</td>\n",
       "      <td>72.619143</td>\n",
       "      <td>0.447429</td>\n",
       "      <td>8.797286</td>\n",
       "      <td>0.012714</td>\n",
       "      <td>0.057000</td>\n",
       "    </tr>\n",
       "    <tr>\n",
       "      <td>1</td>\n",
       "      <td>1.518619</td>\n",
       "      <td>13.111711</td>\n",
       "      <td>3.002105</td>\n",
       "      <td>1.408158</td>\n",
       "      <td>72.598026</td>\n",
       "      <td>0.521053</td>\n",
       "      <td>9.073684</td>\n",
       "      <td>0.050263</td>\n",
       "      <td>0.079737</td>\n",
       "    </tr>\n",
       "    <tr>\n",
       "      <td>2</td>\n",
       "      <td>1.518928</td>\n",
       "      <td>12.827692</td>\n",
       "      <td>0.773846</td>\n",
       "      <td>2.033846</td>\n",
       "      <td>72.366154</td>\n",
       "      <td>1.470000</td>\n",
       "      <td>10.123846</td>\n",
       "      <td>0.187692</td>\n",
       "      <td>0.060769</td>\n",
       "    </tr>\n",
       "    <tr>\n",
       "      <td>3</td>\n",
       "      <td>1.517116</td>\n",
       "      <td>14.442069</td>\n",
       "      <td>0.538276</td>\n",
       "      <td>2.122759</td>\n",
       "      <td>72.965862</td>\n",
       "      <td>0.325172</td>\n",
       "      <td>8.491379</td>\n",
       "      <td>1.040000</td>\n",
       "      <td>0.013448</td>\n",
       "    </tr>\n",
       "    <tr>\n",
       "      <td>4</td>\n",
       "      <td>1.517456</td>\n",
       "      <td>14.646667</td>\n",
       "      <td>1.305556</td>\n",
       "      <td>1.366667</td>\n",
       "      <td>73.206667</td>\n",
       "      <td>0.000000</td>\n",
       "      <td>9.356667</td>\n",
       "      <td>0.000000</td>\n",
       "      <td>0.000000</td>\n",
       "    </tr>\n",
       "    <tr>\n",
       "      <td>5</td>\n",
       "      <td>1.517964</td>\n",
       "      <td>13.437059</td>\n",
       "      <td>3.543529</td>\n",
       "      <td>1.201176</td>\n",
       "      <td>72.404706</td>\n",
       "      <td>0.406471</td>\n",
       "      <td>8.782941</td>\n",
       "      <td>0.008824</td>\n",
       "      <td>0.057059</td>\n",
       "    </tr>\n",
       "  </tbody>\n",
       "</table>\n",
       "</div>"
      ],
      "text/plain": [
       "              0          1         2         3          4         5  \\\n",
       "label                                                                 \n",
       "0      1.518718  13.242286  3.552429  1.163857  72.619143  0.447429   \n",
       "1      1.518619  13.111711  3.002105  1.408158  72.598026  0.521053   \n",
       "2      1.518928  12.827692  0.773846  2.033846  72.366154  1.470000   \n",
       "3      1.517116  14.442069  0.538276  2.122759  72.965862  0.325172   \n",
       "4      1.517456  14.646667  1.305556  1.366667  73.206667  0.000000   \n",
       "5      1.517964  13.437059  3.543529  1.201176  72.404706  0.406471   \n",
       "\n",
       "               6         7         8  \n",
       "label                                 \n",
       "0       8.797286  0.012714  0.057000  \n",
       "1       9.073684  0.050263  0.079737  \n",
       "2      10.123846  0.187692  0.060769  \n",
       "3       8.491379  1.040000  0.013448  \n",
       "4       9.356667  0.000000  0.000000  \n",
       "5       8.782941  0.008824  0.057059  "
      ]
     },
     "execution_count": 20,
     "metadata": {},
     "output_type": "execute_result"
    }
   ],
   "source": [
    "means"
   ]
  },
  {
   "cell_type": "code",
   "execution_count": 21,
   "metadata": {},
   "outputs": [
    {
     "data": {
      "text/html": [
       "<div>\n",
       "<style scoped>\n",
       "    .dataframe tbody tr th:only-of-type {\n",
       "        vertical-align: middle;\n",
       "    }\n",
       "\n",
       "    .dataframe tbody tr th {\n",
       "        vertical-align: top;\n",
       "    }\n",
       "\n",
       "    .dataframe thead th {\n",
       "        text-align: right;\n",
       "    }\n",
       "</style>\n",
       "<table border=\"1\" class=\"dataframe\">\n",
       "  <thead>\n",
       "    <tr style=\"text-align: right;\">\n",
       "      <th></th>\n",
       "      <th>0</th>\n",
       "      <th>1</th>\n",
       "      <th>2</th>\n",
       "      <th>3</th>\n",
       "      <th>4</th>\n",
       "      <th>5</th>\n",
       "      <th>6</th>\n",
       "      <th>7</th>\n",
       "      <th>8</th>\n",
       "      <th>label</th>\n",
       "    </tr>\n",
       "  </thead>\n",
       "  <tbody>\n",
       "    <tr>\n",
       "      <td>0</td>\n",
       "      <td>1.51793</td>\n",
       "      <td>12.79</td>\n",
       "      <td>3.50</td>\n",
       "      <td>1.12</td>\n",
       "      <td>73.03</td>\n",
       "      <td>0.64</td>\n",
       "      <td>8.77</td>\n",
       "      <td>0.0</td>\n",
       "      <td>0.00</td>\n",
       "      <td>0</td>\n",
       "    </tr>\n",
       "    <tr>\n",
       "      <td>1</td>\n",
       "      <td>1.51643</td>\n",
       "      <td>12.16</td>\n",
       "      <td>3.52</td>\n",
       "      <td>1.35</td>\n",
       "      <td>72.89</td>\n",
       "      <td>0.57</td>\n",
       "      <td>8.53</td>\n",
       "      <td>0.0</td>\n",
       "      <td>0.00</td>\n",
       "      <td>5</td>\n",
       "    </tr>\n",
       "    <tr>\n",
       "      <td>2</td>\n",
       "      <td>1.51793</td>\n",
       "      <td>13.21</td>\n",
       "      <td>3.48</td>\n",
       "      <td>1.41</td>\n",
       "      <td>72.64</td>\n",
       "      <td>0.59</td>\n",
       "      <td>8.43</td>\n",
       "      <td>0.0</td>\n",
       "      <td>0.00</td>\n",
       "      <td>0</td>\n",
       "    </tr>\n",
       "    <tr>\n",
       "      <td>3</td>\n",
       "      <td>1.51299</td>\n",
       "      <td>14.40</td>\n",
       "      <td>1.74</td>\n",
       "      <td>1.54</td>\n",
       "      <td>74.55</td>\n",
       "      <td>0.00</td>\n",
       "      <td>7.59</td>\n",
       "      <td>0.0</td>\n",
       "      <td>0.00</td>\n",
       "      <td>4</td>\n",
       "    </tr>\n",
       "    <tr>\n",
       "      <td>4</td>\n",
       "      <td>1.53393</td>\n",
       "      <td>12.30</td>\n",
       "      <td>0.00</td>\n",
       "      <td>1.00</td>\n",
       "      <td>70.16</td>\n",
       "      <td>0.12</td>\n",
       "      <td>16.19</td>\n",
       "      <td>0.0</td>\n",
       "      <td>0.24</td>\n",
       "      <td>1</td>\n",
       "    </tr>\n",
       "    <tr>\n",
       "      <td>...</td>\n",
       "      <td>...</td>\n",
       "      <td>...</td>\n",
       "      <td>...</td>\n",
       "      <td>...</td>\n",
       "      <td>...</td>\n",
       "      <td>...</td>\n",
       "      <td>...</td>\n",
       "      <td>...</td>\n",
       "      <td>...</td>\n",
       "      <td>...</td>\n",
       "    </tr>\n",
       "    <tr>\n",
       "      <td>209</td>\n",
       "      <td>1.51610</td>\n",
       "      <td>13.42</td>\n",
       "      <td>3.40</td>\n",
       "      <td>1.22</td>\n",
       "      <td>72.69</td>\n",
       "      <td>0.59</td>\n",
       "      <td>8.32</td>\n",
       "      <td>0.0</td>\n",
       "      <td>0.00</td>\n",
       "      <td>5</td>\n",
       "    </tr>\n",
       "    <tr>\n",
       "      <td>210</td>\n",
       "      <td>1.51592</td>\n",
       "      <td>12.86</td>\n",
       "      <td>3.52</td>\n",
       "      <td>2.12</td>\n",
       "      <td>72.66</td>\n",
       "      <td>0.69</td>\n",
       "      <td>7.97</td>\n",
       "      <td>0.0</td>\n",
       "      <td>0.00</td>\n",
       "      <td>1</td>\n",
       "    </tr>\n",
       "    <tr>\n",
       "      <td>211</td>\n",
       "      <td>1.51613</td>\n",
       "      <td>13.92</td>\n",
       "      <td>3.52</td>\n",
       "      <td>1.25</td>\n",
       "      <td>72.88</td>\n",
       "      <td>0.37</td>\n",
       "      <td>7.94</td>\n",
       "      <td>0.0</td>\n",
       "      <td>0.14</td>\n",
       "      <td>1</td>\n",
       "    </tr>\n",
       "    <tr>\n",
       "      <td>212</td>\n",
       "      <td>1.51689</td>\n",
       "      <td>12.67</td>\n",
       "      <td>2.88</td>\n",
       "      <td>1.71</td>\n",
       "      <td>73.21</td>\n",
       "      <td>0.73</td>\n",
       "      <td>8.54</td>\n",
       "      <td>0.0</td>\n",
       "      <td>0.00</td>\n",
       "      <td>1</td>\n",
       "    </tr>\n",
       "    <tr>\n",
       "      <td>213</td>\n",
       "      <td>1.51852</td>\n",
       "      <td>14.09</td>\n",
       "      <td>2.19</td>\n",
       "      <td>1.66</td>\n",
       "      <td>72.67</td>\n",
       "      <td>0.00</td>\n",
       "      <td>9.32</td>\n",
       "      <td>0.0</td>\n",
       "      <td>0.00</td>\n",
       "      <td>4</td>\n",
       "    </tr>\n",
       "  </tbody>\n",
       "</table>\n",
       "<p>214 rows × 10 columns</p>\n",
       "</div>"
      ],
      "text/plain": [
       "           0      1     2     3      4     5      6    7     8  label\n",
       "0    1.51793  12.79  3.50  1.12  73.03  0.64   8.77  0.0  0.00      0\n",
       "1    1.51643  12.16  3.52  1.35  72.89  0.57   8.53  0.0  0.00      5\n",
       "2    1.51793  13.21  3.48  1.41  72.64  0.59   8.43  0.0  0.00      0\n",
       "3    1.51299  14.40  1.74  1.54  74.55  0.00   7.59  0.0  0.00      4\n",
       "4    1.53393  12.30  0.00  1.00  70.16  0.12  16.19  0.0  0.24      1\n",
       "..       ...    ...   ...   ...    ...   ...    ...  ...   ...    ...\n",
       "209  1.51610  13.42  3.40  1.22  72.69  0.59   8.32  0.0  0.00      5\n",
       "210  1.51592  12.86  3.52  2.12  72.66  0.69   7.97  0.0  0.00      1\n",
       "211  1.51613  13.92  3.52  1.25  72.88  0.37   7.94  0.0  0.14      1\n",
       "212  1.51689  12.67  2.88  1.71  73.21  0.73   8.54  0.0  0.00      1\n",
       "213  1.51852  14.09  2.19  1.66  72.67  0.00   9.32  0.0  0.00      4\n",
       "\n",
       "[214 rows x 10 columns]"
      ]
     },
     "execution_count": 21,
     "metadata": {},
     "output_type": "execute_result"
    }
   ],
   "source": [
    "df"
   ]
  },
  {
   "cell_type": "code",
   "execution_count": 22,
   "metadata": {},
   "outputs": [
    {
     "data": {
      "text/plain": [
       "5"
      ]
     },
     "execution_count": 22,
     "metadata": {},
     "output_type": "execute_result"
    }
   ],
   "source": [
    "max(2,5)"
   ]
  },
  {
   "cell_type": "code",
   "execution_count": 23,
   "metadata": {},
   "outputs": [
    {
     "data": {
      "text/plain": [
       "1.51409"
      ]
     },
     "execution_count": 23,
     "metadata": {},
     "output_type": "execute_result"
    }
   ],
   "source": [
    "max(X[y == 0][:,0].min(), X[y == 1][:,0].min())"
   ]
  },
  {
   "cell_type": "code",
   "execution_count": 24,
   "metadata": {},
   "outputs": [
    {
     "data": {
      "text/plain": [
       "0.0018595269230708212"
      ]
     },
     "execution_count": 24,
     "metadata": {},
     "output_type": "execute_result"
    }
   ],
   "source": [
    "c1 = 1\n",
    "c2 = 2\n",
    "f2_overlap_volume = 1\n",
    "for i in range(X.shape[1]):\n",
    "    f2_overlap_volume = f2_overlap_volume * (min(X[y == c1][:,i].max(), X[y == c2][:,i].max()) - max(X[y == c1][:,i].min(), X[y == c2][:,i].min())) / (max(X[y == c1][:,i].max(), X[y == c2][:,i].max()) - min(X[y == c1][:,i].min(), X[y == c2][:,i].min()))\n",
    "    \n",
    "f2_overlap_volume"
   ]
  },
  {
   "cell_type": "code",
   "execution_count": 25,
   "metadata": {},
   "outputs": [
    {
     "name": "stderr",
     "output_type": "stream",
     "text": [
      "c:\\users\\damia\\anaconda3\\envs\\multi-imbalance\\lib\\site-packages\\ipykernel_launcher.py:12: RuntimeWarning: invalid value encountered in double_scalars\n",
      "  if sys.path[0] == '':\n"
     ]
    }
   ],
   "source": [
    "dataset_name = 'glass'\n",
    "no_classes = np.unique(datasets[dataset_name].target).size\n",
    "cost = np.ones((no_classes, no_classes))\n",
    "\n",
    "X, y = datasets[dataset_name].data, datasets[dataset_name].target\n",
    "element_count = Counter(y)\n",
    "cardinality_pairs = list(element_count.items())\n",
    "for c1,_ in cardinality_pairs:\n",
    "    for c2,_ in cardinality_pairs:\n",
    "        f2_overlap_volume = 1\n",
    "        for i in range(X.shape[1]):\n",
    "            f2_overlap_volume = f2_overlap_volume * (min(X[y == c1][:,i].max(), X[y == c2][:,i].max()) - max(X[y == c1][:,i].min(), X[y == c2][:,i].min())) / (max(X[y == c1][:,i].max(), X[y == c2][:,i].max()) - min(X[y == c1][:,i].min(), X[y == c2][:,i].min()))\n",
    "        cost[c2, c1] = f2_overlap_volume\n",
    "np.fill_diagonal(cost, 0)\n",
    "max_overlap = cost.max()\n",
    "cost = cost / max_overlap"
   ]
  },
  {
   "cell_type": "code",
   "execution_count": 26,
   "metadata": {},
   "outputs": [
    {
     "data": {
      "text/plain": [
       "0.004432363071745035"
      ]
     },
     "execution_count": 26,
     "metadata": {},
     "output_type": "execute_result"
    }
   ],
   "source": [
    "max_overlap"
   ]
  },
  {
   "cell_type": "code",
   "execution_count": 27,
   "metadata": {},
   "outputs": [
    {
     "data": {
      "text/plain": [
       "array([[ 0.00000000e+00,  2.06741709e-01, -1.50363005e-04,\n",
       "         9.80403514e-03, -0.00000000e+00,  1.00000000e+00],\n",
       "       [ 2.06741709e-01,  0.00000000e+00,  4.19533981e-01,\n",
       "         3.43382671e-01,  0.00000000e+00,  4.93340697e-03],\n",
       "       [-1.50363005e-04,  4.19533981e-01,  0.00000000e+00,\n",
       "         8.93398012e-01, -0.00000000e+00, -4.79164357e-04],\n",
       "       [ 9.80403514e-03,  3.43382671e-01,  8.93398012e-01,\n",
       "         0.00000000e+00,  0.00000000e+00,  0.00000000e+00],\n",
       "       [-0.00000000e+00,  0.00000000e+00, -0.00000000e+00,\n",
       "         0.00000000e+00,  0.00000000e+00, -0.00000000e+00],\n",
       "       [ 1.00000000e+00,  4.93340697e-03, -4.79164357e-04,\n",
       "         0.00000000e+00, -0.00000000e+00,  0.00000000e+00]])"
      ]
     },
     "execution_count": 27,
     "metadata": {},
     "output_type": "execute_result"
    }
   ],
   "source": [
    "cost"
   ]
  }
 ],
 "metadata": {
  "kernelspec": {
   "display_name": "Python 3",
   "language": "python",
   "name": "python3"
  },
  "language_info": {
   "codemirror_mode": {
    "name": "ipython",
    "version": 3
   },
   "file_extension": ".py",
   "mimetype": "text/x-python",
   "name": "python",
   "nbconvert_exporter": "python",
   "pygments_lexer": "ipython3",
   "version": "3.7.4"
  },
  "pycharm": {
   "stem_cell": {
    "cell_type": "raw",
    "metadata": {
     "collapsed": false
    },
    "source": []
   }
  }
 },
 "nbformat": 4,
 "nbformat_minor": 1
}