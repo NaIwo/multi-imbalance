{
 "cells": [
  {
   "cell_type": "code",
   "execution_count": 1,
   "metadata": {
    "pycharm": {
     "is_executing": false
    }
   },
   "outputs": [],
   "source": [
    "import numpy as np\n",
    "import pandas as pd\n",
    "from sklearn.metrics import confusion_matrix\n",
    "from sklearn.neighbors import KNeighborsClassifier\n",
    "from multi_imbalance.resampling.spider import SPIDER3"
   ]
  },
  {
   "cell_type": "code",
   "execution_count": 2,
   "metadata": {
    "pycharm": {
     "is_executing": false,
     "name": "#%%\n"
    }
   },
   "outputs": [],
   "source": [
    "def read_train_and_test_data(overlap, imbalance_ratio, i):\n",
    "    with open(f\"data/3class-{imbalance_ratio}-overlap-{overlap}-learn-{i}.arff\") as f:\n",
    "        content = f.readlines()\n",
    "    content = [x.strip().split(\",\") for x in content][5:]\n",
    "    data = np.array(content)\n",
    "    X_train, y_train = data[:, :-1].astype(float), data[:, -1].astype(object)\n",
    "\n",
    "    with open(f\"data/3class-{imbalance_ratio}-overlap-{overlap}-test-{i}.arff\") as f:\n",
    "        content = f.readlines()\n",
    "    content = [x.strip().split(\",\") for x in content][5:]\n",
    "    data = np.array(content)\n",
    "    X_test, y_test = data[:, :-1].astype(float), data[:, -1].astype(object)\n",
    "\n",
    "    return X_train, y_train, X_test, y_test\n",
    "\n",
    "\n",
    "def train_and_test():\n",
    "    neigh = KNeighborsClassifier(n_neighbors=1)\n",
    "    # for i in range(0, 2):\n",
    "    #     X_train[:, i] = (X_train[:, i] - np.mean(X_train[:, i])) / np.std(X_train[:, i])\n",
    "    #     X_test[:, i] = (X_test[:, i] - np.mean(X_test[:, i])) / np.std(X_test[:, i])\n",
    "    neigh.fit(X_train, y_train)\n",
    "    y_pred = neigh.predict(X_test)\n",
    "    labels = ['MIN', 'INT', 'MAJ']\n",
    "    # for i, label in enumerate(labels):\n",
    "    #     print(\n",
    "    #         f\"{label} TPR: {confusion_matrix(y_test, y_pred, labels=labels)[i, i] / confusion_matrix(y_test, y_pred, labels=labels)[:, i].sum()}\")\n",
    "    return [confusion_matrix(y_test, y_pred, labels=labels)[i, i] / confusion_matrix(y_test, y_pred, labels=labels)[i,:].sum() for i,label in enumerate(labels)]\n"
   ]
  },
  {
   "cell_type": "code",
   "execution_count": 3,
   "metadata": {
    "pycharm": {
     "is_executing": false,
     "name": "#%%\n"
    }
   },
   "outputs": [
    {
     "name": "stdout",
     "output_type": "stream",
     "text": [
      "Imbalance ratio: 70-30-0-0\n",
      "Overlap: 0\n",
      "MIN TPR:0.9\n",
      "INT TPR:0.95\n",
      "MAJ TPR:0.8933333333333333\n"
     ]
    }
   ],
   "source": [
    "for imbalance_ratio in [\"70-30-0-0\", \"40-50-10-0\", \"30-40-15-15\"]:\n",
    "    print(f\"Imbalance ratio: {imbalance_ratio}\")\n",
    "    for overlap in range(0, 3):\n",
    "        print(f\"Overlap: {overlap}\")\n",
    "        min_tpr = []\n",
    "        int_tpr = []\n",
    "        maj_tpr = []\n",
    "        for i in range(1,11):\n",
    "            X_train, y_train, X_test, y_test = read_train_and_test_data(overlap, imbalance_ratio, i)\n",
    "            cost = np.ones((3, 3))\n",
    "            for i in range(3):\n",
    "                cost[i][i] = 0\n",
    "\n",
    "            clf = SPIDER3(k=5, cost=cost, majority_classes=['MAJ'],\n",
    "                          intermediate_classes=['INT'], minority_classes=['MIN'])\n",
    "            X_train, y_train = clf.fit_transform(X_train.astype(np.float64), y_train)\n",
    "            min_t, int_t, maj_t = train_and_test()\n",
    "            min_tpr.append(min_t)\n",
    "            int_tpr.append(int_t)\n",
    "            maj_tpr.append(maj_t)\n",
    "        print(f\"MIN TPR:{np.array(min_tpr).mean()}\")\n",
    "        print(f\"INT TPR:{np.array(int_tpr).mean()}\")\n",
    "        print(f\"MAJ TPR:{np.array(maj_tpr).mean()}\")\n"
   ]
  }
 ],
 "metadata": {
  "kernelspec": {
   "display_name": "Python 3",
   "language": "python",
   "name": "python3"
  },
  "language_info": {
   "codemirror_mode": {
    "name": "ipython",
    "version": 3
   },
   "file_extension": ".py",
   "mimetype": "text/x-python",
   "name": "python",
   "nbconvert_exporter": "python",
   "pygments_lexer": "ipython3",
   "version": "3.7.4"
  },
  "pycharm": {
   "stem_cell": {
    "cell_type": "raw",
    "metadata": {
     "collapsed": false
    },
    "source": []
   }
  }
 },
 "nbformat": 4,
 "nbformat_minor": 1
}
