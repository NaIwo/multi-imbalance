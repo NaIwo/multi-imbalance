{
 "cells": [
  {
   "cell_type": "code",
   "execution_count": 44,
   "metadata": {
    "pycharm": {
     "is_executing": false
    }
   },
   "outputs": [],
   "source": [
    "import numpy as np\n",
    "import pandas as pd\n",
    "from sklearn.metrics import confusion_matrix\n",
    "from sklearn.neighbors import KNeighborsClassifier\n",
    "from multi_imbalance.resampling.spider import SPIDER3\n",
    "from sklearn.model_selection import train_test_split\n",
    "from sklearn.tree import DecisionTreeClassifier\n",
    "from multi_imbalance.datasets import load_datasets\n",
    "from multi_imbalance.resampling.MDO import MDO\n",
    "from multi_imbalance.resampling.SOUP import SOUP\n",
    "from collections import Counter\n",
    "from imblearn.metrics import geometric_mean_score\n"
   ]
  },
  {
   "cell_type": "code",
   "execution_count": 6,
   "metadata": {
    "pycharm": {
     "is_executing": false,
     "name": "#%%\n"
    }
   },
   "outputs": [],
   "source": [
    "def read_train_and_test_data(overlap, imbalance_ratio, i):\n",
    "    with open(f\"data/3class-{imbalance_ratio}-overlap-{overlap}-learn-{i}.arff\") as f:\n",
    "        content = f.readlines()\n",
    "    content = [x.strip().split(\",\") for x in content][5:]\n",
    "    data = np.array(content)\n",
    "    X_train, y_train = data[:, :-1].astype(float), data[:, -1].astype(object)\n",
    "\n",
    "    with open(f\"data/3class-{imbalance_ratio}-overlap-{overlap}-test-{i}.arff\") as f:\n",
    "        content = f.readlines()\n",
    "    content = [x.strip().split(\",\") for x in content][5:]\n",
    "    data = np.array(content)\n",
    "    X_test, y_test = data[:, :-1].astype(float), data[:, -1].astype(object)\n",
    "\n",
    "    return X_train, y_train, X_test, y_test\n",
    "\n",
    "\n",
    "def train_and_test():\n",
    "    neigh = KNeighborsClassifier(n_neighbors=1)\n",
    "    neigh.fit(X_train, y_train)\n",
    "    y_pred = neigh.predict(X_test)\n",
    "    labels = ['MIN', 'INT', 'MAJ']\n",
    "    return [confusion_matrix(y_test, y_pred, labels=labels)[i, i] / confusion_matrix(y_test, y_pred, labels=labels)[i,:].sum() for i,label in enumerate(labels)]\n"
   ]
  },
  {
   "cell_type": "code",
   "execution_count": 7,
   "metadata": {
    "pycharm": {
     "is_executing": false,
     "name": "#%%\n"
    }
   },
   "outputs": [
    {
     "name": "stdout",
     "output_type": "stream",
     "text": [
      "Imbalance ratio: 70-30-0-0\n",
      "Overlap: 0\n",
      "Overlap: 1\n",
      "Overlap: 2\n",
      "Imbalance ratio: 40-50-10-0\n",
      "Overlap: 0\n",
      "Overlap: 1\n",
      "Overlap: 2\n",
      "Imbalance ratio: 30-40-15-15\n",
      "Overlap: 0\n",
      "Overlap: 1\n",
      "Overlap: 2\n"
     ]
    }
   ],
   "source": [
    "result = []\n",
    "\n",
    "for imbalance_ratio in [\"70-30-0-0\", \"40-50-10-0\", \"30-40-15-15\"]:\n",
    "    print(f\"Imbalance ratio: {imbalance_ratio}\")\n",
    "    for overlap in range(0, 3):\n",
    "        print(f\"Overlap: {overlap}\")\n",
    "        min_tpr = []\n",
    "        int_tpr = []\n",
    "        maj_tpr = []\n",
    "        for i in range(1,11):\n",
    "            X_train, y_train, X_test, y_test = read_train_and_test_data(overlap, imbalance_ratio, i)\n",
    "            cost = np.ones((3, 3))\n",
    "            for i in range(3):\n",
    "                cost[i][i] = 0\n",
    "\n",
    "            clf = SPIDER3(k=5, cost=cost, majority_classes=['MAJ'],\n",
    "                          intermediate_classes=['INT'], minority_classes=['MIN'])\n",
    "            X_train, y_train = clf.fit_transform(X_train.astype(np.float64), y_train)\n",
    "            min_t, int_t, maj_t = train_and_test()\n",
    "            min_tpr.append(min_t)\n",
    "            int_tpr.append(int_t)\n",
    "            maj_tpr.append(maj_t)\n",
    "        result.append([np.array(min_tpr).mean(), np.array(int_tpr).mean(), np.array(maj_tpr).mean()])\n",
    "\n",
    "np.savetxt(\"spider-results.csv\", np.asarray(result), delimiter=\",\")"
   ]
  },
  {
   "cell_type": "code",
   "execution_count": 6,
   "metadata": {},
   "outputs": [],
   "source": [
    "np.random.seed(0)\n",
    "datasets = load_datasets()\n",
    "results = dict()"
   ]
  },
  {
   "cell_type": "code",
   "execution_count": 9,
   "metadata": {},
   "outputs": [
    {
     "data": {
      "text/plain": [
       "odict_keys(['balance_scale', 'cleveland', 'cmc', 'dermatology', 'ecoli', 'glass', 'hayes_roth', 'new_thyroid', 'winequailty_red', 'yeast'])"
      ]
     },
     "execution_count": 9,
     "metadata": {},
     "output_type": "execute_result"
    }
   ],
   "source": [
    "datasets.keys()"
   ]
  },
  {
   "cell_type": "code",
   "execution_count": 68,
   "metadata": {},
   "outputs": [
    {
     "name": "stdout",
     "output_type": "stream",
     "text": [
      "balance_scale\n",
      "Counter({2: 288, 1: 288, 0: 49})\n",
      "cleveland\n",
      "Counter({0: 160, 1: 54, 2: 35, 3: 35, 4: 13})\n",
      "cmc\n",
      "Counter({0: 629, 2: 511, 1: 333})\n",
      "dermatology\n",
      "Counter({0: 111, 2: 71, 1: 60, 4: 48, 3: 48, 5: 20})\n",
      "ecoli\n",
      "Counter({0: 143, 1: 77, 7: 52, 4: 35, 5: 20, 6: 5, 3: 2, 2: 2})\n",
      "glass\n",
      "Counter({1: 76, 0: 70, 5: 29, 2: 17, 3: 13, 4: 9})\n",
      "hayes_roth\n",
      "Counter({0: 51, 1: 51, 2: 30})\n",
      "new_thyroid\n",
      "Counter({0: 150, 1: 35, 2: 30})\n",
      "winequailty_red\n",
      "Counter({2: 681, 3: 638, 4: 199, 1: 53, 5: 18, 0: 10})\n",
      "yeast\n",
      "Counter({0: 463, 7: 429, 6: 244, 5: 163, 4: 51, 3: 44, 2: 35, 9: 30, 8: 20, 1: 5})\n"
     ]
    }
   ],
   "source": [
    "for k in datasets.keys():\n",
    "    X, y = datasets[k].data, datasets[k].target\n",
    "    no_classes = np.unique(y).size\n",
    "    print(k)\n",
    "    print(Counter(y))"
   ]
  },
  {
   "cell_type": "code",
   "execution_count": 69,
   "metadata": {},
   "outputs": [],
   "source": [
    "maj_int_min = {\n",
    "    'balance_scale' : {\n",
    "        'maj': [2, 1],\n",
    "        'int': [],\n",
    "        'min': [0]\n",
    "    }, \n",
    "    'cleveland': {\n",
    "        'maj': [0],\n",
    "        'int': [1],\n",
    "        'min': [2,3,4]\n",
    "    }, \n",
    "    'cmc': {\n",
    "        'maj': [0],\n",
    "        'int': [2],\n",
    "        'min': [1]\n",
    "    }, \n",
    "    'dermatology': {\n",
    "        'maj': [0],\n",
    "        'int': [2,1,4,3],\n",
    "        'min': [5]\n",
    "    }, \n",
    "    'ecoli': {\n",
    "        'maj': [0,1],\n",
    "        'int': [7,4,5],\n",
    "        'min': [6,3,2]\n",
    "    }, \n",
    "    'glass': {\n",
    "        'maj': [1,0],\n",
    "        'int': [5],\n",
    "        'min': [2,3,4]\n",
    "    }, \n",
    "    'hayes_roth': {\n",
    "        'maj': [0,1],\n",
    "        'int': [],\n",
    "        'min': [2]\n",
    "    }, \n",
    "    'new_thyroid': {\n",
    "        'maj': [0],\n",
    "        'int': [],\n",
    "        'min': [1,2]\n",
    "    }, \n",
    "    'winequailty_red': {\n",
    "        'maj': [2,3],\n",
    "        'int': [4],\n",
    "        'min': [1,5,0]\n",
    "    }, \n",
    "    'yeast': {\n",
    "        'maj': [0,7],\n",
    "        'int': [6, 5],\n",
    "        'min': [4,3,2,9,8,1]\n",
    "    }\n",
    "}"
   ]
  },
  {
   "cell_type": "code",
   "execution_count": null,
   "metadata": {},
   "outputs": [],
   "source": []
  },
  {
   "cell_type": "code",
   "execution_count": 64,
   "metadata": {},
   "outputs": [
    {
     "name": "stdout",
     "output_type": "stream",
     "text": [
      "Counter({2: 288, 1: 288, 0: 49})\n"
     ]
    }
   ],
   "source": [
    "X, y = datasets['balance_scale'].data, datasets['balance_scale'].target\n",
    "no_classes = np.unique(y).size\n",
    "print(Counter(y))"
   ]
  },
  {
   "cell_type": "code",
   "execution_count": 32,
   "metadata": {},
   "outputs": [],
   "source": [
    "cost = np.ones((no_classes, no_classes))\n",
    "np.fill_diagonal(cost, 0)"
   ]
  },
  {
   "cell_type": "code",
   "execution_count": 51,
   "metadata": {},
   "outputs": [],
   "source": [
    "X_train, X_test, y_train, y_test = train_test_split(X, y, test_size=0.5, random_state=0)"
   ]
  },
  {
   "cell_type": "code",
   "execution_count": 52,
   "metadata": {},
   "outputs": [],
   "source": [
    "clf = SPIDER3(k=5, cost=cost, majority_classes=[2,1], intermediate_classes=[], minority_classes=[0])\n",
    "X_train, y_train = clf.fit_transform(X_train.astype(np.float64), y_train)"
   ]
  },
  {
   "cell_type": "code",
   "execution_count": 53,
   "metadata": {},
   "outputs": [],
   "source": [
    "neigh = KNeighborsClassifier(n_neighbors=1)\n",
    "neigh.fit(X_train, y_train)\n",
    "y_pred = neigh.predict(X_test)"
   ]
  },
  {
   "cell_type": "code",
   "execution_count": 54,
   "metadata": {},
   "outputs": [
    {
     "data": {
      "text/plain": [
       "0.45478372810266815"
      ]
     },
     "execution_count": 54,
     "metadata": {},
     "output_type": "execute_result"
    }
   ],
   "source": [
    "score = geometric_mean_score(y_test, y_pred)\n",
    "score"
   ]
  },
  {
   "cell_type": "code",
   "execution_count": 70,
   "metadata": {},
   "outputs": [
    {
     "name": "stderr",
     "output_type": "stream",
     "text": [
      "c:\\users\\damia\\anaconda3\\envs\\multi-imbalance\\lib\\site-packages\\sklearn\\decomposition\\pca.py:445: RuntimeWarning: invalid value encountered in true_divide\n",
      "  explained_variance_ = (S ** 2) / (n_samples - 1)\n",
      "C:\\dev\\projects\\multi-imbalance\\multi_imbalance\\resampling\\MDO.py:57: RuntimeWarning: Degrees of freedom <= 0 for slice\n",
      "  variables_variance = np.diag(np.cov(uncorrelated_samples, rowvar=False))\n",
      "c:\\users\\damia\\anaconda3\\envs\\multi-imbalance\\lib\\site-packages\\numpy\\lib\\function_base.py:2455: RuntimeWarning: divide by zero encountered in true_divide\n",
      "  c *= np.true_divide(1, fact)\n",
      "c:\\users\\damia\\anaconda3\\envs\\multi-imbalance\\lib\\site-packages\\numpy\\lib\\function_base.py:2455: RuntimeWarning: invalid value encountered in multiply\n",
      "  c *= np.true_divide(1, fact)\n"
     ]
    },
    {
     "name": "stdout",
     "output_type": "stream",
     "text": [
      "cleveland Input must be 1- or 2-d.\n"
     ]
    },
    {
     "name": "stderr",
     "output_type": "stream",
     "text": [
      "C:\\dev\\projects\\multi-imbalance\\multi_imbalance\\resampling\\MDO.py:87: RuntimeWarning: invalid value encountered in true_divide\n",
      "  a = np.sum(X / V)\n"
     ]
    },
    {
     "name": "stdout",
     "output_type": "stream",
     "text": [
      "cmc Range exceeds valid bounds\n"
     ]
    },
    {
     "data": {
      "text/html": [
       "<div>\n",
       "<style scoped>\n",
       "    .dataframe tbody tr th:only-of-type {\n",
       "        vertical-align: middle;\n",
       "    }\n",
       "\n",
       "    .dataframe tbody tr th {\n",
       "        vertical-align: top;\n",
       "    }\n",
       "\n",
       "    .dataframe thead th {\n",
       "        text-align: right;\n",
       "    }\n",
       "</style>\n",
       "<table border=\"1\" class=\"dataframe\">\n",
       "  <thead>\n",
       "    <tr style=\"text-align: right;\">\n",
       "      <th></th>\n",
       "      <th>base</th>\n",
       "      <th>soup</th>\n",
       "      <th>mdo</th>\n",
       "      <th>spider</th>\n",
       "    </tr>\n",
       "  </thead>\n",
       "  <tbody>\n",
       "    <tr>\n",
       "      <td>balance_scale</td>\n",
       "      <td>0.370</td>\n",
       "      <td>0.548</td>\n",
       "      <td>0.465</td>\n",
       "      <td>0.661</td>\n",
       "    </tr>\n",
       "    <tr>\n",
       "      <td>cleveland</td>\n",
       "      <td>0.000</td>\n",
       "      <td>0.273</td>\n",
       "      <td>0.000</td>\n",
       "      <td>0.251</td>\n",
       "    </tr>\n",
       "    <tr>\n",
       "      <td>cmc</td>\n",
       "      <td>0.434</td>\n",
       "      <td>0.507</td>\n",
       "      <td>0.434</td>\n",
       "      <td>0.446</td>\n",
       "    </tr>\n",
       "    <tr>\n",
       "      <td>dermatology</td>\n",
       "      <td>0.864</td>\n",
       "      <td>0.908</td>\n",
       "      <td>0.896</td>\n",
       "      <td>0.923</td>\n",
       "    </tr>\n",
       "    <tr>\n",
       "      <td>ecoli</td>\n",
       "      <td>0.000</td>\n",
       "      <td>0.000</td>\n",
       "      <td>0.000</td>\n",
       "      <td>0.000</td>\n",
       "    </tr>\n",
       "    <tr>\n",
       "      <td>glass</td>\n",
       "      <td>0.704</td>\n",
       "      <td>0.635</td>\n",
       "      <td>0.527</td>\n",
       "      <td>0.745</td>\n",
       "    </tr>\n",
       "    <tr>\n",
       "      <td>hayes_roth</td>\n",
       "      <td>0.670</td>\n",
       "      <td>0.687</td>\n",
       "      <td>0.652</td>\n",
       "      <td>0.410</td>\n",
       "    </tr>\n",
       "    <tr>\n",
       "      <td>new_thyroid</td>\n",
       "      <td>0.840</td>\n",
       "      <td>0.887</td>\n",
       "      <td>0.917</td>\n",
       "      <td>0.864</td>\n",
       "    </tr>\n",
       "    <tr>\n",
       "      <td>winequailty_red</td>\n",
       "      <td>0.000</td>\n",
       "      <td>0.241</td>\n",
       "      <td>0.000</td>\n",
       "      <td>0.306</td>\n",
       "    </tr>\n",
       "    <tr>\n",
       "      <td>yeast</td>\n",
       "      <td>0.000</td>\n",
       "      <td>0.445</td>\n",
       "      <td>0.389</td>\n",
       "      <td>0.000</td>\n",
       "    </tr>\n",
       "  </tbody>\n",
       "</table>\n",
       "</div>"
      ],
      "text/plain": [
       "                  base   soup    mdo  spider\n",
       "balance_scale    0.370  0.548  0.465   0.661\n",
       "cleveland        0.000  0.273  0.000   0.251\n",
       "cmc              0.434  0.507  0.434   0.446\n",
       "dermatology      0.864  0.908  0.896   0.923\n",
       "ecoli            0.000  0.000  0.000   0.000\n",
       "glass            0.704  0.635  0.527   0.745\n",
       "hayes_roth       0.670  0.687  0.652   0.410\n",
       "new_thyroid      0.840  0.887  0.917   0.864\n",
       "winequailty_red  0.000  0.241  0.000   0.306\n",
       "yeast            0.000  0.445  0.389   0.000"
      ]
     },
     "execution_count": 70,
     "metadata": {},
     "output_type": "execute_result"
    }
   ],
   "source": [
    "np.random.seed(0)\n",
    "datasets = load_datasets()\n",
    "results = dict()\n",
    "\n",
    "for dataset_name, dataset_values in datasets.items():\n",
    "    results[dataset_name]=dict()\n",
    "    for resample in ['base', 'soup','mdo', 'spider']:\n",
    "        clf_tree = DecisionTreeClassifier(random_state=0)\n",
    "        X, y = dataset_values.data, dataset_values.target\n",
    "        X_train, X_test, y_train, y_test = train_test_split(X, y, test_size=0.5, random_state=0)\n",
    "        if resample == 'base':\n",
    "            pass\n",
    "        elif resample=='soup':\n",
    "            soup = SOUP()\n",
    "            X_train, y_train = soup.fit_transform(X_train, y_train, shuffle=True)\n",
    "        elif resample=='mdo':\n",
    "            try:\n",
    "                mdo = MDO()\n",
    "                X_train,y_train = mdo.fit_transform(X_train, y_train)\n",
    "            except Exception as e:\n",
    "                print(dataset_name, e)\n",
    "                pass\n",
    "        elif resample=='spider':\n",
    "            no_classes = np.unique(y).size\n",
    "            cnt = Counter(y)\n",
    "            cost = np.ones((no_classes, no_classes))\n",
    "            np.fill_diagonal(cost, 0)\n",
    "            \n",
    "            clf = SPIDER3(k=5, cost=cost, majority_classes=maj_int_min[dataset_name]['maj'], intermediate_classes=maj_int_min[dataset_name]['int'], minority_classes=maj_int_min[dataset_name]['min'])\n",
    "            X_train, y_train = clf.fit_transform(X_train.astype(np.float64), y_train)\n",
    "        clf_tree.fit(X_train, y_train)\n",
    "        y_pred = clf_tree.predict(X_test)\n",
    "        score = geometric_mean_score(y_test, y_pred)\n",
    "        results[dataset_name][resample]=round(score,3)\n",
    "\n",
    "df = pd.DataFrame(results).T\n",
    "df"
   ]
  },
  {
   "cell_type": "code",
   "execution_count": null,
   "metadata": {},
   "outputs": [],
   "source": []
  },
  {
   "cell_type": "code",
   "execution_count": null,
   "metadata": {},
   "outputs": [],
   "source": []
  }
 ],
 "metadata": {
  "kernelspec": {
   "display_name": "Python 3",
   "language": "python",
   "name": "python3"
  },
  "language_info": {
   "codemirror_mode": {
    "name": "ipython",
    "version": 3
   },
   "file_extension": ".py",
   "mimetype": "text/x-python",
   "name": "python",
   "nbconvert_exporter": "python",
   "pygments_lexer": "ipython3",
   "version": "3.7.4"
  },
  "pycharm": {
   "stem_cell": {
    "cell_type": "raw",
    "source": [],
    "metadata": {
     "collapsed": false
    }
   }
  }
 },
 "nbformat": 4,
 "nbformat_minor": 1
}