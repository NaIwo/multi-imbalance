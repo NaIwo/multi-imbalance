{
 "cells": [
  {
   "cell_type": "code",
   "execution_count": 6,
   "metadata": {
    "pycharm": {
     "is_executing": false
    }
   },
   "outputs": [],
   "source": [
    "import numpy as np\n",
    "import pandas as pd\n",
    "from sklearn.model_selection import train_test_split\n",
    "from sklearn.tree import DecisionTreeClassifier\n",
    "from multi_imbalance.datasets import load_datasets\n",
    "from multi_imbalance.ensemble.ovo import OVO\n",
    "from imblearn.metrics import geometric_mean_score"
   ]
  },
  {
   "cell_type": "code",
   "execution_count": 7,
   "metadata": {
    "pycharm": {
     "is_executing": false,
     "name": "#%%\n"
    }
   },
   "outputs": [],
   "source": [
    "np.random.seed(0)\n",
    "datasets = load_datasets()\n",
    "results = dict()"
   ]
  },
  {
   "cell_type": "code",
   "execution_count": 8,
   "metadata": {
    "pycharm": {
     "is_executing": false,
     "name": "#%%\n"
    }
   },
   "outputs": [],
   "source": [
    "binary_classifiers = ['CART', 'KNN', 'NB']\n",
    "binary_oversamplings = [None, 'random', 'SMOTE']"
   ]
  },
  {
   "cell_type": "code",
   "execution_count": 9,
   "metadata": {
    "pycharm": {
     "is_executing": true,
     "name": "#%%\n"
    }
   },
   "outputs": [],
   "source": [
    "for dataset_name, dataset_values in datasets.items():\n",
    "    results[dataset_name] = dict()\n",
    "    X, y = dataset_values.data, dataset_values.target\n",
    "    X_train, X_test, y_train, y_test = train_test_split(X, y, test_size=0.3, stratify=y, shuffle=True, random_state=0)\n",
    "    \n",
    "    for binary_classifier in binary_classifiers:\n",
    "        results[dataset_name][binary_classifier] = dict()\n",
    "        for oversample_binary in binary_oversamplings:\n",
    "            nn = min(np.unique(y_test, return_counts=True)[1])\n",
    "            ovo = OVO(binary_classifier=binary_classifier, oversample_binary=oversample_binary, n_neighbors=nn)\n",
    "            ovo.fit(X_train, y_train)\n",
    "            y_pred = ovo.predict(X_test)\n",
    "            score = geometric_mean_score(y_test, y_pred)\n",
    "            results[dataset_name][binary_classifier][oversample_binary] = round(score, 3)\n"
   ]
  },
  {
   "cell_type": "code",
   "execution_count": 5,
   "metadata": {
    "pycharm": {
     "is_executing": true,
     "name": "#%%\n"
    }
   },
   "outputs": [
    {
     "data": {
      "text/html": [
       "<div>\n",
       "<style scoped>\n",
       "    .dataframe tbody tr th:only-of-type {\n",
       "        vertical-align: middle;\n",
       "    }\n",
       "\n",
       "    .dataframe tbody tr th {\n",
       "        vertical-align: top;\n",
       "    }\n",
       "\n",
       "    .dataframe thead th {\n",
       "        text-align: right;\n",
       "    }\n",
       "</style>\n",
       "<table border=\"1\" class=\"dataframe\">\n",
       "  <thead>\n",
       "    <tr style=\"text-align: right;\">\n",
       "      <th></th>\n",
       "      <th>CART</th>\n",
       "      <th>KNN</th>\n",
       "      <th>NB</th>\n",
       "    </tr>\n",
       "  </thead>\n",
       "  <tbody>\n",
       "    <tr>\n",
       "      <td>balance_scale</td>\n",
       "      <td>{None: 0.409, 'random': 0.0, 'SMOTE': 0.518}</td>\n",
       "      <td>{None: 0.0, 'random': 0.71, 'SMOTE': 0.712}</td>\n",
       "      <td>{None: 0.0, 'random': 0.83, 'SMOTE': 0.759}</td>\n",
       "    </tr>\n",
       "    <tr>\n",
       "      <td>cleveland</td>\n",
       "      <td>{None: 0.0, 'random': 0.0, 'SMOTE': 0.0}</td>\n",
       "      <td>{None: 0.0, 'random': 0.336, 'SMOTE': 0.25}</td>\n",
       "      <td>{None: 0.0, 'random': 0.0, 'SMOTE': 0.267}</td>\n",
       "    </tr>\n",
       "    <tr>\n",
       "      <td>cmc</td>\n",
       "      <td>{None: 0.429, 'random': 0.411, 'SMOTE': 0.473}</td>\n",
       "      <td>{None: 0.479, 'random': 0.556, 'SMOTE': 0.518}</td>\n",
       "      <td>{None: 0.521, 'random': 0.483, 'SMOTE': 0.48}</td>\n",
       "    </tr>\n",
       "    <tr>\n",
       "      <td>dermatology</td>\n",
       "      <td>{None: 0.971, 'random': 0.971, 'SMOTE': 0.957}</td>\n",
       "      <td>{None: 0.763, 'random': 0.759, 'SMOTE': 0.757}</td>\n",
       "      <td>{None: 0.861, 'random': 0.881, 'SMOTE': 0.861}</td>\n",
       "    </tr>\n",
       "    <tr>\n",
       "      <td>ecoli</td>\n",
       "      <td>{None: 0.759, 'random': 0.772, 'SMOTE': 0.709}</td>\n",
       "      <td>{None: 0.764, 'random': 0.764, 'SMOTE': 0.0}</td>\n",
       "      <td>{None: 0.0, 'random': 0.0, 'SMOTE': 0.711}</td>\n",
       "    </tr>\n",
       "    <tr>\n",
       "      <td>glass</td>\n",
       "      <td>{None: 0.0, 'random': 0.0, 'SMOTE': 0.678}</td>\n",
       "      <td>{None: 0.0, 'random': 0.0, 'SMOTE': 0.563}</td>\n",
       "      <td>{None: 0.0, 'random': 0.0, 'SMOTE': 0.0}</td>\n",
       "    </tr>\n",
       "    <tr>\n",
       "      <td>hayes_roth</td>\n",
       "      <td>{None: 0.888, 'random': 0.888, 'SMOTE': 0.888}</td>\n",
       "      <td>{None: 0.379, 'random': 0.379, 'SMOTE': 0.365}</td>\n",
       "      <td>{None: 0.699, 'random': 0.689, 'SMOTE': 0.742}</td>\n",
       "    </tr>\n",
       "    <tr>\n",
       "      <td>new_thyroid</td>\n",
       "      <td>{None: 0.754, 'random': 0.754, 'SMOTE': 0.989}</td>\n",
       "      <td>{None: 0.754, 'random': 0.864, 'SMOTE': 0.864}</td>\n",
       "      <td>{None: 0.864, 'random': 0.864, 'SMOTE': 0.864}</td>\n",
       "    </tr>\n",
       "    <tr>\n",
       "      <td>winequailty_red</td>\n",
       "      <td>{None: 0.0, 'random': 0.0, 'SMOTE': 0.0}</td>\n",
       "      <td>{None: 0.0, 'random': 0.0, 'SMOTE': 0.0}</td>\n",
       "      <td>{None: 0.0, 'random': 0.287, 'SMOTE': 0.311}</td>\n",
       "    </tr>\n",
       "    <tr>\n",
       "      <td>yeast</td>\n",
       "      <td>{None: 0.0, 'random': 0.0, 'SMOTE': 0.0}</td>\n",
       "      <td>{None: 0.439, 'random': 0.438, 'SMOTE': 0.488}</td>\n",
       "      <td>{None: 0.0, 'random': 0.0, 'SMOTE': 0.0}</td>\n",
       "    </tr>\n",
       "  </tbody>\n",
       "</table>\n",
       "</div>"
      ],
      "text/plain": [
       "                                                           CART  \\\n",
       "balance_scale      {None: 0.409, 'random': 0.0, 'SMOTE': 0.518}   \n",
       "cleveland              {None: 0.0, 'random': 0.0, 'SMOTE': 0.0}   \n",
       "cmc              {None: 0.429, 'random': 0.411, 'SMOTE': 0.473}   \n",
       "dermatology      {None: 0.971, 'random': 0.971, 'SMOTE': 0.957}   \n",
       "ecoli            {None: 0.759, 'random': 0.772, 'SMOTE': 0.709}   \n",
       "glass                {None: 0.0, 'random': 0.0, 'SMOTE': 0.678}   \n",
       "hayes_roth       {None: 0.888, 'random': 0.888, 'SMOTE': 0.888}   \n",
       "new_thyroid      {None: 0.754, 'random': 0.754, 'SMOTE': 0.989}   \n",
       "winequailty_red        {None: 0.0, 'random': 0.0, 'SMOTE': 0.0}   \n",
       "yeast                  {None: 0.0, 'random': 0.0, 'SMOTE': 0.0}   \n",
       "\n",
       "                                                            KNN  \\\n",
       "balance_scale       {None: 0.0, 'random': 0.71, 'SMOTE': 0.712}   \n",
       "cleveland           {None: 0.0, 'random': 0.336, 'SMOTE': 0.25}   \n",
       "cmc              {None: 0.479, 'random': 0.556, 'SMOTE': 0.518}   \n",
       "dermatology      {None: 0.763, 'random': 0.759, 'SMOTE': 0.757}   \n",
       "ecoli              {None: 0.764, 'random': 0.764, 'SMOTE': 0.0}   \n",
       "glass                {None: 0.0, 'random': 0.0, 'SMOTE': 0.563}   \n",
       "hayes_roth       {None: 0.379, 'random': 0.379, 'SMOTE': 0.365}   \n",
       "new_thyroid      {None: 0.754, 'random': 0.864, 'SMOTE': 0.864}   \n",
       "winequailty_red        {None: 0.0, 'random': 0.0, 'SMOTE': 0.0}   \n",
       "yeast            {None: 0.439, 'random': 0.438, 'SMOTE': 0.488}   \n",
       "\n",
       "                                                             NB  \n",
       "balance_scale       {None: 0.0, 'random': 0.83, 'SMOTE': 0.759}  \n",
       "cleveland            {None: 0.0, 'random': 0.0, 'SMOTE': 0.267}  \n",
       "cmc               {None: 0.521, 'random': 0.483, 'SMOTE': 0.48}  \n",
       "dermatology      {None: 0.861, 'random': 0.881, 'SMOTE': 0.861}  \n",
       "ecoli                {None: 0.0, 'random': 0.0, 'SMOTE': 0.711}  \n",
       "glass                  {None: 0.0, 'random': 0.0, 'SMOTE': 0.0}  \n",
       "hayes_roth       {None: 0.699, 'random': 0.689, 'SMOTE': 0.742}  \n",
       "new_thyroid      {None: 0.864, 'random': 0.864, 'SMOTE': 0.864}  \n",
       "winequailty_red    {None: 0.0, 'random': 0.287, 'SMOTE': 0.311}  \n",
       "yeast                  {None: 0.0, 'random': 0.0, 'SMOTE': 0.0}  "
      ]
     },
     "execution_count": 5,
     "metadata": {},
     "output_type": "execute_result"
    }
   ],
   "source": [
    "df=pd.DataFrame(results).T\n",
    "df\n"
   ]
  },
  {
   "cell_type": "code",
   "execution_count": 10,
   "metadata": {},
   "outputs": [
    {
     "data": {
      "text/html": [
       "<div>\n",
       "<style scoped>\n",
       "    .dataframe tbody tr th:only-of-type {\n",
       "        vertical-align: middle;\n",
       "    }\n",
       "\n",
       "    .dataframe tbody tr th {\n",
       "        vertical-align: top;\n",
       "    }\n",
       "\n",
       "    .dataframe thead th {\n",
       "        text-align: right;\n",
       "    }\n",
       "</style>\n",
       "<table border=\"1\" class=\"dataframe\">\n",
       "  <thead>\n",
       "    <tr style=\"text-align: right;\">\n",
       "      <th></th>\n",
       "      <th>CART</th>\n",
       "      <th>KNN</th>\n",
       "      <th>NB</th>\n",
       "    </tr>\n",
       "  </thead>\n",
       "  <tbody>\n",
       "    <tr>\n",
       "      <td>balance_scale</td>\n",
       "      <td>{None: 0.364, 'random': 0.367, 'SMOTE': 0.448}</td>\n",
       "      <td>{None: 0.0, 'random': 0.696, 'SMOTE': 0.691}</td>\n",
       "      <td>{None: 0.0, 'random': 0.77, 'SMOTE': 0.743}</td>\n",
       "    </tr>\n",
       "    <tr>\n",
       "      <td>cleveland</td>\n",
       "      <td>{None: 0.0, 'random': 0.0, 'SMOTE': 0.29}</td>\n",
       "      <td>{None: 0.0, 'random': 0.0, 'SMOTE': 0.0}</td>\n",
       "      <td>{None: 0.0, 'random': 0.0, 'SMOTE': 0.0}</td>\n",
       "    </tr>\n",
       "    <tr>\n",
       "      <td>cmc</td>\n",
       "      <td>{None: 0.444, 'random': 0.441, 'SMOTE': 0.455}</td>\n",
       "      <td>{None: 0.469, 'random': 0.502, 'SMOTE': 0.491}</td>\n",
       "      <td>{None: 0.495, 'random': 0.489, 'SMOTE': 0.475}</td>\n",
       "    </tr>\n",
       "    <tr>\n",
       "      <td>dermatology</td>\n",
       "      <td>{None: 0.962, 'random': 0.969, 'SMOTE': 0.981}</td>\n",
       "      <td>{None: 0.734, 'random': 0.779, 'SMOTE': 0.779}</td>\n",
       "      <td>{None: 0.874, 'random': 0.874, 'SMOTE': 0.874}</td>\n",
       "    </tr>\n",
       "    <tr>\n",
       "      <td>ecoli</td>\n",
       "      <td>{None: 0.0, 'random': 0.0, 'SMOTE': 0.0}</td>\n",
       "      <td>{None: 0.0, 'random': 0.0, 'SMOTE': 0.0}</td>\n",
       "      <td>{None: 0.0, 'random': 0.0, 'SMOTE': 0.0}</td>\n",
       "    </tr>\n",
       "    <tr>\n",
       "      <td>glass</td>\n",
       "      <td>{None: 0.0, 'random': 0.0, 'SMOTE': 0.0}</td>\n",
       "      <td>{None: 0.522, 'random': 0.673, 'SMOTE': 0.663}</td>\n",
       "      <td>{None: 0.0, 'random': 0.0, 'SMOTE': 0.466}</td>\n",
       "    </tr>\n",
       "    <tr>\n",
       "      <td>hayes_roth</td>\n",
       "      <td>{None: 0.843, 'random': 0.843, 'SMOTE': 0.843}</td>\n",
       "      <td>{None: 0.269, 'random': 0.405, 'SMOTE': 0.388}</td>\n",
       "      <td>{None: 0.688, 'random': 0.685, 'SMOTE': 0.685}</td>\n",
       "    </tr>\n",
       "    <tr>\n",
       "      <td>new_thyroid</td>\n",
       "      <td>{None: 0.84, 'random': 0.961, 'SMOTE': 0.993}</td>\n",
       "      <td>{None: 0.817, 'random': 0.884, 'SMOTE': 0.913}</td>\n",
       "      <td>{None: 0.913, 'random': 0.906, 'SMOTE': 0.906}</td>\n",
       "    </tr>\n",
       "    <tr>\n",
       "      <td>winequailty_red</td>\n",
       "      <td>{None: 0.0, 'random': 0.0, 'SMOTE': 0.0}</td>\n",
       "      <td>{None: 0.0, 'random': 0.0, 'SMOTE': 0.0}</td>\n",
       "      <td>{None: 0.0, 'random': 0.305, 'SMOTE': 0.314}</td>\n",
       "    </tr>\n",
       "    <tr>\n",
       "      <td>yeast</td>\n",
       "      <td>{None: 0.0, 'random': 0.0, 'SMOTE': 0.0}</td>\n",
       "      <td>{None: 0.0, 'random': 0.448, 'SMOTE': 0.0}</td>\n",
       "      <td>{None: 0.0, 'random': 0.0, 'SMOTE': 0.0}</td>\n",
       "    </tr>\n",
       "  </tbody>\n",
       "</table>\n",
       "</div>"
      ],
      "text/plain": [
       "                                                           CART  \\\n",
       "balance_scale    {None: 0.364, 'random': 0.367, 'SMOTE': 0.448}   \n",
       "cleveland             {None: 0.0, 'random': 0.0, 'SMOTE': 0.29}   \n",
       "cmc              {None: 0.444, 'random': 0.441, 'SMOTE': 0.455}   \n",
       "dermatology      {None: 0.962, 'random': 0.969, 'SMOTE': 0.981}   \n",
       "ecoli                  {None: 0.0, 'random': 0.0, 'SMOTE': 0.0}   \n",
       "glass                  {None: 0.0, 'random': 0.0, 'SMOTE': 0.0}   \n",
       "hayes_roth       {None: 0.843, 'random': 0.843, 'SMOTE': 0.843}   \n",
       "new_thyroid       {None: 0.84, 'random': 0.961, 'SMOTE': 0.993}   \n",
       "winequailty_red        {None: 0.0, 'random': 0.0, 'SMOTE': 0.0}   \n",
       "yeast                  {None: 0.0, 'random': 0.0, 'SMOTE': 0.0}   \n",
       "\n",
       "                                                            KNN  \\\n",
       "balance_scale      {None: 0.0, 'random': 0.696, 'SMOTE': 0.691}   \n",
       "cleveland              {None: 0.0, 'random': 0.0, 'SMOTE': 0.0}   \n",
       "cmc              {None: 0.469, 'random': 0.502, 'SMOTE': 0.491}   \n",
       "dermatology      {None: 0.734, 'random': 0.779, 'SMOTE': 0.779}   \n",
       "ecoli                  {None: 0.0, 'random': 0.0, 'SMOTE': 0.0}   \n",
       "glass            {None: 0.522, 'random': 0.673, 'SMOTE': 0.663}   \n",
       "hayes_roth       {None: 0.269, 'random': 0.405, 'SMOTE': 0.388}   \n",
       "new_thyroid      {None: 0.817, 'random': 0.884, 'SMOTE': 0.913}   \n",
       "winequailty_red        {None: 0.0, 'random': 0.0, 'SMOTE': 0.0}   \n",
       "yeast                {None: 0.0, 'random': 0.448, 'SMOTE': 0.0}   \n",
       "\n",
       "                                                             NB  \n",
       "balance_scale       {None: 0.0, 'random': 0.77, 'SMOTE': 0.743}  \n",
       "cleveland              {None: 0.0, 'random': 0.0, 'SMOTE': 0.0}  \n",
       "cmc              {None: 0.495, 'random': 0.489, 'SMOTE': 0.475}  \n",
       "dermatology      {None: 0.874, 'random': 0.874, 'SMOTE': 0.874}  \n",
       "ecoli                  {None: 0.0, 'random': 0.0, 'SMOTE': 0.0}  \n",
       "glass                {None: 0.0, 'random': 0.0, 'SMOTE': 0.466}  \n",
       "hayes_roth       {None: 0.688, 'random': 0.685, 'SMOTE': 0.685}  \n",
       "new_thyroid      {None: 0.913, 'random': 0.906, 'SMOTE': 0.906}  \n",
       "winequailty_red    {None: 0.0, 'random': 0.305, 'SMOTE': 0.314}  \n",
       "yeast                  {None: 0.0, 'random': 0.0, 'SMOTE': 0.0}  "
      ]
     },
     "execution_count": 10,
     "metadata": {},
     "output_type": "execute_result"
    }
   ],
   "source": [
    "df=pd.DataFrame(results).T\n",
    "df"
   ]
  },
  {
   "cell_type": "code",
   "execution_count": null,
   "metadata": {},
   "outputs": [],
   "source": []
  }
 ],
 "metadata": {
  "kernelspec": {
   "display_name": "Python 3",
   "language": "python",
   "name": "python3"
  },
  "language_info": {
   "codemirror_mode": {
    "name": "ipython",
    "version": 3
   },
   "file_extension": ".py",
   "mimetype": "text/x-python",
   "name": "python",
   "nbconvert_exporter": "python",
   "pygments_lexer": "ipython3",
   "version": "3.7.2"
  },
  "pycharm": {
   "stem_cell": {
    "cell_type": "raw",
    "metadata": {
     "collapsed": false
    },
    "source": []
   }
  }
 },
 "nbformat": 4,
 "nbformat_minor": 1
}
